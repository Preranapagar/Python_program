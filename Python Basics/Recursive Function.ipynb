{
 "cells": [
  {
   "cell_type": "markdown",
   "id": "49832880",
   "metadata": {},
   "source": [
    "# Recursive Function"
   ]
  },
  {
   "cell_type": "code",
   "execution_count": null,
   "id": "68ebd383",
   "metadata": {},
   "outputs": [],
   "source": [
    "When function call itself called as recursive function"
   ]
  },
  {
   "cell_type": "code",
   "execution_count": 1,
   "id": "67df4f2c",
   "metadata": {},
   "outputs": [],
   "source": [
    "def my_fun():\n",
    "    return my_fun()"
   ]
  },
  {
   "cell_type": "code",
   "execution_count": 2,
   "id": "38b89f30",
   "metadata": {},
   "outputs": [
    {
     "name": "stdout",
     "output_type": "stream",
     "text": [
      "Factorial of 5 is 120\n",
      "Factorial of 7 is 5040\n",
      "Factorial of 6 is 720\n"
     ]
    },
    {
     "data": {
      "text/plain": [
       "720"
      ]
     },
     "execution_count": 2,
     "metadata": {},
     "output_type": "execute_result"
    }
   ],
   "source": [
    "\n",
    "def factorial(n):\n",
    "    fact = 1\n",
    "    for i in range(1,n+1):\n",
    "        fact *= i\n",
    "    print(f'Factorial of {n} is {fact}')\n",
    "    return fact\n",
    "\n",
    "factorial(5)\n",
    "factorial(7)\n",
    "factorial(6)"
   ]
  },
  {
   "cell_type": "code",
   "execution_count": 3,
   "id": "0ab18e34",
   "metadata": {},
   "outputs": [
    {
     "data": {
      "text/plain": [
       "120"
      ]
     },
     "execution_count": 3,
     "metadata": {},
     "output_type": "execute_result"
    }
   ],
   "source": [
    "1*2*3*4*5"
   ]
  },
  {
   "cell_type": "code",
   "execution_count": 9,
   "id": "e1afad92",
   "metadata": {},
   "outputs": [
    {
     "data": {
      "text/plain": [
       "'factorial doesnt exist'"
      ]
     },
     "execution_count": 9,
     "metadata": {},
     "output_type": "execute_result"
    }
   ],
   "source": [
    "def fac(n):\n",
    "    if n<0:\n",
    "        return 'factorial doesnt exist'\n",
    "    elif n==0:\n",
    "        return 1\n",
    "    elif n==1:\n",
    "        return 1\n",
    "    else:\n",
    "        return n*fac(n-1)\n",
    "    \n",
    "fac(-2)\n"
   ]
  },
  {
   "cell_type": "code",
   "execution_count": 10,
   "id": "5de84280",
   "metadata": {},
   "outputs": [
    {
     "data": {
      "text/plain": [
       "120"
      ]
     },
     "execution_count": 10,
     "metadata": {},
     "output_type": "execute_result"
    }
   ],
   "source": [
    "fac(5)"
   ]
  },
  {
   "cell_type": "code",
   "execution_count": 14,
   "id": "18f84415",
   "metadata": {},
   "outputs": [
    {
     "name": "stdout",
     "output_type": "stream",
     "text": [
      "0 1 1 2 3 5 "
     ]
    }
   ],
   "source": [
    "def fibbonacci(n):\n",
    "    if n <=1:\n",
    "        return n\n",
    "    else:\n",
    "        return fibbonacci(n-2) + fibbonacci(n-1)\n",
    "    \n",
    "for i in range(6):\n",
    "    print(fibbonacci(i),end=' ')"
   ]
  },
  {
   "cell_type": "code",
   "execution_count": null,
   "id": "5d3f414d",
   "metadata": {},
   "outputs": [],
   "source": [
    "#end"
   ]
  }
 ],
 "metadata": {
  "kernelspec": {
   "display_name": "Python 3 (ipykernel)",
   "language": "python",
   "name": "python3"
  },
  "language_info": {
   "codemirror_mode": {
    "name": "ipython",
    "version": 3
   },
   "file_extension": ".py",
   "mimetype": "text/x-python",
   "name": "python",
   "nbconvert_exporter": "python",
   "pygments_lexer": "ipython3",
   "version": "3.9.7"
  }
 },
 "nbformat": 4,
 "nbformat_minor": 5
}
