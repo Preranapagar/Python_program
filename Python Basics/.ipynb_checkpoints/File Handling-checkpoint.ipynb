{
 "cells": [
  {
   "cell_type": "markdown",
   "id": "dbe3dbf1",
   "metadata": {},
   "source": [
    "# <span style='color:purple '> File Handling </span>"
   ]
  },
  {
   "cell_type": "markdown",
   "id": "3aa25ed8",
   "metadata": {},
   "source": [
    "File Operations :\n",
    "   * Read\n",
    "   * Write\n",
    "   * Append"
   ]
  },
  {
   "cell_type": "markdown",
   "id": "4e4ed3f3",
   "metadata": {},
   "source": [
    "Mode of Operations :\n",
    "   1. read : 'r'\n",
    "   2. write : 'w'\n",
    "   3. write : 'x'\n",
    "   4. append : 'a'\n",
    "   5. readbytes : 'rb'\n",
    "   6. writebytes : 'wb'"
   ]
  },
  {
   "cell_type": "markdown",
   "id": "2f8ce08a",
   "metadata": {},
   "source": [
    "## 1<span style='color:purple '>|</span> write"
   ]
  },
  {
   "cell_type": "markdown",
   "id": "072e0262",
   "metadata": {},
   "source": [
    "write : 'w'\n",
    "- It will create a text file, if not exist\n",
    "- It will overwrite a text file, if exist"
   ]
  },
  {
   "cell_type": "code",
   "execution_count": 11,
   "id": "d477a9fd",
   "metadata": {},
   "outputs": [],
   "source": [
    "file = open('sample.txt','w')\n",
    "file.write('Data Science')\n",
    "file.close()"
   ]
  },
  {
   "cell_type": "code",
   "execution_count": 12,
   "id": "479dd268",
   "metadata": {},
   "outputs": [],
   "source": [
    "file = open('sample.txt','w')\n",
    "file.write('Python')\n",
    "file.close()"
   ]
  },
  {
   "cell_type": "code",
   "execution_count": 16,
   "id": "c7b319c3",
   "metadata": {},
   "outputs": [],
   "source": [
    "file = open('new.txt','w')\n",
    "text = \"\"\"Machine learning (ML) is the study of computer algorithms that can improve \n",
    "automatically through experience and by the use of data. ... Machine learning algorithms \n",
    "build a model based on sample data, known as training data, in order to make predictions \n",
    "or decisions without being explicitly programmed to do so.\"\"\"\n",
    "\n",
    "file.write(text)\n",
    "file.close()"
   ]
  },
  {
   "cell_type": "markdown",
   "id": "8587ef4d",
   "metadata": {},
   "source": [
    "write : 'x'\n",
    "- It will create a new file and fails if file exists"
   ]
  },
  {
   "cell_type": "code",
   "execution_count": 9,
   "id": "5fc12717",
   "metadata": {},
   "outputs": [],
   "source": [
    "file = open('data.txt','x')\n",
    "file.write('Machine Learning')\n",
    "file.close()"
   ]
  },
  {
   "cell_type": "code",
   "execution_count": 13,
   "id": "a5ceb575",
   "metadata": {},
   "outputs": [
    {
     "ename": "FileExistsError",
     "evalue": "[Errno 17] File exists: 'data.txt'",
     "output_type": "error",
     "traceback": [
      "\u001b[1;31m---------------------------------------------------------------------------\u001b[0m",
      "\u001b[1;31mFileExistsError\u001b[0m                           Traceback (most recent call last)",
      "\u001b[1;32m~\\AppData\\Local\\Temp\\ipykernel_28760\\3941044873.py\u001b[0m in \u001b[0;36m<cell line: 1>\u001b[1;34m()\u001b[0m\n\u001b[1;32m----> 1\u001b[1;33m \u001b[0mfile\u001b[0m \u001b[1;33m=\u001b[0m \u001b[0mopen\u001b[0m\u001b[1;33m(\u001b[0m\u001b[1;34m'data.txt'\u001b[0m\u001b[1;33m,\u001b[0m\u001b[1;34m'x'\u001b[0m\u001b[1;33m)\u001b[0m\u001b[1;33m\u001b[0m\u001b[1;33m\u001b[0m\u001b[0m\n\u001b[0m\u001b[0;32m      2\u001b[0m \u001b[0mfile\u001b[0m\u001b[1;33m.\u001b[0m\u001b[0mwrite\u001b[0m\u001b[1;33m(\u001b[0m\u001b[1;34m'ML'\u001b[0m\u001b[1;33m)\u001b[0m\u001b[1;33m\u001b[0m\u001b[1;33m\u001b[0m\u001b[0m\n\u001b[0;32m      3\u001b[0m \u001b[0mfile\u001b[0m\u001b[1;33m.\u001b[0m\u001b[0mclose\u001b[0m\u001b[1;33m(\u001b[0m\u001b[1;33m)\u001b[0m\u001b[1;33m\u001b[0m\u001b[1;33m\u001b[0m\u001b[0m\n",
      "\u001b[1;31mFileExistsError\u001b[0m: [Errno 17] File exists: 'data.txt'"
     ]
    }
   ],
   "source": [
    "file = open('data.txt','x')\n",
    "file.write('ML')\n",
    "file.close()"
   ]
  },
  {
   "cell_type": "markdown",
   "id": "4ab07793",
   "metadata": {},
   "source": [
    "## 2<span style='color:purple '>|</span> append"
   ]
  },
  {
   "cell_type": "markdown",
   "id": "0ffbdf07",
   "metadata": {},
   "source": [
    "append : 'a'\n",
    "- Creates new file if not exists else add text to existing file"
   ]
  },
  {
   "cell_type": "code",
   "execution_count": 1,
   "id": "a306f8e6",
   "metadata": {},
   "outputs": [],
   "source": [
    "text1 = \"\"\"Machine learning (ML) is the study of computer algorithms that can improve \n",
    "automatically through experience and by the use of data. ... Machine learning algorithms \n",
    "build a model based on sample data, known as training data, in order to make predictions \n",
    "or decisions without being explicitly programmed to do so.\"\"\"\n",
    "\n",
    "file_path = 'datascience.txt'\n",
    "file = open(file_path,'w')\n",
    "file.write(text1)\n",
    "file.close()"
   ]
  },
  {
   "cell_type": "code",
   "execution_count": 2,
   "id": "64b887ae",
   "metadata": {},
   "outputs": [],
   "source": [
    "text2 = \"Python and Data Science\"\n",
    "file_path = 'datascience.txt'\n",
    "file = open(file_path, 'a')\n",
    "file.write(text2)\n",
    "file.close()"
   ]
  },
  {
   "cell_type": "markdown",
   "id": "86ae6290",
   "metadata": {},
   "source": [
    "## 3<span style='color:purple '>|</span> read"
   ]
  },
  {
   "cell_type": "markdown",
   "id": "88742f24",
   "metadata": {},
   "source": [
    "#### <span style='color:purple '> 3.1 read()</span>"
   ]
  },
  {
   "cell_type": "markdown",
   "id": "44618f80",
   "metadata": {},
   "source": [
    "read : 'r' \n",
    "- default mode\n",
    "- use to read content of text file"
   ]
  },
  {
   "cell_type": "code",
   "execution_count": 3,
   "id": "fb4c02ec",
   "metadata": {},
   "outputs": [
    {
     "name": "stdout",
     "output_type": "stream",
     "text": [
      "Machine learning (ML) is the study of computer algorithms that can improve \n",
      "automatically through experience and by the use of data. ... Machine learning algorithms \n",
      "build a model based on sample data, known as training data, in order to make predictions \n",
      "or decisions without being explicitly programmed to do so.Python and Data Science\n"
     ]
    }
   ],
   "source": [
    "f = open('datascience.txt','r')\n",
    "data = f.read()\n",
    "f.close()\n",
    "print(data)"
   ]
  },
  {
   "cell_type": "markdown",
   "id": "133f8fc1",
   "metadata": {},
   "source": [
    "#### <span style='color:purple '> 3.2 readline()</span>"
   ]
  },
  {
   "cell_type": "markdown",
   "id": "6df5e9d5",
   "metadata": {},
   "source": [
    "- reads line by line"
   ]
  },
  {
   "cell_type": "code",
   "execution_count": 5,
   "id": "0cbe7aca",
   "metadata": {},
   "outputs": [
    {
     "name": "stdout",
     "output_type": "stream",
     "text": [
      "Machine learning (ML) is the study of computer algorithms that can improve \n",
      "\n",
      "automatically through experience and by the use of data. ... Machine learning algorithms \n",
      "\n"
     ]
    }
   ],
   "source": [
    "f = open('datascience.txt')\n",
    "line1 = f.readline()\n",
    "line2 = f.readline()\n",
    "f.close()\n",
    "\n",
    "print(line1)\n",
    "print(line2)"
   ]
  },
  {
   "cell_type": "markdown",
   "id": "80b2422d",
   "metadata": {},
   "source": [
    "#### <span style='color:purple '> 3.3 readlines()</span>"
   ]
  },
  {
   "cell_type": "markdown",
   "id": "8b0c5e3a",
   "metadata": {},
   "source": [
    "- returns list of all lines"
   ]
  },
  {
   "cell_type": "code",
   "execution_count": 6,
   "id": "1cec26f6",
   "metadata": {},
   "outputs": [
    {
     "name": "stdout",
     "output_type": "stream",
     "text": [
      "List of texts : ['Machine learning (ML) is the study of computer algorithms that can improve \\n', 'automatically through experience and by the use of data. ... Machine learning algorithms \\n', 'build a model based on sample data, known as training data, in order to make predictions \\n', 'or decisions without being explicitly programmed to do so.Python and Data Science']\n"
     ]
    }
   ],
   "source": [
    "f = open('datascience.txt')\n",
    "text_list = f.readlines()\n",
    "f.close()\n",
    "print(\"List of texts :\", text_list)"
   ]
  },
  {
   "cell_type": "code",
   "execution_count": 7,
   "id": "5e0e7b81",
   "metadata": {},
   "outputs": [
    {
     "data": {
      "text/plain": [
       "'Machine learning (ML) is the study of computer algorithms that can improve \\n'"
      ]
     },
     "execution_count": 7,
     "metadata": {},
     "output_type": "execute_result"
    }
   ],
   "source": [
    "text_list[0]"
   ]
  },
  {
   "cell_type": "code",
   "execution_count": 8,
   "id": "9404e824",
   "metadata": {},
   "outputs": [
    {
     "data": {
      "text/plain": [
       "'automatically through experience and by the use of data. ... Machine learning algorithms \\n'"
      ]
     },
     "execution_count": 8,
     "metadata": {},
     "output_type": "execute_result"
    }
   ],
   "source": [
    "text_list[1]"
   ]
  },
  {
   "cell_type": "markdown",
   "id": "6eca9e3b",
   "metadata": {},
   "source": [
    "#### <span style='color:purple '> with statement </span>"
   ]
  },
  {
   "cell_type": "markdown",
   "id": "00194693",
   "metadata": {},
   "source": [
    "- with statement is avoid to use close function it automatically closes files"
   ]
  },
  {
   "cell_type": "code",
   "execution_count": 9,
   "id": "95cc2ec1",
   "metadata": {},
   "outputs": [],
   "source": [
    "with open('datascience.txt','w') as f:\n",
    "    f.write(text1)"
   ]
  },
  {
   "cell_type": "code",
   "execution_count": null,
   "id": "0c825ac4",
   "metadata": {},
   "outputs": [],
   "source": []
  }
 ],
 "metadata": {
  "kernelspec": {
   "display_name": "Python 3 (ipykernel)",
   "language": "python",
   "name": "python3"
  },
  "language_info": {
   "codemirror_mode": {
    "name": "ipython",
    "version": 3
   },
   "file_extension": ".py",
   "mimetype": "text/x-python",
   "name": "python",
   "nbconvert_exporter": "python",
   "pygments_lexer": "ipython3",
   "version": "3.9.7"
  }
 },
 "nbformat": 4,
 "nbformat_minor": 5
}
