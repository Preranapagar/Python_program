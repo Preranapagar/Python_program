{
 "cells": [
  {
   "cell_type": "markdown",
   "id": "dbe3dbf1",
   "metadata": {},
   "source": [
    "# <span style='color:purple '> File Handling </span>"
   ]
  },
  {
   "cell_type": "markdown",
   "id": "3aa25ed8",
   "metadata": {},
   "source": [
    "File Operations :\n",
    "   * Read\n",
    "   * Write\n",
    "   * Append"
   ]
  },
  {
   "cell_type": "markdown",
   "id": "f4e843e8",
   "metadata": {},
   "source": [
    "Mode of Operations :\n",
    "   1. read : 'r'\n",
    "   2. write : 'w'\n",
    "   3. write : 'x'\n",
    "   4. append : 'a'\n",
    "   5. readbytes : 'rb'\n",
    "   6. writebytes : 'wb'"
   ]
  },
  {
   "cell_type": "markdown",
   "id": "256aa9e8",
   "metadata": {},
   "source": [
    "## 1<span style='color:purple '>|</span> write"
   ]
  },
  {
   "cell_type": "markdown",
   "id": "a1ea84bd",
   "metadata": {},
   "source": [
    "write : 'w'\n",
    "- It will create a text file, if not exist\n",
    "- It will overwrite a text file, if exist"
   ]
  },
  {
   "cell_type": "code",
   "execution_count": 11,
   "id": "bdb765fb",
   "metadata": {},
   "outputs": [],
   "source": [
    "file = open('sample.txt','w')\n",
    "file.write('Data Science')\n",
    "file.close()"
   ]
  },
  {
   "cell_type": "code",
   "execution_count": 12,
   "id": "83db8ce8",
   "metadata": {},
   "outputs": [],
   "source": [
    "file = open('sample.txt','w')\n",
    "file.write('Python')\n",
    "file.close()"
   ]
  },
  {
   "cell_type": "markdown",
   "id": "01ed363f",
   "metadata": {},
   "source": [
    "write : 'x'\n",
    "- It will create a new file and fails if file exists"
   ]
  },
  {
   "cell_type": "code",
   "execution_count": 9,
   "id": "c7afb757",
   "metadata": {},
   "outputs": [],
   "source": [
    "file = open('data.txt','x')\n",
    "file.write('Machine Learning')\n",
    "file.close()"
   ]
  },
  {
   "cell_type": "code",
   "execution_count": 13,
   "id": "b8e09163",
   "metadata": {},
   "outputs": [
    {
     "ename": "FileExistsError",
     "evalue": "[Errno 17] File exists: 'data.txt'",
     "output_type": "error",
     "traceback": [
      "\u001b[1;31m---------------------------------------------------------------------------\u001b[0m",
      "\u001b[1;31mFileExistsError\u001b[0m                           Traceback (most recent call last)",
      "\u001b[1;32m~\\AppData\\Local\\Temp\\ipykernel_28760\\3941044873.py\u001b[0m in \u001b[0;36m<cell line: 1>\u001b[1;34m()\u001b[0m\n\u001b[1;32m----> 1\u001b[1;33m \u001b[0mfile\u001b[0m \u001b[1;33m=\u001b[0m \u001b[0mopen\u001b[0m\u001b[1;33m(\u001b[0m\u001b[1;34m'data.txt'\u001b[0m\u001b[1;33m,\u001b[0m\u001b[1;34m'x'\u001b[0m\u001b[1;33m)\u001b[0m\u001b[1;33m\u001b[0m\u001b[1;33m\u001b[0m\u001b[0m\n\u001b[0m\u001b[0;32m      2\u001b[0m \u001b[0mfile\u001b[0m\u001b[1;33m.\u001b[0m\u001b[0mwrite\u001b[0m\u001b[1;33m(\u001b[0m\u001b[1;34m'ML'\u001b[0m\u001b[1;33m)\u001b[0m\u001b[1;33m\u001b[0m\u001b[1;33m\u001b[0m\u001b[0m\n\u001b[0;32m      3\u001b[0m \u001b[0mfile\u001b[0m\u001b[1;33m.\u001b[0m\u001b[0mclose\u001b[0m\u001b[1;33m(\u001b[0m\u001b[1;33m)\u001b[0m\u001b[1;33m\u001b[0m\u001b[1;33m\u001b[0m\u001b[0m\n",
      "\u001b[1;31mFileExistsError\u001b[0m: [Errno 17] File exists: 'data.txt'"
     ]
    }
   ],
   "source": [
    "file = open('data.txt','x')\n",
    "file.write('ML')\n",
    "file.close()"
   ]
  },
  {
   "cell_type": "code",
   "execution_count": null,
   "id": "3c0a2e8a",
   "metadata": {},
   "outputs": [],
   "source": []
  }
 ],
 "metadata": {
  "kernelspec": {
   "display_name": "Python 3 (ipykernel)",
   "language": "python",
   "name": "python3"
  },
  "language_info": {
   "codemirror_mode": {
    "name": "ipython",
    "version": 3
   },
   "file_extension": ".py",
   "mimetype": "text/x-python",
   "name": "python",
   "nbconvert_exporter": "python",
   "pygments_lexer": "ipython3",
   "version": "3.9.7"
  }
 },
 "nbformat": 4,
 "nbformat_minor": 5
}
