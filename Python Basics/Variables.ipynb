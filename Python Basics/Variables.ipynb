{
 "cells": [
  {
   "cell_type": "markdown",
   "id": "ae740d44",
   "metadata": {},
   "source": [
    "### <span style='color:purple '> Variables </span>"
   ]
  },
  {
   "cell_type": "code",
   "execution_count": null,
   "id": "4ec75e48",
   "metadata": {},
   "outputs": [],
   "source": [
    "Dynamically typed language\n",
    "\n",
    "no need to assign variable data types\n",
    "\n",
    "to assign data to variables we use '=' equal operator\n",
    "\n",
    "Vriables are use to store values"
   ]
  },
  {
   "cell_type": "markdown",
   "id": "83ed93e7",
   "metadata": {},
   "source": [
    "### <span style='color:purple '> Rules to define Variables </span>"
   ]
  },
  {
   "cell_type": "code",
   "execution_count": null,
   "id": "3285f603",
   "metadata": {},
   "outputs": [],
   "source": [
    "# 1. variables name must start with alphabet (a-z, A-Z) or underscore(_)\n",
    "# 2. case sensitive(name, NAME, NaMe)\n",
    "# 3. all characters must be alphanumeric(a-z, A-Z, 0-9) or underscore(_)\n",
    "# 4. special character can't be used except (_)\n",
    "# 5. space is not allowed\n",
    "# 6. do not use reserved keywords (if,else,elif,except,and,or,try,for,while,class,return,pass,break\n",
    "#                                 ,global,True,not,in etc)\n",
    "# 7. do not use built in functions like print, type, sum, max,min\n",
    "\n",
    "print\n",
    "return\n",
    "\n",
    "light colour = built in function\n",
    "bold colour = reserved keyword"
   ]
  },
  {
   "cell_type": "code",
   "execution_count": 15,
   "id": "9258ffd1",
   "metadata": {},
   "outputs": [
    {
     "name": "stdout",
     "output_type": "stream",
     "text": [
      "\n",
      "Here is a list of the Python keywords.  Enter any keyword to get more help.\n",
      "\n",
      "False               break               for                 not\n",
      "None                class               from                or\n",
      "True                continue            global              pass\n",
      "__peg_parser__      def                 if                  raise\n",
      "and                 del                 import              return\n",
      "as                  elif                in                  try\n",
      "assert              else                is                  while\n",
      "async               except              lambda              with\n",
      "await               finally             nonlocal            yield\n",
      "\n"
     ]
    }
   ],
   "source": [
    "help('keywords')"
   ]
  },
  {
   "cell_type": "code",
   "execution_count": 1,
   "id": "b6cba825",
   "metadata": {},
   "outputs": [
    {
     "name": "stdout",
     "output_type": "stream",
     "text": [
      "100\n",
      "200\n"
     ]
    }
   ],
   "source": [
    "a=100\n",
    "b=200\n",
    "print(a)\n",
    "print(b)"
   ]
  },
  {
   "cell_type": "code",
   "execution_count": 2,
   "id": "9f690886",
   "metadata": {},
   "outputs": [
    {
     "data": {
      "text/plain": [
       "1000"
      ]
     },
     "execution_count": 2,
     "metadata": {},
     "output_type": "execute_result"
    }
   ],
   "source": [
    "a=1000\n",
    "b=2002\n",
    "a"
   ]
  },
  {
   "cell_type": "code",
   "execution_count": 3,
   "id": "4cc6d25c",
   "metadata": {},
   "outputs": [
    {
     "data": {
      "text/plain": [
       "2002"
      ]
     },
     "execution_count": 3,
     "metadata": {},
     "output_type": "execute_result"
    }
   ],
   "source": [
    "a=1000\n",
    "b=2002\n",
    "a\n",
    "b"
   ]
  },
  {
   "cell_type": "code",
   "execution_count": 4,
   "id": "740ed0c3",
   "metadata": {},
   "outputs": [
    {
     "name": "stdout",
     "output_type": "stream",
     "text": [
      "The value of variable a is\n",
      "1000\n",
      "Data Science\n"
     ]
    }
   ],
   "source": [
    "a=1000\n",
    "b=2002\n",
    "print(\"The value of variable a is\")\n",
    "print(a)\n",
    "b\n",
    "print('Data Science')"
   ]
  },
  {
   "cell_type": "code",
   "execution_count": 5,
   "id": "4dd4e85c",
   "metadata": {},
   "outputs": [
    {
     "data": {
      "text/plain": [
       "'Python'"
      ]
     },
     "execution_count": 5,
     "metadata": {},
     "output_type": "execute_result"
    }
   ],
   "source": [
    "a='Python'\n",
    "b='Data Science'\n",
    "a"
   ]
  },
  {
   "cell_type": "code",
   "execution_count": 6,
   "id": "6bd4e8dc",
   "metadata": {},
   "outputs": [],
   "source": [
    "#int a= 10\n",
    "#float b= 3.12\n",
    "#char c='Python'"
   ]
  },
  {
   "cell_type": "code",
   "execution_count": 7,
   "id": "a316903b",
   "metadata": {},
   "outputs": [
    {
     "data": {
      "text/plain": [
       "int"
      ]
     },
     "execution_count": 7,
     "metadata": {},
     "output_type": "execute_result"
    }
   ],
   "source": [
    "a=100\n",
    "type(a)"
   ]
  },
  {
   "cell_type": "code",
   "execution_count": 8,
   "id": "d24a6368",
   "metadata": {},
   "outputs": [
    {
     "data": {
      "text/plain": [
       "float"
      ]
     },
     "execution_count": 8,
     "metadata": {},
     "output_type": "execute_result"
    }
   ],
   "source": [
    "b=3.12\n",
    "type(b)"
   ]
  },
  {
   "cell_type": "code",
   "execution_count": 9,
   "id": "a0f9bb80",
   "metadata": {},
   "outputs": [
    {
     "data": {
      "text/plain": [
       "str"
      ]
     },
     "execution_count": 9,
     "metadata": {},
     "output_type": "execute_result"
    }
   ],
   "source": [
    "c='Python'\n",
    "type(c)"
   ]
  },
  {
   "cell_type": "code",
   "execution_count": 10,
   "id": "e81997a0",
   "metadata": {},
   "outputs": [
    {
     "data": {
      "text/plain": [
       "list"
      ]
     },
     "execution_count": 10,
     "metadata": {},
     "output_type": "execute_result"
    }
   ],
   "source": [
    "l=[1,2,3,4,5]\n",
    "type(l)"
   ]
  },
  {
   "cell_type": "code",
   "execution_count": 11,
   "id": "d5570e56",
   "metadata": {},
   "outputs": [
    {
     "data": {
      "text/plain": [
       "tuple"
      ]
     },
     "execution_count": 11,
     "metadata": {},
     "output_type": "execute_result"
    }
   ],
   "source": [
    "l2=(1,2,3,4)\n",
    "type(l2)"
   ]
  },
  {
   "cell_type": "code",
   "execution_count": 12,
   "id": "5e07b790",
   "metadata": {},
   "outputs": [
    {
     "data": {
      "text/plain": [
       "set"
      ]
     },
     "execution_count": 12,
     "metadata": {},
     "output_type": "execute_result"
    }
   ],
   "source": [
    "l3={2,3,5}\n",
    "type(l3)"
   ]
  },
  {
   "cell_type": "code",
   "execution_count": 13,
   "id": "b473ecc5",
   "metadata": {},
   "outputs": [
    {
     "data": {
      "text/plain": [
       "dict"
      ]
     },
     "execution_count": 13,
     "metadata": {},
     "output_type": "execute_result"
    }
   ],
   "source": [
    "l4={'A':100,'B':200,'C':300}\n",
    "type(l4)"
   ]
  },
  {
   "cell_type": "code",
   "execution_count": 14,
   "id": "22e54b81",
   "metadata": {},
   "outputs": [
    {
     "name": "stdout",
     "output_type": "stream",
     "text": [
      "100\n",
      "3.12\n"
     ]
    }
   ],
   "source": [
    "a=100\n",
    "print(a)\n",
    "b=3.12\n",
    "print(b)"
   ]
  },
  {
   "cell_type": "code",
   "execution_count": 18,
   "id": "d48c20c9",
   "metadata": {},
   "outputs": [
    {
     "name": "stdout",
     "output_type": "stream",
     "text": [
      "virat\n",
      "virat\n"
     ]
    }
   ],
   "source": [
    "variable='virat'\n",
    "_variable='virat'\n",
    "\n",
    "print(variable)\n",
    "print(_variable)\n"
   ]
  },
  {
   "cell_type": "code",
   "execution_count": 19,
   "id": "1f48397b",
   "metadata": {},
   "outputs": [
    {
     "ename": "SyntaxError",
     "evalue": "invalid syntax (1902233155.py, line 1)",
     "output_type": "error",
     "traceback": [
      "\u001b[1;36m  File \u001b[1;32m\"C:\\Users\\Prerana\\AppData\\Local\\Temp\\ipykernel_8372\\1902233155.py\"\u001b[1;36m, line \u001b[1;32m1\u001b[0m\n\u001b[1;33m    @variable='virat'\u001b[0m\n\u001b[1;37m             ^\u001b[0m\n\u001b[1;31mSyntaxError\u001b[0m\u001b[1;31m:\u001b[0m invalid syntax\n"
     ]
    }
   ],
   "source": [
    "@variable='virat' #wrong way it will not assigned\n",
    "print(@variable)"
   ]
  },
  {
   "cell_type": "code",
   "execution_count": 20,
   "id": "6e3f671d",
   "metadata": {},
   "outputs": [
    {
     "name": "stdout",
     "output_type": "stream",
     "text": [
      "virat\n"
     ]
    }
   ],
   "source": [
    "my_var='virat'\n",
    "print(my_var)"
   ]
  },
  {
   "cell_type": "code",
   "execution_count": 21,
   "id": "346dbd96",
   "metadata": {},
   "outputs": [
    {
     "ename": "SyntaxError",
     "evalue": "invalid syntax (1119998343.py, line 1)",
     "output_type": "error",
     "traceback": [
      "\u001b[1;36m  File \u001b[1;32m\"C:\\Users\\Prerana\\AppData\\Local\\Temp\\ipykernel_8372\\1119998343.py\"\u001b[1;36m, line \u001b[1;32m1\u001b[0m\n\u001b[1;33m    my var='Virat' #no space allowed\u001b[0m\n\u001b[1;37m       ^\u001b[0m\n\u001b[1;31mSyntaxError\u001b[0m\u001b[1;31m:\u001b[0m invalid syntax\n"
     ]
    }
   ],
   "source": [
    "my var='Virat' #no space allowed\n",
    "print(my var)"
   ]
  },
  {
   "cell_type": "code",
   "execution_count": 22,
   "id": "3638cf85",
   "metadata": {},
   "outputs": [
    {
     "data": {
      "text/plain": [
       "10"
      ]
     },
     "execution_count": 22,
     "metadata": {},
     "output_type": "execute_result"
    }
   ],
   "source": [
    "l=[1,2,3,4]\n",
    "sum(l)"
   ]
  },
  {
   "cell_type": "code",
   "execution_count": 24,
   "id": "a385953d",
   "metadata": {},
   "outputs": [
    {
     "name": "stdout",
     "output_type": "stream",
     "text": [
      "the value of var sum is: 100 <class 'int'>\n"
     ]
    },
    {
     "ename": "TypeError",
     "evalue": "'int' object is not callable",
     "output_type": "error",
     "traceback": [
      "\u001b[1;31m---------------------------------------------------------------------------\u001b[0m",
      "\u001b[1;31mTypeError\u001b[0m                                 Traceback (most recent call last)",
      "\u001b[1;32m~\\AppData\\Local\\Temp\\ipykernel_8372\\1638976992.py\u001b[0m in \u001b[0;36m<cell line: 5>\u001b[1;34m()\u001b[0m\n\u001b[0;32m      3\u001b[0m \u001b[1;33m\u001b[0m\u001b[0m\n\u001b[0;32m      4\u001b[0m \u001b[0ml\u001b[0m\u001b[1;33m=\u001b[0m\u001b[1;33m[\u001b[0m\u001b[1;36m12\u001b[0m\u001b[1;33m,\u001b[0m\u001b[1;36m32\u001b[0m\u001b[1;33m,\u001b[0m\u001b[1;36m42\u001b[0m\u001b[1;33m]\u001b[0m\u001b[1;33m\u001b[0m\u001b[1;33m\u001b[0m\u001b[0m\n\u001b[1;32m----> 5\u001b[1;33m \u001b[0msum\u001b[0m\u001b[1;33m(\u001b[0m\u001b[0ml\u001b[0m\u001b[1;33m)\u001b[0m\u001b[1;33m\u001b[0m\u001b[1;33m\u001b[0m\u001b[0m\n\u001b[0m",
      "\u001b[1;31mTypeError\u001b[0m: 'int' object is not callable"
     ]
    }
   ],
   "source": [
    "sum=100\n",
    "print('the value of var sum is:',sum,type(sum))\n",
    "\n",
    "#if you use built in function as variable the in future it can not be perform its function\n",
    "l=[12,32,42]\n",
    "sum(l)"
   ]
  },
  {
   "cell_type": "markdown",
   "id": "8d94d3ef",
   "metadata": {},
   "source": [
    "### <span style='color:purple '> Types of Variables </span>"
   ]
  },
  {
   "cell_type": "markdown",
   "id": "f2e8c7e1",
   "metadata": {},
   "source": [
    "1. global variable: variable declared outside the function and can be accessed from inside as\n",
    "    well as outside function.\n",
    "    \n",
    "2. local variable: variable declared inside the function and can be accessed inside only."
   ]
  },
  {
   "cell_type": "code",
   "execution_count": 26,
   "id": "a3e593c4",
   "metadata": {},
   "outputs": [
    {
     "name": "stdout",
     "output_type": "stream",
     "text": [
      "the value of variable x is 100\n"
     ]
    }
   ],
   "source": [
    "name='Rohit Sharma' #global variable\n",
    "\n",
    "def my_fun():\n",
    "    x=100 #local variable\n",
    "    print('the value of variable x is',x)\n",
    "    \n",
    "my_fun()"
   ]
  },
  {
   "cell_type": "code",
   "execution_count": 27,
   "id": "10b069d4",
   "metadata": {},
   "outputs": [
    {
     "name": "stdout",
     "output_type": "stream",
     "text": [
      "the value of variable x is 100\n",
      "The name of cricketer is Rohit Sharma\n"
     ]
    }
   ],
   "source": [
    "name='Rohit Sharma' #global variable\n",
    "\n",
    "def my_fun():\n",
    "    x=100 #local variable\n",
    "    print('the value of variable x is',x)\n",
    "    print('The name of cricketer is', name) #accessing global variable inside function\n",
    "    \n",
    "my_fun()"
   ]
  },
  {
   "cell_type": "code",
   "execution_count": 28,
   "id": "7628f18d",
   "metadata": {},
   "outputs": [
    {
     "ename": "NameError",
     "evalue": "name 'x' is not defined",
     "output_type": "error",
     "traceback": [
      "\u001b[1;31m---------------------------------------------------------------------------\u001b[0m",
      "\u001b[1;31mNameError\u001b[0m                                 Traceback (most recent call last)",
      "\u001b[1;32m~\\AppData\\Local\\Temp\\ipykernel_8372\\2276035765.py\u001b[0m in \u001b[0;36m<cell line: 8>\u001b[1;34m()\u001b[0m\n\u001b[0;32m      6\u001b[0m     \u001b[0mprint\u001b[0m\u001b[1;33m(\u001b[0m\u001b[1;34m'The name of cricketer is'\u001b[0m\u001b[1;33m,\u001b[0m \u001b[0mname\u001b[0m\u001b[1;33m)\u001b[0m \u001b[1;31m#accessing global variable inside function\u001b[0m\u001b[1;33m\u001b[0m\u001b[1;33m\u001b[0m\u001b[0m\n\u001b[0;32m      7\u001b[0m \u001b[1;33m\u001b[0m\u001b[0m\n\u001b[1;32m----> 8\u001b[1;33m \u001b[0mprint\u001b[0m\u001b[1;33m(\u001b[0m\u001b[0mx\u001b[0m\u001b[1;33m)\u001b[0m \u001b[1;31m#accessing local variable outside function\u001b[0m\u001b[1;33m\u001b[0m\u001b[1;33m\u001b[0m\u001b[0m\n\u001b[0m\u001b[0;32m      9\u001b[0m \u001b[0mmy_fun\u001b[0m\u001b[1;33m(\u001b[0m\u001b[1;33m)\u001b[0m\u001b[1;33m\u001b[0m\u001b[1;33m\u001b[0m\u001b[0m\n",
      "\u001b[1;31mNameError\u001b[0m: name 'x' is not defined"
     ]
    }
   ],
   "source": [
    "name='Rohit Sharma' #global variable\n",
    "\n",
    "def my_fun():\n",
    "    x=100 #local variable\n",
    "    print('the value of variable x is',x)\n",
    "    print('The name of cricketer is', name) #accessing global variable inside function\n",
    "\n",
    "print(x) #accessing local variable outside function\n",
    "my_fun()"
   ]
  },
  {
   "cell_type": "markdown",
   "id": "b1ae982b",
   "metadata": {},
   "source": [
    "### <span style='color:purple '> Assigning same value to multiple variables </span>"
   ]
  },
  {
   "cell_type": "code",
   "execution_count": 29,
   "id": "87a17d8d",
   "metadata": {},
   "outputs": [
    {
     "name": "stdout",
     "output_type": "stream",
     "text": [
      "a==50, b==50,c==50\n"
     ]
    }
   ],
   "source": [
    "a=50\n",
    "b=50\n",
    "c=50\n",
    "\n",
    "print(f'a=={a}, b=={b},c=={c}')"
   ]
  },
  {
   "cell_type": "code",
   "execution_count": 30,
   "id": "76566c9a",
   "metadata": {},
   "outputs": [
    {
     "name": "stdout",
     "output_type": "stream",
     "text": [
      "a==55, b==55,c==55\n"
     ]
    }
   ],
   "source": [
    "a=b=c=55\n",
    "print(f'a=={a}, b=={b},c=={c}')"
   ]
  },
  {
   "cell_type": "code",
   "execution_count": 31,
   "id": "20dadb69",
   "metadata": {},
   "outputs": [
    {
     "name": "stdout",
     "output_type": "stream",
     "text": [
      "a==33, b==33,c==33\n"
     ]
    }
   ],
   "source": [
    "a=33 ; b=33; c=33\n",
    "print(f'a=={a}, b=={b},c=={c}')"
   ]
  },
  {
   "cell_type": "code",
   "execution_count": 33,
   "id": "1ee5239b",
   "metadata": {},
   "outputs": [
    {
     "name": "stdout",
     "output_type": "stream",
     "text": [
      "a==33, b==34,c==35\n"
     ]
    }
   ],
   "source": [
    "a=33 ; b=34; c=35\n",
    "print(f'a=={a}, b=={b},c=={c}')"
   ]
  },
  {
   "cell_type": "code",
   "execution_count": 34,
   "id": "6d50684f",
   "metadata": {},
   "outputs": [
    {
     "name": "stdout",
     "output_type": "stream",
     "text": [
      "a==34, b==34,c==35\n"
     ]
    }
   ],
   "source": [
    "a=b=34; \n",
    "c=35\n",
    "print(f'a=={a}, b=={b},c=={c}')"
   ]
  },
  {
   "cell_type": "markdown",
   "id": "960aa749",
   "metadata": {},
   "source": [
    "### <span style='color:purple '> Assigning multiple values to multiple variables </span>"
   ]
  },
  {
   "cell_type": "code",
   "execution_count": 36,
   "id": "92fe4725",
   "metadata": {},
   "outputs": [
    {
     "name": "stdout",
     "output_type": "stream",
     "text": [
      "a==10, b==20,c==30\n"
     ]
    }
   ],
   "source": [
    "a=10\n",
    "b=20\n",
    "c=30\n",
    "\n",
    "print(f'a=={a}, b=={b},c=={c}')"
   ]
  },
  {
   "cell_type": "code",
   "execution_count": 35,
   "id": "04b4e652",
   "metadata": {},
   "outputs": [
    {
     "name": "stdout",
     "output_type": "stream",
     "text": [
      "a==10, b==20,c==30\n"
     ]
    }
   ],
   "source": [
    "a,b,c=10,20,30\n",
    "\n",
    "print(f'a=={a}, b=={b},c=={c}')"
   ]
  },
  {
   "cell_type": "code",
   "execution_count": 37,
   "id": "6ba8fd77",
   "metadata": {},
   "outputs": [
    {
     "ename": "TypeError",
     "evalue": "cannot unpack non-iterable int object",
     "output_type": "error",
     "traceback": [
      "\u001b[1;31m---------------------------------------------------------------------------\u001b[0m",
      "\u001b[1;31mTypeError\u001b[0m                                 Traceback (most recent call last)",
      "\u001b[1;32m~\\AppData\\Local\\Temp\\ipykernel_8372\\1199817936.py\u001b[0m in \u001b[0;36m<cell line: 1>\u001b[1;34m()\u001b[0m\n\u001b[1;32m----> 1\u001b[1;33m \u001b[0ma\u001b[0m\u001b[1;33m,\u001b[0m\u001b[0mb\u001b[0m\u001b[1;33m,\u001b[0m\u001b[0mc\u001b[0m\u001b[1;33m=\u001b[0m\u001b[1;36m10\u001b[0m\u001b[1;33m\u001b[0m\u001b[1;33m\u001b[0m\u001b[0m\n\u001b[0m\u001b[0;32m      2\u001b[0m \u001b[1;33m\u001b[0m\u001b[0m\n\u001b[0;32m      3\u001b[0m \u001b[0mprint\u001b[0m\u001b[1;33m(\u001b[0m\u001b[1;34mf'a=={a}, b=={b},c=={c}'\u001b[0m\u001b[1;33m)\u001b[0m\u001b[1;33m\u001b[0m\u001b[1;33m\u001b[0m\u001b[0m\n",
      "\u001b[1;31mTypeError\u001b[0m: cannot unpack non-iterable int object"
     ]
    }
   ],
   "source": [
    "a,b,c=10\n",
    "\n",
    "print(f'a=={a}, b=={b},c=={c}')"
   ]
  },
  {
   "cell_type": "code",
   "execution_count": 38,
   "id": "a5ecec98",
   "metadata": {},
   "outputs": [
    {
     "name": "stdout",
     "output_type": "stream",
     "text": [
      "a==10, b==20,c==Python\n"
     ]
    }
   ],
   "source": [
    "a,b,c=10,20,'Python'\n",
    "\n",
    "print(f'a=={a}, b=={b},c=={c}')"
   ]
  },
  {
   "cell_type": "code",
   "execution_count": 39,
   "id": "9f731c73",
   "metadata": {},
   "outputs": [
    {
     "name": "stdout",
     "output_type": "stream",
     "text": [
      "(10, 20, 'python')\n"
     ]
    }
   ],
   "source": [
    "a=10,20,'python' #tuple\n",
    "\n",
    "print(a)"
   ]
  },
  {
   "cell_type": "code",
   "execution_count": 40,
   "id": "28f9f42a",
   "metadata": {},
   "outputs": [
    {
     "name": "stdout",
     "output_type": "stream",
     "text": [
      "(10, 20, 'python')\n"
     ]
    }
   ],
   "source": [
    "a=(10,20,'python')\n",
    "\n",
    "print(a)"
   ]
  },
  {
   "cell_type": "markdown",
   "id": "fb119585",
   "metadata": {},
   "source": [
    "### <span style='color:purple '> Deleting variable </span>"
   ]
  },
  {
   "cell_type": "markdown",
   "id": "66f28afa",
   "metadata": {},
   "source": [
    "del keyword is use to delete the variable"
   ]
  },
  {
   "cell_type": "code",
   "execution_count": 41,
   "id": "8a34c3d3",
   "metadata": {},
   "outputs": [
    {
     "name": "stdout",
     "output_type": "stream",
     "text": [
      "10\n"
     ]
    }
   ],
   "source": [
    "a=10\n",
    "print(a)"
   ]
  },
  {
   "cell_type": "code",
   "execution_count": 42,
   "id": "b2f8a283",
   "metadata": {},
   "outputs": [],
   "source": [
    "del a"
   ]
  },
  {
   "cell_type": "code",
   "execution_count": 43,
   "id": "95807ec5",
   "metadata": {},
   "outputs": [
    {
     "ename": "NameError",
     "evalue": "name 'a' is not defined",
     "output_type": "error",
     "traceback": [
      "\u001b[1;31m---------------------------------------------------------------------------\u001b[0m",
      "\u001b[1;31mNameError\u001b[0m                                 Traceback (most recent call last)",
      "\u001b[1;32m~\\AppData\\Local\\Temp\\ipykernel_8372\\1189138062.py\u001b[0m in \u001b[0;36m<cell line: 1>\u001b[1;34m()\u001b[0m\n\u001b[1;32m----> 1\u001b[1;33m \u001b[0mprint\u001b[0m\u001b[1;33m(\u001b[0m\u001b[0ma\u001b[0m\u001b[1;33m)\u001b[0m\u001b[1;33m\u001b[0m\u001b[1;33m\u001b[0m\u001b[0m\n\u001b[0m",
      "\u001b[1;31mNameError\u001b[0m: name 'a' is not defined"
     ]
    }
   ],
   "source": [
    "print(a)"
   ]
  },
  {
   "cell_type": "markdown",
   "id": "5832f1b3",
   "metadata": {},
   "source": [
    "### <span style='color:purple '> Print variable </span>"
   ]
  },
  {
   "cell_type": "code",
   "execution_count": 44,
   "id": "95a3d53f",
   "metadata": {},
   "outputs": [
    {
     "name": "stdout",
     "output_type": "stream",
     "text": [
      "20\n"
     ]
    },
    {
     "data": {
      "text/plain": [
       "10"
      ]
     },
     "execution_count": 44,
     "metadata": {},
     "output_type": "execute_result"
    }
   ],
   "source": [
    "a=10\n",
    "b=20\n",
    "\n",
    "print(b)\n",
    "a"
   ]
  },
  {
   "cell_type": "code",
   "execution_count": 45,
   "id": "17788673",
   "metadata": {},
   "outputs": [
    {
     "name": "stdout",
     "output_type": "stream",
     "text": [
      "python\n"
     ]
    }
   ],
   "source": [
    "string1='python'\n",
    "string2=\"python\"\n",
    "\n",
    "print(string1)"
   ]
  },
  {
   "cell_type": "code",
   "execution_count": 46,
   "id": "d58d7c0a",
   "metadata": {},
   "outputs": [
    {
     "name": "stdout",
     "output_type": "stream",
     "text": [
      "python\n"
     ]
    }
   ],
   "source": [
    "print(string2)"
   ]
  },
  {
   "cell_type": "code",
   "execution_count": 47,
   "id": "3c3bf8c6",
   "metadata": {},
   "outputs": [
    {
     "data": {
      "text/plain": [
       "True"
      ]
     },
     "execution_count": 47,
     "metadata": {},
     "output_type": "execute_result"
    }
   ],
   "source": [
    "string1==string2"
   ]
  },
  {
   "cell_type": "code",
   "execution_count": 48,
   "id": "1a748346",
   "metadata": {},
   "outputs": [
    {
     "data": {
      "text/plain": [
       "False"
      ]
     },
     "execution_count": 48,
     "metadata": {},
     "output_type": "execute_result"
    }
   ],
   "source": [
    "str1='Virat'\n",
    "str2='Kohali'\n",
    "\n",
    "str1==str2"
   ]
  },
  {
   "cell_type": "code",
   "execution_count": 49,
   "id": "bc4f73ef",
   "metadata": {},
   "outputs": [
    {
     "name": "stdout",
     "output_type": "stream",
     "text": [
      "50\n"
     ]
    }
   ],
   "source": [
    "a=20\n",
    "b=30\n",
    "\n",
    "addition=a+b\n",
    "\n",
    "print(addition)"
   ]
  },
  {
   "cell_type": "code",
   "execution_count": 50,
   "id": "65133416",
   "metadata": {},
   "outputs": [
    {
     "name": "stdout",
     "output_type": "stream",
     "text": [
      "ViratKohali\n"
     ]
    }
   ],
   "source": [
    "str1='Virat'\n",
    "str2='Kohali'\n",
    "\n",
    "str3=str1 + str2\n",
    "\n",
    "print(str3)"
   ]
  },
  {
   "cell_type": "code",
   "execution_count": 52,
   "id": "a1b077ce",
   "metadata": {},
   "outputs": [
    {
     "name": "stdout",
     "output_type": "stream",
     "text": [
      "addition of 20 and 30 is 50\n"
     ]
    }
   ],
   "source": [
    "a=20\n",
    "b=30\n",
    "\n",
    "addition=a+b\n",
    "\n",
    "print('addition of',a, 'and',b ,'is',addition) #little hectic so below is solution "
   ]
  },
  {
   "cell_type": "markdown",
   "id": "07d1b7db",
   "metadata": {},
   "source": [
    "#### 1.f-string"
   ]
  },
  {
   "cell_type": "code",
   "execution_count": 53,
   "id": "0e751402",
   "metadata": {},
   "outputs": [
    {
     "name": "stdout",
     "output_type": "stream",
     "text": [
      "addition of 20 and 30 is 50\n"
     ]
    }
   ],
   "source": [
    "print(f'addition of {a} and {b} is',addition)"
   ]
  },
  {
   "cell_type": "code",
   "execution_count": 54,
   "id": "e5aae2e1",
   "metadata": {},
   "outputs": [
    {
     "name": "stdout",
     "output_type": "stream",
     "text": [
      "addition of 20 and 30 is 50\n"
     ]
    }
   ],
   "source": [
    "print(f'addition of {a} and {b} is {addition}')"
   ]
  },
  {
   "cell_type": "markdown",
   "id": "c1fc90e5",
   "metadata": {},
   "source": [
    "#### 2.format string"
   ]
  },
  {
   "cell_type": "code",
   "execution_count": 55,
   "id": "2f23c30a",
   "metadata": {},
   "outputs": [
    {
     "name": "stdout",
     "output_type": "stream",
     "text": [
      "addition of 20 and 30 is 50\n"
     ]
    }
   ],
   "source": [
    "print('addition of {} and {} is {}'.format(a,b,addition))"
   ]
  },
  {
   "cell_type": "code",
   "execution_count": 56,
   "id": "fefeada7",
   "metadata": {},
   "outputs": [
    {
     "name": "stdout",
     "output_type": "stream",
     "text": [
      "addition of 20 and 30 is 50\n"
     ]
    }
   ],
   "source": [
    "print('addition of {0} and {1} is {2}'.format(a,b,addition))"
   ]
  },
  {
   "cell_type": "code",
   "execution_count": 57,
   "id": "32b126c1",
   "metadata": {},
   "outputs": [
    {
     "name": "stdout",
     "output_type": "stream",
     "text": [
      "addition of 30 and 20 is 50\n"
     ]
    }
   ],
   "source": [
    "print('addition of {1} and {0} is {2}'.format(a,b,addition))"
   ]
  },
  {
   "cell_type": "markdown",
   "id": "a65298fd",
   "metadata": {},
   "source": [
    "####################################################"
   ]
  },
  {
   "cell_type": "code",
   "execution_count": 60,
   "id": "c9c0a5ba",
   "metadata": {},
   "outputs": [
    {
     "data": {
      "text/plain": [
       "\"Python's course\""
      ]
     },
     "execution_count": 60,
     "metadata": {},
     "output_type": "execute_result"
    }
   ],
   "source": [
    "str1=\"Python's course\"\n",
    "str1"
   ]
  },
  {
   "cell_type": "code",
   "execution_count": 61,
   "id": "a142fbe7",
   "metadata": {},
   "outputs": [
    {
     "ename": "SyntaxError",
     "evalue": "invalid syntax (567013775.py, line 1)",
     "output_type": "error",
     "traceback": [
      "\u001b[1;36m  File \u001b[1;32m\"C:\\Users\\Prerana\\AppData\\Local\\Temp\\ipykernel_8372\\567013775.py\"\u001b[1;36m, line \u001b[1;32m1\u001b[0m\n\u001b[1;33m    str1='Python's course'\u001b[0m\n\u001b[1;37m                 ^\u001b[0m\n\u001b[1;31mSyntaxError\u001b[0m\u001b[1;31m:\u001b[0m invalid syntax\n"
     ]
    }
   ],
   "source": [
    "str1='Python's course'\n",
    "str1"
   ]
  },
  {
   "cell_type": "code",
   "execution_count": 62,
   "id": "2999400c",
   "metadata": {},
   "outputs": [
    {
     "data": {
      "text/plain": [
       "'Python\"s course'"
      ]
     },
     "execution_count": 62,
     "metadata": {},
     "output_type": "execute_result"
    }
   ],
   "source": [
    "str1='Python\"s course'\n",
    "str1"
   ]
  },
  {
   "cell_type": "code",
   "execution_count": 63,
   "id": "25a02554",
   "metadata": {},
   "outputs": [
    {
     "data": {
      "text/plain": [
       "\"Python 's course\""
      ]
     },
     "execution_count": 63,
     "metadata": {},
     "output_type": "execute_result"
    }
   ],
   "source": [
    "str1='Python \\'s course' #use escape character\n",
    "str1"
   ]
  },
  {
   "cell_type": "code",
   "execution_count": null,
   "id": "80b2ffd6",
   "metadata": {},
   "outputs": [],
   "source": []
  }
 ],
 "metadata": {
  "kernelspec": {
   "display_name": "Python 3 (ipykernel)",
   "language": "python",
   "name": "python3"
  },
  "language_info": {
   "codemirror_mode": {
    "name": "ipython",
    "version": 3
   },
   "file_extension": ".py",
   "mimetype": "text/x-python",
   "name": "python",
   "nbconvert_exporter": "python",
   "pygments_lexer": "ipython3",
   "version": "3.9.7"
  }
 },
 "nbformat": 4,
 "nbformat_minor": 5
}
