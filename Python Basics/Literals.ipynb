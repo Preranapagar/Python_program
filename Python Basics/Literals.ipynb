{
 "cells": [
  {
   "cell_type": "markdown",
   "id": "0fc9d813",
   "metadata": {},
   "source": [
    "## Literals"
   ]
  },
  {
   "cell_type": "markdown",
   "id": "462a3b85",
   "metadata": {},
   "source": [
    "Literal is a raw data given to a variable.\n",
    "\n",
    "Types:\n",
    "    \n",
    "    1.Numeric literals\n",
    "    \n",
    "    2.String literals\n",
    "    \n",
    "    3.Boolean literals\n",
    "    \n",
    "    4.special literals\n",
    "    "
   ]
  },
  {
   "cell_type": "markdown",
   "id": "bdb41a05",
   "metadata": {},
   "source": [
    "#### 1.Numeric Literals"
   ]
  },
  {
   "cell_type": "code",
   "execution_count": 1,
   "id": "50aeb5b8",
   "metadata": {},
   "outputs": [
    {
     "name": "stdout",
     "output_type": "stream",
     "text": [
      "10 100 200 300\n"
     ]
    }
   ],
   "source": [
    "a= 0b1010 #binary literal, returns in decimal after printing\n",
    "b=100     #decimal literal\n",
    "c=0o310   #octal literal\n",
    "d=0x12c   #Hexadecimal literal\n",
    "\n",
    "print(a,b,c,d)"
   ]
  },
  {
   "cell_type": "code",
   "execution_count": 2,
   "id": "25fabbb4",
   "metadata": {},
   "outputs": [
    {
     "name": "stdout",
     "output_type": "stream",
     "text": [
      "10.2 150.0\n"
     ]
    }
   ],
   "source": [
    "#float literal\n",
    "\n",
    "a=10.2\n",
    "b=1.5e2 #e2 means 10 to the power 2\n",
    "\n",
    "print(a,b)"
   ]
  },
  {
   "cell_type": "code",
   "execution_count": 4,
   "id": "13e307ad",
   "metadata": {},
   "outputs": [
    {
     "name": "stdout",
     "output_type": "stream",
     "text": [
      "(3+7j)\n",
      "7.0\n",
      "3.0\n",
      "6j\n",
      "6.0\n",
      "0.0\n"
     ]
    }
   ],
   "source": [
    "#complex literal\n",
    "\n",
    "x=3+7j\n",
    "\n",
    "print(x)\n",
    "print(x.imag)\n",
    "print(x.real)\n",
    "\n",
    "y=6j\n",
    "print(y)\n",
    "print(y.imag)\n",
    "print(y.real)\n"
   ]
  },
  {
   "cell_type": "markdown",
   "id": "06e363e7",
   "metadata": {},
   "source": [
    "#### 2.String literals"
   ]
  },
  {
   "cell_type": "code",
   "execution_count": 6,
   "id": "28c8bb5f",
   "metadata": {},
   "outputs": [
    {
     "name": "stdout",
     "output_type": "stream",
     "text": [
      "This is python\n",
      "This is python\n",
      "C\n",
      "When you have to write string in multilines you have to use triple inverted commos,\n",
      "useful for accessing large information like blogs\n",
      "😀😆\n",
      "whatever \\n\n"
     ]
    }
   ],
   "source": [
    "string='This is python'    #single inverted\n",
    "string1=\"This is python\"   #double inverted\n",
    "char='C'                   #single character in inverted comma will be considered as string\n",
    "mult_line='''When you have to write string in multilines you have to use triple inverted commos,\n",
    "useful for accessing large information like blogs'''\n",
    "\n",
    "unicode=u\"\\U0001f600\\U0001F606\"  #to acess unicode character you have to use 'u' before string\n",
    "raw_string=r'whatever \\n' #when we print HTML in python with lot of symbols/special characters\n",
    "                          #then we use raw string by 'r' before string\n",
    "    \n",
    "print(string)\n",
    "print(string1)\n",
    "print(char)\n",
    "print(mult_line)\n",
    "print(unicode)\n",
    "print(raw_string)"
   ]
  },
  {
   "cell_type": "markdown",
   "id": "41f5ca2a",
   "metadata": {},
   "source": [
    "#### 3.Boolean Literal"
   ]
  },
  {
   "cell_type": "code",
   "execution_count": 7,
   "id": "3df006ab",
   "metadata": {},
   "outputs": [
    {
     "name": "stdout",
     "output_type": "stream",
     "text": [
      "a: 8\n",
      "b: 3\n"
     ]
    }
   ],
   "source": [
    "a= True + 7    #python consider True as 1 and false as 0\n",
    "b= False +3\n",
    "\n",
    "print('a:',a)\n",
    "print('b:',b)"
   ]
  },
  {
   "cell_type": "markdown",
   "id": "cb46333e",
   "metadata": {},
   "source": [
    "#### 4.Special Literal"
   ]
  },
  {
   "cell_type": "code",
   "execution_count": 8,
   "id": "6519dd36",
   "metadata": {},
   "outputs": [
    {
     "name": "stdout",
     "output_type": "stream",
     "text": [
      "None\n"
     ]
    }
   ],
   "source": [
    "v=None  #use for variable declaration if you dont want to give any value to variable but still want it in code \n",
    "\n",
    "print(v)"
   ]
  },
  {
   "cell_type": "code",
   "execution_count": null,
   "id": "5eedff79",
   "metadata": {},
   "outputs": [],
   "source": []
  }
 ],
 "metadata": {
  "kernelspec": {
   "display_name": "Python 3 (ipykernel)",
   "language": "python",
   "name": "python3"
  },
  "language_info": {
   "codemirror_mode": {
    "name": "ipython",
    "version": 3
   },
   "file_extension": ".py",
   "mimetype": "text/x-python",
   "name": "python",
   "nbconvert_exporter": "python",
   "pygments_lexer": "ipython3",
   "version": "3.9.7"
  }
 },
 "nbformat": 4,
 "nbformat_minor": 5
}
