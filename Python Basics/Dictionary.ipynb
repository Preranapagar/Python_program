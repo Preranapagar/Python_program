{
 "cells": [
  {
   "cell_type": "markdown",
   "id": "d23b4318",
   "metadata": {},
   "source": [
    "## Dictionary"
   ]
  },
  {
   "cell_type": "code",
   "execution_count": null,
   "id": "d1665790",
   "metadata": {},
   "outputs": [],
   "source": [
    "dict1 = {Key1 : Value1, Key2 : Value2}\n",
    "1. It is collection of key and value pair\n",
    "2. We can not access item by using index\n",
    "3. Duplicates keys are not allowed, but values can be duplicate\n",
    "4. dict are comma seperated\n",
    "5. dict are enclosed by {}\n",
    "\n",
    "Ordered  >> If python >= 3.7\n",
    "Unordered >> If Python < 3.7  (3.6,3.5)\n",
    "\n",
    "\n",
    "Key  >> Immutable DataTypes (int,float,string, tuple,frozenset)\n",
    "values >> Any DataTypes (int,float,string, tuple, list, set, dict, etc)"
   ]
  },
  {
   "cell_type": "code",
   "execution_count": 1,
   "id": "72d10255",
   "metadata": {},
   "outputs": [
    {
     "data": {
      "text/plain": [
       "dict"
      ]
     },
     "execution_count": 1,
     "metadata": {},
     "output_type": "execute_result"
    }
   ],
   "source": [
    "dict1 = {\"a\" : [10,30,40,50], 'b': 200}\n",
    "type(dict1)"
   ]
  },
  {
   "cell_type": "code",
   "execution_count": 2,
   "id": "227ac73d",
   "metadata": {},
   "outputs": [
    {
     "data": {
      "text/plain": [
       "dict"
      ]
     },
     "execution_count": 2,
     "metadata": {},
     "output_type": "execute_result"
    }
   ],
   "source": [
    "dict1 = {(10,20):13}\n",
    "type(dict1)"
   ]
  },
  {
   "cell_type": "code",
   "execution_count": 3,
   "id": "4b558784",
   "metadata": {},
   "outputs": [
    {
     "name": "stdout",
     "output_type": "stream",
     "text": [
      "{1: [10, 30, 40, 50], 3.5: 200} 2\n"
     ]
    }
   ],
   "source": [
    "dict1 = {1 : [10,30,40,50], 3.5: 200}\n",
    "\n",
    "print(dict1,len(dict1))"
   ]
  },
  {
   "cell_type": "code",
   "execution_count": 4,
   "id": "5dd1a571",
   "metadata": {},
   "outputs": [
    {
     "ename": "TypeError",
     "evalue": "unhashable type: 'list'",
     "output_type": "error",
     "traceback": [
      "\u001b[1;31m---------------------------------------------------------------------------\u001b[0m",
      "\u001b[1;31mTypeError\u001b[0m                                 Traceback (most recent call last)",
      "\u001b[1;32m~\\AppData\\Local\\Temp\\ipykernel_34304\\3748144781.py\u001b[0m in \u001b[0;36m<cell line: 1>\u001b[1;34m()\u001b[0m\n\u001b[1;32m----> 1\u001b[1;33m \u001b[0mdict1\u001b[0m \u001b[1;33m=\u001b[0m \u001b[1;33m{\u001b[0m\u001b[1;36m1\u001b[0m \u001b[1;33m:\u001b[0m \u001b[1;33m[\u001b[0m\u001b[1;36m10\u001b[0m\u001b[1;33m,\u001b[0m\u001b[1;36m30\u001b[0m\u001b[1;33m,\u001b[0m\u001b[1;36m40\u001b[0m\u001b[1;33m,\u001b[0m\u001b[1;36m50\u001b[0m\u001b[1;33m]\u001b[0m\u001b[1;33m,\u001b[0m \u001b[1;36m3.5\u001b[0m\u001b[1;33m:\u001b[0m \u001b[1;36m200\u001b[0m\u001b[1;33m,\u001b[0m \u001b[1;33m[\u001b[0m\u001b[1;36m3\u001b[0m\u001b[1;33m,\u001b[0m\u001b[1;36m4\u001b[0m\u001b[1;33m,\u001b[0m\u001b[1;36m5\u001b[0m\u001b[1;33m,\u001b[0m\u001b[1;36m6\u001b[0m\u001b[1;33m]\u001b[0m\u001b[1;33m:\u001b[0m\u001b[1;34m'python'\u001b[0m\u001b[1;33m}\u001b[0m\u001b[1;33m\u001b[0m\u001b[1;33m\u001b[0m\u001b[0m\n\u001b[0m\u001b[0;32m      2\u001b[0m \u001b[1;33m\u001b[0m\u001b[0m\n\u001b[0;32m      3\u001b[0m \u001b[0mprint\u001b[0m\u001b[1;33m(\u001b[0m\u001b[0mdict1\u001b[0m\u001b[1;33m,\u001b[0m\u001b[0mlen\u001b[0m\u001b[1;33m(\u001b[0m\u001b[0mdict1\u001b[0m\u001b[1;33m)\u001b[0m\u001b[1;33m)\u001b[0m\u001b[1;33m\u001b[0m\u001b[1;33m\u001b[0m\u001b[0m\n",
      "\u001b[1;31mTypeError\u001b[0m: unhashable type: 'list'"
     ]
    }
   ],
   "source": [
    "dict1 = {1 : [10,30,40,50], 3.5: 200, [3,4,5,6]:'python'}\n",
    "\n",
    "print(dict1,len(dict1))"
   ]
  },
  {
   "cell_type": "code",
   "execution_count": 5,
   "id": "5d5ed0c0",
   "metadata": {},
   "outputs": [
    {
     "name": "stdout",
     "output_type": "stream",
     "text": [
      "{1: [10, 30, 40, 50], 3.5: 200, frozenset({3, 4, 5, 6}): 'python'} 3\n"
     ]
    }
   ],
   "source": [
    "dict1 = {1 : [10,30,40,50], 3.5: 200, frozenset({3,4,5,6}):'python'}\n",
    "\n",
    "print(dict1,len(dict1))"
   ]
  },
  {
   "cell_type": "code",
   "execution_count": 6,
   "id": "a0b711ff",
   "metadata": {},
   "outputs": [
    {
     "ename": "TypeError",
     "evalue": "unhashable type: 'dict'",
     "output_type": "error",
     "traceback": [
      "\u001b[1;31m---------------------------------------------------------------------------\u001b[0m",
      "\u001b[1;31mTypeError\u001b[0m                                 Traceback (most recent call last)",
      "\u001b[1;32m~\\AppData\\Local\\Temp\\ipykernel_34304\\2645354555.py\u001b[0m in \u001b[0;36m<cell line: 1>\u001b[1;34m()\u001b[0m\n\u001b[1;32m----> 1\u001b[1;33m \u001b[0mdict1\u001b[0m \u001b[1;33m=\u001b[0m \u001b[1;33m{\u001b[0m\u001b[1;36m1\u001b[0m \u001b[1;33m:\u001b[0m \u001b[1;33m[\u001b[0m\u001b[1;36m10\u001b[0m\u001b[1;33m,\u001b[0m\u001b[1;36m30\u001b[0m\u001b[1;33m,\u001b[0m\u001b[1;36m40\u001b[0m\u001b[1;33m,\u001b[0m\u001b[1;36m50\u001b[0m\u001b[1;33m]\u001b[0m\u001b[1;33m,\u001b[0m \u001b[1;36m3.5\u001b[0m\u001b[1;33m:\u001b[0m \u001b[1;36m200\u001b[0m\u001b[1;33m,\u001b[0m \u001b[0mfrozenset\u001b[0m\u001b[1;33m(\u001b[0m\u001b[1;33m{\u001b[0m\u001b[1;36m3\u001b[0m\u001b[1;33m,\u001b[0m\u001b[1;36m4\u001b[0m\u001b[1;33m,\u001b[0m\u001b[1;36m5\u001b[0m\u001b[1;33m,\u001b[0m\u001b[1;36m6\u001b[0m\u001b[1;33m}\u001b[0m\u001b[1;33m)\u001b[0m\u001b[1;33m:\u001b[0m\u001b[1;34m'python'\u001b[0m\u001b[1;33m,\u001b[0m \u001b[1;33m{\u001b[0m\u001b[1;34m'A'\u001b[0m\u001b[1;33m:\u001b[0m\u001b[1;36m5\u001b[0m\u001b[1;33m}\u001b[0m \u001b[1;33m:\u001b[0m \u001b[1;34m'data science'\u001b[0m\u001b[1;33m}\u001b[0m\u001b[1;33m\u001b[0m\u001b[1;33m\u001b[0m\u001b[0m\n\u001b[0m\u001b[0;32m      2\u001b[0m \u001b[1;33m\u001b[0m\u001b[0m\n\u001b[0;32m      3\u001b[0m \u001b[0mprint\u001b[0m\u001b[1;33m(\u001b[0m\u001b[0mdict1\u001b[0m\u001b[1;33m,\u001b[0m\u001b[0mlen\u001b[0m\u001b[1;33m(\u001b[0m\u001b[0mdict1\u001b[0m\u001b[1;33m)\u001b[0m\u001b[1;33m)\u001b[0m\u001b[1;33m\u001b[0m\u001b[1;33m\u001b[0m\u001b[0m\n",
      "\u001b[1;31mTypeError\u001b[0m: unhashable type: 'dict'"
     ]
    }
   ],
   "source": [
    "dict1 = {1 : [10,30,40,50], 3.5: 200, frozenset({3,4,5,6}):'python', {'A':5} : 'data science'}\n",
    "\n",
    "print(dict1,len(dict1))"
   ]
  },
  {
   "cell_type": "markdown",
   "id": "ba7b90f9",
   "metadata": {},
   "source": [
    "### Accessing dictionary items"
   ]
  },
  {
   "cell_type": "code",
   "execution_count": null,
   "id": "b48c9bf7",
   "metadata": {},
   "outputs": [],
   "source": [
    "dict1[KeyName]"
   ]
  },
  {
   "cell_type": "code",
   "execution_count": 7,
   "id": "f35cd959",
   "metadata": {},
   "outputs": [
    {
     "data": {
      "text/plain": [
       "{'Name': 'Rohit', 'Age': 15, 'Marks': 90, 'Place': 'Pune'}"
      ]
     },
     "execution_count": 7,
     "metadata": {},
     "output_type": "execute_result"
    }
   ],
   "source": [
    "dict1 = {'Name': 'Rohit', 'Age': 15, 'Marks': 90, 'Place' : 'Pune'}\n",
    "dict1"
   ]
  },
  {
   "cell_type": "code",
   "execution_count": 8,
   "id": "a5aa1f27",
   "metadata": {},
   "outputs": [
    {
     "data": {
      "text/plain": [
       "90"
      ]
     },
     "execution_count": 8,
     "metadata": {},
     "output_type": "execute_result"
    }
   ],
   "source": [
    "dict1['Marks']"
   ]
  },
  {
   "cell_type": "code",
   "execution_count": 9,
   "id": "af32e0cc",
   "metadata": {},
   "outputs": [
    {
     "data": {
      "text/plain": [
       "'Pune'"
      ]
     },
     "execution_count": 9,
     "metadata": {},
     "output_type": "execute_result"
    }
   ],
   "source": [
    "dict1['Place']"
   ]
  },
  {
   "cell_type": "markdown",
   "id": "fe30b6a5",
   "metadata": {},
   "source": [
    "### get()"
   ]
  },
  {
   "cell_type": "code",
   "execution_count": 10,
   "id": "12e0ffbc",
   "metadata": {},
   "outputs": [],
   "source": [
    "employee_data = {'Employee Name': \"Prashant\",\n",
    "                'Company Name': 'Zensar',\n",
    "                \"Salary\": 50000,\n",
    "                'Designation' : \"Data Scientist\"}"
   ]
  },
  {
   "cell_type": "code",
   "execution_count": 11,
   "id": "8e2960af",
   "metadata": {},
   "outputs": [
    {
     "data": {
      "text/plain": [
       "50000"
      ]
     },
     "execution_count": 11,
     "metadata": {},
     "output_type": "execute_result"
    }
   ],
   "source": [
    "employee_data.get('Salary')"
   ]
  },
  {
   "cell_type": "code",
   "execution_count": 12,
   "id": "ca43027e",
   "metadata": {},
   "outputs": [
    {
     "data": {
      "text/plain": [
       "'Data Scientist'"
      ]
     },
     "execution_count": 12,
     "metadata": {},
     "output_type": "execute_result"
    }
   ],
   "source": [
    "employee_data.get('Designation')"
   ]
  },
  {
   "cell_type": "markdown",
   "id": "ca0b81aa",
   "metadata": {},
   "source": [
    "### accessing items using loop"
   ]
  },
  {
   "cell_type": "code",
   "execution_count": 13,
   "id": "56131c7c",
   "metadata": {},
   "outputs": [],
   "source": [
    "employee_data = {'Employee Name': \"Prashant\",\n",
    "                'Company Name': 'Zensar',\n",
    "                \"Salary\": 50000,\n",
    "                'Designation' : \"Data Scientist\"}"
   ]
  },
  {
   "cell_type": "code",
   "execution_count": 14,
   "id": "ff695a0e",
   "metadata": {},
   "outputs": [
    {
     "data": {
      "text/plain": [
       "dict_keys(['Employee Name', 'Company Name', 'Salary', 'Designation'])"
      ]
     },
     "execution_count": 14,
     "metadata": {},
     "output_type": "execute_result"
    }
   ],
   "source": [
    "employee_data.keys()"
   ]
  },
  {
   "cell_type": "code",
   "execution_count": 15,
   "id": "42d74e83",
   "metadata": {},
   "outputs": [
    {
     "data": {
      "text/plain": [
       "dict_values(['Prashant', 'Zensar', 50000, 'Data Scientist'])"
      ]
     },
     "execution_count": 15,
     "metadata": {},
     "output_type": "execute_result"
    }
   ],
   "source": [
    "employee_data.values()"
   ]
  },
  {
   "cell_type": "code",
   "execution_count": 16,
   "id": "f3331a94",
   "metadata": {},
   "outputs": [
    {
     "data": {
      "text/plain": [
       "dict_items([('Employee Name', 'Prashant'), ('Company Name', 'Zensar'), ('Salary', 50000), ('Designation', 'Data Scientist')])"
      ]
     },
     "execution_count": 16,
     "metadata": {},
     "output_type": "execute_result"
    }
   ],
   "source": [
    "employee_data.items()"
   ]
  },
  {
   "cell_type": "code",
   "execution_count": 17,
   "id": "cb91db8d",
   "metadata": {},
   "outputs": [
    {
     "name": "stdout",
     "output_type": "stream",
     "text": [
      "Employee Name Prashant\n",
      "Company Name Zensar\n",
      "Salary 50000\n",
      "Designation Data Scientist\n"
     ]
    }
   ],
   "source": [
    "for key, value in employee_data.items():\n",
    "    print(key,value)"
   ]
  },
  {
   "cell_type": "markdown",
   "id": "6d276f7a",
   "metadata": {},
   "source": [
    "### access keys from dictionary"
   ]
  },
  {
   "cell_type": "code",
   "execution_count": 18,
   "id": "11c299c7",
   "metadata": {},
   "outputs": [
    {
     "name": "stdout",
     "output_type": "stream",
     "text": [
      "Key is : Employee Name\n",
      "Key is : Company Name\n",
      "Key is : Salary\n",
      "Key is : Designation\n"
     ]
    }
   ],
   "source": [
    "for key in employee_data.keys():\n",
    "    print(\"Key is :\",key)"
   ]
  },
  {
   "cell_type": "code",
   "execution_count": 19,
   "id": "dc628e22",
   "metadata": {},
   "outputs": [
    {
     "name": "stdout",
     "output_type": "stream",
     "text": [
      "Key is : Employee Name\n",
      "Key is : Company Name\n",
      "Key is : Salary\n",
      "Key is : Designation\n"
     ]
    }
   ],
   "source": [
    "for key in employee_data:\n",
    "    print(\"Key is :\",key)"
   ]
  },
  {
   "cell_type": "markdown",
   "id": "13f7502a",
   "metadata": {},
   "source": [
    "### access values from dictionary"
   ]
  },
  {
   "cell_type": "code",
   "execution_count": 20,
   "id": "1559bbde",
   "metadata": {},
   "outputs": [
    {
     "name": "stdout",
     "output_type": "stream",
     "text": [
      "value is : Prashant\n",
      "value is : Zensar\n",
      "value is : 50000\n",
      "value is : Data Scientist\n"
     ]
    }
   ],
   "source": [
    "for value in employee_data.values():\n",
    "    print(\"value is :\",value)"
   ]
  },
  {
   "cell_type": "code",
   "execution_count": 21,
   "id": "072ba9e3",
   "metadata": {},
   "outputs": [
    {
     "data": {
      "text/plain": [
       "dict_values(['Prashant', 'Zensar', 50000, 'Data Scientist'])"
      ]
     },
     "execution_count": 21,
     "metadata": {},
     "output_type": "execute_result"
    }
   ],
   "source": [
    "employee_data.values()"
   ]
  },
  {
   "cell_type": "markdown",
   "id": "4126550b",
   "metadata": {},
   "source": [
    "### access keys and values from dictionary"
   ]
  },
  {
   "cell_type": "code",
   "execution_count": 22,
   "id": "4f05b64d",
   "metadata": {},
   "outputs": [
    {
     "data": {
      "text/plain": [
       "dict_items([('Employee Name', 'Prashant'), ('Company Name', 'Zensar'), ('Salary', 50000), ('Designation', 'Data Scientist')])"
      ]
     },
     "execution_count": 22,
     "metadata": {},
     "output_type": "execute_result"
    }
   ],
   "source": [
    "employee_data.items()"
   ]
  },
  {
   "cell_type": "markdown",
   "id": "74e135e4",
   "metadata": {},
   "source": [
    "### add items to dictionary"
   ]
  },
  {
   "cell_type": "code",
   "execution_count": 23,
   "id": "4aceb4c4",
   "metadata": {},
   "outputs": [],
   "source": [
    "stud_marks = {  'A': 60,\n",
    "                'B': 80,\n",
    "                \"C\": 80,\n",
    "                'D': 75}"
   ]
  },
  {
   "cell_type": "code",
   "execution_count": 24,
   "id": "dff8f966",
   "metadata": {},
   "outputs": [
    {
     "name": "stdout",
     "output_type": "stream",
     "text": [
      "{'A': 60, 'B': 80, 'C': 80, 'D': 75, 'E': 90}\n"
     ]
    }
   ],
   "source": [
    "stud_marks['E'] = 90\n",
    "print(stud_marks)"
   ]
  },
  {
   "cell_type": "markdown",
   "id": "87489f4b",
   "metadata": {},
   "source": [
    "### update()"
   ]
  },
  {
   "cell_type": "code",
   "execution_count": 25,
   "id": "69265def",
   "metadata": {},
   "outputs": [
    {
     "name": "stdout",
     "output_type": "stream",
     "text": [
      "{'Employee Name': 'Prashant', 'Company Name': 'Zensar', 'Salary': 50000, 'Designation': 'Data Scientist', 'Company Location': 'Mumbai', 'Age': 30, 'Employee ID': 'ZS1001'} 7\n"
     ]
    }
   ],
   "source": [
    "employee_data = {'Employee Name': \"Prashant\",\n",
    "                'Company Name': 'Zensar',\n",
    "                \"Salary\": 50000,\n",
    "                'Designation' : \"Data Scientist\"}\n",
    "\n",
    "new_data = {'Company Location' : 'Mumbai',\n",
    "           'Age': 30,\n",
    "           'Employee ID' : 'ZS1001'}\n",
    "\n",
    "employee_data.update(new_data)\n",
    "print(employee_data,len(employee_data))"
   ]
  },
  {
   "cell_type": "code",
   "execution_count": 36,
   "id": "6ee8122f",
   "metadata": {},
   "outputs": [
    {
     "name": "stdout",
     "output_type": "stream",
     "text": [
      "{'A': 65, 'B': 66, 'C': 67, 'D': 68, 'E': 69, 'F': 70, 'G': 71, 'H': 72, 'I': 73, 'J': 74, 'K': 75, 'L': 76, 'M': 77, 'N': 78, 'O': 79, 'P': 80, 'Q': 81, 'R': 82, 'S': 83, 'T': 84, 'U': 85, 'V': 86, 'W': 87, 'X': 88, 'Y': 89, 'Z': 90}\n",
      "\n",
      " {'a': 97, 'b': 98, 'c': 99, 'd': 100, 'e': 101, 'f': 102, 'g': 103, 'h': 104, 'i': 105, 'j': 106, 'k': 107, 'l': 108, 'm': 109, 'n': 110, 'o': 111, 'p': 112, 'q': 113, 'r': 114, 's': 115, 't': 116, 'u': 117, 'v': 118, 'w': 119, 'x': 120, 'y': 121, 'z': 122}\n"
     ]
    }
   ],
   "source": [
    "ascii_upper = {}\n",
    "ascii_lower = {}\n",
    "\n",
    "for i in range(65,91):\n",
    "    ascii_upper.update({chr(i) : i })\n",
    "    \n",
    "for i in range(97,123):\n",
    "    ascii_lower[chr(i)]=i\n",
    "    \n",
    "print(ascii_upper)\n",
    "print(\"\\n\",ascii_lower)"
   ]
  },
  {
   "cell_type": "markdown",
   "id": "fe998721",
   "metadata": {},
   "source": [
    "### delete items from dictionary"
   ]
  },
  {
   "cell_type": "code",
   "execution_count": null,
   "id": "56d56e00",
   "metadata": {},
   "outputs": [],
   "source": [
    "1. pop\n",
    "2. popitem\n",
    "3. clear\n",
    "4. del"
   ]
  },
  {
   "cell_type": "markdown",
   "id": "6c10e8d9",
   "metadata": {},
   "source": [
    "#### 1.dict.pop()"
   ]
  },
  {
   "cell_type": "code",
   "execution_count": null,
   "id": "b75f4191",
   "metadata": {},
   "outputs": [],
   "source": [
    "dict.pop(key)"
   ]
  },
  {
   "cell_type": "code",
   "execution_count": 26,
   "id": "5f19b1ef",
   "metadata": {},
   "outputs": [
    {
     "data": {
      "text/plain": [
       "{'Employee Name': 'Prashant',\n",
       " 'Company Name': 'Zensar',\n",
       " 'Designation': 'Data Scientist'}"
      ]
     },
     "execution_count": 26,
     "metadata": {},
     "output_type": "execute_result"
    }
   ],
   "source": [
    "d1 = {'Employee Name': \"Prashant\",\n",
    "        'Company Name': 'Zensar',\n",
    "        \"Salary\": 50000,\n",
    "        'Designation' : \"Data Scientist\"}\n",
    "\n",
    "d1.pop('Salary')\n",
    "d1"
   ]
  },
  {
   "cell_type": "markdown",
   "id": "20faf95c",
   "metadata": {},
   "source": [
    "#### 2. popitem()"
   ]
  },
  {
   "cell_type": "code",
   "execution_count": null,
   "id": "dfefcfaa",
   "metadata": {},
   "outputs": [],
   "source": [
    "Remove last inserted item"
   ]
  },
  {
   "cell_type": "code",
   "execution_count": 27,
   "id": "173a9267",
   "metadata": {},
   "outputs": [
    {
     "data": {
      "text/plain": [
       "('Designation', 'Data Scientist')"
      ]
     },
     "execution_count": 27,
     "metadata": {},
     "output_type": "execute_result"
    }
   ],
   "source": [
    "d1.popitem()"
   ]
  },
  {
   "cell_type": "code",
   "execution_count": 28,
   "id": "e1314122",
   "metadata": {},
   "outputs": [
    {
     "data": {
      "text/plain": [
       "{'Employee Name': 'Prashant', 'Company Name': 'Zensar'}"
      ]
     },
     "execution_count": 28,
     "metadata": {},
     "output_type": "execute_result"
    }
   ],
   "source": [
    "d1"
   ]
  },
  {
   "cell_type": "markdown",
   "id": "f331aee7",
   "metadata": {},
   "source": [
    "#### 3.clear()"
   ]
  },
  {
   "cell_type": "code",
   "execution_count": 29,
   "id": "1f85fbf1",
   "metadata": {},
   "outputs": [],
   "source": [
    "d1.clear()"
   ]
  },
  {
   "cell_type": "code",
   "execution_count": 30,
   "id": "83ce6437",
   "metadata": {},
   "outputs": [
    {
     "data": {
      "text/plain": [
       "{}"
      ]
     },
     "execution_count": 30,
     "metadata": {},
     "output_type": "execute_result"
    }
   ],
   "source": [
    "d1"
   ]
  },
  {
   "cell_type": "markdown",
   "id": "4c6b7320",
   "metadata": {},
   "source": [
    "#### 4.del keyword"
   ]
  },
  {
   "cell_type": "code",
   "execution_count": 31,
   "id": "57874b22",
   "metadata": {},
   "outputs": [
    {
     "data": {
      "text/plain": [
       "{'Employee Name': 'Prashant',\n",
       " 'Company Name': 'Zensar',\n",
       " 'Salary': 50000,\n",
       " 'Designation': 'Data Scientist',\n",
       " 'Company Location': 'Mumbai',\n",
       " 'Age': 30,\n",
       " 'Employee ID': 'ZS1001'}"
      ]
     },
     "execution_count": 31,
     "metadata": {},
     "output_type": "execute_result"
    }
   ],
   "source": [
    "employee_data"
   ]
  },
  {
   "cell_type": "code",
   "execution_count": 32,
   "id": "65eb8034",
   "metadata": {},
   "outputs": [],
   "source": [
    "del employee_data['Age']"
   ]
  },
  {
   "cell_type": "code",
   "execution_count": 33,
   "id": "e1654706",
   "metadata": {},
   "outputs": [
    {
     "data": {
      "text/plain": [
       "{'Employee Name': 'Prashant',\n",
       " 'Company Name': 'Zensar',\n",
       " 'Salary': 50000,\n",
       " 'Designation': 'Data Scientist',\n",
       " 'Company Location': 'Mumbai',\n",
       " 'Employee ID': 'ZS1001'}"
      ]
     },
     "execution_count": 33,
     "metadata": {},
     "output_type": "execute_result"
    }
   ],
   "source": [
    "employee_data"
   ]
  },
  {
   "cell_type": "markdown",
   "id": "e94325d8",
   "metadata": {},
   "source": [
    "### application"
   ]
  },
  {
   "cell_type": "code",
   "execution_count": 35,
   "id": "af2b6ffa",
   "metadata": {},
   "outputs": [
    {
     "name": "stdout",
     "output_type": "stream",
     "text": [
      "{1: 1, 2: 4, 3: 9, 4: 16, 5: 25, 6: 36, 7: 49, 8: 64, 9: 81, 10: 100}\n"
     ]
    }
   ],
   "source": [
    "#square of first 10 natural numbers\n",
    "\n",
    "square={}\n",
    "\n",
    "for i in range(1,11):\n",
    "    square[i]=i**2\n",
    "print(square)"
   ]
  },
  {
   "cell_type": "markdown",
   "id": "27a9682e",
   "metadata": {},
   "source": [
    "### Nested Dictionary"
   ]
  },
  {
   "cell_type": "code",
   "execution_count": 37,
   "id": "68b8f438",
   "metadata": {},
   "outputs": [
    {
     "name": "stdout",
     "output_type": "stream",
     "text": [
      "{'CG0001': {'Employee Name': 'Sagar', 'Salary': 70000, 'Designation': 'Python Developer'}, 'CG0002': {'Employee Name': 'Akash', 'Salary': 80000, 'Designation': 'Data Scientist'}, 'CG0003': {'Employee Name': 'Ajay', 'Salary': 60000, 'Designation': 'ML Developer'}} 3\n"
     ]
    }
   ],
   "source": [
    "emp_details = {'CG0001' : {'Employee Name': 'Sagar',\n",
    "                              'Salary': 70000,\n",
    "                              'Designation':'Python Developer'},\n",
    "              'CG0002':   {'Employee Name': 'Akash',\n",
    "                              'Salary': 80000,\n",
    "                              'Designation':'Data Scientist'},\n",
    "              'CG0003':   {'Employee Name': 'Ajay',\n",
    "                              'Salary': 60000,\n",
    "                              'Designation':'ML Developer'}}\n",
    "\n",
    "print(emp_details,len(emp_details))"
   ]
  },
  {
   "cell_type": "code",
   "execution_count": 38,
   "id": "7c147ede",
   "metadata": {},
   "outputs": [
    {
     "data": {
      "text/plain": [
       "'ML Developer'"
      ]
     },
     "execution_count": 38,
     "metadata": {},
     "output_type": "execute_result"
    }
   ],
   "source": [
    "emp_details['CG0003']['Designation']"
   ]
  },
  {
   "cell_type": "code",
   "execution_count": 39,
   "id": "cf427527",
   "metadata": {},
   "outputs": [
    {
     "name": "stdout",
     "output_type": "stream",
     "text": [
      "{'CG0001': {'Employee Name': 'Sagar', 'Salary': 70000, 'Designation': 'Python Developer'}, 'CG0002': {'Employee Name': 'Akash', 'Salary': 80000, 'Designation': 'Data Scientist'}, 'CG0003': {'Employee Name': 'Ajay', 'Salary': [60000, 80000, 90000], 'Designation': 'ML Developer'}} 3\n"
     ]
    }
   ],
   "source": [
    "emp_details = {'CG0001' : {'Employee Name': 'Sagar',\n",
    "                              'Salary': 70000,\n",
    "                              'Designation':'Python Developer'},\n",
    "              'CG0002':   {'Employee Name': 'Akash',\n",
    "                              'Salary': 80000,\n",
    "                              'Designation':'Data Scientist'},\n",
    "              'CG0003':   {'Employee Name': 'Ajay',\n",
    "                              'Salary': [60000,80000,90000],\n",
    "                              'Designation':'ML Developer'}}\n",
    "\n",
    "print(emp_details,len(emp_details))"
   ]
  },
  {
   "cell_type": "code",
   "execution_count": 40,
   "id": "01f78271",
   "metadata": {},
   "outputs": [
    {
     "data": {
      "text/plain": [
       "90000"
      ]
     },
     "execution_count": 40,
     "metadata": {},
     "output_type": "execute_result"
    }
   ],
   "source": [
    "emp_details['CG0003']['Salary'][-1]"
   ]
  },
  {
   "cell_type": "code",
   "execution_count": 41,
   "id": "ea9f847f",
   "metadata": {},
   "outputs": [
    {
     "data": {
      "text/plain": [
       "'Pune'"
      ]
     },
     "execution_count": 41,
     "metadata": {},
     "output_type": "execute_result"
    }
   ],
   "source": [
    "emp_details = {'CG0001' : {'Employee Name': 'Sagar',\n",
    "                              'Salary': 70000,\n",
    "                              'Designation':'Python Developer'},\n",
    "               \n",
    "              'CG0002':   {'Employee Name': 'Akash',\n",
    "                              'Salary': 80000,\n",
    "                              'Designation':'Data Scientist',\n",
    "                          'Location':{\"State\":\"Maharashtra\",'City':'Pune'}},\n",
    "               \n",
    "              'CG0003':   {'Employee Name': 'Ajay',\n",
    "                              'Salary': [60000,80000,90000],\n",
    "                              'Designation':'ML Developer'}}\n",
    "\n",
    "emp_details['CG0002']['Location']['City']"
   ]
  },
  {
   "cell_type": "code",
   "execution_count": 42,
   "id": "baba4abb",
   "metadata": {},
   "outputs": [
    {
     "data": {
      "text/plain": [
       "{'CG0001': {'Employee Name': 'Sagar',\n",
       "  'Salary': 70000,\n",
       "  'Designation': 'Python Developer'},\n",
       " 'CG0002': {'Employee Name': 'Akash',\n",
       "  'Salary': 80000,\n",
       "  'Designation': 'Data Scientist',\n",
       "  'Location': {'State': 'Maharashtra', 'City': 'Mumbai'}},\n",
       " 'CG0003': {'Employee Name': 'Ajay',\n",
       "  'Salary': [60000, 80000, 90000],\n",
       "  'Designation': 'ML Developer'}}"
      ]
     },
     "execution_count": 42,
     "metadata": {},
     "output_type": "execute_result"
    }
   ],
   "source": [
    "emp_details = {'CG0001' : {'Employee Name': 'Sagar',\n",
    "                              'Salary': 70000,\n",
    "                              'Designation':'Python Developer'},\n",
    "               \n",
    "              'CG0002':   {'Employee Name': 'Akash',\n",
    "                              'Salary': 80000,\n",
    "                              'Designation':'Data Scientist',\n",
    "                          'Location':{\"State\":\"Maharashtra\",'City':'Pune'}},\n",
    "               \n",
    "              'CG0003':   {'Employee Name': 'Ajay',\n",
    "                              'Salary': [60000,80000,90000],\n",
    "                              'Designation':'ML Developer'}}\n",
    "\n",
    "emp_details['CG0002']['Location']['City'] = 'Mumbai'\n",
    "emp_details"
   ]
  },
  {
   "cell_type": "code",
   "execution_count": 43,
   "id": "2e4e8973",
   "metadata": {},
   "outputs": [
    {
     "name": "stdout",
     "output_type": "stream",
     "text": [
      "{'Phy': 85, 'Che': 85, 'Math': 85, 'Eng': 85, 'Bio': 85}\n"
     ]
    }
   ],
   "source": [
    "subject = ['Phy','Che','Math','Eng','Bio']\n",
    "marks =   [90, 89, 93, 92, 85]\n",
    "\n",
    "x = {}\n",
    "\n",
    "for i in subject:\n",
    "    for s in marks:\n",
    "        x[i]=s\n",
    "print(x)"
   ]
  },
  {
   "cell_type": "markdown",
   "id": "70398ff0",
   "metadata": {},
   "source": [
    "### Sort dictionary"
   ]
  },
  {
   "cell_type": "markdown",
   "id": "71257119",
   "metadata": {},
   "source": [
    "#### 1. sort using key"
   ]
  },
  {
   "cell_type": "code",
   "execution_count": 46,
   "id": "e7489541",
   "metadata": {},
   "outputs": [
    {
     "name": "stdout",
     "output_type": "stream",
     "text": [
      "Bio\n",
      "Che\n",
      "Eng\n",
      "Math\n",
      "Phy\n"
     ]
    }
   ],
   "source": [
    "result = {'Phy': 90, 'Che': 89, 'Math': 93, 'Eng': 92, 'Bio': 85}\n",
    "new_result={}\n",
    "sorted_keys=sorted(result.keys())\n",
    "\n",
    "for sub in sorted_keys:\n",
    "    print(sub)"
   ]
  },
  {
   "cell_type": "code",
   "execution_count": 48,
   "id": "4a425f9f",
   "metadata": {},
   "outputs": [
    {
     "name": "stdout",
     "output_type": "stream",
     "text": [
      "sorted_keys : ['Bio', 'Che', 'Eng', 'Math', 'Phy']\n",
      "new_result : {'Bio': 85, 'Che': 89, 'Eng': 92, 'Math': 93, 'Phy': 90}\n"
     ]
    }
   ],
   "source": [
    "result = {'Phy': 90, 'Che': 89, 'Math': 93, 'Eng': 92, 'Bio': 85}\n",
    "new_result = {}\n",
    "sorted_keys = sorted(result.keys())\n",
    "print('sorted_keys :',sorted_keys)\n",
    "for sub in sorted_keys:\n",
    "    new_result.update({sub : result[sub]})\n",
    "print(\"new_result :\",new_result)"
   ]
  },
  {
   "cell_type": "markdown",
   "id": "80a1f3f8",
   "metadata": {},
   "source": [
    "#### 2. sort using values"
   ]
  },
  {
   "cell_type": "code",
   "execution_count": 74,
   "id": "ce192b05",
   "metadata": {},
   "outputs": [
    {
     "name": "stdout",
     "output_type": "stream",
     "text": [
      "{'Bio': 85, 'Che': 89, 'Phy': 90, 'Eng': 92, 'Math': 93}\n"
     ]
    }
   ],
   "source": [
    "result = {'Phy': 90, 'Che': 89, 'Math': 93, 'Eng': 92, 'Bio': 85}\n",
    "\n",
    "new_results={}\n",
    "\n",
    "for marks in sorted(result.values()):\n",
    "        for sub_name in result:\n",
    "            if result[sub_name]==marks:\n",
    "                new_results.update({sub_name:marks})\n",
    "                break\n",
    "        \n",
    "print(new_results)"
   ]
  },
  {
   "cell_type": "markdown",
   "id": "4363cb05",
   "metadata": {},
   "source": [
    "### fromkeys"
   ]
  },
  {
   "cell_type": "code",
   "execution_count": null,
   "id": "2ed073c1",
   "metadata": {},
   "outputs": [],
   "source": [
    "dict.fromkeys(sequence, [val])\n"
   ]
  },
  {
   "cell_type": "code",
   "execution_count": 75,
   "id": "e71eeaef",
   "metadata": {},
   "outputs": [
    {
     "data": {
      "text/plain": [
       "{'A': None, 'B': None, 'C': None, 'D': None}"
      ]
     },
     "execution_count": 75,
     "metadata": {},
     "output_type": "execute_result"
    }
   ],
   "source": [
    "result = dict.fromkeys(['A','B','C','D'])\n",
    "result"
   ]
  },
  {
   "cell_type": "code",
   "execution_count": 76,
   "id": "804da4c2",
   "metadata": {},
   "outputs": [
    {
     "data": {
      "text/plain": [
       "{'A': 'python', 'B': 'python', 'C': 'python', 'D': 'python'}"
      ]
     },
     "execution_count": 76,
     "metadata": {},
     "output_type": "execute_result"
    }
   ],
   "source": [
    "result = dict.fromkeys(['A','B','C','D'],'python')\n",
    "result"
   ]
  },
  {
   "cell_type": "markdown",
   "id": "12e3e7b3",
   "metadata": {},
   "source": [
    "### setdefault()"
   ]
  },
  {
   "cell_type": "code",
   "execution_count": null,
   "id": "3f9a45da",
   "metadata": {},
   "outputs": [],
   "source": [
    "Return a value with specifed key"
   ]
  },
  {
   "cell_type": "code",
   "execution_count": 77,
   "id": "b143dc8f",
   "metadata": {},
   "outputs": [
    {
     "data": {
      "text/plain": [
       "90"
      ]
     },
     "execution_count": 77,
     "metadata": {},
     "output_type": "execute_result"
    }
   ],
   "source": [
    "result = {'Phy': 90, 'Che': 89, 'Math': 93, 'Eng': 89, 'Bio': 85}\n",
    "result.setdefault('Phy')"
   ]
  },
  {
   "cell_type": "code",
   "execution_count": 78,
   "id": "e6dd8658",
   "metadata": {},
   "outputs": [
    {
     "data": {
      "text/plain": [
       "{'Phy': 90, 'Che': 89, 'Math': 93, 'Eng': 89, 'Bio': 85, 'PHYSICS': None}"
      ]
     },
     "execution_count": 78,
     "metadata": {},
     "output_type": "execute_result"
    }
   ],
   "source": [
    "result = {'Phy': 90, 'Che': 89, 'Math': 93, 'Eng': 89, 'Bio': 85}\n",
    "result.setdefault('PHYSICS')\n",
    "result"
   ]
  },
  {
   "cell_type": "markdown",
   "id": "8850edb0",
   "metadata": {},
   "source": [
    "### copy()"
   ]
  },
  {
   "cell_type": "code",
   "execution_count": 80,
   "id": "b9cae0f5",
   "metadata": {},
   "outputs": [
    {
     "name": "stdout",
     "output_type": "stream",
     "text": [
      "{'Phy': 90, 'Che': 89, 'Math': 93, 'Eng': 89, 'Bio': 85, 'DS': 100}\n",
      "{'Phy': 90, 'Che': 89, 'Math': 93, 'Eng': 89, 'Bio': 85, 'DS': 100}\n"
     ]
    }
   ],
   "source": [
    "d1 = {'Phy': 90, 'Che': 89, 'Math': 93, 'Eng': 89, 'Bio': 85}\n",
    "d2 = d1\n",
    "d2['DS'] = 100\n",
    "print(d2)\n",
    "print(d1)"
   ]
  },
  {
   "cell_type": "code",
   "execution_count": 81,
   "id": "2f98fc70",
   "metadata": {},
   "outputs": [
    {
     "name": "stdout",
     "output_type": "stream",
     "text": [
      "{'Phy': 90, 'Che': 89, 'Math': 93, 'Eng': 89, 'Bio': 85}\n",
      "{'Phy': 90, 'Che': 89, 'Math': 93, 'Eng': 89, 'Bio': 85, 'DS': 100}\n"
     ]
    }
   ],
   "source": [
    "d1 = {'Phy': 90, 'Che': 89, 'Math': 93, 'Eng': 89, 'Bio': 85}\n",
    "d2 = d1.copy()\n",
    "d2['DS'] = 100\n",
    "print(d1)\n",
    "print(d2)"
   ]
  },
  {
   "cell_type": "code",
   "execution_count": null,
   "id": "e43ce092",
   "metadata": {},
   "outputs": [],
   "source": [
    "#end"
   ]
  }
 ],
 "metadata": {
  "kernelspec": {
   "display_name": "Python 3 (ipykernel)",
   "language": "python",
   "name": "python3"
  },
  "language_info": {
   "codemirror_mode": {
    "name": "ipython",
    "version": 3
   },
   "file_extension": ".py",
   "mimetype": "text/x-python",
   "name": "python",
   "nbconvert_exporter": "python",
   "pygments_lexer": "ipython3",
   "version": "3.9.7"
  }
 },
 "nbformat": 4,
 "nbformat_minor": 5
}
