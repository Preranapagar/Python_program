{
 "cells": [
  {
   "cell_type": "markdown",
   "id": "dbe3dbf1",
   "metadata": {},
   "source": [
    "# <span style='color:purple '> File Handling </span>"
   ]
  },
  {
   "cell_type": "markdown",
   "id": "3aa25ed8",
   "metadata": {},
   "source": [
    "File Operations :\n",
    "   * Read\n",
    "   * Write\n",
    "   * Append"
   ]
  },
  {
   "cell_type": "code",
   "execution_count": null,
   "id": "78b029b4",
   "metadata": {},
   "outputs": [],
   "source": [
    "Mode of Operations :"
   ]
  }
 ],
 "metadata": {
  "kernelspec": {
   "display_name": "Python 3 (ipykernel)",
   "language": "python",
   "name": "python3"
  },
  "language_info": {
   "codemirror_mode": {
    "name": "ipython",
    "version": 3
   },
   "file_extension": ".py",
   "mimetype": "text/x-python",
   "name": "python",
   "nbconvert_exporter": "python",
   "pygments_lexer": "ipython3",
   "version": "3.9.7"
  }
 },
 "nbformat": 4,
 "nbformat_minor": 5
}
