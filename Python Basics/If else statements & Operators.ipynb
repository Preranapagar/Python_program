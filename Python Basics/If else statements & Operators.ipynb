{
 "cells": [
  {
   "cell_type": "markdown",
   "id": "dca5a01e",
   "metadata": {},
   "source": [
    "## If else statements"
   ]
  },
  {
   "cell_type": "markdown",
   "id": "dc7d3939",
   "metadata": {},
   "source": [
    "Decision making statements"
   ]
  },
  {
   "cell_type": "code",
   "execution_count": null,
   "id": "88d7d419",
   "metadata": {},
   "outputs": [],
   "source": [
    "if condition1:#true or false\n",
    "    block of code\n",
    "    statement1\n",
    "    statement2\n",
    "\n",
    "elif condition2: #true or false\n",
    "    block of code\n",
    "    statement3\n",
    "    statement4\n",
    "    \n",
    "else:\n",
    "    statement5"
   ]
  },
  {
   "cell_type": "markdown",
   "id": "a0991e87",
   "metadata": {},
   "source": [
    "#### Valid syntax of if else statements"
   ]
  },
  {
   "cell_type": "code",
   "execution_count": null,
   "id": "61f76ab2",
   "metadata": {},
   "outputs": [],
   "source": [
    "if \n",
    "if >> else\n",
    "if >> elif \n",
    "if >> elif >> elif\n",
    "if >> elif >> else\n",
    "if >> elif >> elif  >> else"
   ]
  },
  {
   "cell_type": "code",
   "execution_count": 3,
   "id": "0b58c0a9",
   "metadata": {},
   "outputs": [
    {
     "name": "stdout",
     "output_type": "stream",
     "text": [
      "String is not in lower case\n"
     ]
    }
   ],
   "source": [
    "string='Machine Learning'\n",
    "\n",
    "if string.islower(): #false\n",
    "    print('String is in lower case')\n",
    "\n",
    "else:\n",
    "    print('String is not in lower case')"
   ]
  },
  {
   "cell_type": "code",
   "execution_count": 4,
   "id": "f2686de9",
   "metadata": {},
   "outputs": [
    {
     "name": "stdout",
     "output_type": "stream",
     "text": [
      "String is in lower case\n"
     ]
    }
   ],
   "source": [
    "string='machine learning'\n",
    "\n",
    "if string.islower(): #true\n",
    "    print('String is in lower case')\n",
    "\n",
    "else:\n",
    "    print('String is not in lower case')"
   ]
  },
  {
   "cell_type": "code",
   "execution_count": 5,
   "id": "d7bf9835",
   "metadata": {},
   "outputs": [
    {
     "name": "stdout",
     "output_type": "stream",
     "text": [
      "String is in title case\n"
     ]
    }
   ],
   "source": [
    "string='Data Science'\n",
    "    \n",
    "if string.islower(): #false\n",
    "    print('String is in lower case')\n",
    "\n",
    "elif string.isupper(): #false\n",
    "    print('String is in upper case')\n",
    "    \n",
    "elif string.istitle(): #true\n",
    "    print('String is in title case')\n",
    "    \n",
    "else:\n",
    "    print('String is numeric or symbolic')"
   ]
  },
  {
   "cell_type": "markdown",
   "id": "97628afc",
   "metadata": {},
   "source": [
    "## Operators"
   ]
  },
  {
   "cell_type": "markdown",
   "id": "9260afb3",
   "metadata": {},
   "source": [
    "#### 1.Comparison Operators"
   ]
  },
  {
   "cell_type": "code",
   "execution_count": null,
   "id": "f4c404f4",
   "metadata": {},
   "outputs": [],
   "source": [
    "a == b     # Equal operator\n",
    "a != b     # Not Equal\n",
    "a > b      # greater than\n",
    "a < b      # less than\n",
    "a >= b     # greater than or equal\n",
    "a <= b     # less than or equal"
   ]
  },
  {
   "cell_type": "code",
   "execution_count": 6,
   "id": "3c09f209",
   "metadata": {},
   "outputs": [
    {
     "data": {
      "text/plain": [
       "False"
      ]
     },
     "execution_count": 6,
     "metadata": {},
     "output_type": "execute_result"
    }
   ],
   "source": [
    "a=13\n",
    "b=13\n",
    "\n",
    "a!=b"
   ]
  },
  {
   "cell_type": "code",
   "execution_count": 7,
   "id": "e7ee13f0",
   "metadata": {},
   "outputs": [
    {
     "data": {
      "text/plain": [
       "True"
      ]
     },
     "execution_count": 7,
     "metadata": {},
     "output_type": "execute_result"
    }
   ],
   "source": [
    "a='python'\n",
    "b='python'\n",
    "\n",
    "a==b"
   ]
  },
  {
   "cell_type": "code",
   "execution_count": 8,
   "id": "5836df7f",
   "metadata": {},
   "outputs": [
    {
     "name": "stdout",
     "output_type": "stream",
     "text": [
      "34\n",
      "65\n",
      "b is greater than a\n"
     ]
    }
   ],
   "source": [
    "a=int(input())\n",
    "b=int(input())\n",
    "\n",
    "if a>b:\n",
    "    print('a is greater than b')\n",
    "\n",
    "elif a==b:\n",
    "    print('a is equal to b')\n",
    "    \n",
    "else:\n",
    "    print('b is greater than a')"
   ]
  },
  {
   "cell_type": "code",
   "execution_count": 9,
   "id": "6a6da277",
   "metadata": {},
   "outputs": [
    {
     "name": "stdout",
     "output_type": "stream",
     "text": [
      "21\n",
      "20\n",
      "a is greater than b\n"
     ]
    }
   ],
   "source": [
    "a=int(input())\n",
    "b=int(input())\n",
    "\n",
    "if a>b:\n",
    "    print('a is greater than b')\n",
    "\n",
    "elif a==b:\n",
    "    print('a is equal to b')\n",
    "    \n",
    "else:\n",
    "    print('b is greater than a')"
   ]
  },
  {
   "cell_type": "code",
   "execution_count": 10,
   "id": "dad8e56b",
   "metadata": {},
   "outputs": [
    {
     "name": "stdout",
     "output_type": "stream",
     "text": [
      "20\n",
      "20\n",
      "a is equal to b\n"
     ]
    }
   ],
   "source": [
    "a=int(input())\n",
    "b=int(input())\n",
    "\n",
    "if a>b:\n",
    "    print('a is greater than b')\n",
    "\n",
    "elif a==b:\n",
    "    print('a is equal to b')\n",
    "    \n",
    "else:\n",
    "    print('b is greater than a')"
   ]
  },
  {
   "cell_type": "code",
   "execution_count": 11,
   "id": "841a8af1",
   "metadata": {},
   "outputs": [
    {
     "name": "stdout",
     "output_type": "stream",
     "text": [
      "a is less than or equal to b\n"
     ]
    }
   ],
   "source": [
    "a = 40\n",
    "b = 40.0\n",
    "if a <= b: # True\n",
    "    print(\"a is less than or equal to b\")\n",
    "    \n",
    "elif a > b:\n",
    "    print(\"a is greater than b\")"
   ]
  },
  {
   "cell_type": "markdown",
   "id": "573d48e2",
   "metadata": {},
   "source": [
    "#### 2. Logical operators"
   ]
  },
  {
   "cell_type": "code",
   "execution_count": null,
   "id": "ec2cbc96",
   "metadata": {},
   "outputs": [],
   "source": [
    "1. and operator\n",
    "2. or operator\n",
    "\n",
    "\n",
    "1. and operator :\n",
    "True and True   >> True\n",
    "True and False  >> False\n",
    "False and True  >> False\n",
    "False and False >> False\n",
    "\n",
    "2. or operator:\n",
    "True or True   >> True\n",
    "True or False  >> True\n",
    "False or True  >> True\n",
    "False or False >> False"
   ]
  },
  {
   "cell_type": "code",
   "execution_count": 12,
   "id": "d65f5896",
   "metadata": {},
   "outputs": [],
   "source": [
    "a=20\n",
    "b=30\n",
    "c=40"
   ]
  },
  {
   "cell_type": "code",
   "execution_count": 15,
   "id": "b70b3108",
   "metadata": {},
   "outputs": [
    {
     "data": {
      "text/plain": [
       "True"
      ]
     },
     "execution_count": 15,
     "metadata": {},
     "output_type": "execute_result"
    }
   ],
   "source": [
    "b>a"
   ]
  },
  {
   "cell_type": "code",
   "execution_count": 14,
   "id": "9f6ef31b",
   "metadata": {},
   "outputs": [
    {
     "data": {
      "text/plain": [
       "True"
      ]
     },
     "execution_count": 14,
     "metadata": {},
     "output_type": "execute_result"
    }
   ],
   "source": [
    "c>b"
   ]
  },
  {
   "cell_type": "code",
   "execution_count": 16,
   "id": "ea3234d8",
   "metadata": {},
   "outputs": [
    {
     "data": {
      "text/plain": [
       "True"
      ]
     },
     "execution_count": 16,
     "metadata": {},
     "output_type": "execute_result"
    }
   ],
   "source": [
    "b>a and c>b #true and true is true"
   ]
  },
  {
   "cell_type": "code",
   "execution_count": 17,
   "id": "d02adda7",
   "metadata": {},
   "outputs": [
    {
     "data": {
      "text/plain": [
       "False"
      ]
     },
     "execution_count": 17,
     "metadata": {},
     "output_type": "execute_result"
    }
   ],
   "source": [
    "b>a and c<b #true and false is false"
   ]
  },
  {
   "cell_type": "code",
   "execution_count": 18,
   "id": "a20dbbd8",
   "metadata": {},
   "outputs": [
    {
     "data": {
      "text/plain": [
       "False"
      ]
     },
     "execution_count": 18,
     "metadata": {},
     "output_type": "execute_result"
    }
   ],
   "source": [
    "b<a and c>b #false and true is false"
   ]
  },
  {
   "cell_type": "code",
   "execution_count": 19,
   "id": "0f371586",
   "metadata": {},
   "outputs": [
    {
     "data": {
      "text/plain": [
       "False"
      ]
     },
     "execution_count": 19,
     "metadata": {},
     "output_type": "execute_result"
    }
   ],
   "source": [
    "b<a and c<b #false and false is false"
   ]
  },
  {
   "cell_type": "code",
   "execution_count": 20,
   "id": "45fbce42",
   "metadata": {},
   "outputs": [
    {
     "data": {
      "text/plain": [
       "True"
      ]
     },
     "execution_count": 20,
     "metadata": {},
     "output_type": "execute_result"
    }
   ],
   "source": [
    "b>a or c>b #true or true is true"
   ]
  },
  {
   "cell_type": "code",
   "execution_count": 21,
   "id": "10ea8797",
   "metadata": {},
   "outputs": [
    {
     "data": {
      "text/plain": [
       "True"
      ]
     },
     "execution_count": 21,
     "metadata": {},
     "output_type": "execute_result"
    }
   ],
   "source": [
    "b>a or c<b #true or false is true"
   ]
  },
  {
   "cell_type": "code",
   "execution_count": 22,
   "id": "9d680233",
   "metadata": {},
   "outputs": [
    {
     "data": {
      "text/plain": [
       "True"
      ]
     },
     "execution_count": 22,
     "metadata": {},
     "output_type": "execute_result"
    }
   ],
   "source": [
    "b<a or c>b #false or true is true"
   ]
  },
  {
   "cell_type": "code",
   "execution_count": 23,
   "id": "ea057925",
   "metadata": {},
   "outputs": [
    {
     "data": {
      "text/plain": [
       "False"
      ]
     },
     "execution_count": 23,
     "metadata": {},
     "output_type": "execute_result"
    }
   ],
   "source": [
    "b<a or c<b #false or false is false"
   ]
  },
  {
   "cell_type": "code",
   "execution_count": 24,
   "id": "b55c11dc",
   "metadata": {},
   "outputs": [
    {
     "data": {
      "text/plain": [
       "True"
      ]
     },
     "execution_count": 24,
     "metadata": {},
     "output_type": "execute_result"
    }
   ],
   "source": [
    "a = 5\n",
    "b = 6\n",
    "c = 10\n",
    "d = 20\n",
    "a < b  and a < c and a < d and b < d  #  True and True and True and True"
   ]
  },
  {
   "cell_type": "code",
   "execution_count": 25,
   "id": "d1d85420",
   "metadata": {},
   "outputs": [
    {
     "data": {
      "text/plain": [
       "False"
      ]
     },
     "execution_count": 25,
     "metadata": {},
     "output_type": "execute_result"
    }
   ],
   "source": [
    "a = 5\n",
    "b = 6\n",
    "c = 10\n",
    "d = 20\n",
    "a < b  and a < c and a < d and d < b  #  True and True and True and False"
   ]
  },
  {
   "cell_type": "code",
   "execution_count": 26,
   "id": "4f2ee136",
   "metadata": {},
   "outputs": [
    {
     "name": "stdout",
     "output_type": "stream",
     "text": [
      "b is greater than a and c\n"
     ]
    }
   ],
   "source": [
    "a = 30\n",
    "b = 200\n",
    "c = 10\n",
    "\n",
    "if a > b and a > c:\n",
    "    print(\"a is greater than b and c\")\n",
    "    \n",
    "elif b > a and b > c:\n",
    "    print(\"b is greater than a and c\")\n",
    "    \n",
    "else:\n",
    "    print(\"c is greater than a and b\")"
   ]
  },
  {
   "cell_type": "code",
   "execution_count": 27,
   "id": "a59ba3e4",
   "metadata": {},
   "outputs": [
    {
     "name": "stdout",
     "output_type": "stream",
     "text": [
      "c is greater than a and b\n"
     ]
    }
   ],
   "source": [
    "a = 30\n",
    "b = 20\n",
    "c = 100\n",
    "\n",
    "if a > b and a > c:  # True and False >> False\n",
    "    print(\"a is greater than b and c\")\n",
    "    \n",
    "elif b > a and b > c: # False and False >> False\n",
    "    print(\"b is greater than a and c\")\n",
    "    \n",
    "else: \n",
    "    print(\"c is greater than a and b\")"
   ]
  },
  {
   "cell_type": "code",
   "execution_count": 28,
   "id": "e1b58bda",
   "metadata": {},
   "outputs": [
    {
     "name": "stdout",
     "output_type": "stream",
     "text": [
      "Enter the value of a: 43\n",
      "Enter the value of b: 56\n",
      "Enter the value of c: 32\n",
      "a == 43, b == 56, c == 32\n",
      "<class 'str'> <class 'str'> <class 'str'>\n"
     ]
    }
   ],
   "source": [
    "a = input(\"Enter the value of a: \") # string\n",
    "b = input(\"Enter the value of b: \")\n",
    "c = input('Enter the value of c: ')\n",
    "print(f\"a == {a}, b == {b}, c == {c}\")\n",
    "print(type(a),type(b),type(c))"
   ]
  },
  {
   "cell_type": "markdown",
   "id": "2c03f0d4",
   "metadata": {},
   "source": [
    "#### 3. Arithmetic Operator"
   ]
  },
  {
   "cell_type": "code",
   "execution_count": null,
   "id": "60f20de7",
   "metadata": {},
   "outputs": [],
   "source": [
    "+    >> addition operator\n",
    "-    >> substraction\n",
    "*    >> Multiplication\n",
    "/    >> division  (float)\n",
    "//   >> floor division\n",
    "%    >> Modulus\n",
    "**   >> Exponent"
   ]
  },
  {
   "cell_type": "markdown",
   "id": "577ee3e5",
   "metadata": {},
   "source": [
    "##### preference of arithmetic operators"
   ]
  },
  {
   "cell_type": "code",
   "execution_count": null,
   "id": "07519825",
   "metadata": {},
   "outputs": [],
   "source": [
    "() >> Parenthesis\n",
    "** >> exponent\n",
    "*, /, //\n",
    "+, -"
   ]
  },
  {
   "cell_type": "code",
   "execution_count": 29,
   "id": "705e0d66",
   "metadata": {},
   "outputs": [
    {
     "data": {
      "text/plain": [
       "1"
      ]
     },
     "execution_count": 29,
     "metadata": {},
     "output_type": "execute_result"
    }
   ],
   "source": [
    "a=20\n",
    "b=30\n",
    "\n",
    "b//a"
   ]
  },
  {
   "cell_type": "code",
   "execution_count": 30,
   "id": "18558b00",
   "metadata": {},
   "outputs": [
    {
     "data": {
      "text/plain": [
       "1"
      ]
     },
     "execution_count": 30,
     "metadata": {},
     "output_type": "execute_result"
    }
   ],
   "source": [
    "30//20"
   ]
  },
  {
   "cell_type": "code",
   "execution_count": 31,
   "id": "1b35cd1c",
   "metadata": {},
   "outputs": [
    {
     "data": {
      "text/plain": [
       "1.5"
      ]
     },
     "execution_count": 31,
     "metadata": {},
     "output_type": "execute_result"
    }
   ],
   "source": [
    "30/20"
   ]
  },
  {
   "cell_type": "code",
   "execution_count": 32,
   "id": "6377d139",
   "metadata": {},
   "outputs": [
    {
     "data": {
      "text/plain": [
       "3.0"
      ]
     },
     "execution_count": 32,
     "metadata": {},
     "output_type": "execute_result"
    }
   ],
   "source": [
    "(30/10)"
   ]
  },
  {
   "cell_type": "code",
   "execution_count": 33,
   "id": "803a2381",
   "metadata": {},
   "outputs": [
    {
     "data": {
      "text/plain": [
       "3.0"
      ]
     },
     "execution_count": 33,
     "metadata": {},
     "output_type": "execute_result"
    }
   ],
   "source": [
    "30/10"
   ]
  },
  {
   "cell_type": "code",
   "execution_count": 34,
   "id": "0668f758",
   "metadata": {},
   "outputs": [
    {
     "data": {
      "text/plain": [
       "3"
      ]
     },
     "execution_count": 34,
     "metadata": {},
     "output_type": "execute_result"
    }
   ],
   "source": [
    "int(30/10)"
   ]
  },
  {
   "cell_type": "code",
   "execution_count": 35,
   "id": "129f3559",
   "metadata": {},
   "outputs": [
    {
     "data": {
      "text/plain": [
       "0"
      ]
     },
     "execution_count": 35,
     "metadata": {},
     "output_type": "execute_result"
    }
   ],
   "source": [
    "30 %10"
   ]
  },
  {
   "cell_type": "code",
   "execution_count": 36,
   "id": "7a02bd80",
   "metadata": {},
   "outputs": [
    {
     "data": {
      "text/plain": [
       "4"
      ]
     },
     "execution_count": 36,
     "metadata": {},
     "output_type": "execute_result"
    }
   ],
   "source": [
    "30%13"
   ]
  },
  {
   "cell_type": "code",
   "execution_count": 38,
   "id": "65324bda",
   "metadata": {},
   "outputs": [
    {
     "data": {
      "text/plain": [
       "390"
      ]
     },
     "execution_count": 38,
     "metadata": {},
     "output_type": "execute_result"
    }
   ],
   "source": [
    "30*13"
   ]
  },
  {
   "cell_type": "code",
   "execution_count": 39,
   "id": "7520d69f",
   "metadata": {},
   "outputs": [
    {
     "data": {
      "text/plain": [
       "512"
      ]
     },
     "execution_count": 39,
     "metadata": {},
     "output_type": "execute_result"
    }
   ],
   "source": [
    "8 * 8 * 8"
   ]
  },
  {
   "cell_type": "code",
   "execution_count": 40,
   "id": "8c02ee1b",
   "metadata": {},
   "outputs": [
    {
     "data": {
      "text/plain": [
       "32768"
      ]
     },
     "execution_count": 40,
     "metadata": {},
     "output_type": "execute_result"
    }
   ],
   "source": [
    "8 * 8 * 8 * 8 * 8"
   ]
  },
  {
   "cell_type": "code",
   "execution_count": 41,
   "id": "32800578",
   "metadata": {},
   "outputs": [
    {
     "data": {
      "text/plain": [
       "32768"
      ]
     },
     "execution_count": 41,
     "metadata": {},
     "output_type": "execute_result"
    }
   ],
   "source": [
    "8 ** 5"
   ]
  },
  {
   "cell_type": "code",
   "execution_count": 42,
   "id": "aaeb77b8",
   "metadata": {},
   "outputs": [
    {
     "name": "stdout",
     "output_type": "stream",
     "text": [
      "y == 667 when x  == 5\n"
     ]
    }
   ],
   "source": [
    "x = 5\n",
    "y = 5 * (x ** 3) + 3*(x**2) - 8*x + 7\n",
    "print(f'y == {y} when x  == {x}')"
   ]
  },
  {
   "cell_type": "code",
   "execution_count": 43,
   "id": "8787f8a5",
   "metadata": {},
   "outputs": [
    {
     "data": {
      "text/plain": [
       "15.0"
      ]
     },
     "execution_count": 43,
     "metadata": {},
     "output_type": "execute_result"
    }
   ],
   "source": [
    "10 * 6 / 4"
   ]
  },
  {
   "cell_type": "code",
   "execution_count": 44,
   "id": "10dcef0f",
   "metadata": {},
   "outputs": [
    {
     "data": {
      "text/plain": [
       "6.666666666666667"
      ]
     },
     "execution_count": 44,
     "metadata": {},
     "output_type": "execute_result"
    }
   ],
   "source": [
    "(10 / 6) * 4"
   ]
  },
  {
   "cell_type": "code",
   "execution_count": 45,
   "id": "848cf5da",
   "metadata": {},
   "outputs": [
    {
     "data": {
      "text/plain": [
       "0.4166666666666667"
      ]
     },
     "execution_count": 45,
     "metadata": {},
     "output_type": "execute_result"
    }
   ],
   "source": [
    "10 / (6 * 4)"
   ]
  },
  {
   "cell_type": "markdown",
   "id": "bce7dcb1",
   "metadata": {},
   "source": [
    "#### 4. Assignment Operator"
   ]
  },
  {
   "cell_type": "code",
   "execution_count": null,
   "id": "71e6fda8",
   "metadata": {},
   "outputs": [],
   "source": [
    "=  \n",
    "+=    >> a += 1   >> a = a + 1\n",
    "-=    >> a -= 1   >> a = a - 1\n",
    "*=    >> a *= 2   >> a = a * 2\n",
    "/=    >> a /= 2   >> a = a / 2\n",
    "//=   >> a //=3   >> a = a // 3\n",
    "%=    >> a %= 2   >> a = a % 2\n",
    "**=   >> a **=3   >> a = a ** 3"
   ]
  },
  {
   "cell_type": "code",
   "execution_count": 46,
   "id": "6d509f1d",
   "metadata": {},
   "outputs": [
    {
     "name": "stdout",
     "output_type": "stream",
     "text": [
      "5\n",
      "6\n"
     ]
    }
   ],
   "source": [
    "a = 5\n",
    "print(a)\n",
    "a = 5 + 1\n",
    "print(a)"
   ]
  },
  {
   "cell_type": "code",
   "execution_count": 47,
   "id": "a7976483",
   "metadata": {},
   "outputs": [
    {
     "name": "stdout",
     "output_type": "stream",
     "text": [
      "5\n",
      "6\n"
     ]
    }
   ],
   "source": [
    "a = 5\n",
    "print(a)\n",
    "a = a + 1 \n",
    "print(a)"
   ]
  },
  {
   "cell_type": "code",
   "execution_count": 48,
   "id": "4e2c6504",
   "metadata": {},
   "outputs": [
    {
     "name": "stdout",
     "output_type": "stream",
     "text": [
      "5\n",
      "10\n"
     ]
    }
   ],
   "source": [
    "a = 5\n",
    "print(a)\n",
    "a += 5 \n",
    "print(a)"
   ]
  },
  {
   "cell_type": "code",
   "execution_count": 49,
   "id": "e180b22b",
   "metadata": {},
   "outputs": [
    {
     "name": "stdout",
     "output_type": "stream",
     "text": [
      "p 0\n",
      "y 1\n",
      "t 2\n",
      "h 3\n",
      "o 4\n",
      "n 5\n"
     ]
    }
   ],
   "source": [
    "count = 0 \n",
    "string = 'python'\n",
    "for i in string:\n",
    "    print(i,count)\n",
    "    count = count + 1"
   ]
  },
  {
   "cell_type": "code",
   "execution_count": 50,
   "id": "6066ed4c",
   "metadata": {},
   "outputs": [
    {
     "name": "stdout",
     "output_type": "stream",
     "text": [
      "p 10\n",
      "y 9\n",
      "t 8\n",
      "h 7\n",
      "o 6\n",
      "n 5\n"
     ]
    }
   ],
   "source": [
    "count = 10 \n",
    "string = 'python'\n",
    "for i in string:\n",
    "    print(i,count)\n",
    "    count = count - 1"
   ]
  },
  {
   "cell_type": "markdown",
   "id": "916441b8",
   "metadata": {},
   "source": [
    "#### 5.Membership Operator"
   ]
  },
  {
   "cell_type": "markdown",
   "id": "983ac704",
   "metadata": {},
   "source": [
    "in \n",
    "not in:\n",
    "True >> False\n",
    "False >> True"
   ]
  },
  {
   "cell_type": "code",
   "execution_count": 51,
   "id": "776ef181",
   "metadata": {},
   "outputs": [
    {
     "name": "stdout",
     "output_type": "stream",
     "text": [
      "data is present in given string\n"
     ]
    }
   ],
   "source": [
    "string = 'data science'\n",
    "substring = 'data'\n",
    "\n",
    "if substring in string:\n",
    "    print(f'{substring} is present in given string')"
   ]
  },
  {
   "cell_type": "code",
   "execution_count": 53,
   "id": "22caf614",
   "metadata": {},
   "outputs": [
    {
     "name": "stdout",
     "output_type": "stream",
     "text": [
      "Data or Python is not present in given string\n"
     ]
    }
   ],
   "source": [
    "string = 'data science'\n",
    "substring1 = 'Data'\n",
    "substring2 = 'Python'\n",
    "\n",
    "if substring1 in string and substring2 in string : # False and False >> False\n",
    "    print(f'{substring1} and {substring2} is present in given string')\n",
    "    \n",
    "else:\n",
    "    print(f'{substring1} or {substring2} is not present in given string')"
   ]
  },
  {
   "cell_type": "code",
   "execution_count": 55,
   "id": "7285f1ea",
   "metadata": {},
   "outputs": [
    {
     "name": "stdout",
     "output_type": "stream",
     "text": [
      "python is not present in given string\n"
     ]
    }
   ],
   "source": [
    "string = 'data science'\n",
    "substring = 'python'\n",
    "\n",
    "if substring not in string: # False\n",
    "    print(f'{substring} is not present in given string')"
   ]
  },
  {
   "cell_type": "markdown",
   "id": "2449afde",
   "metadata": {},
   "source": [
    "#### 6. Identity operators"
   ]
  },
  {
   "cell_type": "code",
   "execution_count": null,
   "id": "74f11927",
   "metadata": {},
   "outputs": [],
   "source": [
    "is\n",
    "is not"
   ]
  },
  {
   "cell_type": "code",
   "execution_count": 68,
   "id": "294a686f",
   "metadata": {},
   "outputs": [
    {
     "data": {
      "text/plain": [
       "True"
      ]
     },
     "execution_count": 68,
     "metadata": {},
     "output_type": "execute_result"
    }
   ],
   "source": [
    "a = 5\n",
    "b = 5\n",
    "a == b"
   ]
  },
  {
   "cell_type": "code",
   "execution_count": 69,
   "id": "064942fb",
   "metadata": {},
   "outputs": [
    {
     "data": {
      "text/plain": [
       "2607623268784"
      ]
     },
     "execution_count": 69,
     "metadata": {},
     "output_type": "execute_result"
    }
   ],
   "source": [
    "id(a)"
   ]
  },
  {
   "cell_type": "code",
   "execution_count": 70,
   "id": "9df438c2",
   "metadata": {},
   "outputs": [
    {
     "data": {
      "text/plain": [
       "2607623268784"
      ]
     },
     "execution_count": 70,
     "metadata": {},
     "output_type": "execute_result"
    }
   ],
   "source": [
    "id(b)"
   ]
  },
  {
   "cell_type": "code",
   "execution_count": 71,
   "id": "7d2e0ced",
   "metadata": {},
   "outputs": [
    {
     "name": "stdout",
     "output_type": "stream",
     "text": [
      "2607707393360\n",
      "2607707393712\n"
     ]
    }
   ],
   "source": [
    "x = 257\n",
    "y = 257\n",
    "print(id(x))\n",
    "print(id(y))"
   ]
  },
  {
   "cell_type": "code",
   "execution_count": 72,
   "id": "211ab582",
   "metadata": {},
   "outputs": [
    {
     "name": "stdout",
     "output_type": "stream",
     "text": [
      "2607623463568\n",
      "2607623463568\n"
     ]
    }
   ],
   "source": [
    "a = 200\n",
    "b = 200\n",
    "print(id(a))\n",
    "print(id(b))"
   ]
  },
  {
   "cell_type": "code",
   "execution_count": 73,
   "id": "be21c08c",
   "metadata": {},
   "outputs": [
    {
     "name": "stdout",
     "output_type": "stream",
     "text": [
      "Different Location\n"
     ]
    }
   ],
   "source": [
    "if x is y:\n",
    "    print(\"Same Location\")\n",
    "    \n",
    "else:\n",
    "    print(\"Different Location\")"
   ]
  },
  {
   "cell_type": "code",
   "execution_count": 74,
   "id": "69ae03ce",
   "metadata": {},
   "outputs": [
    {
     "name": "stdout",
     "output_type": "stream",
     "text": [
      "Same Location\n"
     ]
    }
   ],
   "source": [
    "if a is b:\n",
    "    print(\"Same Location\")\n",
    "    \n",
    "else:\n",
    "    print(\"Different Location\")"
   ]
  },
  {
   "cell_type": "code",
   "execution_count": 75,
   "id": "0022e568",
   "metadata": {},
   "outputs": [
    {
     "data": {
      "text/plain": [
       "True"
      ]
     },
     "execution_count": 75,
     "metadata": {},
     "output_type": "execute_result"
    }
   ],
   "source": [
    "a = 'python'\n",
    "b = 'python'\n",
    "\n",
    "a is b"
   ]
  },
  {
   "cell_type": "code",
   "execution_count": 76,
   "id": "df088104",
   "metadata": {},
   "outputs": [
    {
     "data": {
      "text/plain": [
       "False"
      ]
     },
     "execution_count": 76,
     "metadata": {},
     "output_type": "execute_result"
    }
   ],
   "source": [
    "a = 'python '\n",
    "b = 'python '\n",
    "\n",
    "a is b"
   ]
  },
  {
   "cell_type": "code",
   "execution_count": 77,
   "id": "d14357d7",
   "metadata": {},
   "outputs": [
    {
     "data": {
      "text/plain": [
       "True"
      ]
     },
     "execution_count": 77,
     "metadata": {},
     "output_type": "execute_result"
    }
   ],
   "source": [
    "a='data'\n",
    "b='data'\n",
    "\n",
    "a is b"
   ]
  },
  {
   "cell_type": "code",
   "execution_count": 78,
   "id": "c3e45a09",
   "metadata": {},
   "outputs": [
    {
     "data": {
      "text/plain": [
       "False"
      ]
     },
     "execution_count": 78,
     "metadata": {},
     "output_type": "execute_result"
    }
   ],
   "source": [
    "a='data '\n",
    "b='data '\n",
    "\n",
    "a is b"
   ]
  },
  {
   "cell_type": "markdown",
   "id": "e842d3a3",
   "metadata": {},
   "source": [
    "#### 7. Bitwise Operator"
   ]
  },
  {
   "cell_type": "code",
   "execution_count": null,
   "id": "be787fdc",
   "metadata": {},
   "outputs": [],
   "source": [
    "&  >> bitwise and\n",
    "|  >> bitwise or\n",
    "^  >> bitwise XOR\n",
    ">>  right shift\n",
    "<<  left shift"
   ]
  },
  {
   "cell_type": "code",
   "execution_count": 79,
   "id": "3a2f3fec",
   "metadata": {},
   "outputs": [
    {
     "data": {
      "text/plain": [
       "'0b1010'"
      ]
     },
     "execution_count": 79,
     "metadata": {},
     "output_type": "execute_result"
    }
   ],
   "source": [
    "bin(10)"
   ]
  },
  {
   "cell_type": "code",
   "execution_count": 80,
   "id": "6c17d69a",
   "metadata": {},
   "outputs": [
    {
     "data": {
      "text/plain": [
       "'0b1101'"
      ]
     },
     "execution_count": 80,
     "metadata": {},
     "output_type": "execute_result"
    }
   ],
   "source": [
    "bin(13)"
   ]
  },
  {
   "cell_type": "code",
   "execution_count": 83,
   "id": "df58d491",
   "metadata": {},
   "outputs": [
    {
     "data": {
      "text/plain": [
       "15"
      ]
     },
     "execution_count": 83,
     "metadata": {},
     "output_type": "execute_result"
    }
   ],
   "source": [
    "10 | 13"
   ]
  },
  {
   "cell_type": "code",
   "execution_count": 84,
   "id": "5211c8ad",
   "metadata": {},
   "outputs": [
    {
     "data": {
      "text/plain": [
       "8"
      ]
     },
     "execution_count": 84,
     "metadata": {},
     "output_type": "execute_result"
    }
   ],
   "source": [
    "10 & 13"
   ]
  },
  {
   "cell_type": "code",
   "execution_count": null,
   "id": "b13f5217",
   "metadata": {},
   "outputs": [],
   "source": [
    "Bitwise AND \n",
    "\n",
    "1 0 1 0   # 10\n",
    "1 1 0 1   # 13\n",
    "\n",
    "1 0 0 0    # 8\n"
   ]
  },
  {
   "cell_type": "code",
   "execution_count": null,
   "id": "3851b1a1",
   "metadata": {},
   "outputs": [],
   "source": [
    "Bitwise OR (|) \n",
    "\n",
    "1 0 1 0   # 10\n",
    "1 1 0 1   # 13\n",
    "\n",
    "1 1 1 1   # 15"
   ]
  },
  {
   "cell_type": "code",
   "execution_count": null,
   "id": "03f9cc14",
   "metadata": {},
   "outputs": [],
   "source": [
    "XOR :\n",
    "1 0 1 0   # 10\n",
    "1 1 0 1   # 13\n",
    "0 1 1 1"
   ]
  },
  {
   "cell_type": "code",
   "execution_count": 85,
   "id": "0393c49b",
   "metadata": {},
   "outputs": [
    {
     "data": {
      "text/plain": [
       "7"
      ]
     },
     "execution_count": 85,
     "metadata": {},
     "output_type": "execute_result"
    }
   ],
   "source": [
    "10 ^ 13"
   ]
  },
  {
   "cell_type": "code",
   "execution_count": null,
   "id": "45f87587",
   "metadata": {},
   "outputs": [],
   "source": [
    "AND \n",
    "\n",
    "1  & 1 >> 1\n",
    "1  & 0 >> 0\n",
    "0  & 1 >> 0\n",
    "0  & 0 >> 0\n",
    "\n",
    "OR\n",
    "\n",
    "1  | 1 >> 1\n",
    "1  | 0 >> 1\n",
    "0  | 1 >> 1\n",
    "0  | 0 >> 0\n",
    "\n",
    "XOR\n",
    "1  | 1 >> 0\n",
    "1  | 0 >> 1\n",
    "0  | 1 >> 1\n",
    "0  | 0 >> 0\n"
   ]
  },
  {
   "cell_type": "code",
   "execution_count": null,
   "id": "dec884d2",
   "metadata": {},
   "outputs": [],
   "source": [
    "Right shift"
   ]
  },
  {
   "cell_type": "code",
   "execution_count": 86,
   "id": "927b4df5",
   "metadata": {},
   "outputs": [
    {
     "data": {
      "text/plain": [
       "5"
      ]
     },
     "execution_count": 86,
     "metadata": {},
     "output_type": "execute_result"
    }
   ],
   "source": [
    "10 >> 1"
   ]
  },
  {
   "cell_type": "code",
   "execution_count": 88,
   "id": "f34fbe27",
   "metadata": {},
   "outputs": [
    {
     "data": {
      "text/plain": [
       "2"
      ]
     },
     "execution_count": 88,
     "metadata": {},
     "output_type": "execute_result"
    }
   ],
   "source": [
    "10>>2"
   ]
  },
  {
   "cell_type": "code",
   "execution_count": 92,
   "id": "8205e870",
   "metadata": {},
   "outputs": [
    {
     "name": "stdout",
     "output_type": "stream",
     "text": [
      "0b1010\n",
      "0b1\n",
      "0b101\n",
      "0b10\n",
      "0b10100\n"
     ]
    }
   ],
   "source": [
    "print(bin(10))\n",
    "print(bin(1))\n",
    "print(bin(5))\n",
    "print(bin(2))\n",
    "print(bin(20))"
   ]
  },
  {
   "cell_type": "code",
   "execution_count": null,
   "id": "dc6209b3",
   "metadata": {},
   "outputs": [],
   "source": [
    "left shift"
   ]
  },
  {
   "cell_type": "code",
   "execution_count": 91,
   "id": "0cc968cf",
   "metadata": {},
   "outputs": [
    {
     "data": {
      "text/plain": [
       "20"
      ]
     },
     "execution_count": 91,
     "metadata": {},
     "output_type": "execute_result"
    }
   ],
   "source": [
    "10<<1"
   ]
  },
  {
   "cell_type": "markdown",
   "id": "0228cc0b",
   "metadata": {},
   "source": [
    "### Pass statement"
   ]
  },
  {
   "cell_type": "markdown",
   "id": "896d6850",
   "metadata": {},
   "source": [
    "USed to avoid an errors\n",
    "If there is not statement in if/elif/else block, then we can use pass statement"
   ]
  },
  {
   "cell_type": "code",
   "execution_count": 56,
   "id": "9a00bdc5",
   "metadata": {},
   "outputs": [
    {
     "name": "stdout",
     "output_type": "stream",
     "text": [
      "string1 >> python\n",
      "string2 >> python\n",
      "Both strings are equal\n"
     ]
    }
   ],
   "source": [
    "string1 = 'python'\n",
    "string2 = 'python'\n",
    "if string1 == string2:\n",
    "    print('string1 >>',string1)\n",
    "    print('string2 >>',string2)\n",
    "    print(\"Both strings are equal\")\n",
    "    \n",
    "else:\n",
    "    print(\"String are different\")"
   ]
  },
  {
   "cell_type": "code",
   "execution_count": 57,
   "id": "9e1d4e4e",
   "metadata": {},
   "outputs": [
    {
     "name": "stdout",
     "output_type": "stream",
     "text": [
      "String are different\n"
     ]
    }
   ],
   "source": [
    "string1 = 'python'\n",
    "string2 = 'class'\n",
    "if string1 == string2:\n",
    "    print('string1 >>',string1)\n",
    "    print('string2 >>',string2)\n",
    "    print(\"Both strings are equal\")\n",
    "    \n",
    "else:\n",
    "    print(\"String are different\")"
   ]
  },
  {
   "cell_type": "code",
   "execution_count": 58,
   "id": "68a04e0a",
   "metadata": {},
   "outputs": [
    {
     "name": "stdout",
     "output_type": "stream",
     "text": [
      "String are different\n"
     ]
    }
   ],
   "source": [
    "string1 = 'python'\n",
    "string2 = 'class'\n",
    "if string1 == string2:\n",
    "    pass\n",
    "#     print('string1 >>',string1)\n",
    "#     print('string2 >>',string2)\n",
    "#     print(\"Both strings are equal\")\n",
    "    \n",
    "else:\n",
    "    print(\"String are different\")"
   ]
  },
  {
   "cell_type": "markdown",
   "id": "1e39ce1e",
   "metadata": {},
   "source": [
    "## Nested If-else statements"
   ]
  },
  {
   "cell_type": "markdown",
   "id": "9b135213",
   "metadata": {},
   "source": [
    "if statement inside if statement"
   ]
  },
  {
   "cell_type": "code",
   "execution_count": 59,
   "id": "8568aaa5",
   "metadata": {},
   "outputs": [
    {
     "name": "stdout",
     "output_type": "stream",
     "text": [
      "x is less than or equal to 100\n"
     ]
    }
   ],
   "source": [
    "x = 90\n",
    "if x > 100:\n",
    "    print(\"x is greater than 100\")\n",
    "    \n",
    "else:\n",
    "    print('x is less than or equal to 100')"
   ]
  },
  {
   "cell_type": "code",
   "execution_count": 60,
   "id": "f79ff3a6",
   "metadata": {},
   "outputs": [
    {
     "name": "stdout",
     "output_type": "stream",
     "text": [
      "x is greater than 100\n"
     ]
    }
   ],
   "source": [
    "x = 900\n",
    "if x > 100:\n",
    "    print(\"x is greater than 100\")\n",
    "    \n",
    "else:\n",
    "    print('x is less than or equal to 100')"
   ]
  },
  {
   "cell_type": "code",
   "execution_count": 61,
   "id": "9298ae54",
   "metadata": {},
   "outputs": [
    {
     "name": "stdout",
     "output_type": "stream",
     "text": [
      "x is greater than 100\n",
      "x is greater than 150\n"
     ]
    }
   ],
   "source": [
    "x = 200\n",
    "if x > 100: # True\n",
    "    print(\"x is greater than 100\")\n",
    "    if x > 150: # True\n",
    "        print(\"x is greater than 150\")\n",
    "        \n",
    "    else:\n",
    "        print(\"x is less than 150\")\n",
    "    \n",
    "else:\n",
    "    print('x is less than or equal to 100')"
   ]
  },
  {
   "cell_type": "code",
   "execution_count": 62,
   "id": "da62fcd2",
   "metadata": {},
   "outputs": [
    {
     "name": "stdout",
     "output_type": "stream",
     "text": [
      "x is greater than 100\n",
      "x is less than 150\n"
     ]
    }
   ],
   "source": [
    "x = 130\n",
    "if x > 100: # True\n",
    "    print(\"x is greater than 100\")\n",
    "    if x > 150: # False\n",
    "        print(\"x is greater than 150\")\n",
    "        \n",
    "    else:\n",
    "        print(\"x is less than 150\")\n",
    "    \n",
    "else:\n",
    "    print('x is less than or equal to 100')"
   ]
  },
  {
   "cell_type": "code",
   "execution_count": 63,
   "id": "c9a989dd",
   "metadata": {},
   "outputs": [
    {
     "name": "stdout",
     "output_type": "stream",
     "text": [
      "x is less than or equal to 100\n"
     ]
    }
   ],
   "source": [
    "x = 90\n",
    "if x > 100: # False\n",
    "    print(\"x is greater than 100\")\n",
    "    if x > 150: # False\n",
    "        print(\"x is greater than 150\")\n",
    "        \n",
    "    else:\n",
    "        if x > 120: # False\n",
    "            print('x is greater than 120')\n",
    "        else:\n",
    "            print(\"x is less than 120\")\n",
    "    \n",
    "else:\n",
    "    print('x is less than or equal to 100')"
   ]
  },
  {
   "cell_type": "code",
   "execution_count": 64,
   "id": "432e20c4",
   "metadata": {},
   "outputs": [
    {
     "name": "stdout",
     "output_type": "stream",
     "text": [
      "Cibil score is greater than 750\n",
      "Age is between 25 to 60\n",
      "Salary is greater than 40000\n",
      "Loan Approved\n"
     ]
    }
   ],
   "source": [
    "cibil_score = 760\n",
    "age = 30\n",
    "salary = 60000\n",
    "# loan_status >> Approved/declined\n",
    "\n",
    "if cibil_score > 750: # True\n",
    "    print('Cibil score is greater than 750')\n",
    "    \n",
    "    if age > 25 and age < 60: # True and True\n",
    "        print('Age is between 25 to 60')\n",
    "        \n",
    "        if salary > 40000: # True\n",
    "            print(\"Salary is greater than 40000\")\n",
    "            print(\"Loan Approved\")\n",
    "            \n",
    "        else:\n",
    "            print(\"Declined\")\n",
    "        \n",
    "    else:\n",
    "        print(\"Declined\")\n",
    "    \n",
    "else:\n",
    "    print(\"Declined\")"
   ]
  },
  {
   "cell_type": "markdown",
   "id": "7f31df6f",
   "metadata": {},
   "source": [
    "### short hand if"
   ]
  },
  {
   "cell_type": "code",
   "execution_count": 65,
   "id": "5116a76d",
   "metadata": {},
   "outputs": [
    {
     "name": "stdout",
     "output_type": "stream",
     "text": [
      "a is greater than b\n"
     ]
    }
   ],
   "source": [
    "a = 50\n",
    "b = 6\n",
    "if a > b :print('a is greater than b')"
   ]
  },
  {
   "cell_type": "markdown",
   "id": "d4f80a07",
   "metadata": {},
   "source": [
    "### short hand if else"
   ]
  },
  {
   "cell_type": "code",
   "execution_count": 66,
   "id": "d12531ad",
   "metadata": {},
   "outputs": [
    {
     "name": "stdout",
     "output_type": "stream",
     "text": [
      "b is greater than a\n"
     ]
    }
   ],
   "source": [
    "a = 50\n",
    "b = 60\n",
    "\n",
    "print('a is greater than b') if a > b else print('b is greater than a')"
   ]
  },
  {
   "cell_type": "code",
   "execution_count": 67,
   "id": "05b2a101",
   "metadata": {},
   "outputs": [
    {
     "name": "stdout",
     "output_type": "stream",
     "text": [
      "a is greater than b\n"
     ]
    }
   ],
   "source": [
    "a = 500\n",
    "b = 60\n",
    "\n",
    "print('a is greater than b') if a > b else print('b is greater than a')"
   ]
  },
  {
   "cell_type": "code",
   "execution_count": null,
   "id": "19dde2e5",
   "metadata": {},
   "outputs": [],
   "source": [
    "#end"
   ]
  }
 ],
 "metadata": {
  "kernelspec": {
   "display_name": "Python 3 (ipykernel)",
   "language": "python",
   "name": "python3"
  },
  "language_info": {
   "codemirror_mode": {
    "name": "ipython",
    "version": 3
   },
   "file_extension": ".py",
   "mimetype": "text/x-python",
   "name": "python",
   "nbconvert_exporter": "python",
   "pygments_lexer": "ipython3",
   "version": "3.9.7"
  }
 },
 "nbformat": 4,
 "nbformat_minor": 5
}
