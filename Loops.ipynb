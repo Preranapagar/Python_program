{
 "cells": [
  {
   "cell_type": "markdown",
   "id": "4e581295",
   "metadata": {},
   "source": [
    "### Loops"
   ]
  },
  {
   "cell_type": "markdown",
   "id": "a306c24c",
   "metadata": {},
   "source": [
    "1. for loop\n",
    "\n",
    "2. while loop"
   ]
  },
  {
   "cell_type": "markdown",
   "id": "bf16423e",
   "metadata": {},
   "source": [
    "### 1. For loop"
   ]
  },
  {
   "cell_type": "code",
   "execution_count": null,
   "id": "35a92952",
   "metadata": {},
   "outputs": [],
   "source": [
    "it works like iterator\n",
    "Sequence >> String, List, tuple, set, dict, range, numpy array, dataframe\n",
    "\n",
    "for variable in sequence:\n",
    "    print(variable)\n",
    "    statement1\n",
    "    statement2\n",
    "    \n",
    "    \n",
    "for index,item in enumerate(sequence):\n",
    "    print(index,item)\n",
    "    statement3\n",
    "    statement4\n"
   ]
  },
  {
   "cell_type": "code",
   "execution_count": 1,
   "id": "aefad735",
   "metadata": {},
   "outputs": [
    {
     "name": "stdout",
     "output_type": "stream",
     "text": [
      "0\n",
      "1\n",
      "2\n",
      "3\n",
      "4\n"
     ]
    }
   ],
   "source": [
    "for i in range(5):\n",
    "    print(i)"
   ]
  },
  {
   "cell_type": "code",
   "execution_count": 2,
   "id": "3d127c75",
   "metadata": {},
   "outputs": [
    {
     "name": "stdout",
     "output_type": "stream",
     "text": [
      "We are learning loops\n",
      "We are learning loops\n",
      "We are learning loops\n",
      "We are learning loops\n",
      "We are learning loops\n"
     ]
    }
   ],
   "source": [
    "for i in range(5):\n",
    "    print('We are learning loops')"
   ]
  },
  {
   "cell_type": "code",
   "execution_count": 3,
   "id": "a1a097b0",
   "metadata": {},
   "outputs": [
    {
     "name": "stdout",
     "output_type": "stream",
     "text": [
      "H\n",
      "e\n",
      "l\n",
      "l\n",
      "o\n"
     ]
    }
   ],
   "source": [
    "string='Hello'\n",
    "\n",
    "for i in string:\n",
    "    print(i)"
   ]
  },
  {
   "cell_type": "code",
   "execution_count": 4,
   "id": "8122aee5",
   "metadata": {},
   "outputs": [
    {
     "name": "stdout",
     "output_type": "stream",
     "text": [
      "Hello\n",
      "Hello\n",
      "Hello\n",
      "Hello\n",
      "Hello\n"
     ]
    }
   ],
   "source": [
    "for i in string:\n",
    "    print(string)"
   ]
  },
  {
   "cell_type": "code",
   "execution_count": 5,
   "id": "c1c3db14",
   "metadata": {},
   "outputs": [
    {
     "name": "stdout",
     "output_type": "stream",
     "text": [
      "H\n",
      "+++++\n",
      "e\n",
      "+++++\n",
      "l\n",
      "+++++\n",
      "l\n",
      "+++++\n",
      "o\n",
      "+++++\n"
     ]
    }
   ],
   "source": [
    "for i in string:\n",
    "    print(i)\n",
    "    print('+'*5)"
   ]
  },
  {
   "cell_type": "code",
   "execution_count": 6,
   "id": "19393f7c",
   "metadata": {},
   "outputs": [
    {
     "name": "stdout",
     "output_type": "stream",
     "text": [
      "0 H\n",
      "1 e\n",
      "2 l\n",
      "3 l\n",
      "4 o\n"
     ]
    }
   ],
   "source": [
    "for index, item in enumerate(string):\n",
    "    print(index,item)"
   ]
  },
  {
   "cell_type": "code",
   "execution_count": 7,
   "id": "3f9f51b7",
   "metadata": {},
   "outputs": [
    {
     "name": "stdout",
     "output_type": "stream",
     "text": [
      "char at index 0 is m\n",
      "char at index 1 is a\n",
      "char at index 2 is c\n",
      "char at index 3 is h\n",
      "char at index 4 is i\n",
      "char at index 5 is n\n",
      "char at index 6 is e\n"
     ]
    }
   ],
   "source": [
    "string = 'machine'\n",
    "for i,v in enumerate(string):\n",
    "    print(f'char at index {i} is {v}')"
   ]
  },
  {
   "cell_type": "markdown",
   "id": "e92cd47f",
   "metadata": {},
   "source": [
    "#### 1.1 for loop in list"
   ]
  },
  {
   "cell_type": "code",
   "execution_count": 8,
   "id": "8c75ed71",
   "metadata": {},
   "outputs": [
    {
     "name": "stdout",
     "output_type": "stream",
     "text": [
      "10\n",
      "20\n",
      "30\n",
      "14\n",
      "26\n"
     ]
    }
   ],
   "source": [
    "list1 = [10,20,30,14,26]\n",
    "for i in list1:\n",
    "    print(i)"
   ]
  },
  {
   "cell_type": "code",
   "execution_count": 9,
   "id": "31139a52",
   "metadata": {},
   "outputs": [
    {
     "name": "stdout",
     "output_type": "stream",
     "text": [
      "0 10\n",
      "1 20\n",
      "2 30\n",
      "3 14\n",
      "4 26\n"
     ]
    }
   ],
   "source": [
    "list1 = [10,20,30,14,26]\n",
    "for i,v in enumerate(list1):\n",
    "    print(i,v)"
   ]
  },
  {
   "cell_type": "code",
   "execution_count": 10,
   "id": "a894d24d",
   "metadata": {},
   "outputs": [
    {
     "name": "stdout",
     "output_type": "stream",
     "text": [
      "Integers : [2, 3, 20, 100]\n",
      "Float    : [4.5, 5.14, 15.1, 9.45]\n",
      "String   : ['python', 'data science']\n"
     ]
    }
   ],
   "source": [
    "list1 = [2,3,4.5,20,5.14,'python',100,15.10,'data science',9.45]\n",
    "\n",
    "intList = []\n",
    "floatList = []\n",
    "strList = []\n",
    "for value in list1:\n",
    "    if type(value) == int:\n",
    "        intList.append(value)\n",
    "        \n",
    "    elif type(value) == float:\n",
    "        floatList.append(value)\n",
    "        \n",
    "    else:\n",
    "        strList.append(value)\n",
    "\n",
    "print(\"Integers :\",intList)\n",
    "print(\"Float    :\",floatList)\n",
    "print(\"String   :\",strList)"
   ]
  },
  {
   "cell_type": "code",
   "execution_count": 11,
   "id": "8954abf8",
   "metadata": {},
   "outputs": [
    {
     "name": "stdout",
     "output_type": "stream",
     "text": [
      "Enter value : 56\n",
      "Enter value : data\n",
      "Enter value : 6.9\n",
      "Enter value : 23\n",
      "Enter value : python\n",
      "Enter value : science\n",
      "Enter value : 3.3\n",
      "[56, 23]\n",
      "['data', 'python', 'science']\n",
      "[6.9, 3.3]\n"
     ]
    }
   ],
   "source": [
    "intList = []\n",
    "strList = []\n",
    "floatList = []\n",
    "for i in range(7):\n",
    "    a = input('Enter value : ')\n",
    "    \n",
    "    if a.isdigit():\n",
    "        intList.append(int(a))\n",
    "        \n",
    "    elif a.isalpha():\n",
    "        strList.append(a)\n",
    "        \n",
    "    else:\n",
    "        floatList.append(float(a))\n",
    "    \n",
    "print(intList)\n",
    "print(strList)\n",
    "print(floatList)"
   ]
  },
  {
   "cell_type": "markdown",
   "id": "44685f01",
   "metadata": {},
   "source": [
    "### Loop control statement"
   ]
  },
  {
   "cell_type": "code",
   "execution_count": null,
   "id": "b182f9d8",
   "metadata": {},
   "outputs": [],
   "source": [
    "1. break\n",
    "2. continue\n",
    "3. pass"
   ]
  },
  {
   "cell_type": "markdown",
   "id": "72d10e84",
   "metadata": {},
   "source": [
    "#### 1.break"
   ]
  },
  {
   "cell_type": "markdown",
   "id": "9e2e36be",
   "metadata": {},
   "source": [
    "use to exit for loop"
   ]
  },
  {
   "cell_type": "code",
   "execution_count": 12,
   "id": "46dcf002",
   "metadata": {},
   "outputs": [
    {
     "name": "stdout",
     "output_type": "stream",
     "text": [
      "0\n",
      "1\n",
      "2\n",
      "3\n",
      "4\n",
      "5\n",
      "6\n",
      "7\n",
      "8\n",
      "9\n"
     ]
    }
   ],
   "source": [
    "for i in range(10):\n",
    "    print(i)"
   ]
  },
  {
   "cell_type": "code",
   "execution_count": 13,
   "id": "a1816f3a",
   "metadata": {},
   "outputs": [
    {
     "name": "stdout",
     "output_type": "stream",
     "text": [
      "i==0\n",
      "i==1\n",
      "i==2\n",
      "i==3\n",
      "i==4\n",
      "i==5\n",
      "i==6\n",
      "found item\n",
      "i==7\n",
      "i==8\n",
      "i==9\n"
     ]
    }
   ],
   "source": [
    "for i in range(10):\n",
    "    print(f'i=={i}')\n",
    "    if i==6:\n",
    "        print('found item')"
   ]
  },
  {
   "cell_type": "code",
   "execution_count": 14,
   "id": "26d8be26",
   "metadata": {},
   "outputs": [
    {
     "name": "stdout",
     "output_type": "stream",
     "text": [
      "i==0\n",
      "i==1\n",
      "i==2\n",
      "i==3\n",
      "i==4\n",
      "i==5\n",
      "i==6\n",
      "found item\n"
     ]
    }
   ],
   "source": [
    "for i in range(10):\n",
    "    print(f'i=={i}')\n",
    "    if i==6:\n",
    "        print('found item')\n",
    "        break"
   ]
  },
  {
   "cell_type": "code",
   "execution_count": 15,
   "id": "bbf828b2",
   "metadata": {},
   "outputs": [
    {
     "name": "stdout",
     "output_type": "stream",
     "text": [
      "i==0\n",
      "i==1\n",
      "i==2\n",
      "i==3\n",
      "i==4\n",
      "i==5\n",
      "i==6\n"
     ]
    }
   ],
   "source": [
    "for i in range(10):\n",
    "    print(f'i=={i}')\n",
    "    if i==6:\n",
    "        break\n",
    "        print('found item')\n",
    "        "
   ]
  },
  {
   "cell_type": "code",
   "execution_count": 16,
   "id": "7260b3ec",
   "metadata": {},
   "outputs": [
    {
     "name": "stdout",
     "output_type": "stream",
     "text": [
      "2\n",
      "4\n",
      "6\n",
      "7\n",
      "Odd number found in list\n"
     ]
    }
   ],
   "source": [
    "numbers = [2,4,6,7,8,10,20]\n",
    "for item in numbers:\n",
    "    print(item)\n",
    "    if item % 2 != 0:\n",
    "        print('Odd number found in list')\n",
    "        break"
   ]
  },
  {
   "cell_type": "markdown",
   "id": "0721de7c",
   "metadata": {},
   "source": [
    "#### 2. continue"
   ]
  },
  {
   "cell_type": "markdown",
   "id": "9cd5caa1",
   "metadata": {},
   "source": [
    "Used to stop only current iteratio, and contineu with next iteration"
   ]
  },
  {
   "cell_type": "code",
   "execution_count": 17,
   "id": "258bc987",
   "metadata": {},
   "outputs": [
    {
     "name": "stdout",
     "output_type": "stream",
     "text": [
      "i == 0\n",
      "i == 1\n",
      "i == 2\n",
      "i == 3\n",
      "i == 4\n",
      "i == 5\n",
      "i == 6\n",
      "i == 7\n",
      "Required value found\n",
      "i == 8\n",
      "i == 9\n"
     ]
    }
   ],
   "source": [
    "for i in range(10):\n",
    "    print(f'i == {i}')\n",
    "    if i == 7:\n",
    "        print(\"Required value found\")\n",
    "        continue"
   ]
  },
  {
   "cell_type": "code",
   "execution_count": 19,
   "id": "17fd7aae",
   "metadata": {},
   "outputs": [
    {
     "name": "stdout",
     "output_type": "stream",
     "text": [
      "i == 0\n",
      "i == 1\n",
      "i == 2\n",
      "i == 3\n",
      "i == 4\n",
      "i == 5\n",
      "i == 6\n",
      "Required value found\n",
      "i == 8\n",
      "i == 9\n"
     ]
    }
   ],
   "source": [
    "for i in range(10):\n",
    "    if i == 7:\n",
    "        print(\"Required value found\")\n",
    "        continue # used to stop current iteration\n",
    "    print(f'i == {i}')\n"
   ]
  },
  {
   "cell_type": "markdown",
   "id": "51610aa2",
   "metadata": {},
   "source": [
    "#### 3.pass "
   ]
  },
  {
   "cell_type": "markdown",
   "id": "006ef44e",
   "metadata": {},
   "source": [
    "he pass statement is used as a placeholder for future code. When the pass statement is executed, nothing happens, but you avoid getting an error when empty code is not allowed. "
   ]
  },
  {
   "cell_type": "code",
   "execution_count": 20,
   "id": "7b83ea68",
   "metadata": {},
   "outputs": [
    {
     "name": "stdout",
     "output_type": "stream",
     "text": [
      "Value in i variable is : 10\n",
      "Value in i variable is : 20\n",
      "Value in i variable is : 40\n"
     ]
    }
   ],
   "source": [
    "for i in [10,20,40]:\n",
    "    print('Value in i variable is :',i)"
   ]
  },
  {
   "cell_type": "code",
   "execution_count": 21,
   "id": "81a14e62",
   "metadata": {},
   "outputs": [
    {
     "name": "stdout",
     "output_type": "stream",
     "text": [
      "Value in i variable is : 10\n",
      "Value in i variable is : 20\n",
      "Value in i variable is : 40\n"
     ]
    }
   ],
   "source": [
    "for i in [10,20,40]:\n",
    "    print('Value in i variable is :',i)\n",
    "    pass"
   ]
  },
  {
   "cell_type": "markdown",
   "id": "f8302255",
   "metadata": {},
   "source": [
    "### for-else"
   ]
  },
  {
   "cell_type": "markdown",
   "id": "2228746b",
   "metadata": {},
   "source": [
    "Else block will execute only when the loop completes its all iterations"
   ]
  },
  {
   "cell_type": "code",
   "execution_count": 23,
   "id": "3991124e",
   "metadata": {},
   "outputs": [
    {
     "name": "stdout",
     "output_type": "stream",
     "text": [
      "i == 0\n",
      "i == 1\n",
      "i == 2\n",
      "i == 3\n",
      "i == 4\n",
      "i == 5\n",
      "i == 6\n",
      "i == 7\n",
      "i == 8\n"
     ]
    }
   ],
   "source": [
    "for i in range(10):\n",
    "    print(f'i == {i}')\n",
    "    if i == 8:\n",
    "        break\n",
    "        \n",
    "else: \n",
    "    print('Loop Completed')"
   ]
  },
  {
   "cell_type": "code",
   "execution_count": 24,
   "id": "d4ddbed0",
   "metadata": {},
   "outputs": [
    {
     "name": "stdout",
     "output_type": "stream",
     "text": [
      "i == 0\n",
      "i == 1\n",
      "i == 2\n",
      "i == 3\n",
      "i == 4\n",
      "i == 5\n",
      "i == 6\n",
      "i == 7\n",
      "i == 8\n",
      "i == 9\n",
      "Loop Completed\n"
     ]
    }
   ],
   "source": [
    "for i in range(10):\n",
    "    print(f'i == {i}')\n",
    "    if i == 8:\n",
    "        pass\n",
    "        \n",
    "else: \n",
    "    print('Loop Completed')"
   ]
  },
  {
   "cell_type": "code",
   "execution_count": 25,
   "id": "858546c5",
   "metadata": {},
   "outputs": [
    {
     "name": "stdout",
     "output_type": "stream",
     "text": [
      "i == 0\n",
      "i == 1\n",
      "i == 2\n",
      "i == 3\n",
      "i == 4\n",
      "i == 5\n",
      "i == 6\n",
      "i == 7\n",
      "i == 8\n",
      "i == 9\n",
      "Loop Completed\n"
     ]
    }
   ],
   "source": [
    "for i in range(10):\n",
    "    print(f'i == {i}')\n",
    "    if i == 8:\n",
    "        continue\n",
    "        \n",
    "else: \n",
    "    print('Loop Completed')"
   ]
  },
  {
   "cell_type": "markdown",
   "id": "19b33c9c",
   "metadata": {},
   "source": [
    "### Factorial of Numbers"
   ]
  },
  {
   "cell_type": "code",
   "execution_count": null,
   "id": "532d8572",
   "metadata": {},
   "outputs": [],
   "source": []
  }
 ],
 "metadata": {
  "kernelspec": {
   "display_name": "Python 3 (ipykernel)",
   "language": "python",
   "name": "python3"
  },
  "language_info": {
   "codemirror_mode": {
    "name": "ipython",
    "version": 3
   },
   "file_extension": ".py",
   "mimetype": "text/x-python",
   "name": "python",
   "nbconvert_exporter": "python",
   "pygments_lexer": "ipython3",
   "version": "3.9.7"
  }
 },
 "nbformat": 4,
 "nbformat_minor": 5
}
