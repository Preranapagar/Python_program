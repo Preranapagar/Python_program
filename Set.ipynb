{
 "cells": [
  {
   "cell_type": "markdown",
   "id": "d9f8e4ac",
   "metadata": {},
   "source": [
    "# Set"
   ]
  },
  {
   "cell_type": "code",
   "execution_count": null,
   "id": "6e1f39c5",
   "metadata": {},
   "outputs": [],
   "source": [
    "string  :  Ordered, Immutable, Duplicates are allowed,  \"\"\n",
    "list    :  Ordered, Mutable,   Duplicates are allowed,  []\n",
    "tuple   :  Ordered, Immutable, Duplicates are allowed,  ()\n",
    "set     : Unordered,Mutable,   Duplicates are not allowed, {}"
   ]
  },
  {
   "cell_type": "code",
   "execution_count": null,
   "id": "35d5bfca",
   "metadata": {},
   "outputs": [],
   "source": [
    "#Set\n",
    "\n",
    "1. Unordered\n",
    "2. Mutable\n",
    "3. Duplicates are not allowed\n",
    "4. set are enclosed by {}"
   ]
  },
  {
   "cell_type": "code",
   "execution_count": 1,
   "id": "bdb7fa55",
   "metadata": {},
   "outputs": [
    {
     "name": "stdout",
     "output_type": "stream",
     "text": [
      "<class 'list'>\n",
      "<class 'tuple'>\n",
      "<class 'dict'>\n",
      "<class 'str'>\n"
     ]
    }
   ],
   "source": [
    "var=[]\n",
    "var1=()\n",
    "var2={}\n",
    "var3=''\n",
    "\n",
    "print(type(var))\n",
    "print(type(var1))\n",
    "print(type(var2))\n",
    "print(type(var3))"
   ]
  },
  {
   "cell_type": "code",
   "execution_count": 2,
   "id": "1371590e",
   "metadata": {},
   "outputs": [
    {
     "data": {
      "text/plain": [
       "set"
      ]
     },
     "execution_count": 2,
     "metadata": {},
     "output_type": "execute_result"
    }
   ],
   "source": [
    "var = {1,2,3,5,6}\n",
    "type(var)"
   ]
  },
  {
   "cell_type": "code",
   "execution_count": 3,
   "id": "63f5b875",
   "metadata": {},
   "outputs": [
    {
     "data": {
      "text/plain": [
       "dict"
      ]
     },
     "execution_count": 3,
     "metadata": {},
     "output_type": "execute_result"
    }
   ],
   "source": [
    "var = {}  \n",
    "type(var)"
   ]
  },
  {
   "cell_type": "code",
   "execution_count": 4,
   "id": "9f6d259d",
   "metadata": {},
   "outputs": [
    {
     "data": {
      "text/plain": [
       "set"
      ]
     },
     "execution_count": 4,
     "metadata": {},
     "output_type": "execute_result"
    }
   ],
   "source": [
    "var = {2}  \n",
    "type(var)"
   ]
  },
  {
   "cell_type": "code",
   "execution_count": 5,
   "id": "580311a9",
   "metadata": {},
   "outputs": [
    {
     "data": {
      "text/plain": [
       "12"
      ]
     },
     "execution_count": 5,
     "metadata": {},
     "output_type": "execute_result"
    }
   ],
   "source": [
    "list1 = [2,3,'a',5,1,'b',10,20,15,3.14,5.67,2]\n",
    "len(list1)"
   ]
  },
  {
   "cell_type": "code",
   "execution_count": 6,
   "id": "3c583e05",
   "metadata": {},
   "outputs": [
    {
     "data": {
      "text/plain": [
       "11"
      ]
     },
     "execution_count": 6,
     "metadata": {},
     "output_type": "execute_result"
    }
   ],
   "source": [
    "len(set(list1))"
   ]
  },
  {
   "cell_type": "code",
   "execution_count": 7,
   "id": "b02468b9",
   "metadata": {},
   "outputs": [
    {
     "name": "stdout",
     "output_type": "stream",
     "text": [
      "[True, False, True, True, False] 5\n"
     ]
    }
   ],
   "source": [
    "var = [True,False ,True, True, False]\n",
    "print(var,len(var))"
   ]
  },
  {
   "cell_type": "code",
   "execution_count": 8,
   "id": "f41a7216",
   "metadata": {},
   "outputs": [
    {
     "name": "stdout",
     "output_type": "stream",
     "text": [
      "{False, True} 2\n"
     ]
    }
   ],
   "source": [
    "var = {True,False ,True, True, False}\n",
    "print(var,len(var))"
   ]
  },
  {
   "cell_type": "code",
   "execution_count": 9,
   "id": "073107d1",
   "metadata": {},
   "outputs": [
    {
     "name": "stdout",
     "output_type": "stream",
     "text": [
      "[True, False, True, True, False, 1, 1, 1, 0, 0, 0, 1] 12\n"
     ]
    }
   ],
   "source": [
    "var = [True,False ,True, True, False,1,1,1,0,0,0,1]\n",
    "print(var,len(var))"
   ]
  },
  {
   "cell_type": "code",
   "execution_count": 10,
   "id": "5ef491dd",
   "metadata": {},
   "outputs": [
    {
     "name": "stdout",
     "output_type": "stream",
     "text": [
      "{False, True} 2\n"
     ]
    }
   ],
   "source": [
    "var = {True,False ,True, True, False,1,1,1,0,0,0,1}\n",
    "print(var,len(var))"
   ]
  },
  {
   "cell_type": "code",
   "execution_count": 11,
   "id": "1cdbf61c",
   "metadata": {},
   "outputs": [
    {
     "name": "stdout",
     "output_type": "stream",
     "text": [
      "{False, 1} 2\n"
     ]
    }
   ],
   "source": [
    "var = {1,1,1,False ,True, True,0,0,0,1,True}\n",
    "print(var,len(var))"
   ]
  },
  {
   "cell_type": "code",
   "execution_count": null,
   "id": "f263f982",
   "metadata": {},
   "outputs": [],
   "source": [
    "True >> 1\n",
    "False >> 0"
   ]
  },
  {
   "cell_type": "markdown",
   "id": "7fac1154",
   "metadata": {},
   "source": [
    "### 1. Set Constructor"
   ]
  },
  {
   "cell_type": "code",
   "execution_count": 12,
   "id": "5e772ce2",
   "metadata": {},
   "outputs": [
    {
     "name": "stdout",
     "output_type": "stream",
     "text": [
      "[4, 5, 7, 8, 4, 4, 2] 7\n",
      "{2, 4, 5, 7, 8} 5\n"
     ]
    }
   ],
   "source": [
    "list1=[4,5,7,8,4,4,2]\n",
    "print(list1,len(list1))\n",
    "\n",
    "set1=set(list1)\n",
    "print(set1,len(set1))"
   ]
  },
  {
   "cell_type": "code",
   "execution_count": 13,
   "id": "86aec215",
   "metadata": {},
   "outputs": [
    {
     "name": "stdout",
     "output_type": "stream",
     "text": [
      "[2, 4, 5, 7, 8] 5\n"
     ]
    }
   ],
   "source": [
    "new_list=list(set1)\n",
    "print(new_list,len(new_list))"
   ]
  },
  {
   "cell_type": "markdown",
   "id": "7f8c1f54",
   "metadata": {},
   "source": [
    "### 2. Accessing set items"
   ]
  },
  {
   "cell_type": "markdown",
   "id": "6b1fb0da",
   "metadata": {},
   "source": [
    "We can not indexing and slicing in set data type"
   ]
  },
  {
   "cell_type": "code",
   "execution_count": 14,
   "id": "c3599725",
   "metadata": {},
   "outputs": [
    {
     "ename": "TypeError",
     "evalue": "'set' object is not subscriptable",
     "output_type": "error",
     "traceback": [
      "\u001b[1;31m---------------------------------------------------------------------------\u001b[0m",
      "\u001b[1;31mTypeError\u001b[0m                                 Traceback (most recent call last)",
      "\u001b[1;32m~\\AppData\\Local\\Temp\\ipykernel_55980\\2778607188.py\u001b[0m in \u001b[0;36m<cell line: 2>\u001b[1;34m()\u001b[0m\n\u001b[0;32m      1\u001b[0m \u001b[0mset1\u001b[0m \u001b[1;33m=\u001b[0m \u001b[1;33m{\u001b[0m\u001b[1;34m'phy'\u001b[0m\u001b[1;33m,\u001b[0m\u001b[1;34m'che'\u001b[0m\u001b[1;33m,\u001b[0m\u001b[1;34m'math'\u001b[0m\u001b[1;33m,\u001b[0m\u001b[1;34m'eng'\u001b[0m\u001b[1;33m,\u001b[0m\u001b[1;34m'bio'\u001b[0m\u001b[1;33m}\u001b[0m\u001b[1;33m\u001b[0m\u001b[1;33m\u001b[0m\u001b[0m\n\u001b[1;32m----> 2\u001b[1;33m \u001b[0mset1\u001b[0m\u001b[1;33m[\u001b[0m\u001b[1;36m0\u001b[0m\u001b[1;33m]\u001b[0m\u001b[1;33m\u001b[0m\u001b[1;33m\u001b[0m\u001b[0m\n\u001b[0m",
      "\u001b[1;31mTypeError\u001b[0m: 'set' object is not subscriptable"
     ]
    }
   ],
   "source": [
    "set1 = {'phy','che','math','eng','bio'}\n",
    "set1[0]"
   ]
  },
  {
   "cell_type": "code",
   "execution_count": 15,
   "id": "f1f827d8",
   "metadata": {},
   "outputs": [
    {
     "name": "stdout",
     "output_type": "stream",
     "text": [
      "sub_names >>  {'eng', 'phy', 'bio', 'che', 'math'}\n",
      "Subject name is : eng\n",
      "Subject name is : phy\n",
      "Subject name is : bio\n",
      "Subject name is : che\n",
      "Subject name is : math\n"
     ]
    }
   ],
   "source": [
    "sub_names = {'phy','che','math','eng','bio','math','che'}\n",
    "print('sub_names >> ',sub_names) # 5\n",
    "\n",
    "for subject in sub_names:\n",
    "    print(\"Subject name is :\",subject)"
   ]
  },
  {
   "cell_type": "markdown",
   "id": "3d15649e",
   "metadata": {},
   "source": [
    "### 3. Set Functions"
   ]
  },
  {
   "cell_type": "code",
   "execution_count": null,
   "id": "1cfc2be7",
   "metadata": {},
   "outputs": [],
   "source": [
    "1. add()\n",
    "2. update()\n",
    "3. union()\n",
    "4. remove()\n",
    "5. discard()\n",
    "6. pop()\n",
    "7. clear()\n",
    "8. intersection()\n",
    "9. intersection_update()\n",
    "10. difference()\n",
    "11. difference_update()\n",
    "12. symmetric_difference()\n",
    "13. symmetric_difference_update()\n",
    "14. issubset()\n",
    "15. issuperset()\n",
    "16. isdisjoint()"
   ]
  },
  {
   "cell_type": "markdown",
   "id": "8ea4bd2c",
   "metadata": {},
   "source": [
    "#### 3.1 add()"
   ]
  },
  {
   "cell_type": "markdown",
   "id": "a6d4d152",
   "metadata": {},
   "source": [
    "Use to add only one item in set"
   ]
  },
  {
   "cell_type": "code",
   "execution_count": 16,
   "id": "35833773",
   "metadata": {},
   "outputs": [
    {
     "name": "stdout",
     "output_type": "stream",
     "text": [
      "{10, 20, 30}\n",
      "{40, 10, 20, 30}\n"
     ]
    }
   ],
   "source": [
    "set1={10,20,30}\n",
    "print(set1)\n",
    "set1.add(40)\n",
    "print(set1)"
   ]
  },
  {
   "cell_type": "code",
   "execution_count": 18,
   "id": "3da74b98",
   "metadata": {},
   "outputs": [
    {
     "ename": "TypeError",
     "evalue": "set.add() takes exactly one argument (2 given)",
     "output_type": "error",
     "traceback": [
      "\u001b[1;31m---------------------------------------------------------------------------\u001b[0m",
      "\u001b[1;31mTypeError\u001b[0m                                 Traceback (most recent call last)",
      "\u001b[1;32m~\\AppData\\Local\\Temp\\ipykernel_55980\\3905226808.py\u001b[0m in \u001b[0;36m<cell line: 1>\u001b[1;34m()\u001b[0m\n\u001b[1;32m----> 1\u001b[1;33m \u001b[0mset1\u001b[0m\u001b[1;33m.\u001b[0m\u001b[0madd\u001b[0m\u001b[1;33m(\u001b[0m\u001b[1;36m1\u001b[0m\u001b[1;33m,\u001b[0m\u001b[1;36m2\u001b[0m\u001b[1;33m)\u001b[0m\u001b[1;33m\u001b[0m\u001b[1;33m\u001b[0m\u001b[0m\n\u001b[0m\u001b[0;32m      2\u001b[0m \u001b[0mprint\u001b[0m\u001b[1;33m(\u001b[0m\u001b[0mset1\u001b[0m\u001b[1;33m)\u001b[0m\u001b[1;33m\u001b[0m\u001b[1;33m\u001b[0m\u001b[0m\n",
      "\u001b[1;31mTypeError\u001b[0m: set.add() takes exactly one argument (2 given)"
     ]
    }
   ],
   "source": [
    "set1.add(1,2)\n",
    "print(set1)"
   ]
  },
  {
   "cell_type": "markdown",
   "id": "7570db23",
   "metadata": {},
   "source": [
    "#### 3.2 update()"
   ]
  },
  {
   "cell_type": "code",
   "execution_count": 19,
   "id": "0fcacd85",
   "metadata": {},
   "outputs": [
    {
     "name": "stdout",
     "output_type": "stream",
     "text": [
      "{1, 2, 3, 4, 5, 6}\n"
     ]
    }
   ],
   "source": [
    "set1={1,2,3}\n",
    "set2={4,5,6}\n",
    "set1.update(set2)\n",
    "print(set1)"
   ]
  },
  {
   "cell_type": "code",
   "execution_count": 20,
   "id": "96d20cd8",
   "metadata": {},
   "outputs": [
    {
     "name": "stdout",
     "output_type": "stream",
     "text": [
      "None\n"
     ]
    }
   ],
   "source": [
    "set1={1,2,3}\n",
    "set2={4,5,6}\n",
    "set3=set1.update(set2)\n",
    "print(set3)"
   ]
  },
  {
   "cell_type": "markdown",
   "id": "e7c7ec69",
   "metadata": {},
   "source": [
    "#### 3.3 union()"
   ]
  },
  {
   "cell_type": "markdown",
   "id": "05f62a1c",
   "metadata": {},
   "source": [
    "returns new set"
   ]
  },
  {
   "cell_type": "code",
   "execution_count": 21,
   "id": "356a10aa",
   "metadata": {},
   "outputs": [
    {
     "name": "stdout",
     "output_type": "stream",
     "text": [
      "{1, 2, 3, 4, 5, 6}\n"
     ]
    }
   ],
   "source": [
    "set1={1,2,3}\n",
    "set2={4,5,6}\n",
    "set3=set1.union(set2)\n",
    "print(set3)"
   ]
  },
  {
   "cell_type": "code",
   "execution_count": 22,
   "id": "d91248dd",
   "metadata": {},
   "outputs": [
    {
     "name": "stdout",
     "output_type": "stream",
     "text": [
      "set1 :  {1, 2, 3, 4, 5}\n",
      "set2 :  {4, 5, 6, 7, 8}\n",
      "set3 :  {1, 2, 3, 4, 5, 6, 7, 8}\n"
     ]
    }
   ],
   "source": [
    "set1 = {1,2,3,4,5,3}  # 5\n",
    "set2 = {4,5,6,6,7,8}  # 5\n",
    "\n",
    "set3 = set1.union(set2)\n",
    "\n",
    "print(\"set1 : \",set1)\n",
    "print(\"set2 : \",set2)\n",
    "print(\"set3 : \",set3)"
   ]
  },
  {
   "cell_type": "code",
   "execution_count": 23,
   "id": "053e26cf",
   "metadata": {},
   "outputs": [
    {
     "name": "stdout",
     "output_type": "stream",
     "text": [
      "set1 :  {1, 2, 3, 4, 5, 6, 7, 8}\n",
      "set2 :  {4, 5, 6, 7, 8}\n",
      "set3 :  None\n"
     ]
    }
   ],
   "source": [
    "set1 = {1,2,3,4,5,3}  # 5\n",
    "set2 = {4,5,6,6,7,8}  # 5\n",
    "\n",
    "set3 = set1.update(set2) # None\n",
    "\n",
    "print(\"set1 : \",set1)\n",
    "print(\"set2 : \",set2)\n",
    "print(\"set3 : \",set3)"
   ]
  },
  {
   "cell_type": "code",
   "execution_count": 25,
   "id": "647afdbe",
   "metadata": {},
   "outputs": [
    {
     "name": "stdout",
     "output_type": "stream",
     "text": [
      "{2, 3, 4, 5} 4\n",
      "[3, 5, 6, 7, 8] 5\n",
      "{2, 3, 4, 5, 6, 7, 8} 7\n"
     ]
    }
   ],
   "source": [
    "st={2,3,4,5}\n",
    "l1=[3,5,6,7,8]\n",
    "\n",
    "ns=st.union(l1)\n",
    "print(st,len(st))\n",
    "print(l1,len(l1))\n",
    "print(ns,len(ns))"
   ]
  },
  {
   "cell_type": "markdown",
   "id": "55bef264",
   "metadata": {},
   "source": [
    "#### 3.4 remove()"
   ]
  },
  {
   "cell_type": "markdown",
   "id": "6498381d",
   "metadata": {},
   "source": [
    "set.remove(item)"
   ]
  },
  {
   "cell_type": "code",
   "execution_count": 26,
   "id": "d2e3b27c",
   "metadata": {},
   "outputs": [
    {
     "name": "stdout",
     "output_type": "stream",
     "text": [
      "{40, 10, 20, 30}\n",
      "{40, 10, 30}\n"
     ]
    }
   ],
   "source": [
    "set1={10,20,30,40}\n",
    "print(set1)\n",
    "\n",
    "set1.remove(20)\n",
    "print(set1)"
   ]
  },
  {
   "cell_type": "markdown",
   "id": "f363d805",
   "metadata": {},
   "source": [
    "#### 3.5 discard()"
   ]
  },
  {
   "cell_type": "code",
   "execution_count": 27,
   "id": "1db2311c",
   "metadata": {},
   "outputs": [
    {
     "name": "stdout",
     "output_type": "stream",
     "text": [
      "{40, 10, 20, 30}\n",
      "{40, 10, 30}\n"
     ]
    }
   ],
   "source": [
    "set1={10,20,30,40}\n",
    "print(set1)\n",
    "\n",
    "set1.remove(20)\n",
    "print(set1)"
   ]
  },
  {
   "cell_type": "code",
   "execution_count": 28,
   "id": "dd4c6ec9",
   "metadata": {},
   "outputs": [
    {
     "name": "stdout",
     "output_type": "stream",
     "text": [
      "{40, 10, 20, 30}\n"
     ]
    },
    {
     "ename": "KeyError",
     "evalue": "50",
     "output_type": "error",
     "traceback": [
      "\u001b[1;31m---------------------------------------------------------------------------\u001b[0m",
      "\u001b[1;31mKeyError\u001b[0m                                  Traceback (most recent call last)",
      "\u001b[1;32m~\\AppData\\Local\\Temp\\ipykernel_55980\\1170333361.py\u001b[0m in \u001b[0;36m<cell line: 4>\u001b[1;34m()\u001b[0m\n\u001b[0;32m      2\u001b[0m \u001b[0mprint\u001b[0m\u001b[1;33m(\u001b[0m\u001b[0mset1\u001b[0m\u001b[1;33m)\u001b[0m\u001b[1;33m\u001b[0m\u001b[1;33m\u001b[0m\u001b[0m\n\u001b[0;32m      3\u001b[0m \u001b[1;33m\u001b[0m\u001b[0m\n\u001b[1;32m----> 4\u001b[1;33m \u001b[0mset1\u001b[0m\u001b[1;33m.\u001b[0m\u001b[0mremove\u001b[0m\u001b[1;33m(\u001b[0m\u001b[1;36m50\u001b[0m\u001b[1;33m)\u001b[0m\u001b[1;33m\u001b[0m\u001b[1;33m\u001b[0m\u001b[0m\n\u001b[0m\u001b[0;32m      5\u001b[0m \u001b[0mprint\u001b[0m\u001b[1;33m(\u001b[0m\u001b[0mset1\u001b[0m\u001b[1;33m)\u001b[0m\u001b[1;33m\u001b[0m\u001b[1;33m\u001b[0m\u001b[0m\n",
      "\u001b[1;31mKeyError\u001b[0m: 50"
     ]
    }
   ],
   "source": [
    "set1={10,20,30,40}\n",
    "print(set1)\n",
    "\n",
    "set1.remove(50)\n",
    "print(set1)"
   ]
  },
  {
   "cell_type": "code",
   "execution_count": 29,
   "id": "9212d377",
   "metadata": {},
   "outputs": [
    {
     "name": "stdout",
     "output_type": "stream",
     "text": [
      "{40, 10, 20, 30}\n",
      "{40, 10, 20, 30}\n"
     ]
    }
   ],
   "source": [
    "set1={10,20,30,40}\n",
    "print(set1)\n",
    "\n",
    "set1.discard(50)\n",
    "print(set1)"
   ]
  },
  {
   "cell_type": "markdown",
   "id": "f548c4be",
   "metadata": {},
   "source": [
    "#### 3.6 pop()"
   ]
  },
  {
   "cell_type": "markdown",
   "id": "f6b54646",
   "metadata": {},
   "source": [
    "It will delete random item from set"
   ]
  },
  {
   "cell_type": "code",
   "execution_count": 30,
   "id": "6fad9261",
   "metadata": {},
   "outputs": [
    {
     "name": "stdout",
     "output_type": "stream",
     "text": [
      "{1, 2, 3, 4, 5, 6}\n",
      "{2, 3, 4, 5, 6}\n"
     ]
    }
   ],
   "source": [
    "set1={1,2,3,4,5,6}\n",
    "print(set1)\n",
    "set1.pop()\n",
    "print(set1)"
   ]
  },
  {
   "cell_type": "code",
   "execution_count": 31,
   "id": "3554c765",
   "metadata": {},
   "outputs": [
    {
     "name": "stdout",
     "output_type": "stream",
     "text": [
      "{'c', 'd', 'a', 'j'}\n",
      "{'d', 'a', 'j'}\n"
     ]
    }
   ],
   "source": [
    "set2={'a','j','c','d'}\n",
    "print(set2)\n",
    "set2.pop()\n",
    "print(set2)"
   ]
  },
  {
   "cell_type": "markdown",
   "id": "64ff6142",
   "metadata": {},
   "source": [
    "#### 3.7 clear()"
   ]
  },
  {
   "cell_type": "markdown",
   "id": "7ea1a314",
   "metadata": {},
   "source": [
    "to remove all the items from set"
   ]
  },
  {
   "cell_type": "code",
   "execution_count": 32,
   "id": "bd23ebbc",
   "metadata": {},
   "outputs": [
    {
     "name": "stdout",
     "output_type": "stream",
     "text": [
      "{'d', 'a', 'j'}\n"
     ]
    }
   ],
   "source": [
    "print(set2)"
   ]
  },
  {
   "cell_type": "code",
   "execution_count": 33,
   "id": "b2b5637f",
   "metadata": {},
   "outputs": [
    {
     "name": "stdout",
     "output_type": "stream",
     "text": [
      "set()\n"
     ]
    }
   ],
   "source": [
    "set2.clear()\n",
    "print(set2)"
   ]
  },
  {
   "cell_type": "markdown",
   "id": "d6717713",
   "metadata": {},
   "source": [
    "#### 3.8 del"
   ]
  },
  {
   "cell_type": "code",
   "execution_count": 34,
   "id": "0b7fc06d",
   "metadata": {},
   "outputs": [],
   "source": [
    "del set2"
   ]
  },
  {
   "cell_type": "code",
   "execution_count": 35,
   "id": "8b457c5c",
   "metadata": {},
   "outputs": [
    {
     "ename": "NameError",
     "evalue": "name 'set2' is not defined",
     "output_type": "error",
     "traceback": [
      "\u001b[1;31m---------------------------------------------------------------------------\u001b[0m",
      "\u001b[1;31mNameError\u001b[0m                                 Traceback (most recent call last)",
      "\u001b[1;32m~\\AppData\\Local\\Temp\\ipykernel_55980\\3875216140.py\u001b[0m in \u001b[0;36m<cell line: 1>\u001b[1;34m()\u001b[0m\n\u001b[1;32m----> 1\u001b[1;33m \u001b[0mprint\u001b[0m\u001b[1;33m(\u001b[0m\u001b[0mset2\u001b[0m\u001b[1;33m)\u001b[0m\u001b[1;33m\u001b[0m\u001b[1;33m\u001b[0m\u001b[0m\n\u001b[0m",
      "\u001b[1;31mNameError\u001b[0m: name 'set2' is not defined"
     ]
    }
   ],
   "source": [
    "print(set2)"
   ]
  },
  {
   "cell_type": "markdown",
   "id": "9b54e018",
   "metadata": {},
   "source": [
    "#### 3.9 intersection()"
   ]
  },
  {
   "cell_type": "code",
   "execution_count": 36,
   "id": "68161955",
   "metadata": {},
   "outputs": [
    {
     "name": "stdout",
     "output_type": "stream",
     "text": [
      "{1, 2, 3, 4}\n",
      "{8, 5, 6, 7}\n",
      "set()\n"
     ]
    }
   ],
   "source": [
    "set1={1,2,3,4}\n",
    "set2={5,6,7,8}\n",
    "\n",
    "set3=set1.intersection(set2)\n",
    "print(set1)\n",
    "print(set2)\n",
    "print(set3)"
   ]
  },
  {
   "cell_type": "code",
   "execution_count": 37,
   "id": "618bcf05",
   "metadata": {},
   "outputs": [
    {
     "name": "stdout",
     "output_type": "stream",
     "text": [
      "{1, 2, 3, 4, 5}\n",
      "{8, 5, 6, 7}\n",
      "{5}\n"
     ]
    }
   ],
   "source": [
    "set1={1,2,3,4,5}\n",
    "set2={5,6,7,8}\n",
    "\n",
    "set3=set1.intersection(set2)\n",
    "print(set1)\n",
    "print(set2)\n",
    "print(set3)"
   ]
  },
  {
   "cell_type": "code",
   "execution_count": 38,
   "id": "38bb223f",
   "metadata": {},
   "outputs": [
    {
     "name": "stdout",
     "output_type": "stream",
     "text": [
      "{'Pune'}\n"
     ]
    }
   ],
   "source": [
    "city_names1 = {'Pune','Mumbai','Delhi'}\n",
    "city_names2 = {\"Pune\",'Bangalore','Chennai'}\n",
    "result = city_names1.intersection(city_names2)\n",
    "print(result)"
   ]
  },
  {
   "cell_type": "markdown",
   "id": "22e9ea13",
   "metadata": {},
   "source": [
    "#### 3.10 intersecton_update()"
   ]
  },
  {
   "cell_type": "markdown",
   "id": "69582296",
   "metadata": {},
   "source": [
    "will update the set with intersection value"
   ]
  },
  {
   "cell_type": "code",
   "execution_count": 39,
   "id": "f2247c3f",
   "metadata": {},
   "outputs": [
    {
     "name": "stdout",
     "output_type": "stream",
     "text": [
      "{5}\n",
      "{8, 5, 6, 7}\n"
     ]
    }
   ],
   "source": [
    "set1={1,2,3,4,5}\n",
    "set2={5,6,7,8}\n",
    "\n",
    "set1.intersection_update(set2)\n",
    "print(set1)\n",
    "print(set2)\n"
   ]
  },
  {
   "cell_type": "code",
   "execution_count": 40,
   "id": "6993d781",
   "metadata": {},
   "outputs": [
    {
     "name": "stdout",
     "output_type": "stream",
     "text": [
      "{5}\n",
      "{8, 5, 6, 7}\n",
      "None\n"
     ]
    }
   ],
   "source": [
    "set1={1,2,3,4,5}\n",
    "set2={5,6,7,8}\n",
    "\n",
    "set3=set1.intersection_update(set2)\n",
    "print(set1)\n",
    "print(set2)\n",
    "print(set3)"
   ]
  },
  {
   "cell_type": "markdown",
   "id": "c85f6e68",
   "metadata": {},
   "source": [
    "#### 3.11 difference()"
   ]
  },
  {
   "cell_type": "markdown",
   "id": "ec55ce34",
   "metadata": {},
   "source": [
    "Unique values from set1"
   ]
  },
  {
   "cell_type": "code",
   "execution_count": 41,
   "id": "de289ed1",
   "metadata": {},
   "outputs": [
    {
     "name": "stdout",
     "output_type": "stream",
     "text": [
      "{1, 2, 3, 4, 5}\n",
      "{8, 5, 6, 7}\n",
      "{1, 2, 3, 4}\n"
     ]
    }
   ],
   "source": [
    "set1={1,2,3,4,5}\n",
    "set2={5,6,7,8}\n",
    "\n",
    "set3=set1.difference(set2)\n",
    "print(set1)\n",
    "print(set2)\n",
    "print(set3)"
   ]
  },
  {
   "cell_type": "markdown",
   "id": "a893cda8",
   "metadata": {},
   "source": [
    "#### 3.12 difference_update()"
   ]
  },
  {
   "cell_type": "markdown",
   "id": "1f7c6fca",
   "metadata": {},
   "source": [
    "will update set1 with difference value"
   ]
  },
  {
   "cell_type": "code",
   "execution_count": 42,
   "id": "0c82ad22",
   "metadata": {},
   "outputs": [
    {
     "name": "stdout",
     "output_type": "stream",
     "text": [
      "{1, 2, 3, 4}\n",
      "{8, 5, 6, 7}\n"
     ]
    }
   ],
   "source": [
    "set1={1,2,3,4,5}\n",
    "set2={5,6,7,8}\n",
    "\n",
    "set1.difference_update(set2)\n",
    "\n",
    "print(set1)\n",
    "print(set2)"
   ]
  },
  {
   "cell_type": "code",
   "execution_count": 43,
   "id": "da7bc6bf",
   "metadata": {},
   "outputs": [
    {
     "name": "stdout",
     "output_type": "stream",
     "text": [
      "{2, 4, 6, 8, 9}\n"
     ]
    }
   ],
   "source": [
    "s={4,7,8,9,0,5,4,3,2}\n",
    "s2={8,9,6,4,2,4,2}\n",
    "\n",
    "s.difference_update(s2)\n",
    "print(s2)"
   ]
  },
  {
   "cell_type": "markdown",
   "id": "ade87838",
   "metadata": {},
   "source": [
    "#### 3.12 symmetric_difference()"
   ]
  },
  {
   "cell_type": "markdown",
   "id": "1942a48b",
   "metadata": {},
   "source": [
    "Unique values from both sets"
   ]
  },
  {
   "cell_type": "code",
   "execution_count": 44,
   "id": "65618758",
   "metadata": {},
   "outputs": [
    {
     "name": "stdout",
     "output_type": "stream",
     "text": [
      "set1 >>  {'Kolkata', 'Hyderabad', 'Delhi', 'Pune', 'Mumbai'}\n",
      "set2 >>  {'Mumbai', 'Bangalore', 'Chennai', 'Pune'}\n",
      "result >>  {'Chennai', 'Kolkata', 'Hyderabad', 'Delhi', 'Bangalore'}\n"
     ]
    }
   ],
   "source": [
    "set1 = {'Pune','Mumbai','Delhi','Kolkata','Hyderabad'}\n",
    "set2 = {\"Pune\",'Bangalore','Chennai','Mumbai'}\n",
    "\n",
    "result = set1.symmetric_difference(set2)\n",
    "\n",
    "print('set1 >> ',set1)\n",
    "print('set2 >> ',set2)\n",
    "print('result >> ',result)"
   ]
  },
  {
   "cell_type": "markdown",
   "id": "82c66a85",
   "metadata": {},
   "source": [
    "#### 3.13 symmetric_difference_update()"
   ]
  },
  {
   "cell_type": "code",
   "execution_count": 45,
   "id": "a5d77a89",
   "metadata": {},
   "outputs": [
    {
     "name": "stdout",
     "output_type": "stream",
     "text": [
      "set1 >>  {'Kolkata', 'Hyderabad', 'Delhi', 'Bangalore', 'Chennai'}\n",
      "set2 >>  {'Mumbai', 'Bangalore', 'Chennai', 'Pune'}\n",
      "result >>  None\n"
     ]
    }
   ],
   "source": [
    "set1 = {'Pune','Mumbai','Delhi','Kolkata','Hyderabad'}\n",
    "set2 = {\"Pune\",'Bangalore','Chennai','Mumbai'}\n",
    "\n",
    "result = set1.symmetric_difference_update(set2)\n",
    "\n",
    "print('set1 >> ',set1)\n",
    "print('set2 >> ',set2)\n",
    "print('result >> ',result)"
   ]
  },
  {
   "cell_type": "code",
   "execution_count": 47,
   "id": "4f759d24",
   "metadata": {},
   "outputs": [
    {
     "name": "stdout",
     "output_type": "stream",
     "text": [
      "set1 >>  {'Kolkata', 'Hyderabad', 'Delhi', 'Pune', 'Mumbai'}\n",
      "set2 >>  {'Chennai', 'Kolkata', 'Hyderabad', 'Delhi', 'Bangalore'}\n"
     ]
    }
   ],
   "source": [
    "set1 = {'Pune','Mumbai','Delhi','Kolkata','Hyderabad'}\n",
    "set2 = {\"Pune\",'Bangalore','Chennai','Mumbai'}\n",
    "\n",
    "set2.symmetric_difference_update(set1)\n",
    "\n",
    "print('set1 >> ',set1)\n",
    "print('set2 >> ',set2)\n"
   ]
  },
  {
   "cell_type": "markdown",
   "id": "6d7168da",
   "metadata": {},
   "source": [
    "#### 3.14 issubset()"
   ]
  },
  {
   "cell_type": "markdown",
   "id": "0d0ffb0e",
   "metadata": {},
   "source": [
    "True / False"
   ]
  },
  {
   "cell_type": "code",
   "execution_count": 48,
   "id": "9d4a239a",
   "metadata": {},
   "outputs": [
    {
     "data": {
      "text/plain": [
       "True"
      ]
     },
     "execution_count": 48,
     "metadata": {},
     "output_type": "execute_result"
    }
   ],
   "source": [
    "set1 = {3,4,5,6,7,8}\n",
    "set2 = {5,6,7}\n",
    "\n",
    "set2.issubset(set1)"
   ]
  },
  {
   "cell_type": "code",
   "execution_count": 49,
   "id": "a50a68b9",
   "metadata": {},
   "outputs": [
    {
     "data": {
      "text/plain": [
       "False"
      ]
     },
     "execution_count": 49,
     "metadata": {},
     "output_type": "execute_result"
    }
   ],
   "source": [
    "set1 = {3,4,5,6,7,8}\n",
    "set2 = {5,6,7,10}\n",
    "\n",
    "set2.issubset(set1)"
   ]
  },
  {
   "cell_type": "markdown",
   "id": "44f811bd",
   "metadata": {},
   "source": [
    "#### 3.15 superset()"
   ]
  },
  {
   "cell_type": "code",
   "execution_count": 51,
   "id": "c921e07c",
   "metadata": {},
   "outputs": [
    {
     "data": {
      "text/plain": [
       "True"
      ]
     },
     "execution_count": 51,
     "metadata": {},
     "output_type": "execute_result"
    }
   ],
   "source": [
    "set1 = {3,4,5,6,7,8}\n",
    "set2 = {5,6,7}\n",
    "\n",
    "set1.issuperset(set2)"
   ]
  },
  {
   "cell_type": "code",
   "execution_count": 52,
   "id": "ae0d8b31",
   "metadata": {},
   "outputs": [
    {
     "data": {
      "text/plain": [
       "False"
      ]
     },
     "execution_count": 52,
     "metadata": {},
     "output_type": "execute_result"
    }
   ],
   "source": [
    "set1 = {3,4,5,6,7,8}\n",
    "set2 = {5,6,7}\n",
    "\n",
    "set2.issuperset(set1)"
   ]
  },
  {
   "cell_type": "markdown",
   "id": "ef1d56bb",
   "metadata": {},
   "source": [
    "#### 3.16 isdisjoint()"
   ]
  },
  {
   "cell_type": "code",
   "execution_count": 53,
   "id": "03879790",
   "metadata": {},
   "outputs": [
    {
     "data": {
      "text/plain": [
       "False"
      ]
     },
     "execution_count": 53,
     "metadata": {},
     "output_type": "execute_result"
    }
   ],
   "source": [
    "set1 = {'Pune','Mumbai','Delhi','Kolkata','Hyderabad'}\n",
    "set2 = {\"Pune\",'Mumbai','Chennai'}\n",
    "\n",
    "set1.isdisjoint(set2)"
   ]
  },
  {
   "cell_type": "code",
   "execution_count": 54,
   "id": "462e347b",
   "metadata": {},
   "outputs": [
    {
     "data": {
      "text/plain": [
       "True"
      ]
     },
     "execution_count": 54,
     "metadata": {},
     "output_type": "execute_result"
    }
   ],
   "source": [
    "set1 = {'Pune','Mumbai','Delhi','Kolkata','Hyderabad'}\n",
    "set2 = {'Chennai'}\n",
    "\n",
    "set1.isdisjoint(set2)"
   ]
  },
  {
   "cell_type": "markdown",
   "id": "347bcdc5",
   "metadata": {},
   "source": [
    "# Frozenset"
   ]
  },
  {
   "cell_type": "code",
   "execution_count": null,
   "id": "859d9478",
   "metadata": {},
   "outputs": [],
   "source": [
    "1. Unordered \n",
    "2. Immutable\n",
    "3. Duplicates are not allowed"
   ]
  },
  {
   "cell_type": "markdown",
   "id": "f6c7b76c",
   "metadata": {},
   "source": [
    "### Frozenset functions"
   ]
  },
  {
   "cell_type": "code",
   "execution_count": null,
   "id": "899be358",
   "metadata": {},
   "outputs": [],
   "source": [
    "1. union\n",
    "2. intersection\n",
    "3. difference\n",
    "4. symmetric_difference\n",
    "5. issubset\n",
    "6. issuperset\n",
    "7. isdisjoint"
   ]
  },
  {
   "cell_type": "code",
   "execution_count": 55,
   "id": "5c8a5966",
   "metadata": {},
   "outputs": [
    {
     "name": "stdout",
     "output_type": "stream",
     "text": [
      "<class 'set'>\n",
      "<class 'frozenset'>\n"
     ]
    }
   ],
   "source": [
    "s1={10,20,30,40}\n",
    "s2=frozenset({5,6,7,8})\n",
    "\n",
    "print(type(s1))\n",
    "print(type(s2))"
   ]
  },
  {
   "cell_type": "code",
   "execution_count": null,
   "id": "c38327bc",
   "metadata": {},
   "outputs": [],
   "source": [
    "#end"
   ]
  }
 ],
 "metadata": {
  "kernelspec": {
   "display_name": "Python 3 (ipykernel)",
   "language": "python",
   "name": "python3"
  },
  "language_info": {
   "codemirror_mode": {
    "name": "ipython",
    "version": 3
   },
   "file_extension": ".py",
   "mimetype": "text/x-python",
   "name": "python",
   "nbconvert_exporter": "python",
   "pygments_lexer": "ipython3",
   "version": "3.9.7"
  }
 },
 "nbformat": 4,
 "nbformat_minor": 5
}
