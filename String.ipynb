{
 "cells": [
  {
   "cell_type": "markdown",
   "id": "08d02889",
   "metadata": {},
   "source": [
    "## <span style='color:purple '> String </span>"
   ]
  },
  {
   "cell_type": "markdown",
   "id": "e520302f",
   "metadata": {},
   "source": [
    "String is a collection of characters surrounded by single quotes,double quote or triple quote\n",
    "\n",
    "We can not use single quote in single quote\n",
    "\n",
    "We can not use double quote in double quote\n",
    "\n",
    "string are immutable\n",
    "\n",
    "Unchangable\n",
    "\n",
    "We can not modify string once created"
   ]
  },
  {
   "cell_type": "code",
   "execution_count": 1,
   "id": "254a7a31",
   "metadata": {},
   "outputs": [
    {
     "data": {
      "text/plain": [
       "'Python'"
      ]
     },
     "execution_count": 1,
     "metadata": {},
     "output_type": "execute_result"
    }
   ],
   "source": [
    "string='Python' #right method\n",
    "string"
   ]
  },
  {
   "cell_type": "code",
   "execution_count": 2,
   "id": "e956670d",
   "metadata": {},
   "outputs": [
    {
     "data": {
      "text/plain": [
       "'Python'"
      ]
     },
     "execution_count": 2,
     "metadata": {},
     "output_type": "execute_result"
    }
   ],
   "source": [
    "string=\"Python\" #right method\n",
    "string"
   ]
  },
  {
   "cell_type": "code",
   "execution_count": 4,
   "id": "d1782045",
   "metadata": {},
   "outputs": [
    {
     "ename": "SyntaxError",
     "evalue": "EOL while scanning string literal (858952078.py, line 1)",
     "output_type": "error",
     "traceback": [
      "\u001b[1;36m  File \u001b[1;32m\"C:\\Users\\Prerana\\AppData\\Local\\Temp\\ipykernel_24204\\858952078.py\"\u001b[1;36m, line \u001b[1;32m1\u001b[0m\n\u001b[1;33m    string=\"python\"'\u001b[0m\n\u001b[1;37m                    ^\u001b[0m\n\u001b[1;31mSyntaxError\u001b[0m\u001b[1;31m:\u001b[0m EOL while scanning string literal\n"
     ]
    }
   ],
   "source": [
    "string=\"python\"' #wrong method\n",
    "string"
   ]
  },
  {
   "cell_type": "code",
   "execution_count": 5,
   "id": "919dfd60",
   "metadata": {},
   "outputs": [
    {
     "data": {
      "text/plain": [
       "'Python course'"
      ]
     },
     "execution_count": 5,
     "metadata": {},
     "output_type": "execute_result"
    }
   ],
   "source": [
    "string='Python course' #right method\n",
    "string"
   ]
  },
  {
   "cell_type": "code",
   "execution_count": 6,
   "id": "e2e73ff0",
   "metadata": {},
   "outputs": [
    {
     "data": {
      "text/plain": [
       "'Python and data science'"
      ]
     },
     "execution_count": 6,
     "metadata": {},
     "output_type": "execute_result"
    }
   ],
   "source": [
    "string=\"Python and data science\" #right method\n",
    "string"
   ]
  },
  {
   "cell_type": "code",
   "execution_count": 7,
   "id": "359e999c",
   "metadata": {},
   "outputs": [
    {
     "data": {
      "text/plain": [
       "\"Python and 'data' science\""
      ]
     },
     "execution_count": 7,
     "metadata": {},
     "output_type": "execute_result"
    }
   ],
   "source": [
    "string=\"Python and 'data' science\" #right method\n",
    "string"
   ]
  },
  {
   "cell_type": "code",
   "execution_count": 8,
   "id": "201ad196",
   "metadata": {},
   "outputs": [
    {
     "ename": "SyntaxError",
     "evalue": "invalid syntax (3066266519.py, line 1)",
     "output_type": "error",
     "traceback": [
      "\u001b[1;36m  File \u001b[1;32m\"C:\\Users\\Prerana\\AppData\\Local\\Temp\\ipykernel_24204\\3066266519.py\"\u001b[1;36m, line \u001b[1;32m1\u001b[0m\n\u001b[1;33m    string=\"Python and \"data\" science\"\u001b[0m\n\u001b[1;37m                        ^\u001b[0m\n\u001b[1;31mSyntaxError\u001b[0m\u001b[1;31m:\u001b[0m invalid syntax\n"
     ]
    }
   ],
   "source": [
    "string=\"Python and \"data\" science\" #wrong method\n",
    "string"
   ]
  },
  {
   "cell_type": "code",
   "execution_count": 9,
   "id": "882cbdd3",
   "metadata": {},
   "outputs": [
    {
     "data": {
      "text/plain": [
       "'Python and \"data\" science'"
      ]
     },
     "execution_count": 9,
     "metadata": {},
     "output_type": "execute_result"
    }
   ],
   "source": [
    "string=\"Python and \\\"data\\\" science\" #right method\n",
    "string"
   ]
  },
  {
   "cell_type": "code",
   "execution_count": 10,
   "id": "689609a5",
   "metadata": {},
   "outputs": [
    {
     "ename": "SyntaxError",
     "evalue": "EOL while scanning string literal (1708792598.py, line 1)",
     "output_type": "error",
     "traceback": [
      "\u001b[1;36m  File \u001b[1;32m\"C:\\Users\\Prerana\\AppData\\Local\\Temp\\ipykernel_24204\\1708792598.py\"\u001b[1;36m, line \u001b[1;32m1\u001b[0m\n\u001b[1;33m    string='Python\u001b[0m\n\u001b[1;37m                  ^\u001b[0m\n\u001b[1;31mSyntaxError\u001b[0m\u001b[1;31m:\u001b[0m EOL while scanning string literal\n"
     ]
    }
   ],
   "source": [
    "string='Python                   #wrong method\n",
    "and data science' \n",
    "\n",
    "string"
   ]
  },
  {
   "cell_type": "code",
   "execution_count": 11,
   "id": "ddcae383",
   "metadata": {},
   "outputs": [
    {
     "data": {
      "text/plain": [
       "' Python\\nand data science'"
      ]
     },
     "execution_count": 11,
     "metadata": {},
     "output_type": "execute_result"
    }
   ],
   "source": [
    "string=''' Python\n",
    "and data science'''\n",
    "\n",
    "string"
   ]
  },
  {
   "cell_type": "code",
   "execution_count": 12,
   "id": "5164e238",
   "metadata": {},
   "outputs": [
    {
     "data": {
      "text/plain": [
       "' Python\\n            and data science'"
      ]
     },
     "execution_count": 12,
     "metadata": {},
     "output_type": "execute_result"
    }
   ],
   "source": [
    "string=''' Python\n",
    "            and data science'''\n",
    "\n",
    "string"
   ]
  },
  {
   "cell_type": "code",
   "execution_count": 13,
   "id": "4c886bc5",
   "metadata": {},
   "outputs": [
    {
     "name": "stdout",
     "output_type": "stream",
     "text": [
      "Machine learning is the study of computer algorithms that can improve automatically through experience and by the use of data. It is seen as a part of artificial intelligence\n"
     ]
    }
   ],
   "source": [
    "machine_learning = \"Machine learning is the study of computer algorithms that can improve automatically through experience and by the use of data. It is seen as a part of artificial intelligence\"\n",
    "print(machine_learning)"
   ]
  },
  {
   "cell_type": "code",
   "execution_count": 14,
   "id": "a1adb4b8",
   "metadata": {},
   "outputs": [
    {
     "name": "stdout",
     "output_type": "stream",
     "text": [
      "Machine learning is the \n",
      "study of computer algorithms that \n",
      "can improve automatically through \n",
      "experience and by the use of data. \n",
      "It is seen as a part of artificial \n",
      "intelligence\n"
     ]
    }
   ],
   "source": [
    "machine_learning = \"\"\"Machine learning is the \n",
    "study of computer algorithms that \n",
    "can improve automatically through \n",
    "experience and by the use of data. \n",
    "It is seen as a part of artificial \n",
    "intelligence\"\"\"\n",
    "\n",
    "print(machine_learning)"
   ]
  },
  {
   "cell_type": "markdown",
   "id": "5ce0e209",
   "metadata": {},
   "source": [
    "### <span style='color:purple '> Escape Character </span>"
   ]
  },
  {
   "cell_type": "markdown",
   "id": "d6549ed2",
   "metadata": {},
   "source": [
    "backslash (\\) is used as escape character"
   ]
  },
  {
   "cell_type": "code",
   "execution_count": 15,
   "id": "5944525f",
   "metadata": {},
   "outputs": [
    {
     "ename": "SyntaxError",
     "evalue": "invalid syntax (4230511126.py, line 1)",
     "output_type": "error",
     "traceback": [
      "\u001b[1;36m  File \u001b[1;32m\"C:\\Users\\Prerana\\AppData\\Local\\Temp\\ipykernel_24204\\4230511126.py\"\u001b[1;36m, line \u001b[1;32m1\u001b[0m\n\u001b[1;33m    s1 = 'python's class' #wrong method\u001b[0m\n\u001b[1;37m                 ^\u001b[0m\n\u001b[1;31mSyntaxError\u001b[0m\u001b[1;31m:\u001b[0m invalid syntax\n"
     ]
    }
   ],
   "source": [
    "s1 = 'python's class' #wrong method\n",
    "print(s1)"
   ]
  },
  {
   "cell_type": "code",
   "execution_count": 16,
   "id": "6d1c7554",
   "metadata": {},
   "outputs": [
    {
     "name": "stdout",
     "output_type": "stream",
     "text": [
      "python's class\n"
     ]
    }
   ],
   "source": [
    "s1 = 'python\\'s class' #right method\n",
    "print(s1)"
   ]
  },
  {
   "cell_type": "code",
   "execution_count": 17,
   "id": "61460bc2",
   "metadata": {},
   "outputs": [
    {
     "name": "stdout",
     "output_type": "stream",
     "text": [
      "python\"s class\n"
     ]
    }
   ],
   "source": [
    "s1 = \"python\\\"s class\" #using balckslash\n",
    "print(s1)"
   ]
  },
  {
   "cell_type": "code",
   "execution_count": 18,
   "id": "e4b048db",
   "metadata": {},
   "outputs": [
    {
     "ename": "SyntaxError",
     "evalue": "invalid syntax (2782097983.py, line 1)",
     "output_type": "error",
     "traceback": [
      "\u001b[1;36m  File \u001b[1;32m\"C:\\Users\\Prerana\\AppData\\Local\\Temp\\ipykernel_24204\\2782097983.py\"\u001b[1;36m, line \u001b[1;32m1\u001b[0m\n\u001b[1;33m    s1 = \"python and data \"science\" class\" #wrong method\u001b[0m\n\u001b[1;37m                           ^\u001b[0m\n\u001b[1;31mSyntaxError\u001b[0m\u001b[1;31m:\u001b[0m invalid syntax\n"
     ]
    }
   ],
   "source": [
    "s1 = \"python and data \"science\" class\" #wrong method\n",
    "print(s1)"
   ]
  },
  {
   "cell_type": "code",
   "execution_count": 19,
   "id": "b68a9d75",
   "metadata": {},
   "outputs": [
    {
     "name": "stdout",
     "output_type": "stream",
     "text": [
      "python and data \"science\" class\n"
     ]
    }
   ],
   "source": [
    "s1 = \"python and data \\\"science\\\" class\" #right method\n",
    "print(s1)"
   ]
  },
  {
   "cell_type": "markdown",
   "id": "dbafbec7",
   "metadata": {},
   "source": [
    "#### <span style='color:purple '> 1. \\n </span>"
   ]
  },
  {
   "cell_type": "markdown",
   "id": "fcf87042",
   "metadata": {},
   "source": [
    "\\n is use for new line"
   ]
  },
  {
   "cell_type": "code",
   "execution_count": 20,
   "id": "b254a376",
   "metadata": {},
   "outputs": [
    {
     "data": {
      "text/plain": [
       "'Machine learning is the study of computer algorithm'"
      ]
     },
     "execution_count": 20,
     "metadata": {},
     "output_type": "execute_result"
    }
   ],
   "source": [
    "machine_learning = \"Machine learning is the study of computer algorithm\"\n",
    "machine_learning"
   ]
  },
  {
   "cell_type": "code",
   "execution_count": 21,
   "id": "4165087b",
   "metadata": {},
   "outputs": [
    {
     "name": "stdout",
     "output_type": "stream",
     "text": [
      "Machine learning is the study of \n",
      "computer algorithm\n"
     ]
    }
   ],
   "source": [
    "machine_learning = 'Machine learning is the study of \\ncomputer algorithm'\n",
    "print(machine_learning)"
   ]
  },
  {
   "cell_type": "code",
   "execution_count": 22,
   "id": "c1660cd7",
   "metadata": {},
   "outputs": [
    {
     "name": "stdout",
     "output_type": "stream",
     "text": [
      "Machine learning \n",
      "is the \n",
      "study of \n",
      "computer algorithm\n"
     ]
    }
   ],
   "source": [
    "machine_learning = 'Machine learning \\nis the \\nstudy of \\ncomputer algorithm'\n",
    "print(machine_learning)"
   ]
  },
  {
   "cell_type": "code",
   "execution_count": 23,
   "id": "ad4ea64e",
   "metadata": {},
   "outputs": [
    {
     "ename": "SyntaxError",
     "evalue": "(unicode error) 'unicodeescape' codec can't decode bytes in position 2-3: truncated \\UXXXXXXXX escape (2477018860.py, line 1)",
     "output_type": "error",
     "traceback": [
      "\u001b[1;36m  File \u001b[1;32m\"C:\\Users\\Prerana\\AppData\\Local\\Temp\\ipykernel_24204\\2477018860.py\"\u001b[1;36m, line \u001b[1;32m1\u001b[0m\n\u001b[1;33m    file_path=\"C:\\Users\\Prerana\\Python-for-Data-Science\\String.ipynb\"\u001b[0m\n\u001b[1;37m                                                                     ^\u001b[0m\n\u001b[1;31mSyntaxError\u001b[0m\u001b[1;31m:\u001b[0m (unicode error) 'unicodeescape' codec can't decode bytes in position 2-3: truncated \\UXXXXXXXX escape\n"
     ]
    }
   ],
   "source": [
    "file_path=\"C:\\Users\\Prerana\\Python-for-Data-Science\\String.ipynb\"\n",
    "print(file_path)"
   ]
  },
  {
   "cell_type": "code",
   "execution_count": 24,
   "id": "0148001b",
   "metadata": {},
   "outputs": [
    {
     "name": "stdout",
     "output_type": "stream",
     "text": [
      "C:\\Users\\Prerana\\Python-for-Data-Science\\String.ipynb\n"
     ]
    }
   ],
   "source": [
    "file_path=r\"C:\\Users\\Prerana\\Python-for-Data-Science\\String.ipynb\" #use r to read path\n",
    "print(file_path)"
   ]
  },
  {
   "cell_type": "code",
   "execution_count": 25,
   "id": "b1661b63",
   "metadata": {},
   "outputs": [
    {
     "name": "stdout",
     "output_type": "stream",
     "text": [
      "C:\\Users\\Prerana\\Python-for-Data-Science\\String.ipynb\n"
     ]
    }
   ],
   "source": [
    "file_path=\"C:\\\\Users\\\\Prerana\\\\Python-for-Data-Science\\\\String.ipynb\" #use \\\\ to read path\n",
    "print(file_path)"
   ]
  },
  {
   "cell_type": "code",
   "execution_count": 26,
   "id": "7cb5b61c",
   "metadata": {},
   "outputs": [
    {
     "name": "stdout",
     "output_type": "stream",
     "text": [
      "C:/Users/Prerana/Python-for-Data-Science/String.ipynb\n"
     ]
    }
   ],
   "source": [
    "file_path=\"C:/Users/Prerana/Python-for-Data-Science/String.ipynb\" #change blackslash to forward slash\n",
    "print(file_path)"
   ]
  },
  {
   "cell_type": "markdown",
   "id": "ee13419f",
   "metadata": {},
   "source": [
    "#### <span style='color:purple '> 2. \\t </span>"
   ]
  },
  {
   "cell_type": "markdown",
   "id": "5dd12f96",
   "metadata": {},
   "source": [
    "\\t for tab"
   ]
  },
  {
   "cell_type": "code",
   "execution_count": 27,
   "id": "a48e775c",
   "metadata": {},
   "outputs": [
    {
     "name": "stdout",
     "output_type": "stream",
     "text": [
      "python\tclass\n"
     ]
    }
   ],
   "source": [
    "string = 'python\\tclass'\n",
    "print(string)"
   ]
  },
  {
   "cell_type": "code",
   "execution_count": 28,
   "id": "799c04be",
   "metadata": {},
   "outputs": [
    {
     "name": "stdout",
     "output_type": "stream",
     "text": [
      "pythonanddatascienceclass\n"
     ]
    }
   ],
   "source": [
    "string = 'pythonanddatascienceclass'\n",
    "print(string)"
   ]
  },
  {
   "cell_type": "code",
   "execution_count": 29,
   "id": "46f10e77",
   "metadata": {},
   "outputs": [
    {
     "name": "stdout",
     "output_type": "stream",
     "text": [
      "python\tand\tdata\tscience\tclass\n"
     ]
    }
   ],
   "source": [
    "string = 'python\\tand\\tdata\\tscience\\tclass'\n",
    "print(string)"
   ]
  },
  {
   "cell_type": "markdown",
   "id": "ad730d9f",
   "metadata": {},
   "source": [
    "### <span style='color:purple '> String Indexing </span>"
   ]
  },
  {
   "cell_type": "markdown",
   "id": "2bb9206b",
   "metadata": {},
   "source": [
    "Indexing will start from 0\n",
    "[] is used to access item\n",
    "len is used to check lenght of string"
   ]
  },
  {
   "cell_type": "code",
   "execution_count": 30,
   "id": "574fda52",
   "metadata": {},
   "outputs": [
    {
     "data": {
      "text/plain": [
       "'n'"
      ]
     },
     "execution_count": 30,
     "metadata": {},
     "output_type": "execute_result"
    }
   ],
   "source": [
    "string = \"python\"\n",
    "string[0] # 'p'\n",
    "string[1] # y\n",
    "string[2] # t\n",
    "string[3] # h\n",
    "string[4] # o\n",
    "string[5] # n"
   ]
  },
  {
   "cell_type": "code",
   "execution_count": 31,
   "id": "5fee382a",
   "metadata": {},
   "outputs": [
    {
     "data": {
      "text/plain": [
       "'a'"
      ]
     },
     "execution_count": 31,
     "metadata": {},
     "output_type": "execute_result"
    }
   ],
   "source": [
    "string = \"python and\"\n",
    "string[0] # 'p'\n",
    "string[1] # y\n",
    "string[2] # t\n",
    "string[3] # h\n",
    "string[4] # o\n",
    "string[5] # n\n",
    "string[6] # space\n",
    "string[7] # a"
   ]
  },
  {
   "cell_type": "code",
   "execution_count": 32,
   "id": "efcb0dd0",
   "metadata": {},
   "outputs": [
    {
     "data": {
      "text/plain": [
       "23"
      ]
     },
     "execution_count": 32,
     "metadata": {},
     "output_type": "execute_result"
    }
   ],
   "source": [
    "string='Python and Data Science'\n",
    "len(string)"
   ]
  },
  {
   "cell_type": "markdown",
   "id": "7ef3fbce",
   "metadata": {},
   "source": [
    "### <span style='color:purple '> Negative Indexing </span>"
   ]
  },
  {
   "cell_type": "markdown",
   "id": "ac69e487",
   "metadata": {},
   "source": [
    "string='python'\n",
    "\n",
    " p    y    t    h   o   n\n",
    " 0    1    2    3   4   5\n",
    "-6   -5   -4   -3  -2  -1"
   ]
  },
  {
   "cell_type": "code",
   "execution_count": 33,
   "id": "cf09c4e8",
   "metadata": {},
   "outputs": [
    {
     "data": {
      "text/plain": [
       "'t'"
      ]
     },
     "execution_count": 33,
     "metadata": {},
     "output_type": "execute_result"
    }
   ],
   "source": [
    "string='python'\n",
    "\n",
    "string[2]"
   ]
  },
  {
   "cell_type": "code",
   "execution_count": 34,
   "id": "59984509",
   "metadata": {},
   "outputs": [
    {
     "data": {
      "text/plain": [
       "'t'"
      ]
     },
     "execution_count": 34,
     "metadata": {},
     "output_type": "execute_result"
    }
   ],
   "source": [
    "string[-4]"
   ]
  },
  {
   "cell_type": "code",
   "execution_count": 35,
   "id": "a077d725",
   "metadata": {},
   "outputs": [
    {
     "name": "stdout",
     "output_type": "stream",
     "text": [
      "7\n",
      "e\n",
      "e\n"
     ]
    }
   ],
   "source": [
    "string='Science'\n",
    "length=len(string)\n",
    "print(length)\n",
    "\n",
    "print(string[length-1])\n",
    "print(string[-1])"
   ]
  },
  {
   "cell_type": "markdown",
   "id": "fa9a9ed4",
   "metadata": {},
   "source": [
    "### <span style='color:purple '> Slicing </span>"
   ]
  },
  {
   "cell_type": "code",
   "execution_count": null,
   "id": "1f1867e6",
   "metadata": {},
   "outputs": [],
   "source": [
    "string[start_index : end_index]\n",
    "start_index >> default 0  >> include\n",
    "end_index >> length  >> exclude"
   ]
  },
  {
   "cell_type": "code",
   "execution_count": 36,
   "id": "1a07dba9",
   "metadata": {},
   "outputs": [
    {
     "data": {
      "text/plain": [
       "'Mach'"
      ]
     },
     "execution_count": 36,
     "metadata": {},
     "output_type": "execute_result"
    }
   ],
   "source": [
    "string='Machine learning'\n",
    "\n",
    "string[0:4] #0 1 2 3"
   ]
  },
  {
   "cell_type": "code",
   "execution_count": 37,
   "id": "e060f3aa",
   "metadata": {},
   "outputs": [
    {
     "data": {
      "text/plain": [
       "'ach'"
      ]
     },
     "execution_count": 37,
     "metadata": {},
     "output_type": "execute_result"
    }
   ],
   "source": [
    "string='Machine learning'\n",
    "\n",
    "string[1:4] #1 2 3"
   ]
  },
  {
   "cell_type": "code",
   "execution_count": 38,
   "id": "4bb2921e",
   "metadata": {},
   "outputs": [
    {
     "data": {
      "text/plain": [
       "'Mach'"
      ]
     },
     "execution_count": 38,
     "metadata": {},
     "output_type": "execute_result"
    }
   ],
   "source": [
    "string='Machine learning'\n",
    "\n",
    "string[:4] #consider from start "
   ]
  },
  {
   "cell_type": "code",
   "execution_count": 39,
   "id": "92445db0",
   "metadata": {},
   "outputs": [
    {
     "data": {
      "text/plain": [
       "'ine learning'"
      ]
     },
     "execution_count": 39,
     "metadata": {},
     "output_type": "execute_result"
    }
   ],
   "source": [
    "string='Machine learning'\n",
    "\n",
    "string[4:] #consider till end"
   ]
  },
  {
   "cell_type": "code",
   "execution_count": 40,
   "id": "902f0e9e",
   "metadata": {},
   "outputs": [
    {
     "name": "stdout",
     "output_type": "stream",
     "text": [
      "7\n"
     ]
    },
    {
     "data": {
      "text/plain": [
       "'machine'"
      ]
     },
     "execution_count": 40,
     "metadata": {},
     "output_type": "execute_result"
    }
   ],
   "source": [
    "string = 'machine'\n",
    "print(len(string))\n",
    "string[:len(string)]  "
   ]
  },
  {
   "cell_type": "markdown",
   "id": "67478050",
   "metadata": {},
   "source": [
    "### <span style='color:purple '> String Functions </span>"
   ]
  },
  {
   "cell_type": "code",
   "execution_count": 41,
   "id": "99660bb3",
   "metadata": {},
   "outputs": [
    {
     "name": "stdout",
     "output_type": "stream",
     "text": [
      "str1 >> data\n",
      "str2 >> science\n",
      "str3 >> datascience\n"
     ]
    }
   ],
   "source": [
    "str1 = 'data'\n",
    "str2 = 'science'\n",
    "str3 = str1 + str2\n",
    "print('str1 >>',str1)\n",
    "print('str2 >>',str2)\n",
    "print('str3 >>',str3)"
   ]
  },
  {
   "cell_type": "code",
   "execution_count": 42,
   "id": "1b6dd82a",
   "metadata": {},
   "outputs": [
    {
     "name": "stdout",
     "output_type": "stream",
     "text": [
      "str1 >> data\n",
      "str2 >> science\n",
      "str3 >> data science\n"
     ]
    }
   ],
   "source": [
    "str1 = 'data'\n",
    "str2 = 'science'\n",
    "str3 = str1 + ' ' + str2\n",
    "\n",
    "print('str1 >>',str1)\n",
    "print('str2 >>',str2)\n",
    "print('str3 >>',str3)"
   ]
  },
  {
   "cell_type": "code",
   "execution_count": 43,
   "id": "468271cf",
   "metadata": {},
   "outputs": [
    {
     "data": {
      "text/plain": [
       "'123456'"
      ]
     },
     "execution_count": 43,
     "metadata": {},
     "output_type": "execute_result"
    }
   ],
   "source": [
    "var1 = '1234'\n",
    "var2 = \"56\"\n",
    "var1 + var2"
   ]
  },
  {
   "cell_type": "code",
   "execution_count": 44,
   "id": "1f1058db",
   "metadata": {},
   "outputs": [
    {
     "data": {
      "text/plain": [
       "1290"
      ]
     },
     "execution_count": 44,
     "metadata": {},
     "output_type": "execute_result"
    }
   ],
   "source": [
    "var1 = int('1234')\n",
    "var2 = int(\"56\")\n",
    "var1 + var2 "
   ]
  },
  {
   "cell_type": "code",
   "execution_count": 45,
   "id": "c22bdcb3",
   "metadata": {},
   "outputs": [
    {
     "data": {
      "text/plain": [
       "str"
      ]
     },
     "execution_count": 45,
     "metadata": {},
     "output_type": "execute_result"
    }
   ],
   "source": [
    "s1 = ' '\n",
    "type(s1)"
   ]
  },
  {
   "cell_type": "code",
   "execution_count": 46,
   "id": "e451ce68",
   "metadata": {},
   "outputs": [
    {
     "data": {
      "text/plain": [
       "'pythonpythonpythonpythonpython'"
      ]
     },
     "execution_count": 46,
     "metadata": {},
     "output_type": "execute_result"
    }
   ],
   "source": [
    "str1 = 'python'\n",
    "str1 * 5"
   ]
  },
  {
   "cell_type": "markdown",
   "id": "431f3ecc",
   "metadata": {},
   "source": [
    "### 1. capitalize()"
   ]
  },
  {
   "cell_type": "code",
   "execution_count": null,
   "id": "3e017730",
   "metadata": {},
   "outputs": [],
   "source": [
    "It will capitalize only first char of string zero index char"
   ]
  },
  {
   "cell_type": "code",
   "execution_count": 49,
   "id": "027565b9",
   "metadata": {},
   "outputs": [
    {
     "data": {
      "text/plain": [
       "'Python and data science'"
      ]
     },
     "execution_count": 49,
     "metadata": {},
     "output_type": "execute_result"
    }
   ],
   "source": [
    "string='python and data science'\n",
    "string.capitalize()"
   ]
  },
  {
   "cell_type": "markdown",
   "id": "73873530",
   "metadata": {},
   "source": [
    "### 2.upper()"
   ]
  },
  {
   "cell_type": "code",
   "execution_count": null,
   "id": "7c2301d2",
   "metadata": {},
   "outputs": [],
   "source": [
    "changes every character to the upper case"
   ]
  },
  {
   "cell_type": "code",
   "execution_count": 50,
   "id": "951242bc",
   "metadata": {},
   "outputs": [
    {
     "data": {
      "text/plain": [
       "'PYTHON AND DATA SCIENCE'"
      ]
     },
     "execution_count": 50,
     "metadata": {},
     "output_type": "execute_result"
    }
   ],
   "source": [
    "string.upper()"
   ]
  },
  {
   "cell_type": "markdown",
   "id": "ef48d50b",
   "metadata": {},
   "source": [
    "### 3.lower()"
   ]
  },
  {
   "cell_type": "code",
   "execution_count": null,
   "id": "71fdef32",
   "metadata": {},
   "outputs": [],
   "source": [
    "changes every character to lower case"
   ]
  },
  {
   "cell_type": "code",
   "execution_count": 51,
   "id": "d1a0914d",
   "metadata": {},
   "outputs": [
    {
     "data": {
      "text/plain": [
       "'python'"
      ]
     },
     "execution_count": 51,
     "metadata": {},
     "output_type": "execute_result"
    }
   ],
   "source": [
    "string='Python'\n",
    "string.lower()"
   ]
  },
  {
   "cell_type": "code",
   "execution_count": 52,
   "id": "acbed5a7",
   "metadata": {},
   "outputs": [
    {
     "data": {
      "text/plain": [
       "'python'"
      ]
     },
     "execution_count": 52,
     "metadata": {},
     "output_type": "execute_result"
    }
   ],
   "source": [
    "string='PYTHON'\n",
    "string.lower()"
   ]
  },
  {
   "cell_type": "markdown",
   "id": "b99031f1",
   "metadata": {},
   "source": [
    "### 4. title()"
   ]
  },
  {
   "cell_type": "code",
   "execution_count": null,
   "id": "6553dddd",
   "metadata": {},
   "outputs": [],
   "source": [
    "coverts the first character of every word to upper"
   ]
  },
  {
   "cell_type": "code",
   "execution_count": 1,
   "id": "94860536",
   "metadata": {},
   "outputs": [
    {
     "data": {
      "text/plain": [
       "'I Am Learning Python'"
      ]
     },
     "execution_count": 1,
     "metadata": {},
     "output_type": "execute_result"
    }
   ],
   "source": [
    "string='i am learning python'\n",
    "\n",
    "string.title()"
   ]
  },
  {
   "cell_type": "markdown",
   "id": "f15bc621",
   "metadata": {},
   "source": [
    "### 5. lstrip()"
   ]
  },
  {
   "cell_type": "markdown",
   "id": "2398cd8f",
   "metadata": {},
   "source": [
    "removes leading whitespaces"
   ]
  },
  {
   "cell_type": "code",
   "execution_count": 23,
   "id": "3c82de21",
   "metadata": {},
   "outputs": [
    {
     "name": "stdout",
     "output_type": "stream",
     "text": [
      "   python\n",
      "python\n"
     ]
    }
   ],
   "source": [
    "string=\"   python\"\n",
    "print(string)\n",
    "\n",
    "print(string.lstrip())"
   ]
  },
  {
   "cell_type": "markdown",
   "id": "a6184336",
   "metadata": {},
   "source": [
    "### 6.rstrip()"
   ]
  },
  {
   "cell_type": "raw",
   "id": "09195519",
   "metadata": {},
   "source": [
    "remove trailing whitespaces"
   ]
  },
  {
   "cell_type": "code",
   "execution_count": 25,
   "id": "1e85a1d6",
   "metadata": {},
   "outputs": [
    {
     "data": {
      "text/plain": [
       "'Python'"
      ]
     },
     "execution_count": 25,
     "metadata": {},
     "output_type": "execute_result"
    }
   ],
   "source": [
    "string='Python     '\n",
    "string.rstrip()"
   ]
  },
  {
   "cell_type": "markdown",
   "id": "4bcf3f9f",
   "metadata": {},
   "source": [
    "### 7.strip()"
   ]
  },
  {
   "cell_type": "markdown",
   "id": "5e6cecae",
   "metadata": {},
   "source": [
    "remove all the leading and trailing whitespaces"
   ]
  },
  {
   "cell_type": "code",
   "execution_count": 26,
   "id": "c22444fa",
   "metadata": {},
   "outputs": [
    {
     "data": {
      "text/plain": [
       "'Python'"
      ]
     },
     "execution_count": 26,
     "metadata": {},
     "output_type": "execute_result"
    }
   ],
   "source": [
    "string='     Python      '\n",
    "string.strip()"
   ]
  },
  {
   "cell_type": "markdown",
   "id": "1ec3f5d5",
   "metadata": {},
   "source": [
    "### 8.swapcase()"
   ]
  },
  {
   "cell_type": "markdown",
   "id": "a5f62dfc",
   "metadata": {},
   "source": [
    "changes cases of characters from upper to lower and vice versa"
   ]
  },
  {
   "cell_type": "code",
   "execution_count": 27,
   "id": "a30ba78c",
   "metadata": {},
   "outputs": [
    {
     "data": {
      "text/plain": [
       "'pYTHON'"
      ]
     },
     "execution_count": 27,
     "metadata": {},
     "output_type": "execute_result"
    }
   ],
   "source": [
    "string='Python'\n",
    "string.swapcase()"
   ]
  },
  {
   "cell_type": "markdown",
   "id": "3d656d7b",
   "metadata": {},
   "source": [
    "### 9.replace()"
   ]
  },
  {
   "cell_type": "markdown",
   "id": "8e45d0d0",
   "metadata": {},
   "source": [
    "replaces old char with new"
   ]
  },
  {
   "cell_type": "code",
   "execution_count": 28,
   "id": "e38b0951",
   "metadata": {},
   "outputs": [
    {
     "name": "stdout",
     "output_type": "stream",
     "text": [
      "I am learning Python\n"
     ]
    }
   ],
   "source": [
    "string='I am learning Python'\n",
    "string.replace('Python','Machine Learning')\n",
    "\n",
    "print(string)"
   ]
  },
  {
   "cell_type": "code",
   "execution_count": 29,
   "id": "2d1f2f63",
   "metadata": {},
   "outputs": [
    {
     "data": {
      "text/plain": [
       "'I 0m le0rning Python'"
      ]
     },
     "execution_count": 29,
     "metadata": {},
     "output_type": "execute_result"
    }
   ],
   "source": [
    "string.replace('a','0')"
   ]
  },
  {
   "cell_type": "markdown",
   "id": "938ba0be",
   "metadata": {},
   "source": [
    "### 10.count()"
   ]
  },
  {
   "cell_type": "code",
   "execution_count": null,
   "id": "0ae788e0",
   "metadata": {},
   "outputs": [],
   "source": [
    "gives a count of character in string\n",
    "\n",
    "string.count(substring,[start_index],[end_index])"
   ]
  },
  {
   "cell_type": "code",
   "execution_count": 30,
   "id": "89478d82",
   "metadata": {},
   "outputs": [
    {
     "data": {
      "text/plain": [
       "2"
      ]
     },
     "execution_count": 30,
     "metadata": {},
     "output_type": "execute_result"
    }
   ],
   "source": [
    "string='I am learning Python'\n",
    "string.count('a')"
   ]
  },
  {
   "cell_type": "code",
   "execution_count": 31,
   "id": "8afbeea0",
   "metadata": {},
   "outputs": [
    {
     "data": {
      "text/plain": [
       "1"
      ]
     },
     "execution_count": 31,
     "metadata": {},
     "output_type": "execute_result"
    }
   ],
   "source": [
    "string.count('Python')"
   ]
  },
  {
   "cell_type": "code",
   "execution_count": 32,
   "id": "84aa8cb8",
   "metadata": {},
   "outputs": [
    {
     "data": {
      "text/plain": [
       "1"
      ]
     },
     "execution_count": 32,
     "metadata": {},
     "output_type": "execute_result"
    }
   ],
   "source": [
    "string.count('a',4,8)"
   ]
  },
  {
   "cell_type": "markdown",
   "id": "c97f16f9",
   "metadata": {},
   "source": [
    "### 11.index()"
   ]
  },
  {
   "cell_type": "markdown",
   "id": "d8d8a55e",
   "metadata": {},
   "source": [
    "string.index(substring, [start_index],[end_index])"
   ]
  },
  {
   "cell_type": "code",
   "execution_count": 33,
   "id": "8939704e",
   "metadata": {},
   "outputs": [
    {
     "data": {
      "text/plain": [
       "2"
      ]
     },
     "execution_count": 33,
     "metadata": {},
     "output_type": "execute_result"
    }
   ],
   "source": [
    "string='I am learning Python'\n",
    "\n",
    "string.index('am')"
   ]
  },
  {
   "cell_type": "code",
   "execution_count": 35,
   "id": "d208d11e",
   "metadata": {},
   "outputs": [
    {
     "data": {
      "text/plain": [
       "1"
      ]
     },
     "execution_count": 35,
     "metadata": {},
     "output_type": "execute_result"
    }
   ],
   "source": [
    "string = \"\"\" Data science is an interdisciplinary field that uses scientific methods,\n",
    "processes, algorithms and systems to extract knowledge and insights from noisy, structured \n",
    "and unstructured data, and apply knowledge and actionable insights from data across a \n",
    "broad range of application domains,science \"\"\"\n",
    "\n",
    "string.index('Data')"
   ]
  },
  {
   "cell_type": "code",
   "execution_count": 36,
   "id": "4da46f6b",
   "metadata": {},
   "outputs": [
    {
     "data": {
      "text/plain": [
       "'nce is an interdisciplinary field that uses scientific methods,\\nprocesses, algorithms and systems to extract knowledge and insights from noisy, structured \\nand unstructured data, and apply k'"
      ]
     },
     "execution_count": 36,
     "metadata": {},
     "output_type": "execute_result"
    }
   ],
   "source": [
    "string[10:200]"
   ]
  },
  {
   "cell_type": "code",
   "execution_count": 37,
   "id": "cfe82443",
   "metadata": {},
   "outputs": [
    {
     "data": {
      "text/plain": [
       "183"
      ]
     },
     "execution_count": 37,
     "metadata": {},
     "output_type": "execute_result"
    }
   ],
   "source": [
    "string.index('data',10,200)"
   ]
  },
  {
   "cell_type": "markdown",
   "id": "0ca7c2d7",
   "metadata": {},
   "source": [
    "### 12.find()"
   ]
  },
  {
   "cell_type": "markdown",
   "id": "0b75cb37",
   "metadata": {},
   "source": [
    "string.find(substring,[start_index],[end_index])\n",
    "\n",
    "Return index >> If substring is present\n",
    "Return -1    >> If substring is not present"
   ]
  },
  {
   "cell_type": "code",
   "execution_count": 38,
   "id": "e25efd50",
   "metadata": {},
   "outputs": [
    {
     "data": {
      "text/plain": [
       "2"
      ]
     },
     "execution_count": 38,
     "metadata": {},
     "output_type": "execute_result"
    }
   ],
   "source": [
    "string='I am learning Python'\n",
    "\n",
    "string.find('am')"
   ]
  },
  {
   "cell_type": "code",
   "execution_count": 40,
   "id": "64369cfe",
   "metadata": {},
   "outputs": [
    {
     "data": {
      "text/plain": [
       "-1"
      ]
     },
     "execution_count": 40,
     "metadata": {},
     "output_type": "execute_result"
    }
   ],
   "source": [
    "string='I am learning Python'\n",
    "\n",
    "string.find('are')"
   ]
  },
  {
   "cell_type": "code",
   "execution_count": 41,
   "id": "8811d615",
   "metadata": {},
   "outputs": [
    {
     "data": {
      "text/plain": [
       "-1"
      ]
     },
     "execution_count": 41,
     "metadata": {},
     "output_type": "execute_result"
    }
   ],
   "source": [
    "string='I am learning Python'\n",
    "\n",
    "string.find('Python',0,3)"
   ]
  },
  {
   "cell_type": "markdown",
   "id": "8d373c33",
   "metadata": {},
   "source": [
    "### 13.split()"
   ]
  },
  {
   "cell_type": "markdown",
   "id": "38b9b475",
   "metadata": {},
   "source": [
    "convert string into list"
   ]
  },
  {
   "cell_type": "code",
   "execution_count": 42,
   "id": "d08e34a3",
   "metadata": {},
   "outputs": [
    {
     "data": {
      "text/plain": [
       "['I', 'am', 'learning', 'python']"
      ]
     },
     "execution_count": 42,
     "metadata": {},
     "output_type": "execute_result"
    }
   ],
   "source": [
    "string='I am learning python'\n",
    "string.split() #spliting over space"
   ]
  },
  {
   "cell_type": "code",
   "execution_count": 43,
   "id": "001c7df3",
   "metadata": {},
   "outputs": [
    {
     "data": {
      "text/plain": [
       "['I ', ' learning python']"
      ]
     },
     "execution_count": 43,
     "metadata": {},
     "output_type": "execute_result"
    }
   ],
   "source": [
    "string='I am learning python'\n",
    "string.split('am')"
   ]
  },
  {
   "cell_type": "markdown",
   "id": "1ddaf1c6",
   "metadata": {},
   "source": [
    "### 14.join()"
   ]
  },
  {
   "cell_type": "markdown",
   "id": "91c80b85",
   "metadata": {},
   "source": [
    "list to string"
   ]
  },
  {
   "cell_type": "code",
   "execution_count": 46,
   "id": "f2e380da",
   "metadata": {},
   "outputs": [
    {
     "data": {
      "text/plain": [
       "'orange banana papaya'"
      ]
     },
     "execution_count": 46,
     "metadata": {},
     "output_type": "execute_result"
    }
   ],
   "source": [
    "l1=['orange','banana','papaya']\n",
    "\n",
    "' '.join(l1)"
   ]
  },
  {
   "cell_type": "code",
   "execution_count": 47,
   "id": "1f6c7078",
   "metadata": {},
   "outputs": [
    {
     "data": {
      "text/plain": [
       "'orange_banana_papaya'"
      ]
     },
     "execution_count": 47,
     "metadata": {},
     "output_type": "execute_result"
    }
   ],
   "source": [
    "'_'.join(l1)"
   ]
  },
  {
   "cell_type": "markdown",
   "id": "4bb182a6",
   "metadata": {},
   "source": [
    "### 15.endswith()"
   ]
  },
  {
   "cell_type": "raw",
   "id": "5c2639c6",
   "metadata": {},
   "source": [
    "It return boolean values(True/False)\n",
    "Used to check file extensions"
   ]
  },
  {
   "cell_type": "code",
   "execution_count": 48,
   "id": "f521cd63",
   "metadata": {},
   "outputs": [
    {
     "data": {
      "text/plain": [
       "True"
      ]
     },
     "execution_count": 48,
     "metadata": {},
     "output_type": "execute_result"
    }
   ],
   "source": [
    "string='I am learning python'\n",
    "string.endswith('python')"
   ]
  },
  {
   "cell_type": "markdown",
   "id": "ea6644cb",
   "metadata": {},
   "source": [
    "### 16.startswith()"
   ]
  },
  {
   "cell_type": "markdown",
   "id": "8075e2db",
   "metadata": {},
   "source": [
    "It return boolean values (True /False)\n",
    "Prefix"
   ]
  },
  {
   "cell_type": "code",
   "execution_count": 49,
   "id": "d311bdf2",
   "metadata": {},
   "outputs": [
    {
     "data": {
      "text/plain": [
       "True"
      ]
     },
     "execution_count": 49,
     "metadata": {},
     "output_type": "execute_result"
    }
   ],
   "source": [
    "string='I am learning python'\n",
    "string.startswith('I')"
   ]
  },
  {
   "cell_type": "markdown",
   "id": "b96f9faa",
   "metadata": {},
   "source": [
    "### 17.isalnum()"
   ]
  },
  {
   "cell_type": "markdown",
   "id": "cba00a6d",
   "metadata": {},
   "source": [
    "True if string is alphanumeric (0-9,a-z)"
   ]
  },
  {
   "cell_type": "code",
   "execution_count": 50,
   "id": "cc97f1d0",
   "metadata": {},
   "outputs": [
    {
     "data": {
      "text/plain": [
       "True"
      ]
     },
     "execution_count": 50,
     "metadata": {},
     "output_type": "execute_result"
    }
   ],
   "source": [
    "string='Python133'\n",
    "string.isalnum()"
   ]
  },
  {
   "cell_type": "code",
   "execution_count": 51,
   "id": "80470fd3",
   "metadata": {},
   "outputs": [
    {
     "data": {
      "text/plain": [
       "False"
      ]
     },
     "execution_count": 51,
     "metadata": {},
     "output_type": "execute_result"
    }
   ],
   "source": [
    "string='Python@133'\n",
    "string.isalnum()"
   ]
  },
  {
   "cell_type": "markdown",
   "id": "1080d0ea",
   "metadata": {},
   "source": [
    "### 18.isalpha()"
   ]
  },
  {
   "cell_type": "markdown",
   "id": "689613db",
   "metadata": {},
   "source": [
    "True if string contains only alphabets"
   ]
  },
  {
   "cell_type": "code",
   "execution_count": 52,
   "id": "b0c19579",
   "metadata": {},
   "outputs": [
    {
     "data": {
      "text/plain": [
       "False"
      ]
     },
     "execution_count": 52,
     "metadata": {},
     "output_type": "execute_result"
    }
   ],
   "source": [
    "string='Python133'\n",
    "string.isalpha()"
   ]
  },
  {
   "cell_type": "code",
   "execution_count": 53,
   "id": "1aed1a6f",
   "metadata": {},
   "outputs": [
    {
     "data": {
      "text/plain": [
       "True"
      ]
     },
     "execution_count": 53,
     "metadata": {},
     "output_type": "execute_result"
    }
   ],
   "source": [
    "string='Python'\n",
    "string.isalpha()"
   ]
  },
  {
   "cell_type": "markdown",
   "id": "54b959c2",
   "metadata": {},
   "source": [
    "### 19.isdecimal()"
   ]
  },
  {
   "cell_type": "markdown",
   "id": "3f6ed16e",
   "metadata": {},
   "source": [
    "True if string contains only digits(0-9)\n",
    "It does not allow special char ( dot, space ,etc)"
   ]
  },
  {
   "cell_type": "code",
   "execution_count": 54,
   "id": "8777ea62",
   "metadata": {},
   "outputs": [
    {
     "data": {
      "text/plain": [
       "True"
      ]
     },
     "execution_count": 54,
     "metadata": {},
     "output_type": "execute_result"
    }
   ],
   "source": [
    "string='2341'\n",
    "string.isdecimal()"
   ]
  },
  {
   "cell_type": "code",
   "execution_count": 55,
   "id": "2793c7d1",
   "metadata": {},
   "outputs": [
    {
     "data": {
      "text/plain": [
       "False"
      ]
     },
     "execution_count": 55,
     "metadata": {},
     "output_type": "execute_result"
    }
   ],
   "source": [
    "string='23.41'\n",
    "string.isdecimal()"
   ]
  },
  {
   "cell_type": "code",
   "execution_count": 56,
   "id": "c59a168e",
   "metadata": {},
   "outputs": [
    {
     "data": {
      "text/plain": [
       "True"
      ]
     },
     "execution_count": 56,
     "metadata": {},
     "output_type": "execute_result"
    }
   ],
   "source": [
    "mobile_num = '\\u0030'\n",
    "mobile_num.isdecimal()"
   ]
  },
  {
   "cell_type": "markdown",
   "id": "eab65481",
   "metadata": {},
   "source": [
    "### 20.isdigit()"
   ]
  },
  {
   "cell_type": "markdown",
   "id": "90961344",
   "metadata": {},
   "source": [
    "True if string contains digits, subscripts and superscripts\n",
    "It does not allow special char ( dot, space ,etc)"
   ]
  },
  {
   "cell_type": "code",
   "execution_count": 59,
   "id": "03be7491",
   "metadata": {},
   "outputs": [
    {
     "data": {
      "text/plain": [
       "True"
      ]
     },
     "execution_count": 59,
     "metadata": {},
     "output_type": "execute_result"
    }
   ],
   "source": [
    "mobile_num = '\\u0039'\n",
    "mobile_num.isdigit()"
   ]
  },
  {
   "cell_type": "code",
   "execution_count": 60,
   "id": "b22feea3",
   "metadata": {},
   "outputs": [
    {
     "data": {
      "text/plain": [
       "False"
      ]
     },
     "execution_count": 60,
     "metadata": {},
     "output_type": "execute_result"
    }
   ],
   "source": [
    "mobile_num = '\\u00B2' # superscript\n",
    "mobile_num.isdecimal()"
   ]
  },
  {
   "cell_type": "code",
   "execution_count": 61,
   "id": "9a5e3216",
   "metadata": {},
   "outputs": [
    {
     "data": {
      "text/plain": [
       "True"
      ]
     },
     "execution_count": 61,
     "metadata": {},
     "output_type": "execute_result"
    }
   ],
   "source": [
    "mobile_num = '\\u00B2' # superscript\n",
    "mobile_num.isdigit()"
   ]
  },
  {
   "cell_type": "code",
   "execution_count": 62,
   "id": "84b9e47a",
   "metadata": {},
   "outputs": [
    {
     "data": {
      "text/plain": [
       "False"
      ]
     },
     "execution_count": 62,
     "metadata": {},
     "output_type": "execute_result"
    }
   ],
   "source": [
    "mobile_num = '\\u2082' # subscript\n",
    "mobile_num.isdecimal()"
   ]
  },
  {
   "cell_type": "code",
   "execution_count": 63,
   "id": "409e0e1f",
   "metadata": {},
   "outputs": [
    {
     "data": {
      "text/plain": [
       "True"
      ]
     },
     "execution_count": 63,
     "metadata": {},
     "output_type": "execute_result"
    }
   ],
   "source": [
    "mobile_num = '\\u2082' # subscript\n",
    "mobile_num.isdigit()"
   ]
  },
  {
   "cell_type": "markdown",
   "id": "8595d5b7",
   "metadata": {},
   "source": [
    "### 21.isnumeric()"
   ]
  },
  {
   "cell_type": "markdown",
   "id": "cd190e8f",
   "metadata": {},
   "source": [
    "True >> If all char are digits, subscripts , superscripts, vulgar fraction(1/2, 2/3, 3/4)"
   ]
  },
  {
   "cell_type": "code",
   "execution_count": 64,
   "id": "e4575ee1",
   "metadata": {},
   "outputs": [
    {
     "data": {
      "text/plain": [
       "True"
      ]
     },
     "execution_count": 64,
     "metadata": {},
     "output_type": "execute_result"
    }
   ],
   "source": [
    "string = \"\\u00BD\"\n",
    "string.isnumeric()"
   ]
  },
  {
   "cell_type": "code",
   "execution_count": 65,
   "id": "c5a6ebec",
   "metadata": {},
   "outputs": [
    {
     "data": {
      "text/plain": [
       "True"
      ]
     },
     "execution_count": 65,
     "metadata": {},
     "output_type": "execute_result"
    }
   ],
   "source": [
    "mobile_num = '\\u2082' # subscript\n",
    "mobile_num.isnumeric()"
   ]
  },
  {
   "cell_type": "code",
   "execution_count": 66,
   "id": "b96dc336",
   "metadata": {},
   "outputs": [
    {
     "name": "stdout",
     "output_type": "stream",
     "text": [
      "True\n",
      "True\n",
      "True\n"
     ]
    }
   ],
   "source": [
    "string = '123456'\n",
    "print(string.isdecimal())  # True  \n",
    "print(string.isdigit())   # True\n",
    "print(string.isnumeric())"
   ]
  },
  {
   "cell_type": "code",
   "execution_count": 67,
   "id": "16d34abf",
   "metadata": {},
   "outputs": [
    {
     "name": "stdout",
     "output_type": "stream",
     "text": [
      "False\n",
      "False\n",
      "False\n"
     ]
    }
   ],
   "source": [
    "string = '3.14'\n",
    "print(string.isdecimal())  # False  \n",
    "print(string.isdigit())   # False\n",
    "print(string.isnumeric()) # False"
   ]
  },
  {
   "cell_type": "code",
   "execution_count": 68,
   "id": "2a0212d9",
   "metadata": {},
   "outputs": [
    {
     "name": "stdout",
     "output_type": "stream",
     "text": [
      "False\n",
      "False\n",
      "False\n"
     ]
    }
   ],
   "source": [
    "string = '1234 5678'\n",
    "print(string.isdecimal())  # False  \n",
    "print(string.isdigit())   # False\n",
    "print(string.isnumeric()) # False"
   ]
  },
  {
   "cell_type": "markdown",
   "id": "9157592b",
   "metadata": {},
   "source": [
    "### 22.islower()"
   ]
  },
  {
   "cell_type": "markdown",
   "id": "f0eb76fd",
   "metadata": {},
   "source": [
    "True >> If all alphabates are in lower case\n",
    "Space and special chars are allowed"
   ]
  },
  {
   "cell_type": "code",
   "execution_count": 69,
   "id": "85d8e7e0",
   "metadata": {},
   "outputs": [
    {
     "data": {
      "text/plain": [
       "False"
      ]
     },
     "execution_count": 69,
     "metadata": {},
     "output_type": "execute_result"
    }
   ],
   "source": [
    "string='Python'\n",
    "string.islower() #false"
   ]
  },
  {
   "cell_type": "code",
   "execution_count": 70,
   "id": "e3a33560",
   "metadata": {},
   "outputs": [
    {
     "data": {
      "text/plain": [
       "True"
      ]
     },
     "execution_count": 70,
     "metadata": {},
     "output_type": "execute_result"
    }
   ],
   "source": [
    "string='python'\n",
    "string.islower() #True"
   ]
  },
  {
   "cell_type": "markdown",
   "id": "264097b2",
   "metadata": {},
   "source": [
    "### 23.isupper()"
   ]
  },
  {
   "cell_type": "markdown",
   "id": "f0f484ca",
   "metadata": {},
   "source": [
    "True >> If all alphabates are in upper case\n",
    "Space and special chars are allowed"
   ]
  },
  {
   "cell_type": "code",
   "execution_count": 71,
   "id": "beab4c35",
   "metadata": {},
   "outputs": [
    {
     "data": {
      "text/plain": [
       "False"
      ]
     },
     "execution_count": 71,
     "metadata": {},
     "output_type": "execute_result"
    }
   ],
   "source": [
    "string='Python'\n",
    "string.isupper() #false"
   ]
  },
  {
   "cell_type": "code",
   "execution_count": 72,
   "id": "c179ee6c",
   "metadata": {},
   "outputs": [
    {
     "data": {
      "text/plain": [
       "True"
      ]
     },
     "execution_count": 72,
     "metadata": {},
     "output_type": "execute_result"
    }
   ],
   "source": [
    "string='VRITA'\n",
    "string.isupper()"
   ]
  },
  {
   "cell_type": "markdown",
   "id": "3ebf6b83",
   "metadata": {},
   "source": [
    "### 24.istitle()"
   ]
  },
  {
   "cell_type": "markdown",
   "id": "36ceb129",
   "metadata": {},
   "source": [
    "True >> If all alphabates are in upper case\n",
    "Space and special chars are allowed"
   ]
  },
  {
   "cell_type": "code",
   "execution_count": 73,
   "id": "a460988f",
   "metadata": {},
   "outputs": [
    {
     "data": {
      "text/plain": [
       "True"
      ]
     },
     "execution_count": 73,
     "metadata": {},
     "output_type": "execute_result"
    }
   ],
   "source": [
    "string = \"Data\"\n",
    "string.istitle()"
   ]
  },
  {
   "cell_type": "code",
   "execution_count": 74,
   "id": "8c8ab270",
   "metadata": {},
   "outputs": [
    {
     "data": {
      "text/plain": [
       "False"
      ]
     },
     "execution_count": 74,
     "metadata": {},
     "output_type": "execute_result"
    }
   ],
   "source": [
    "string = \"DataScience\"\n",
    "string.istitle()"
   ]
  },
  {
   "cell_type": "code",
   "execution_count": 75,
   "id": "1ea69d99",
   "metadata": {},
   "outputs": [
    {
     "data": {
      "text/plain": [
       "True"
      ]
     },
     "execution_count": 75,
     "metadata": {},
     "output_type": "execute_result"
    }
   ],
   "source": [
    "string = \"Data Science\"\n",
    "string.istitle()"
   ]
  },
  {
   "cell_type": "markdown",
   "id": "91ef0384",
   "metadata": {},
   "source": [
    "### 25.isspace()"
   ]
  },
  {
   "cell_type": "code",
   "execution_count": null,
   "id": "9b8d016e",
   "metadata": {},
   "outputs": [],
   "source": [
    "True >> If all char are space"
   ]
  },
  {
   "cell_type": "code",
   "execution_count": 76,
   "id": "2e2580da",
   "metadata": {},
   "outputs": [
    {
     "data": {
      "text/plain": [
       "True"
      ]
     },
     "execution_count": 76,
     "metadata": {},
     "output_type": "execute_result"
    }
   ],
   "source": [
    "string = '          '\n",
    "string.isspace()"
   ]
  },
  {
   "cell_type": "code",
   "execution_count": 77,
   "id": "cc473f37",
   "metadata": {},
   "outputs": [
    {
     "data": {
      "text/plain": [
       "False"
      ]
     },
     "execution_count": 77,
     "metadata": {},
     "output_type": "execute_result"
    }
   ],
   "source": [
    "string= 'A          '\n",
    "string.isspace()"
   ]
  },
  {
   "cell_type": "markdown",
   "id": "87870fd1",
   "metadata": {},
   "source": [
    "### 26.zfill()"
   ]
  },
  {
   "cell_type": "code",
   "execution_count": null,
   "id": "d801b42f",
   "metadata": {},
   "outputs": [],
   "source": [
    "Zero filling"
   ]
  },
  {
   "cell_type": "code",
   "execution_count": 78,
   "id": "811c1f33",
   "metadata": {},
   "outputs": [
    {
     "data": {
      "text/plain": [
       "'000science'"
      ]
     },
     "execution_count": 78,
     "metadata": {},
     "output_type": "execute_result"
    }
   ],
   "source": [
    "string = 'science'\n",
    "string.zfill(10) # 3 zeros"
   ]
  },
  {
   "cell_type": "code",
   "execution_count": 79,
   "id": "efa280c8",
   "metadata": {},
   "outputs": [
    {
     "data": {
      "text/plain": [
       "'0000000000000science'"
      ]
     },
     "execution_count": 79,
     "metadata": {},
     "output_type": "execute_result"
    }
   ],
   "source": [
    "string = 'science'\n",
    "string.zfill(20) # 13 zeros"
   ]
  },
  {
   "cell_type": "markdown",
   "id": "47f4b148",
   "metadata": {},
   "source": [
    "### 27.center()"
   ]
  },
  {
   "cell_type": "code",
   "execution_count": 80,
   "id": "ae68346b",
   "metadata": {},
   "outputs": [
    {
     "data": {
      "text/plain": [
       "'  python  '"
      ]
     },
     "execution_count": 80,
     "metadata": {},
     "output_type": "execute_result"
    }
   ],
   "source": [
    "string = 'python'\n",
    "string.center(10)"
   ]
  },
  {
   "cell_type": "code",
   "execution_count": 81,
   "id": "38503d6d",
   "metadata": {},
   "outputs": [
    {
     "data": {
      "text/plain": [
       "'       python       '"
      ]
     },
     "execution_count": 81,
     "metadata": {},
     "output_type": "execute_result"
    }
   ],
   "source": [
    "string = 'python'\n",
    "string.center(20)"
   ]
  },
  {
   "cell_type": "code",
   "execution_count": 82,
   "id": "186fa3b3",
   "metadata": {},
   "outputs": [
    {
     "data": {
      "text/plain": [
       "'++++++++++++++++++++++++++++++++++data science++++++++++++++++++++++++++++++++++'"
      ]
     },
     "execution_count": 82,
     "metadata": {},
     "output_type": "execute_result"
    }
   ],
   "source": [
    "string = 'data science'\n",
    "string.center(80,'+')"
   ]
  },
  {
   "cell_type": "code",
   "execution_count": 83,
   "id": "bd73b0db",
   "metadata": {},
   "outputs": [
    {
     "data": {
      "text/plain": [
       "'*************************** PYTHON AND DATA SCIENCE ****************************'"
      ]
     },
     "execution_count": 83,
     "metadata": {},
     "output_type": "execute_result"
    }
   ],
   "source": [
    "string = ' PYTHON AND DATA SCIENCE '\n",
    "string.center(80,'*')"
   ]
  },
  {
   "cell_type": "code",
   "execution_count": null,
   "id": "5baddbac",
   "metadata": {},
   "outputs": [],
   "source": [
    "#end"
   ]
  }
 ],
 "metadata": {
  "kernelspec": {
   "display_name": "Python 3 (ipykernel)",
   "language": "python",
   "name": "python3"
  },
  "language_info": {
   "codemirror_mode": {
    "name": "ipython",
    "version": 3
   },
   "file_extension": ".py",
   "mimetype": "text/x-python",
   "name": "python",
   "nbconvert_exporter": "python",
   "pygments_lexer": "ipython3",
   "version": "3.9.7"
  }
 },
 "nbformat": 4,
 "nbformat_minor": 5
}
