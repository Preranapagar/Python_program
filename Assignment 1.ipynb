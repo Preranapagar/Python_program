{
 "cells": [
  {
   "cell_type": "markdown",
   "id": "76a96a13",
   "metadata": {},
   "source": [
    "## Assignment: 1"
   ]
  },
  {
   "cell_type": "markdown",
   "id": "333b7e9c",
   "metadata": {},
   "source": [
    "Topic :Variables, String, float, int"
   ]
  },
  {
   "cell_type": "markdown",
   "id": "a4293953",
   "metadata": {},
   "source": [
    "#### <span style='color:purple '> 1.What are the key features of Python? </span>"
   ]
  },
  {
   "cell_type": "markdown",
   "id": "e06aba6a",
   "metadata": {},
   "source": [
    "* Python is easy to learn & understand\n",
    "* Python has many open sources and libraries\n",
    "* Object oriented programming\n",
    "* Dynamically typed\n",
    "* GUI programming"
   ]
  },
  {
   "cell_type": "markdown",
   "id": "9aefee3e",
   "metadata": {},
   "source": [
    "#### <span style='color:purple '> 2.What are the Data Types in Python? </span> "
   ]
  },
  {
   "cell_type": "markdown",
   "id": "81406d7b",
   "metadata": {},
   "source": [
    "* Numeric\n",
    "* Boolean\n",
    "* Text\n",
    "* sequence\n",
    "* Mapping\n",
    "* SetDT"
   ]
  },
  {
   "cell_type": "markdown",
   "id": "24663e1a",
   "metadata": {},
   "source": [
    "#### <span style='color:purple '> 3.What are local variables and global variables in Python? </span>\n"
   ]
  },
  {
   "cell_type": "markdown",
   "id": "2e8d14a0",
   "metadata": {},
   "source": [
    "A local variable is variable declared in the function and accesible in the function only\n",
    "where global variable can be accessed globaly throughout the program."
   ]
  },
  {
   "cell_type": "markdown",
   "id": "ceccfa3d",
   "metadata": {},
   "source": [
    "#### <span style='color:purple '> 4.How do you write comments in python? and Why Comments are important? </span>"
   ]
  },
  {
   "cell_type": "markdown",
   "id": "b7ae3505",
   "metadata": {},
   "source": [
    "we can write comments in python using # and triple inverted commas. comments are useful\n",
    "to write a keypoint/function of program so can be understood easily later by anyone"
   ]
  },
  {
   "cell_type": "markdown",
   "id": "50ea747f",
   "metadata": {},
   "source": [
    "#### <span style='color:purple'> 5.How to comment on multiple lines in python? <span>"
   ]
  },
  {
   "cell_type": "markdown",
   "id": "63d6b437",
   "metadata": {},
   "source": [
    "to comment multiple lines in python we can use triple inverted commas"
   ]
  },
  {
   "cell_type": "markdown",
   "id": "7531e747",
   "metadata": {},
   "source": [
    "#### <span style='color:purple '> 6.What do you mean by Python literals? <span>"
   ]
  },
  {
   "cell_type": "markdown",
   "id": "f88b5f27",
   "metadata": {},
   "source": [
    "Python literals means values declared/assigned to variables"
   ]
  },
  {
   "cell_type": "markdown",
   "id": "a43ecdde",
   "metadata": {},
   "source": [
    "#### <span style='color:purple '> 7.What are different ways to assign value to variables? <span>"
   ]
  },
  {
   "cell_type": "markdown",
   "id": "8a895881",
   "metadata": {},
   "source": [
    "* Direct initialize >> a=5.\n",
    "* Same value assign for different variables >> a=5,b=5,c=5.\n",
    "* Different value assign for different variables >> a=5,b=10,c=15."
   ]
  },
  {
   "cell_type": "markdown",
   "id": "5a6c9ed4",
   "metadata": {},
   "source": [
    "#### <span style='color:purple '>8.What are the Escape Characters in python? <span>"
   ]
  },
  {
   "cell_type": "markdown",
   "id": "3cb24e11",
   "metadata": {},
   "source": [
    "backslash is an escape character in python"
   ]
  },
  {
   "cell_type": "markdown",
   "id": "2481496e",
   "metadata": {},
   "source": [
    "#### <span style='color:purple '> 9.Which are the different ways to perform string formatting? Explain with example. <span>\n"
   ]
  },
  {
   "cell_type": "markdown",
   "id": "b165faa5",
   "metadata": {},
   "source": [
    "##### ways of formatting string:"
   ]
  },
  {
   "cell_type": "markdown",
   "id": "4c4cfd13",
   "metadata": {},
   "source": [
    "###### 1) capitalize()"
   ]
  },
  {
   "cell_type": "code",
   "execution_count": 2,
   "id": "249703be",
   "metadata": {},
   "outputs": [
    {
     "name": "stdout",
     "output_type": "stream",
     "text": [
      "python language\n"
     ]
    },
    {
     "data": {
      "text/plain": [
       "'Python language'"
      ]
     },
     "execution_count": 2,
     "metadata": {},
     "output_type": "execute_result"
    }
   ],
   "source": [
    "string='python language'\n",
    "print(string)\n",
    "\n",
    "string.capitalize() #capitalizes the first word of string"
   ]
  },
  {
   "cell_type": "markdown",
   "id": "cd56001e",
   "metadata": {},
   "source": [
    "###### 2) upper()"
   ]
  },
  {
   "cell_type": "code",
   "execution_count": 3,
   "id": "fad00cd0",
   "metadata": {},
   "outputs": [
    {
     "name": "stdout",
     "output_type": "stream",
     "text": [
      "Data Science\n"
     ]
    },
    {
     "data": {
      "text/plain": [
       "'DATA SCIENCE'"
      ]
     },
     "execution_count": 3,
     "metadata": {},
     "output_type": "execute_result"
    }
   ],
   "source": [
    "string='Data Science'\n",
    "print(string)\n",
    "\n",
    "string.upper() #changes each charater of string to upper case"
   ]
  },
  {
   "cell_type": "markdown",
   "id": "acce4954",
   "metadata": {},
   "source": [
    "###### 3) lower()"
   ]
  },
  {
   "cell_type": "code",
   "execution_count": 4,
   "id": "673e921a",
   "metadata": {},
   "outputs": [
    {
     "name": "stdout",
     "output_type": "stream",
     "text": [
      "DATA SCIENCE\n"
     ]
    },
    {
     "data": {
      "text/plain": [
       "'data science'"
      ]
     },
     "execution_count": 4,
     "metadata": {},
     "output_type": "execute_result"
    }
   ],
   "source": [
    "string='DATA SCIENCE'\n",
    "print(string)\n",
    "\n",
    "string.lower() #changes each character of string to lower case"
   ]
  },
  {
   "cell_type": "markdown",
   "id": "dda42406",
   "metadata": {},
   "source": [
    "###### 4) title()"
   ]
  },
  {
   "cell_type": "code",
   "execution_count": 5,
   "id": "ed3d0172",
   "metadata": {},
   "outputs": [
    {
     "name": "stdout",
     "output_type": "stream",
     "text": [
      "data science\n"
     ]
    },
    {
     "data": {
      "text/plain": [
       "'Data Science'"
      ]
     },
     "execution_count": 5,
     "metadata": {},
     "output_type": "execute_result"
    }
   ],
   "source": [
    "string='data science'\n",
    "print(string)\n",
    "\n",
    "string.title() #changes first character of word to upper case"
   ]
  },
  {
   "cell_type": "markdown",
   "id": "b6952d65",
   "metadata": {},
   "source": [
    "###### 5) lstrip()"
   ]
  },
  {
   "cell_type": "code",
   "execution_count": 28,
   "id": "e003b465",
   "metadata": {},
   "outputs": [
    {
     "name": "stdout",
     "output_type": "stream",
     "text": [
      "      Python\n"
     ]
    },
    {
     "data": {
      "text/plain": [
       "'Python'"
      ]
     },
     "execution_count": 28,
     "metadata": {},
     "output_type": "execute_result"
    }
   ],
   "source": [
    "string='      Python'\n",
    "print(string)\n",
    "\n",
    "string.lstrip() #removes leading spaces"
   ]
  },
  {
   "cell_type": "markdown",
   "id": "42a2e7cf",
   "metadata": {},
   "source": [
    "###### 6) rstrip()"
   ]
  },
  {
   "cell_type": "code",
   "execution_count": 29,
   "id": "493eddc3",
   "metadata": {},
   "outputs": [
    {
     "name": "stdout",
     "output_type": "stream",
     "text": [
      "Python       \n"
     ]
    },
    {
     "data": {
      "text/plain": [
       "'Python'"
      ]
     },
     "execution_count": 29,
     "metadata": {},
     "output_type": "execute_result"
    }
   ],
   "source": [
    "string='Python       '\n",
    "print(string)\n",
    "\n",
    "string.rstrip() #removes trailing spaces"
   ]
  },
  {
   "cell_type": "markdown",
   "id": "b01ec46b",
   "metadata": {},
   "source": [
    "###### 7) strip()"
   ]
  },
  {
   "cell_type": "code",
   "execution_count": 30,
   "id": "ab64c3cb",
   "metadata": {},
   "outputs": [
    {
     "name": "stdout",
     "output_type": "stream",
     "text": [
      "    Python    \n"
     ]
    },
    {
     "data": {
      "text/plain": [
       "'Python'"
      ]
     },
     "execution_count": 30,
     "metadata": {},
     "output_type": "execute_result"
    }
   ],
   "source": [
    "string='    Python    '\n",
    "print(string)\n",
    "\n",
    "string.strip() #removes all leading and trailin gspaces"
   ]
  },
  {
   "cell_type": "markdown",
   "id": "30daeb5b",
   "metadata": {},
   "source": [
    "###### 8) swapcase()"
   ]
  },
  {
   "cell_type": "code",
   "execution_count": 31,
   "id": "8d414435",
   "metadata": {},
   "outputs": [
    {
     "name": "stdout",
     "output_type": "stream",
     "text": [
      "Python\n"
     ]
    },
    {
     "data": {
      "text/plain": [
       "'pYTHON'"
      ]
     },
     "execution_count": 31,
     "metadata": {},
     "output_type": "execute_result"
    }
   ],
   "source": [
    "string='Python'\n",
    "print(string)\n",
    "\n",
    "string.swapcase() #changes cases of characters"
   ]
  },
  {
   "cell_type": "markdown",
   "id": "c79b8b96",
   "metadata": {},
   "source": [
    "###### 9) replace()"
   ]
  },
  {
   "cell_type": "code",
   "execution_count": 32,
   "id": "805921a2",
   "metadata": {},
   "outputs": [
    {
     "name": "stdout",
     "output_type": "stream",
     "text": [
      "I am a Data Scientist\n"
     ]
    },
    {
     "data": {
      "text/plain": [
       "'I am a Rocket Scientist'"
      ]
     },
     "execution_count": 32,
     "metadata": {},
     "output_type": "execute_result"
    }
   ],
   "source": [
    "string='I am a Data Scientist'\n",
    "print(string)\n",
    "\n",
    "string.replace('Data','Rocket')"
   ]
  },
  {
   "cell_type": "code",
   "execution_count": 33,
   "id": "56280aa2",
   "metadata": {},
   "outputs": [
    {
     "data": {
      "text/plain": [
       "'I 1m 1 D1t1 Scientist'"
      ]
     },
     "execution_count": 33,
     "metadata": {},
     "output_type": "execute_result"
    }
   ],
   "source": [
    "string.replace('a','1')"
   ]
  },
  {
   "cell_type": "markdown",
   "id": "972cabf1",
   "metadata": {},
   "source": [
    "###### 10) count()"
   ]
  },
  {
   "cell_type": "code",
   "execution_count": 34,
   "id": "82ffa68c",
   "metadata": {},
   "outputs": [
    {
     "name": "stdout",
     "output_type": "stream",
     "text": [
      "I am a Data Scientist\n"
     ]
    },
    {
     "data": {
      "text/plain": [
       "4"
      ]
     },
     "execution_count": 34,
     "metadata": {},
     "output_type": "execute_result"
    }
   ],
   "source": [
    "string='I am a Data Scientist'\n",
    "print(string)\n",
    "\n",
    "string.count('a')"
   ]
  },
  {
   "cell_type": "markdown",
   "id": "4542ccea",
   "metadata": {},
   "source": [
    "###### 11) index()"
   ]
  },
  {
   "cell_type": "code",
   "execution_count": 36,
   "id": "d14ca0f0",
   "metadata": {},
   "outputs": [
    {
     "name": "stdout",
     "output_type": "stream",
     "text": [
      "I am a Data Scientist\n"
     ]
    },
    {
     "data": {
      "text/plain": [
       "7"
      ]
     },
     "execution_count": 36,
     "metadata": {},
     "output_type": "execute_result"
    }
   ],
   "source": [
    "string='I am a Data Scientist'\n",
    "print(string)\n",
    "\n",
    "string.index('Data')"
   ]
  },
  {
   "cell_type": "markdown",
   "id": "36739fc9",
   "metadata": {},
   "source": [
    "###### 12) find()"
   ]
  },
  {
   "cell_type": "code",
   "execution_count": 37,
   "id": "be5254bd",
   "metadata": {},
   "outputs": [
    {
     "name": "stdout",
     "output_type": "stream",
     "text": [
      "I am a Data Scientist\n"
     ]
    },
    {
     "data": {
      "text/plain": [
       "7"
      ]
     },
     "execution_count": 37,
     "metadata": {},
     "output_type": "execute_result"
    }
   ],
   "source": [
    "string='I am a Data Scientist'\n",
    "print(string)\n",
    "\n",
    "string.find('Data')"
   ]
  },
  {
   "cell_type": "markdown",
   "id": "e8ae9132",
   "metadata": {},
   "source": [
    "###### 13) split()"
   ]
  },
  {
   "cell_type": "code",
   "execution_count": 38,
   "id": "3fa17a9d",
   "metadata": {},
   "outputs": [
    {
     "name": "stdout",
     "output_type": "stream",
     "text": [
      "I am a Data Scientist\n"
     ]
    },
    {
     "data": {
      "text/plain": [
       "['I', 'am', 'a', 'Data', 'Scientist']"
      ]
     },
     "execution_count": 38,
     "metadata": {},
     "output_type": "execute_result"
    }
   ],
   "source": [
    "string='I am a Data Scientist'\n",
    "print(string)\n",
    "\n",
    "string.split()"
   ]
  },
  {
   "cell_type": "markdown",
   "id": "002c27ba",
   "metadata": {},
   "source": [
    "###### 14) endswith()"
   ]
  },
  {
   "cell_type": "code",
   "execution_count": 39,
   "id": "4ac2b33c",
   "metadata": {},
   "outputs": [
    {
     "name": "stdout",
     "output_type": "stream",
     "text": [
      "I am a Data Scientist\n"
     ]
    },
    {
     "data": {
      "text/plain": [
       "False"
      ]
     },
     "execution_count": 39,
     "metadata": {},
     "output_type": "execute_result"
    }
   ],
   "source": [
    "string='I am a Data Scientist'\n",
    "print(string)\n",
    "\n",
    "string.endswith('o')"
   ]
  },
  {
   "cell_type": "markdown",
   "id": "ddb3dfec",
   "metadata": {},
   "source": [
    "###### 15) startswith()"
   ]
  },
  {
   "cell_type": "code",
   "execution_count": 40,
   "id": "a85448f5",
   "metadata": {},
   "outputs": [
    {
     "name": "stdout",
     "output_type": "stream",
     "text": [
      "I am a Data Scientist\n"
     ]
    },
    {
     "data": {
      "text/plain": [
       "True"
      ]
     },
     "execution_count": 40,
     "metadata": {},
     "output_type": "execute_result"
    }
   ],
   "source": [
    "string='I am a Data Scientist'\n",
    "print(string)\n",
    "\n",
    "string.startswith('I')"
   ]
  },
  {
   "cell_type": "markdown",
   "id": "d756d7e8",
   "metadata": {},
   "source": [
    "###### 16) isalnum()"
   ]
  },
  {
   "cell_type": "code",
   "execution_count": 42,
   "id": "15074816",
   "metadata": {},
   "outputs": [
    {
     "data": {
      "text/plain": [
       "True"
      ]
     },
     "execution_count": 42,
     "metadata": {},
     "output_type": "execute_result"
    }
   ],
   "source": [
    "string='Python333'\n",
    "\n",
    "string.isalnum()"
   ]
  },
  {
   "cell_type": "markdown",
   "id": "a1ff79e8",
   "metadata": {},
   "source": [
    "###### 17) isalpha()"
   ]
  },
  {
   "cell_type": "code",
   "execution_count": 43,
   "id": "7fcd7f56",
   "metadata": {},
   "outputs": [
    {
     "data": {
      "text/plain": [
       "False"
      ]
     },
     "execution_count": 43,
     "metadata": {},
     "output_type": "execute_result"
    }
   ],
   "source": [
    "string='Python333'\n",
    "\n",
    "string.isalpha()"
   ]
  },
  {
   "cell_type": "markdown",
   "id": "10783a67",
   "metadata": {},
   "source": [
    "###### 18) isdigit()"
   ]
  },
  {
   "cell_type": "code",
   "execution_count": 44,
   "id": "109852bc",
   "metadata": {},
   "outputs": [
    {
     "data": {
      "text/plain": [
       "True"
      ]
     },
     "execution_count": 44,
     "metadata": {},
     "output_type": "execute_result"
    }
   ],
   "source": [
    "string='9975437'\n",
    "\n",
    "string.isdigit()"
   ]
  },
  {
   "cell_type": "markdown",
   "id": "3fbf9b06",
   "metadata": {},
   "source": [
    "###### 19) isdecimal()"
   ]
  },
  {
   "cell_type": "code",
   "execution_count": 45,
   "id": "7cb914b8",
   "metadata": {},
   "outputs": [
    {
     "data": {
      "text/plain": [
       "True"
      ]
     },
     "execution_count": 45,
     "metadata": {},
     "output_type": "execute_result"
    }
   ],
   "source": [
    "string='9975437'\n",
    "\n",
    "string.isdecimal()"
   ]
  },
  {
   "cell_type": "markdown",
   "id": "efc8a403",
   "metadata": {},
   "source": [
    "###### 20) isdigit()"
   ]
  },
  {
   "cell_type": "code",
   "execution_count": 46,
   "id": "f047e411",
   "metadata": {},
   "outputs": [
    {
     "data": {
      "text/plain": [
       "True"
      ]
     },
     "execution_count": 46,
     "metadata": {},
     "output_type": "execute_result"
    }
   ],
   "source": [
    "mobile_num = '\\u0039'\n",
    "mobile_num.isdigit()"
   ]
  },
  {
   "cell_type": "markdown",
   "id": "5dbdb8ae",
   "metadata": {},
   "source": [
    "###### 21) isnumeric()"
   ]
  },
  {
   "cell_type": "code",
   "execution_count": 1,
   "id": "b464e62d",
   "metadata": {},
   "outputs": [
    {
     "data": {
      "text/plain": [
       "True"
      ]
     },
     "execution_count": 1,
     "metadata": {},
     "output_type": "execute_result"
    }
   ],
   "source": [
    "mobile_num = '\\u0039'\n",
    "mobile_num.isnumeric()"
   ]
  },
  {
   "cell_type": "markdown",
   "id": "6c4e91c7",
   "metadata": {},
   "source": [
    "###### 22) islower()"
   ]
  },
  {
   "cell_type": "code",
   "execution_count": 2,
   "id": "85696f7a",
   "metadata": {},
   "outputs": [
    {
     "name": "stdout",
     "output_type": "stream",
     "text": [
      "False\n",
      "True\n"
     ]
    }
   ],
   "source": [
    "string='Python'\n",
    "string2='python'\n",
    "\n",
    "print(string.islower())\n",
    "print(string2.islower())"
   ]
  },
  {
   "cell_type": "markdown",
   "id": "c0c669b8",
   "metadata": {},
   "source": [
    "###### 23) isupper()"
   ]
  },
  {
   "cell_type": "code",
   "execution_count": 3,
   "id": "cf7247b3",
   "metadata": {},
   "outputs": [
    {
     "name": "stdout",
     "output_type": "stream",
     "text": [
      "False\n",
      "True\n"
     ]
    }
   ],
   "source": [
    "string='Python'\n",
    "string2='PYTHON'\n",
    "\n",
    "print(string.isupper())\n",
    "print(string2.isupper())"
   ]
  },
  {
   "cell_type": "markdown",
   "id": "7ac5e26e",
   "metadata": {},
   "source": [
    "###### 24) istitle()"
   ]
  },
  {
   "cell_type": "code",
   "execution_count": 4,
   "id": "f03c5553",
   "metadata": {},
   "outputs": [
    {
     "name": "stdout",
     "output_type": "stream",
     "text": [
      "True\n",
      "False\n"
     ]
    }
   ],
   "source": [
    "string='Data Science'\n",
    "string2='Data science'\n",
    "\n",
    "print(string.istitle())\n",
    "print(string2.istitle())"
   ]
  },
  {
   "cell_type": "markdown",
   "id": "66e5ac8e",
   "metadata": {},
   "source": [
    "###### 25) isspace()"
   ]
  },
  {
   "cell_type": "code",
   "execution_count": 5,
   "id": "01a1e4f0",
   "metadata": {},
   "outputs": [
    {
     "name": "stdout",
     "output_type": "stream",
     "text": [
      "True\n",
      "False\n"
     ]
    }
   ],
   "source": [
    "string='Python'\n",
    "string='   '\n",
    "\n",
    "print(string.isspace())\n",
    "print(string2.isspace())"
   ]
  },
  {
   "cell_type": "markdown",
   "id": "14ca9329",
   "metadata": {},
   "source": [
    "###### 26) zfill()"
   ]
  },
  {
   "cell_type": "code",
   "execution_count": 6,
   "id": "107acca0",
   "metadata": {},
   "outputs": [
    {
     "data": {
      "text/plain": [
       "'000000000Python'"
      ]
     },
     "execution_count": 6,
     "metadata": {},
     "output_type": "execute_result"
    }
   ],
   "source": [
    "string='Python'\n",
    "\n",
    "string.zfill(15)"
   ]
  },
  {
   "cell_type": "markdown",
   "id": "493c98be",
   "metadata": {},
   "source": [
    "###### 27) center()"
   ]
  },
  {
   "cell_type": "code",
   "execution_count": 7,
   "id": "058df9b6",
   "metadata": {},
   "outputs": [
    {
     "data": {
      "text/plain": [
       "'     pyhton    '"
      ]
     },
     "execution_count": 7,
     "metadata": {},
     "output_type": "execute_result"
    }
   ],
   "source": [
    "string='pyhton'\n",
    "string.center(15)"
   ]
  },
  {
   "cell_type": "markdown",
   "id": "e0abd830",
   "metadata": {},
   "source": [
    "#### <span style='color:purple '> 10. Write a program to print every character of a string entered by the user in a new line using a loop <span>"
   ]
  },
  {
   "cell_type": "code",
   "execution_count": 8,
   "id": "c98dd7d2",
   "metadata": {},
   "outputs": [
    {
     "name": "stdout",
     "output_type": "stream",
     "text": [
      "Python\n",
      "P\n",
      "y\n",
      "t\n",
      "h\n",
      "o\n",
      "n\n"
     ]
    }
   ],
   "source": [
    "string=input()\n",
    "\n",
    "for i in string:\n",
    "    print(i)"
   ]
  },
  {
   "cell_type": "markdown",
   "id": "0f95699b",
   "metadata": {},
   "source": [
    "#### <span style='color:purple '>11. Write a program to find the length of the string \"machine learning\" with and without using len function.<span>\n"
   ]
  },
  {
   "cell_type": "code",
   "execution_count": 9,
   "id": "28c39d29",
   "metadata": {},
   "outputs": [
    {
     "name": "stdout",
     "output_type": "stream",
     "text": [
      "Length of string is 16\n"
     ]
    }
   ],
   "source": [
    "string='machine learning'\n",
    "\n",
    "print('Length of string is',len(string))"
   ]
  },
  {
   "cell_type": "code",
   "execution_count": 10,
   "id": "c6d1c2b6",
   "metadata": {},
   "outputs": [
    {
     "name": "stdout",
     "output_type": "stream",
     "text": [
      "Length of string is 16\n"
     ]
    }
   ],
   "source": [
    "length=0\n",
    "for i in string:\n",
    "    length+=1\n",
    "print('Length of string is', length)"
   ]
  },
  {
   "cell_type": "markdown",
   "id": "68cacbb7",
   "metadata": {},
   "source": [
    "#### <span style='color:purple '>12. Write a program to check if the word 'orange' is present in the \"This is orange juice\"<span>"
   ]
  },
  {
   "cell_type": "code",
   "execution_count": 13,
   "id": "fe14cebd",
   "metadata": {},
   "outputs": [
    {
     "name": "stdout",
     "output_type": "stream",
     "text": [
      "orange is present in orange juice\n"
     ]
    }
   ],
   "source": [
    "string='This is orange juice'\n",
    "\n",
    "if string.find('orange')!=-1:\n",
    "    print('orange is present in orange juice')"
   ]
  },
  {
   "cell_type": "code",
   "execution_count": 14,
   "id": "5c762f78",
   "metadata": {},
   "outputs": [
    {
     "name": "stdout",
     "output_type": "stream",
     "text": [
      "orange is present in given string\n"
     ]
    }
   ],
   "source": [
    "string = 'this is orange juice'\n",
    "substring = 'orange'\n",
    "if substring in string :\n",
    "    print(f'{substring} is present in given string')"
   ]
  },
  {
   "cell_type": "markdown",
   "id": "a4048670",
   "metadata": {},
   "source": [
    "#### <span style='color:purple '>13. Write a program to find the number of vowels, consonants, digits, and white space characters in a string.<span>\n"
   ]
  },
  {
   "cell_type": "code",
   "execution_count": 22,
   "id": "449d17cd",
   "metadata": {},
   "outputs": [
    {
     "name": "stdout",
     "output_type": "stream",
     "text": [
      "Vowels: 4\n",
      "Consonants: 12\n",
      "Digits: 1\n",
      "Whitespaces: 2\n"
     ]
    }
   ],
   "source": [
    "string='Python Assignment 1'\n",
    "\n",
    "vowels,consonants,digits,whitespace=0,0,0,0\n",
    "\n",
    "for i in string:\n",
    "    if i.isalpha()==True:\n",
    "        if i in 'aeiou' or i in 'AEIOU':\n",
    "            vowels+=1\n",
    "        else:\n",
    "            consonants+=1\n",
    "    elif i.isdigit()==True:\n",
    "        digits+=1\n",
    "    elif i.isspace()==True:\n",
    "        whitespace+=1\n",
    "        \n",
    "print('Vowels:',vowels)\n",
    "print('Consonants:',consonants)\n",
    "print('Digits:',digits)\n",
    "print('Whitespaces:',whitespace)"
   ]
  },
  {
   "cell_type": "markdown",
   "id": "91c2432b",
   "metadata": {},
   "source": [
    "#### <span style='color:purple '>14. Write a Python program to count Uppercase, Lowercase, special character, and numeric values in a given string.<span>"
   ]
  },
  {
   "cell_type": "code",
   "execution_count": 28,
   "id": "07244c29",
   "metadata": {},
   "outputs": [
    {
     "name": "stdout",
     "output_type": "stream",
     "text": [
      "Uppercase: 2\n",
      "Lowercase: 14\n",
      "Special character: 1\n",
      "Numeric value: 1\n"
     ]
    }
   ],
   "source": [
    "string='Python Assignment : 1'\n",
    "\n",
    "uc,lc,sc,nv=0,0,0,0\n",
    "\n",
    "for i in string:\n",
    "    if i.isalpha():\n",
    "        if i.isupper():\n",
    "            uc+=1\n",
    "        else:\n",
    "            lc+=1\n",
    "    elif i.isdigit():\n",
    "        nv+=1\n",
    "    elif i.isspace()==False:\n",
    "        sc+=1\n",
    "            \n",
    "print('Uppercase:',uc)\n",
    "print('Lowercase:',lc)\n",
    "print('Special character:',sc)\n",
    "print('Numeric value:',nv)"
   ]
  },
  {
   "cell_type": "markdown",
   "id": "dc6801b4",
   "metadata": {},
   "source": [
    "#### <span style='color:purple '>15. Write a program to make a new string with all the consonants deleted from the string \"Hello, have a good day\".<span>\n"
   ]
  },
  {
   "cell_type": "code",
   "execution_count": 4,
   "id": "dcf0028e",
   "metadata": {},
   "outputs": [
    {
     "name": "stdout",
     "output_type": "stream",
     "text": [
      "eoaeaooa"
     ]
    }
   ],
   "source": [
    "string='Hello, have a good day'\n",
    "\n",
    "for i in string:\n",
    "    if i in 'aeiou'or i in 'AEIOU':\n",
    "        print(i,end='')"
   ]
  },
  {
   "cell_type": "markdown",
   "id": "f833324e",
   "metadata": {},
   "source": [
    "#### <span style='color:purple '>16. Write a Python program to remove the nth index character from a non-empty string.<span>\n"
   ]
  },
  {
   "cell_type": "code",
   "execution_count": 10,
   "id": "5bea2c90",
   "metadata": {},
   "outputs": [
    {
     "name": "stdout",
     "output_type": "stream",
     "text": [
      "Python\n",
      "3\n",
      "Pyton\n"
     ]
    }
   ],
   "source": [
    "string=input()\n",
    "n=int(input())\n",
    "\n",
    "if n in range(len(string)):\n",
    "    print(string[:n]+string[n+1:])\n",
    "else:\n",
    "    print('Invalid index')"
   ]
  },
  {
   "cell_type": "markdown",
   "id": "22e6ff43",
   "metadata": {},
   "source": [
    "#### <span style='color:purple '>17. Write a Python program to change a given string to a new string where the first and last characters have been exchanged.<span>"
   ]
  },
  {
   "cell_type": "code",
   "execution_count": 11,
   "id": "209c16f8",
   "metadata": {},
   "outputs": [],
   "source": [
    "def letter_exchange(string):\n",
    "    return string[-1]+string[1:-1]+string[0]"
   ]
  },
  {
   "cell_type": "code",
   "execution_count": 12,
   "id": "8a46d61c",
   "metadata": {},
   "outputs": [
    {
     "data": {
      "text/plain": [
       "'nythoP'"
      ]
     },
     "execution_count": 12,
     "metadata": {},
     "output_type": "execute_result"
    }
   ],
   "source": [
    "letter_exchange('Python')"
   ]
  },
  {
   "cell_type": "code",
   "execution_count": 13,
   "id": "c39b0aae",
   "metadata": {},
   "outputs": [
    {
     "data": {
      "text/plain": [
       "'aatD'"
      ]
     },
     "execution_count": 13,
     "metadata": {},
     "output_type": "execute_result"
    }
   ],
   "source": [
    "letter_exchange('Data')"
   ]
  },
  {
   "cell_type": "markdown",
   "id": "4d94be8a",
   "metadata": {},
   "source": [
    "#### <span style='color:purple '>18. Write a Python program to count the occurrences of each word in a given sentence.<span>"
   ]
  },
  {
   "cell_type": "code",
   "execution_count": 18,
   "id": "145a4308",
   "metadata": {},
   "outputs": [],
   "source": [
    "def count_word(string):\n",
    "    l1=string.split()\n",
    "    s1=set(l1)\n",
    "    for i in s1:\n",
    "        print('count of', i, 'is', l1.count(i))"
   ]
  },
  {
   "cell_type": "code",
   "execution_count": 19,
   "id": "c9d3703c",
   "metadata": {},
   "outputs": [
    {
     "name": "stdout",
     "output_type": "stream",
     "text": [
      "count of guava is 1\n",
      "count of orange is 3\n",
      "count of Apple is 1\n",
      "count of banana is 2\n"
     ]
    }
   ],
   "source": [
    "count_word('Apple banana orange banana guava orange orange')"
   ]
  },
  {
   "cell_type": "code",
   "execution_count": 20,
   "id": "f95e5e30",
   "metadata": {},
   "outputs": [],
   "source": [
    "def count_word2(string):\n",
    "    l1=string.split()\n",
    "    d={}\n",
    "    for i in l1:\n",
    "        d.update({i:l1.count(i)})\n",
    "    return d"
   ]
  },
  {
   "cell_type": "code",
   "execution_count": 21,
   "id": "a81e6909",
   "metadata": {},
   "outputs": [
    {
     "data": {
      "text/plain": [
       "{'Apple': 1, 'banana': 2, 'orange': 3, 'guava': 1}"
      ]
     },
     "execution_count": 21,
     "metadata": {},
     "output_type": "execute_result"
    }
   ],
   "source": [
    "count_word2('Apple banana orange banana guava orange orange')"
   ]
  },
  {
   "cell_type": "markdown",
   "id": "becff995",
   "metadata": {},
   "source": [
    "#### <span style='color:purple '>19. How do you count the occurrence of a given character in a string? <span>"
   ]
  },
  {
   "cell_type": "code",
   "execution_count": 24,
   "id": "ff50f1fc",
   "metadata": {},
   "outputs": [],
   "source": [
    "def count_char(string,char):\n",
    "    print('count of {} in given string is {}'.format(char,string.count(char)))"
   ]
  },
  {
   "cell_type": "code",
   "execution_count": 25,
   "id": "d6125926",
   "metadata": {},
   "outputs": [
    {
     "name": "stdout",
     "output_type": "stream",
     "text": [
      "count of y in given string is 1\n"
     ]
    }
   ],
   "source": [
    "string='Python'\n",
    "char='y'\n",
    "count_char(string,char)"
   ]
  },
  {
   "cell_type": "code",
   "execution_count": 26,
   "id": "59e0172c",
   "metadata": {},
   "outputs": [
    {
     "name": "stdout",
     "output_type": "stream",
     "text": [
      "count of banana in given string is 2\n"
     ]
    }
   ],
   "source": [
    "string='Apple banana orange banana guava orange orange'\n",
    "char='banana'\n",
    "count_char(string,char)"
   ]
  },
  {
   "cell_type": "markdown",
   "id": "a7935ffb",
   "metadata": {},
   "source": [
    "#### <span style='color:purple '>20. Write a program to find last 10 characters of a string?<span>"
   ]
  },
  {
   "cell_type": "code",
   "execution_count": 29,
   "id": "035fad66",
   "metadata": {},
   "outputs": [],
   "source": [
    "def last_10char(string):\n",
    "    if len(string)>=10:\n",
    "        return string[-10:]\n",
    "    else:\n",
    "        return 'invalid'"
   ]
  },
  {
   "cell_type": "code",
   "execution_count": 30,
   "id": "464e9589",
   "metadata": {},
   "outputs": [
    {
     "data": {
      "text/plain": [
       "'ta science'"
      ]
     },
     "execution_count": 30,
     "metadata": {},
     "output_type": "execute_result"
    }
   ],
   "source": [
    "last_10char('Python and data science')"
   ]
  },
  {
   "cell_type": "code",
   "execution_count": 31,
   "id": "76fb3f5e",
   "metadata": {},
   "outputs": [
    {
     "data": {
      "text/plain": [
       "'invalid'"
      ]
     },
     "execution_count": 31,
     "metadata": {},
     "output_type": "execute_result"
    }
   ],
   "source": [
    "last_10char('Python')"
   ]
  },
  {
   "cell_type": "markdown",
   "id": "6b375852",
   "metadata": {},
   "source": [
    "#### <span style='color:purple '>21. WAP to convert a given string to all uppercase if it contains at least 2 uppercase characters in the first 4 characters <span>"
   ]
  },
  {
   "cell_type": "code",
   "execution_count": 36,
   "id": "82a46ba0",
   "metadata": {},
   "outputs": [],
   "source": [
    "def convert_case(string):\n",
    "    l=[]\n",
    "    for i in string[:4]:\n",
    "        if i.isupper():\n",
    "            l.append(i)\n",
    "    if len(l)>=2:\n",
    "        return string.upper()\n",
    "    else:\n",
    "        return string"
   ]
  },
  {
   "cell_type": "code",
   "execution_count": 37,
   "id": "03a24a0d",
   "metadata": {},
   "outputs": [
    {
     "data": {
      "text/plain": [
       "'Python'"
      ]
     },
     "execution_count": 37,
     "metadata": {},
     "output_type": "execute_result"
    }
   ],
   "source": [
    "convert_case('Python')"
   ]
  },
  {
   "cell_type": "code",
   "execution_count": 38,
   "id": "44450194",
   "metadata": {},
   "outputs": [
    {
     "data": {
      "text/plain": [
       "'PYTHON'"
      ]
     },
     "execution_count": 38,
     "metadata": {},
     "output_type": "execute_result"
    }
   ],
   "source": [
    "convert_case('PYthon')"
   ]
  },
  {
   "cell_type": "code",
   "execution_count": 39,
   "id": "e63fdc8f",
   "metadata": {},
   "outputs": [
    {
     "data": {
      "text/plain": [
       "'PythoN'"
      ]
     },
     "execution_count": 39,
     "metadata": {},
     "output_type": "execute_result"
    }
   ],
   "source": [
    "convert_case('PythoN')"
   ]
  },
  {
   "cell_type": "markdown",
   "id": "91f55112",
   "metadata": {},
   "source": [
    "#### <span style='color:purple '>22. Write a Python program to remove a newline in Python.<span>"
   ]
  },
  {
   "cell_type": "code",
   "execution_count": 41,
   "id": "eda115a5",
   "metadata": {},
   "outputs": [
    {
     "name": "stdout",
     "output_type": "stream",
     "text": [
      "A regular\n",
      " expression is a sequence\n",
      " of characters\n",
      " that specifies a search\n",
      " pattern.\n",
      "A regular expression is a sequence of characters that specifies a search pattern.\n"
     ]
    }
   ],
   "source": [
    "text = \"A regular\\n expression is a sequence\\n of characters\\n that specifies a search\\n pattern.\"\n",
    "print(text)\n",
    "print(text.replace('\\n', ''))"
   ]
  },
  {
   "cell_type": "markdown",
   "id": "43c5e2a6",
   "metadata": {},
   "source": [
    "#### <span style='color:purple '>23. Write a Python program to swap commas and dots in a string\n",
    "○ Sample string: \"32.054,23\"\n",
    "○ Expected Output: \"32,054.23\" <span>"
   ]
  },
  {
   "cell_type": "code",
   "execution_count": 43,
   "id": "de83d9e8",
   "metadata": {},
   "outputs": [
    {
     "name": "stdout",
     "output_type": "stream",
     "text": [
      "Enter the number:32.054,23\n",
      "32,054.23\n"
     ]
    }
   ],
   "source": [
    "s1=input('Enter the number:')\n",
    "s2=s1.maketrans('.,',',.')\n",
    "print(s1.translate(s2))"
   ]
  },
  {
   "cell_type": "markdown",
   "id": "399e2d30",
   "metadata": {},
   "source": [
    "#### <span style='color:purple '>24. Write a Python program to find the first repeated character in a given string <span>"
   ]
  },
  {
   "cell_type": "code",
   "execution_count": 70,
   "id": "2ee62e1c",
   "metadata": {},
   "outputs": [],
   "source": [
    "def repeated_char(string):\n",
    "    l=[]\n",
    "    \n",
    "    for i in string:\n",
    "        if string.count(i)>=2:\n",
    "            l.append(i)\n",
    "    if len(l)>=1:\n",
    "        return \"Repeated characters:\",set(l)\n",
    "    else:\n",
    "        return \"No repeated character\""
   ]
  },
  {
   "cell_type": "code",
   "execution_count": 71,
   "id": "b90a15e9",
   "metadata": {},
   "outputs": [
    {
     "data": {
      "text/plain": [
       "('Repeated characters:', {'c', 'e'})"
      ]
     },
     "execution_count": 71,
     "metadata": {},
     "output_type": "execute_result"
    }
   ],
   "source": [
    "repeated_char('Science')"
   ]
  },
  {
   "cell_type": "code",
   "execution_count": 72,
   "id": "59e38b12",
   "metadata": {},
   "outputs": [
    {
     "data": {
      "text/plain": [
       "'No repeated character'"
      ]
     },
     "execution_count": 72,
     "metadata": {},
     "output_type": "execute_result"
    }
   ],
   "source": [
    "repeated_char('Python')"
   ]
  },
  {
   "cell_type": "code",
   "execution_count": 76,
   "id": "301cdd42",
   "metadata": {},
   "outputs": [],
   "source": [
    "def rep_char(string):\n",
    "    d={}\n",
    "    l=[]\n",
    "    for i in string:\n",
    "        d.update({i:string.count(i)})\n",
    "    for i in d:\n",
    "        if d.get(i)>1:\n",
    "            l.append(i)\n",
    "    if len(l)>=1:\n",
    "        return \"Repeated characters:\",l\n",
    "    else:\n",
    "        return \"No repeated character\""
   ]
  },
  {
   "cell_type": "code",
   "execution_count": 77,
   "id": "ccd395bd",
   "metadata": {},
   "outputs": [
    {
     "data": {
      "text/plain": [
       "('Repeated characters:', ['c', 'e'])"
      ]
     },
     "execution_count": 77,
     "metadata": {},
     "output_type": "execute_result"
    }
   ],
   "source": [
    "rep_char('Science')"
   ]
  },
  {
   "cell_type": "code",
   "execution_count": 78,
   "id": "dde66c2a",
   "metadata": {},
   "outputs": [
    {
     "data": {
      "text/plain": [
       "'No repeated character'"
      ]
     },
     "execution_count": 78,
     "metadata": {},
     "output_type": "execute_result"
    }
   ],
   "source": [
    "rep_char('Python')"
   ]
  },
  {
   "cell_type": "markdown",
   "id": "17da031c",
   "metadata": {},
   "source": [
    "#### <span style='color:purple '>25. Write a Python program to find the second most repeated word in a given string <span>\n"
   ]
  },
  {
   "cell_type": "code",
   "execution_count": null,
   "id": "817af3d4",
   "metadata": {},
   "outputs": [],
   "source": []
  }
 ],
 "metadata": {
  "kernelspec": {
   "display_name": "Python 3 (ipykernel)",
   "language": "python",
   "name": "python3"
  },
  "language_info": {
   "codemirror_mode": {
    "name": "ipython",
    "version": 3
   },
   "file_extension": ".py",
   "mimetype": "text/x-python",
   "name": "python",
   "nbconvert_exporter": "python",
   "pygments_lexer": "ipython3",
   "version": "3.9.7"
  }
 },
 "nbformat": 4,
 "nbformat_minor": 5
}
