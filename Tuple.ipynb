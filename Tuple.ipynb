{
 "cells": [
  {
   "cell_type": "markdown",
   "id": "30f3dcd9",
   "metadata": {},
   "source": [
    "## Tuple"
   ]
  },
  {
   "cell_type": "code",
   "execution_count": null,
   "id": "40c56d8d",
   "metadata": {},
   "outputs": [],
   "source": [
    "Immutable Data Type >> Unchangable >> We can not modify tuple\n",
    "Ordered\n",
    "Allows duplicate item\n",
    "Tuple are faster than list\n",
    "We can add any datatypes items\n",
    "\n",
    "tuple are enclosed by ()\n",
    "comma seperated"
   ]
  },
  {
   "cell_type": "markdown",
   "id": "b441b7f8",
   "metadata": {},
   "source": [
    "### Functions"
   ]
  },
  {
   "cell_type": "code",
   "execution_count": null,
   "id": "91c9daf7",
   "metadata": {},
   "outputs": [],
   "source": [
    "1.count()\n",
    "2.index()"
   ]
  },
  {
   "cell_type": "code",
   "execution_count": 1,
   "id": "8f723713",
   "metadata": {},
   "outputs": [
    {
     "data": {
      "text/plain": [
       "1"
      ]
     },
     "execution_count": 1,
     "metadata": {},
     "output_type": "execute_result"
    }
   ],
   "source": [
    "tup=(3,4,5,6,8)\n",
    "tup.count(3)"
   ]
  },
  {
   "cell_type": "code",
   "execution_count": 2,
   "id": "50065f6b",
   "metadata": {},
   "outputs": [
    {
     "data": {
      "text/plain": [
       "0"
      ]
     },
     "execution_count": 2,
     "metadata": {},
     "output_type": "execute_result"
    }
   ],
   "source": [
    "tup.index(3)"
   ]
  },
  {
   "cell_type": "code",
   "execution_count": 3,
   "id": "e16eaa41",
   "metadata": {},
   "outputs": [
    {
     "data": {
      "text/plain": [
       "(3, 4, 5, 6, 8, 3, 4, 5, 6, 8)"
      ]
     },
     "execution_count": 3,
     "metadata": {},
     "output_type": "execute_result"
    }
   ],
   "source": [
    "tup*2"
   ]
  },
  {
   "cell_type": "code",
   "execution_count": 5,
   "id": "84cf8ee3",
   "metadata": {},
   "outputs": [
    {
     "ename": "TypeError",
     "evalue": "'tuple' object does not support item assignment",
     "output_type": "error",
     "traceback": [
      "\u001b[1;31m---------------------------------------------------------------------------\u001b[0m",
      "\u001b[1;31mTypeError\u001b[0m                                 Traceback (most recent call last)",
      "\u001b[1;32m~\\AppData\\Local\\Temp\\ipykernel_56736\\561199347.py\u001b[0m in \u001b[0;36m<cell line: 1>\u001b[1;34m()\u001b[0m\n\u001b[1;32m----> 1\u001b[1;33m \u001b[0mtup\u001b[0m\u001b[1;33m[\u001b[0m\u001b[1;36m1\u001b[0m\u001b[1;33m]\u001b[0m\u001b[1;33m=\u001b[0m\u001b[1;36m1\u001b[0m\u001b[1;33m\u001b[0m\u001b[1;33m\u001b[0m\u001b[0m\n\u001b[0m",
      "\u001b[1;31mTypeError\u001b[0m: 'tuple' object does not support item assignment"
     ]
    }
   ],
   "source": [
    "tup[1]=1"
   ]
  },
  {
   "cell_type": "markdown",
   "id": "fcf2d4a7",
   "metadata": {},
   "source": [
    "### Create tuple"
   ]
  },
  {
   "cell_type": "code",
   "execution_count": 6,
   "id": "6902b813",
   "metadata": {},
   "outputs": [
    {
     "data": {
      "text/plain": [
       "int"
      ]
     },
     "execution_count": 6,
     "metadata": {},
     "output_type": "execute_result"
    }
   ],
   "source": [
    "tup1=(20)\n",
    "type(tup1)"
   ]
  },
  {
   "cell_type": "code",
   "execution_count": 7,
   "id": "e441882e",
   "metadata": {},
   "outputs": [
    {
     "data": {
      "text/plain": [
       "tuple"
      ]
     },
     "execution_count": 7,
     "metadata": {},
     "output_type": "execute_result"
    }
   ],
   "source": [
    "tup1=(20,)\n",
    "type(tup1)"
   ]
  },
  {
   "cell_type": "markdown",
   "id": "faa734de",
   "metadata": {},
   "source": [
    "### Indexing and slicing"
   ]
  },
  {
   "cell_type": "code",
   "execution_count": 8,
   "id": "f5188ec9",
   "metadata": {},
   "outputs": [
    {
     "data": {
      "text/plain": [
       "2"
      ]
     },
     "execution_count": 8,
     "metadata": {},
     "output_type": "execute_result"
    }
   ],
   "source": [
    "tup=(1,2,3,4,5,6,7,8,9)\n",
    "tup[1]"
   ]
  },
  {
   "cell_type": "code",
   "execution_count": 9,
   "id": "8e5e82d5",
   "metadata": {},
   "outputs": [
    {
     "data": {
      "text/plain": [
       "5"
      ]
     },
     "execution_count": 9,
     "metadata": {},
     "output_type": "execute_result"
    }
   ],
   "source": [
    "tup[4]"
   ]
  },
  {
   "cell_type": "code",
   "execution_count": 10,
   "id": "610f645f",
   "metadata": {},
   "outputs": [
    {
     "data": {
      "text/plain": [
       "(3, 4, 5, 6, 7, 8)"
      ]
     },
     "execution_count": 10,
     "metadata": {},
     "output_type": "execute_result"
    }
   ],
   "source": [
    "tup[2:8]"
   ]
  },
  {
   "cell_type": "code",
   "execution_count": 11,
   "id": "e66e67be",
   "metadata": {},
   "outputs": [
    {
     "data": {
      "text/plain": [
       "(3, 5, 7)"
      ]
     },
     "execution_count": 11,
     "metadata": {},
     "output_type": "execute_result"
    }
   ],
   "source": [
    "tup[2:8:2]"
   ]
  },
  {
   "cell_type": "code",
   "execution_count": 12,
   "id": "e82ab5af",
   "metadata": {},
   "outputs": [
    {
     "data": {
      "text/plain": [
       "9"
      ]
     },
     "execution_count": 12,
     "metadata": {},
     "output_type": "execute_result"
    }
   ],
   "source": [
    "tup[-1]"
   ]
  },
  {
   "cell_type": "markdown",
   "id": "04911d37",
   "metadata": {},
   "source": [
    "### Delete items"
   ]
  },
  {
   "cell_type": "code",
   "execution_count": 13,
   "id": "97010497",
   "metadata": {},
   "outputs": [],
   "source": [
    "tup=(1,2,3,4,5,6,7,8,9)"
   ]
  },
  {
   "cell_type": "code",
   "execution_count": 14,
   "id": "ab4679a3",
   "metadata": {},
   "outputs": [
    {
     "ename": "TypeError",
     "evalue": "'tuple' object doesn't support item deletion",
     "output_type": "error",
     "traceback": [
      "\u001b[1;31m---------------------------------------------------------------------------\u001b[0m",
      "\u001b[1;31mTypeError\u001b[0m                                 Traceback (most recent call last)",
      "\u001b[1;32m~\\AppData\\Local\\Temp\\ipykernel_56736\\1765158908.py\u001b[0m in \u001b[0;36m<cell line: 1>\u001b[1;34m()\u001b[0m\n\u001b[1;32m----> 1\u001b[1;33m \u001b[1;32mdel\u001b[0m \u001b[0mtup\u001b[0m\u001b[1;33m[\u001b[0m\u001b[1;36m1\u001b[0m\u001b[1;33m]\u001b[0m\u001b[1;33m\u001b[0m\u001b[1;33m\u001b[0m\u001b[0m\n\u001b[0m",
      "\u001b[1;31mTypeError\u001b[0m: 'tuple' object doesn't support item deletion"
     ]
    }
   ],
   "source": [
    "del tup[1]"
   ]
  },
  {
   "cell_type": "code",
   "execution_count": 15,
   "id": "244c1c4d",
   "metadata": {},
   "outputs": [],
   "source": [
    "del tup"
   ]
  },
  {
   "cell_type": "code",
   "execution_count": 16,
   "id": "709202e4",
   "metadata": {},
   "outputs": [
    {
     "ename": "NameError",
     "evalue": "name 'tup' is not defined",
     "output_type": "error",
     "traceback": [
      "\u001b[1;31m---------------------------------------------------------------------------\u001b[0m",
      "\u001b[1;31mNameError\u001b[0m                                 Traceback (most recent call last)",
      "\u001b[1;32m~\\AppData\\Local\\Temp\\ipykernel_56736\\1450280469.py\u001b[0m in \u001b[0;36m<cell line: 1>\u001b[1;34m()\u001b[0m\n\u001b[1;32m----> 1\u001b[1;33m \u001b[0mtup\u001b[0m\u001b[1;33m\u001b[0m\u001b[1;33m\u001b[0m\u001b[0m\n\u001b[0m",
      "\u001b[1;31mNameError\u001b[0m: name 'tup' is not defined"
     ]
    }
   ],
   "source": [
    "tup"
   ]
  },
  {
   "cell_type": "markdown",
   "id": "6deb9164",
   "metadata": {},
   "source": [
    "### Tuple Operations"
   ]
  },
  {
   "cell_type": "code",
   "execution_count": 17,
   "id": "4a9d6f0d",
   "metadata": {},
   "outputs": [],
   "source": [
    "city_names=('Pune','Surat','Indore')\n",
    "states_names='Maharastra','Gujrat','MP'"
   ]
  },
  {
   "cell_type": "code",
   "execution_count": 18,
   "id": "724fba3e",
   "metadata": {},
   "outputs": [
    {
     "name": "stdout",
     "output_type": "stream",
     "text": [
      "<class 'tuple'>\n",
      "<class 'tuple'>\n"
     ]
    }
   ],
   "source": [
    "print(type(city_names))\n",
    "print(type(states_names))"
   ]
  },
  {
   "cell_type": "code",
   "execution_count": 19,
   "id": "8fb30708",
   "metadata": {},
   "outputs": [
    {
     "data": {
      "text/plain": [
       "('Pune', 'Surat', 'Indore', 'Maharastra', 'Gujrat', 'MP')"
      ]
     },
     "execution_count": 19,
     "metadata": {},
     "output_type": "execute_result"
    }
   ],
   "source": [
    "city_names+states_names"
   ]
  },
  {
   "cell_type": "code",
   "execution_count": 20,
   "id": "79014214",
   "metadata": {},
   "outputs": [
    {
     "data": {
      "text/plain": [
       "('Pune', 'Surat', 'Indore', 'Pune', 'Surat', 'Indore')"
      ]
     },
     "execution_count": 20,
     "metadata": {},
     "output_type": "execute_result"
    }
   ],
   "source": [
    "city_names*2"
   ]
  },
  {
   "cell_type": "markdown",
   "id": "ece51e39",
   "metadata": {},
   "source": [
    "### Accessing item using loop"
   ]
  },
  {
   "cell_type": "code",
   "execution_count": 21,
   "id": "38b35ce1",
   "metadata": {},
   "outputs": [
    {
     "name": "stdout",
     "output_type": "stream",
     "text": [
      "Pune\n",
      "Surat\n",
      "Indore\n"
     ]
    }
   ],
   "source": [
    "city_names=('Pune','Surat','Indore')\n",
    "\n",
    "for item in city_names:\n",
    "    print(item)"
   ]
  },
  {
   "cell_type": "code",
   "execution_count": 22,
   "id": "e29389b2",
   "metadata": {},
   "outputs": [
    {
     "name": "stdout",
     "output_type": "stream",
     "text": [
      "0 Pune\n",
      "1 Surat\n",
      "2 Indore\n"
     ]
    }
   ],
   "source": [
    "for i,j in enumerate(city_names):\n",
    "    print(i,j)"
   ]
  },
  {
   "cell_type": "code",
   "execution_count": 23,
   "id": "00396852",
   "metadata": {},
   "outputs": [
    {
     "name": "stdout",
     "output_type": "stream",
     "text": [
      "Pune is presend\n"
     ]
    }
   ],
   "source": [
    "if 'Pune' in city_names:\n",
    "    print('Pune is presend')\n",
    "else:\n",
    "    print('Pune is absent')"
   ]
  },
  {
   "cell_type": "markdown",
   "id": "27eb3dbe",
   "metadata": {},
   "source": [
    "### Tuple Constructor"
   ]
  },
  {
   "cell_type": "code",
   "execution_count": 24,
   "id": "5fef1e4b",
   "metadata": {},
   "outputs": [
    {
     "name": "stdout",
     "output_type": "stream",
     "text": [
      "<class 'list'>\n"
     ]
    }
   ],
   "source": [
    "l1=[45,67,87,43]\n",
    "print(type(l1))"
   ]
  },
  {
   "cell_type": "code",
   "execution_count": 25,
   "id": "8823c955",
   "metadata": {},
   "outputs": [
    {
     "name": "stdout",
     "output_type": "stream",
     "text": [
      "<class 'tuple'>\n"
     ]
    }
   ],
   "source": [
    "t1=tuple(l1)\n",
    "print(type(t1))"
   ]
  },
  {
   "cell_type": "code",
   "execution_count": 26,
   "id": "399b8f3e",
   "metadata": {},
   "outputs": [
    {
     "data": {
      "text/plain": [
       "('s', 'c', 'i', 'e', 'n', 'c', 'e')"
      ]
     },
     "execution_count": 26,
     "metadata": {},
     "output_type": "execute_result"
    }
   ],
   "source": [
    "tuple('science')"
   ]
  },
  {
   "cell_type": "markdown",
   "id": "ab0885c7",
   "metadata": {},
   "source": [
    "### copy"
   ]
  },
  {
   "cell_type": "code",
   "execution_count": 31,
   "id": "eb817dd1",
   "metadata": {},
   "outputs": [
    {
     "name": "stdout",
     "output_type": "stream",
     "text": [
      "(4, 5, 6, 7, 8)\n",
      "(4, 5, 6, 7, 8)\n"
     ]
    }
   ],
   "source": [
    "tuple1 = (4,5,6,7,8)\n",
    "tuple2 = tuple1\n",
    "print(tuple1)\n",
    "print(tuple2)"
   ]
  },
  {
   "cell_type": "code",
   "execution_count": 34,
   "id": "6b8b0d71",
   "metadata": {},
   "outputs": [
    {
     "name": "stdout",
     "output_type": "stream",
     "text": [
      "(12, 13, [14, 15])\n",
      "(12, 13, [14, 15])\n"
     ]
    }
   ],
   "source": [
    "t2=(12,13,[14,15])\n",
    "t3=t2\n",
    "print(t2)\n",
    "print(t3)"
   ]
  },
  {
   "cell_type": "code",
   "execution_count": 35,
   "id": "7504dc0f",
   "metadata": {},
   "outputs": [
    {
     "data": {
      "text/plain": [
       "(12, 13, [14, 15])"
      ]
     },
     "execution_count": 35,
     "metadata": {},
     "output_type": "execute_result"
    }
   ],
   "source": [
    "t3"
   ]
  },
  {
   "cell_type": "code",
   "execution_count": 36,
   "id": "10258362",
   "metadata": {},
   "outputs": [
    {
     "data": {
      "text/plain": [
       "(12, 13, [10, 15])"
      ]
     },
     "execution_count": 36,
     "metadata": {},
     "output_type": "execute_result"
    }
   ],
   "source": [
    "t2[2][0]=10\n",
    "t2"
   ]
  },
  {
   "cell_type": "code",
   "execution_count": 37,
   "id": "ea7cd828",
   "metadata": {},
   "outputs": [
    {
     "data": {
      "text/plain": [
       "(12, 13, [10, 15])"
      ]
     },
     "execution_count": 37,
     "metadata": {},
     "output_type": "execute_result"
    }
   ],
   "source": [
    "t3"
   ]
  },
  {
   "cell_type": "markdown",
   "id": "15a80407",
   "metadata": {},
   "source": [
    "### Deepcopy"
   ]
  },
  {
   "cell_type": "code",
   "execution_count": 38,
   "id": "63d35232",
   "metadata": {},
   "outputs": [],
   "source": [
    "import copy"
   ]
  },
  {
   "cell_type": "code",
   "execution_count": 39,
   "id": "56373d9a",
   "metadata": {},
   "outputs": [
    {
     "name": "stdout",
     "output_type": "stream",
     "text": [
      "(12, 13, [14, 15])\n",
      "(12, 13, [14, 15])\n"
     ]
    }
   ],
   "source": [
    "t2=(12,13,[14,15])\n",
    "t3=copy.deepcopy(t2)\n",
    "\n",
    "print(t2)\n",
    "print(t3)"
   ]
  },
  {
   "cell_type": "code",
   "execution_count": 40,
   "id": "b4611fba",
   "metadata": {},
   "outputs": [
    {
     "data": {
      "text/plain": [
       "(12, 13, [10, 15])"
      ]
     },
     "execution_count": 40,
     "metadata": {},
     "output_type": "execute_result"
    }
   ],
   "source": [
    "t2[2][0]=10\n",
    "t2"
   ]
  },
  {
   "cell_type": "code",
   "execution_count": 41,
   "id": "94bd8726",
   "metadata": {},
   "outputs": [
    {
     "data": {
      "text/plain": [
       "(12, 13, [14, 15])"
      ]
     },
     "execution_count": 41,
     "metadata": {},
     "output_type": "execute_result"
    }
   ],
   "source": [
    "t3"
   ]
  },
  {
   "cell_type": "markdown",
   "id": "7ccfe6a6",
   "metadata": {},
   "source": [
    "#### List Vs Tuple"
   ]
  },
  {
   "cell_type": "code",
   "execution_count": null,
   "id": "b979a0cb",
   "metadata": {},
   "outputs": [],
   "source": [
    "List:\n",
    "    \n",
    "1. Mutable (changable) >> add, delete, update\n",
    "2. Allows Duplicate items\n",
    "3. Ordered \n",
    "4. Enclosed by []\n",
    "5. Variable length\n",
    "6. It requires more memory\n",
    "7. More Functional\n",
    "8. We can store any datatype(int,float, str, list, tuple,dict, etc)\n",
    "9. List are slower than tuple\n",
    "\n",
    "Tuple:\n",
    "    \n",
    "1. Immutable (Unchangable)\n",
    "2. It allows duplicate items\n",
    "3. Ordered\n",
    "4. enclosed by ()\n",
    "5. fixed length\n",
    "6. It requires less memory\n",
    "7. Less functional\n",
    "8. We can store any datatype(int,float, str, list, tuple,dict, etc)\n",
    "9. Tuple are faster than list"
   ]
  },
  {
   "cell_type": "code",
   "execution_count": null,
   "id": "58003ae4",
   "metadata": {},
   "outputs": [],
   "source": [
    "#end"
   ]
  }
 ],
 "metadata": {
  "kernelspec": {
   "display_name": "Python 3 (ipykernel)",
   "language": "python",
   "name": "python3"
  },
  "language_info": {
   "codemirror_mode": {
    "name": "ipython",
    "version": 3
   },
   "file_extension": ".py",
   "mimetype": "text/x-python",
   "name": "python",
   "nbconvert_exporter": "python",
   "pygments_lexer": "ipython3",
   "version": "3.9.7"
  }
 },
 "nbformat": 4,
 "nbformat_minor": 5
}
