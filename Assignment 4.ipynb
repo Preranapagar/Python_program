{
 "cells": [
  {
   "cell_type": "markdown",
   "id": "dcc4ce71",
   "metadata": {},
   "source": [
    "## Assigment: 4"
   ]
  },
  {
   "cell_type": "markdown",
   "id": "a2f08ba5",
   "metadata": {},
   "source": [
    "Topic: Loop, Dict, Function"
   ]
  },
  {
   "cell_type": "markdown",
   "id": "78c9f0e9",
   "metadata": {},
   "source": [
    "#### 1. Python program to sort Python Dictionaries by Keys"
   ]
  },
  {
   "cell_type": "markdown",
   "id": "a3fc3ac7",
   "metadata": {},
   "source": [
    "#### 2. Python program to sort Python Dictionaries by Values"
   ]
  },
  {
   "cell_type": "markdown",
   "id": "7cecf9f4",
   "metadata": {},
   "source": [
    "#### 3. Python program to find the sum of all items in a dictionary\n"
   ]
  },
  {
   "cell_type": "markdown",
   "id": "be92e3b2",
   "metadata": {},
   "source": [
    "#### 4. Python program to remove a key from a dictionary"
   ]
  },
  {
   "cell_type": "markdown",
   "id": "8129d796",
   "metadata": {},
   "source": [
    "#### 5. Python program to merge two Dictionaries"
   ]
  },
  {
   "cell_type": "markdown",
   "id": "bd9f811f",
   "metadata": {},
   "source": [
    "#### 6. Program to create grade calculator in Python"
   ]
  },
  {
   "cell_type": "markdown",
   "id": "add30e90",
   "metadata": {},
   "source": [
    "#### 7. Print anagrams together in Python using List and Dictionary\n"
   ]
  },
  {
   "cell_type": "markdown",
   "id": "be900feb",
   "metadata": {},
   "source": [
    "#### 8. Check if binary representations of two numbers are an anagram"
   ]
  },
  {
   "cell_type": "markdown",
   "id": "2332501d",
   "metadata": {},
   "source": [
    "#### 9. Python Counter to find the size of the largest subset of anagram words"
   ]
  },
  {
   "cell_type": "markdown",
   "id": "8c11fa1c",
   "metadata": {},
   "source": [
    "#### 10. Python Dictionary to find mirror characters in a string"
   ]
  },
  {
   "cell_type": "markdown",
   "id": "b2492965",
   "metadata": {},
   "source": [
    "#### 11. Counting the frequencies in a list using a dictionary in Python"
   ]
  },
  {
   "cell_type": "markdown",
   "id": "957f8821",
   "metadata": {},
   "source": [
    "#### 12. Python program to convert a list of Tuples into Dictionary"
   ]
  },
  {
   "cell_type": "markdown",
   "id": "e58d17e9",
   "metadata": {},
   "source": [
    "#### 13. Scraping And Finding Ordered Words In A Dictionary using Python"
   ]
  },
  {
   "cell_type": "markdown",
   "id": "2cea7a18",
   "metadata": {},
   "source": [
    "#### 14. Create a list of tuples from the given list having a number and its cube in each tuple\n"
   ]
  },
  {
   "cell_type": "markdown",
   "id": "9a2f019b",
   "metadata": {},
   "source": [
    "#### 15. Sort a list of tuples by the second Item"
   ]
  },
  {
   "cell_type": "markdown",
   "id": "34f0994c",
   "metadata": {},
   "source": [
    "#### 16. Python Program for Insertion Sort"
   ]
  },
  {
   "cell_type": "markdown",
   "id": "83447107",
   "metadata": {},
   "source": [
    "#### 17. Python Program for SelectionSort\n"
   ]
  },
  {
   "cell_type": "markdown",
   "id": "101cd485",
   "metadata": {},
   "source": [
    "#### 18. Python Program for Bubble Sort"
   ]
  },
  {
   "cell_type": "markdown",
   "id": "4713940a",
   "metadata": {},
   "source": [
    "#### 19. Python Program for Merge Sort\n"
   ]
  },
  {
   "cell_type": "markdown",
   "id": "159f97d2",
   "metadata": {},
   "source": [
    "#### 20. Python Program for QuickSortSort"
   ]
  },
  {
   "cell_type": "code",
   "execution_count": null,
   "id": "6347b732",
   "metadata": {},
   "outputs": [],
   "source": []
  }
 ],
 "metadata": {
  "kernelspec": {
   "display_name": "Python 3 (ipykernel)",
   "language": "python",
   "name": "python3"
  },
  "language_info": {
   "codemirror_mode": {
    "name": "ipython",
    "version": 3
   },
   "file_extension": ".py",
   "mimetype": "text/x-python",
   "name": "python",
   "nbconvert_exporter": "python",
   "pygments_lexer": "ipython3",
   "version": "3.9.7"
  }
 },
 "nbformat": 4,
 "nbformat_minor": 5
}
