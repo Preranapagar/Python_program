{
 "cells": [
  {
   "cell_type": "code",
   "execution_count": null,
   "id": "4a5b0776",
   "metadata": {},
   "outputs": [],
   "source": [
    " Numeric: int, float, complex\n",
    "        \n",
    "Text: str\n",
    "    \n",
    "sequence: list, set, tuple, range, frozenset\n",
    "    \n",
    "Mapping: dict\n",
    "    \n",
    "setDT: set, frozenset\n",
    "    \n",
    "boolean: True, False\n",
    "    "
   ]
  },
  {
   "cell_type": "markdown",
   "id": "2fb217f8",
   "metadata": {},
   "source": [
    "## <span style='color:purple '> Numeric Datatype </span>"
   ]
  },
  {
   "cell_type": "markdown",
   "id": "cc48f7ce",
   "metadata": {},
   "source": [
    "*int >> built in function\n",
    "\n",
    "*whole number\n",
    "\n",
    "*+ve or -ve number\n",
    "\n",
    "10,20,-23,-21"
   ]
  },
  {
   "cell_type": "markdown",
   "id": "46d3323b",
   "metadata": {},
   "source": [
    "#### <span style='color:indigo '> 1.Int </span>"
   ]
  },
  {
   "cell_type": "code",
   "execution_count": 1,
   "id": "e2768992",
   "metadata": {},
   "outputs": [
    {
     "data": {
      "text/plain": [
       "int"
      ]
     },
     "execution_count": 1,
     "metadata": {},
     "output_type": "execute_result"
    }
   ],
   "source": [
    "a=10\n",
    "type(a)"
   ]
  },
  {
   "cell_type": "code",
   "execution_count": 2,
   "id": "14fcffb3",
   "metadata": {},
   "outputs": [
    {
     "data": {
      "text/plain": [
       "int"
      ]
     },
     "execution_count": 2,
     "metadata": {},
     "output_type": "execute_result"
    }
   ],
   "source": [
    "b=(-12)\n",
    "type(b)"
   ]
  },
  {
   "cell_type": "markdown",
   "id": "e7027bc5",
   "metadata": {},
   "source": [
    "#### <span style='color:indigo '> 2.float </span>"
   ]
  },
  {
   "cell_type": "markdown",
   "id": "6b38462c",
   "metadata": {},
   "source": [
    "+ve or-ve\n",
    "\n",
    "It contains decimal point\n"
   ]
  },
  {
   "cell_type": "code",
   "execution_count": 3,
   "id": "5a47731b",
   "metadata": {},
   "outputs": [
    {
     "data": {
      "text/plain": [
       "float"
      ]
     },
     "execution_count": 3,
     "metadata": {},
     "output_type": "execute_result"
    }
   ],
   "source": [
    "x=3.14\n",
    "type(x)"
   ]
  },
  {
   "cell_type": "markdown",
   "id": "f5988d51",
   "metadata": {},
   "source": [
    "#### <span style='color:indigo '> 3.complex </span>"
   ]
  },
  {
   "cell_type": "markdown",
   "id": "fc003662",
   "metadata": {},
   "source": [
    "it contains real and imaginary"
   ]
  },
  {
   "cell_type": "code",
   "execution_count": 4,
   "id": "36c1c224",
   "metadata": {},
   "outputs": [
    {
     "data": {
      "text/plain": [
       "complex"
      ]
     },
     "execution_count": 4,
     "metadata": {},
     "output_type": "execute_result"
    }
   ],
   "source": [
    "x=3+7j\n",
    "type(x)"
   ]
  },
  {
   "cell_type": "markdown",
   "id": "d3c35ce7",
   "metadata": {},
   "source": [
    "## <span style='color:purple '> Python Casting </span>"
   ]
  },
  {
   "cell_type": "markdown",
   "id": "aa995c7e",
   "metadata": {},
   "source": [
    "We need to specify datatype\n",
    "\n",
    "int()\n",
    "float()\n",
    "str()\n",
    "complex()"
   ]
  },
  {
   "cell_type": "markdown",
   "id": "9fe7ab99",
   "metadata": {},
   "source": [
    "#### <span style='color:indigo '> 1. int to float </span>"
   ]
  },
  {
   "cell_type": "code",
   "execution_count": 6,
   "id": "5fdae0d8",
   "metadata": {},
   "outputs": [
    {
     "name": "stdout",
     "output_type": "stream",
     "text": [
      "<class 'int'> 3\n",
      "<class 'float'> 3.0\n"
     ]
    }
   ],
   "source": [
    "a=3\n",
    "b=float(a)\n",
    "\n",
    "print(type(a), a)\n",
    "print(type(b), b)"
   ]
  },
  {
   "cell_type": "markdown",
   "id": "ebc51f7c",
   "metadata": {},
   "source": [
    "#### <span style='color:indigo '> 2. float to int </span>"
   ]
  },
  {
   "cell_type": "code",
   "execution_count": 7,
   "id": "3fd3380c",
   "metadata": {},
   "outputs": [
    {
     "name": "stdout",
     "output_type": "stream",
     "text": [
      "<class 'float'> 3.14\n",
      "<class 'int'> 3\n"
     ]
    }
   ],
   "source": [
    "a=3.14\n",
    "b=int(b)\n",
    "\n",
    "print(type(a), a)\n",
    "print(type(b), b)"
   ]
  },
  {
   "cell_type": "markdown",
   "id": "dce58d2c",
   "metadata": {},
   "source": [
    "#### <span style='color:indigo '> 3. int to complex </span>"
   ]
  },
  {
   "cell_type": "code",
   "execution_count": 8,
   "id": "6f0d8eff",
   "metadata": {},
   "outputs": [
    {
     "name": "stdout",
     "output_type": "stream",
     "text": [
      "<class 'int'> 45\n",
      "<class 'complex'> (45+0j)\n"
     ]
    }
   ],
   "source": [
    "a=45\n",
    "b=complex(a)\n",
    "\n",
    "print(type(a), a)\n",
    "print(type(b), b)"
   ]
  },
  {
   "cell_type": "markdown",
   "id": "09c92311",
   "metadata": {},
   "source": [
    "#### <span style='color:indigo '> 4. float to complex </span>"
   ]
  },
  {
   "cell_type": "code",
   "execution_count": 9,
   "id": "8d34c642",
   "metadata": {},
   "outputs": [
    {
     "name": "stdout",
     "output_type": "stream",
     "text": [
      "<class 'float'> 43.4\n",
      "<class 'complex'> (43.4+0j)\n"
     ]
    }
   ],
   "source": [
    "a=43.4\n",
    "b=complex(a)\n",
    "\n",
    "print(type(a), a)\n",
    "print(type(b), b)"
   ]
  },
  {
   "cell_type": "markdown",
   "id": "12c877d8",
   "metadata": {},
   "source": [
    "#### <span style='color:indigo '> 5. complex to int or float </span>"
   ]
  },
  {
   "cell_type": "markdown",
   "id": "552196fb",
   "metadata": {},
   "source": [
    "cant convert complex to int\n",
    "\n",
    "cant conver complex to float"
   ]
  },
  {
   "cell_type": "markdown",
   "id": "eaf2c569",
   "metadata": {},
   "source": [
    "#### <span style='color:indigo '> 6. int to string </span>"
   ]
  },
  {
   "cell_type": "code",
   "execution_count": 10,
   "id": "8b9ce5f5",
   "metadata": {},
   "outputs": [
    {
     "name": "stdout",
     "output_type": "stream",
     "text": [
      "<class 'int'> 56\n",
      "<class 'str'> 56\n"
     ]
    }
   ],
   "source": [
    "a=56\n",
    "b=str(a)\n",
    "\n",
    "print(type(a), a)\n",
    "print(type(b), b)"
   ]
  },
  {
   "cell_type": "markdown",
   "id": "c4c05b72",
   "metadata": {},
   "source": [
    "#### <span style='color:indigo '> 7. float to string </span>"
   ]
  },
  {
   "cell_type": "code",
   "execution_count": 11,
   "id": "efab8af9",
   "metadata": {},
   "outputs": [
    {
     "name": "stdout",
     "output_type": "stream",
     "text": [
      "<class 'float'> 34.2\n",
      "<class 'str'> 34.2\n"
     ]
    }
   ],
   "source": [
    "a=34.2\n",
    "b=str(a)\n",
    "\n",
    "print(type(a), a)\n",
    "print(type(b), b)"
   ]
  },
  {
   "cell_type": "markdown",
   "id": "29abb6a6",
   "metadata": {},
   "source": [
    "#### <span style='color:indigo '> 8. string to int </span>"
   ]
  },
  {
   "cell_type": "code",
   "execution_count": 12,
   "id": "bc67a4a0",
   "metadata": {},
   "outputs": [
    {
     "name": "stdout",
     "output_type": "stream",
     "text": [
      "<class 'str'> 3234\n",
      "<class 'int'> 3234\n"
     ]
    }
   ],
   "source": [
    "str1='3234'\n",
    "str2=int(str1)\n",
    "\n",
    "print(type(str1),str1)\n",
    "print(type(str2),str2)#"
   ]
  },
  {
   "cell_type": "code",
   "execution_count": 13,
   "id": "9b876d62",
   "metadata": {},
   "outputs": [
    {
     "ename": "ValueError",
     "evalue": "invalid literal for int() with base 10: '32 34'",
     "output_type": "error",
     "traceback": [
      "\u001b[1;31m---------------------------------------------------------------------------\u001b[0m",
      "\u001b[1;31mValueError\u001b[0m                                Traceback (most recent call last)",
      "\u001b[1;32m~\\AppData\\Local\\Temp\\ipykernel_24820\\3713560876.py\u001b[0m in \u001b[0;36m<cell line: 2>\u001b[1;34m()\u001b[0m\n\u001b[0;32m      1\u001b[0m \u001b[0mstr1\u001b[0m\u001b[1;33m=\u001b[0m\u001b[1;34m'32 34'\u001b[0m\u001b[1;33m\u001b[0m\u001b[1;33m\u001b[0m\u001b[0m\n\u001b[1;32m----> 2\u001b[1;33m \u001b[0mstr2\u001b[0m\u001b[1;33m=\u001b[0m\u001b[0mint\u001b[0m\u001b[1;33m(\u001b[0m\u001b[0mstr1\u001b[0m\u001b[1;33m)\u001b[0m\u001b[1;33m\u001b[0m\u001b[1;33m\u001b[0m\u001b[0m\n\u001b[0m\u001b[0;32m      3\u001b[0m \u001b[1;33m\u001b[0m\u001b[0m\n\u001b[0;32m      4\u001b[0m \u001b[0mprint\u001b[0m\u001b[1;33m(\u001b[0m\u001b[0mtype\u001b[0m\u001b[1;33m(\u001b[0m\u001b[0mstr1\u001b[0m\u001b[1;33m)\u001b[0m\u001b[1;33m,\u001b[0m\u001b[0mstr1\u001b[0m\u001b[1;33m)\u001b[0m\u001b[1;33m\u001b[0m\u001b[1;33m\u001b[0m\u001b[0m\n\u001b[0;32m      5\u001b[0m \u001b[0mprint\u001b[0m\u001b[1;33m(\u001b[0m\u001b[0mtype\u001b[0m\u001b[1;33m(\u001b[0m\u001b[0mstr2\u001b[0m\u001b[1;33m)\u001b[0m\u001b[1;33m,\u001b[0m\u001b[0mstr2\u001b[0m\u001b[1;33m)\u001b[0m\u001b[1;33m\u001b[0m\u001b[1;33m\u001b[0m\u001b[0m\n",
      "\u001b[1;31mValueError\u001b[0m: invalid literal for int() with base 10: '32 34'"
     ]
    }
   ],
   "source": [
    "str1='32 34' #will throw the error\n",
    "str2=int(str1)\n",
    "\n",
    "print(type(str1),str1)\n",
    "print(type(str2),str2)"
   ]
  },
  {
   "cell_type": "code",
   "execution_count": 14,
   "id": "ca03b5eb",
   "metadata": {},
   "outputs": [
    {
     "ename": "ValueError",
     "evalue": "invalid literal for int() with base 10: 'python'",
     "output_type": "error",
     "traceback": [
      "\u001b[1;31m---------------------------------------------------------------------------\u001b[0m",
      "\u001b[1;31mValueError\u001b[0m                                Traceback (most recent call last)",
      "\u001b[1;32m~\\AppData\\Local\\Temp\\ipykernel_24820\\1623430512.py\u001b[0m in \u001b[0;36m<cell line: 2>\u001b[1;34m()\u001b[0m\n\u001b[0;32m      1\u001b[0m \u001b[0mstr1\u001b[0m\u001b[1;33m=\u001b[0m\u001b[1;34m'python'\u001b[0m\u001b[1;33m\u001b[0m\u001b[1;33m\u001b[0m\u001b[0m\n\u001b[1;32m----> 2\u001b[1;33m \u001b[0mstr2\u001b[0m\u001b[1;33m=\u001b[0m\u001b[0mint\u001b[0m\u001b[1;33m(\u001b[0m\u001b[0mstr1\u001b[0m\u001b[1;33m)\u001b[0m\u001b[1;33m\u001b[0m\u001b[1;33m\u001b[0m\u001b[0m\n\u001b[0m\u001b[0;32m      3\u001b[0m \u001b[1;33m\u001b[0m\u001b[0m\n\u001b[0;32m      4\u001b[0m \u001b[0mprint\u001b[0m\u001b[1;33m(\u001b[0m\u001b[0mtype\u001b[0m\u001b[1;33m(\u001b[0m\u001b[0mstr1\u001b[0m\u001b[1;33m)\u001b[0m\u001b[1;33m,\u001b[0m\u001b[0mstr1\u001b[0m\u001b[1;33m)\u001b[0m\u001b[1;33m\u001b[0m\u001b[1;33m\u001b[0m\u001b[0m\n\u001b[0;32m      5\u001b[0m \u001b[0mprint\u001b[0m\u001b[1;33m(\u001b[0m\u001b[0mtype\u001b[0m\u001b[1;33m(\u001b[0m\u001b[0mstr2\u001b[0m\u001b[1;33m)\u001b[0m\u001b[1;33m,\u001b[0m\u001b[0mstr2\u001b[0m\u001b[1;33m)\u001b[0m\u001b[1;33m\u001b[0m\u001b[1;33m\u001b[0m\u001b[0m\n",
      "\u001b[1;31mValueError\u001b[0m: invalid literal for int() with base 10: 'python'"
     ]
    }
   ],
   "source": [
    "str1='python' #will throw the error\n",
    "str2=int(str1)\n",
    "\n",
    "print(type(str1),str1)\n",
    "print(type(str2),str2)"
   ]
  },
  {
   "cell_type": "markdown",
   "id": "a2ccb39a",
   "metadata": {},
   "source": [
    "#### <span style='color:indigo '> 8. string to float </span>"
   ]
  },
  {
   "cell_type": "code",
   "execution_count": 16,
   "id": "a2f71f6d",
   "metadata": {},
   "outputs": [
    {
     "name": "stdout",
     "output_type": "stream",
     "text": [
      "<class 'str'> 32.34\n",
      "<class 'float'> 32.34\n"
     ]
    }
   ],
   "source": [
    "str1='32.34'\n",
    "str2=float(str1)\n",
    "\n",
    "print(type(str1),str1)\n",
    "print(type(str2),str2)"
   ]
  },
  {
   "cell_type": "code",
   "execution_count": 17,
   "id": "c8b02171",
   "metadata": {},
   "outputs": [
    {
     "name": "stdout",
     "output_type": "stream",
     "text": [
      "<class 'str'> 33.54\n",
      "<class 'complex'> (33+0j)\n"
     ]
    }
   ],
   "source": [
    "str1='33.54'\n",
    "\n",
    "print(type(str1),str1)\n",
    "\n",
    "a=complex(int(float(str1)))\n",
    "\n",
    "print(type(a),a)"
   ]
  },
  {
   "cell_type": "code",
   "execution_count": null,
   "id": "d2514443",
   "metadata": {},
   "outputs": [],
   "source": [
    "#end"
   ]
  }
 ],
 "metadata": {
  "kernelspec": {
   "display_name": "Python 3 (ipykernel)",
   "language": "python",
   "name": "python3"
  },
  "language_info": {
   "codemirror_mode": {
    "name": "ipython",
    "version": 3
   },
   "file_extension": ".py",
   "mimetype": "text/x-python",
   "name": "python",
   "nbconvert_exporter": "python",
   "pygments_lexer": "ipython3",
   "version": "3.9.7"
  }
 },
 "nbformat": 4,
 "nbformat_minor": 5
}
