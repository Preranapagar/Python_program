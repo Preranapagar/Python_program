{
 "cells": [
  {
   "cell_type": "markdown",
   "id": "9c909718",
   "metadata": {},
   "source": [
    "## Assignment 5"
   ]
  },
  {
   "cell_type": "markdown",
   "id": "82fbee04",
   "metadata": {},
   "source": [
    "Topic: Function"
   ]
  },
  {
   "cell_type": "markdown",
   "id": "21947120",
   "metadata": {},
   "source": [
    "#### 1. Python Program for Find largest prime factor of a number"
   ]
  },
  {
   "cell_type": "code",
   "execution_count": 20,
   "id": "dbbfc8e6",
   "metadata": {},
   "outputs": [
    {
     "name": "stdout",
     "output_type": "stream",
     "text": [
      "larget prime factor of 100 is:\n"
     ]
    },
    {
     "data": {
      "text/plain": [
       "5"
      ]
     },
     "execution_count": 20,
     "metadata": {},
     "output_type": "execute_result"
    }
   ],
   "source": [
    "#solution1\n",
    "def largest_prime_factor(num):\n",
    "    factors=[]\n",
    "    for i in range(2,int((num/2)+1)):\n",
    "        if num%i==0:\n",
    "            factors.append(i)\n",
    "   \n",
    "    prime_factors={1,}\n",
    "    for fact in factors:\n",
    "        for j in range(2,int((fact/2)+1)):\n",
    "            if fact%j==0:\n",
    "                break\n",
    "        else:\n",
    "            prime_factors.add(fact)\n",
    "      \n",
    "    print('larget prime factor of {} is:'.format(num))\n",
    "    return max(prime_factors)\n",
    "\n",
    "largest_prime_factor(100)"
   ]
  },
  {
   "cell_type": "code",
   "execution_count": 21,
   "id": "fe406b4f",
   "metadata": {},
   "outputs": [
    {
     "name": "stdout",
     "output_type": "stream",
     "text": [
      "larget prime factor of 200 is:\n"
     ]
    },
    {
     "data": {
      "text/plain": [
       "5"
      ]
     },
     "execution_count": 21,
     "metadata": {},
     "output_type": "execute_result"
    }
   ],
   "source": [
    "largest_prime_factor(200)"
   ]
  },
  {
   "cell_type": "code",
   "execution_count": 22,
   "id": "1239f127",
   "metadata": {},
   "outputs": [
    {
     "name": "stdout",
     "output_type": "stream",
     "text": [
      "Largest prime factor of 100 is 5\n"
     ]
    },
    {
     "data": {
      "text/plain": [
       "5"
      ]
     },
     "execution_count": 22,
     "metadata": {},
     "output_type": "execute_result"
    }
   ],
   "source": [
    "#solution2\n",
    "\n",
    "def prime_fact(num):\n",
    "    prime_fact=[]\n",
    "    \n",
    "    for i in range(2,num-1):\n",
    "        for j in range(2,i-1):\n",
    "            if i%j==0:\n",
    "                break\n",
    "        else:\n",
    "            if num%i==0:\n",
    "                prime_fact.append(i)\n",
    "    \n",
    "    print(f'Largest prime factor of {num} is {max(prime_fact)}')\n",
    "    return max(prime_fact)\n",
    "\n",
    "prime_fact(100)"
   ]
  },
  {
   "cell_type": "markdown",
   "id": "6003c7e0",
   "metadata": {},
   "source": [
    "#### 2. Python Program for Product of unique prime factors of a number\n"
   ]
  },
  {
   "cell_type": "code",
   "execution_count": 40,
   "id": "13a9eaab",
   "metadata": {},
   "outputs": [
    {
     "name": "stdout",
     "output_type": "stream",
     "text": [
      "[2, 5]\n",
      "Product of prime factors is: 10\n"
     ]
    }
   ],
   "source": [
    "def prod_prime_fact(num):\n",
    "    prime_factors=[]\n",
    "    \n",
    "    for i in range(2,num-1):\n",
    "        for j in range(2,i-1):\n",
    "            if i%j==0:\n",
    "                break\n",
    "        else:\n",
    "            if num%i==0:\n",
    "                prime_factors.append(i)\n",
    "    print(prime_factors)    \n",
    "    product=1\n",
    "    for i in prime_factors:\n",
    "        product*=i\n",
    "        \n",
    "    print('Product of prime factors is:',product)\n",
    "    return\n",
    "\n",
    "prod_prime_fact(100)"
   ]
  },
  {
   "cell_type": "markdown",
   "id": "590de67d",
   "metadata": {},
   "source": [
    "#### 3. Python Program to find Factorial of Number\n"
   ]
  },
  {
   "cell_type": "code",
   "execution_count": 2,
   "id": "a791dbdc",
   "metadata": {},
   "outputs": [
    {
     "name": "stdout",
     "output_type": "stream",
     "text": [
      "factorial of 5 is 120\n"
     ]
    }
   ],
   "source": [
    "def factorial(num):\n",
    "    fact=1\n",
    "    if num==0:\n",
    "        print('factorial does not exist')\n",
    "    if num==1:\n",
    "        print('factorial is',fact)\n",
    "    else:\n",
    "        for i in range(1,num+1):\n",
    "            fact=fact*i\n",
    "        print(f'factorial of {num} is {fact}')\n",
    "\n",
    "factorial(5)"
   ]
  },
  {
   "cell_type": "markdown",
   "id": "6ae5d2fd",
   "metadata": {},
   "source": [
    "#### 4. Python Program for Find sum of odd factors of a number"
   ]
  },
  {
   "cell_type": "markdown",
   "id": "75ea7df9",
   "metadata": {},
   "source": [
    "#### 5. Python Program to Check if binary representation is a palindrome"
   ]
  },
  {
   "cell_type": "markdown",
   "id": "37952c76",
   "metadata": {},
   "source": [
    "#### 6. Python Program for Number of elements with odd factors in a given range\n"
   ]
  },
  {
   "cell_type": "markdown",
   "id": "74440a04",
   "metadata": {},
   "source": [
    "#### 7. Python Program for Common Divisors of Two Numbers\n"
   ]
  },
  {
   "cell_type": "markdown",
   "id": "a4aee3f3",
   "metadata": {},
   "source": [
    "#### 8. Python Program to Check if a count of divisors is even or odd\n"
   ]
  },
  {
   "cell_type": "markdown",
   "id": "3d58aaf9",
   "metadata": {},
   "source": [
    "#### 9. Python Program to Find the minimum sum of factors of a number"
   ]
  },
  {
   "cell_type": "markdown",
   "id": "07ecdd8b",
   "metadata": {},
   "source": [
    "#### 10. Python Program to find Difference between sums of odd and even digits"
   ]
  },
  {
   "cell_type": "markdown",
   "id": "d7369f4f",
   "metadata": {},
   "source": [
    "#### 11. Python Program for Largest and Smallest K digit number divisible by X"
   ]
  },
  {
   "cell_type": "markdown",
   "id": "8fe8f5f4",
   "metadata": {},
   "source": [
    "#### 12. Python Program to calculate the area of a Tetrahedron\n"
   ]
  },
  {
   "cell_type": "markdown",
   "id": "3e310eb1",
   "metadata": {},
   "source": [
    "#### 13. Python Program to Find the perimeter of a cylinder"
   ]
  },
  {
   "cell_type": "markdown",
   "id": "2af6a89a",
   "metadata": {},
   "source": [
    "#### 14. Python Program to Find the vertex, focus, and directrix of a parabola"
   ]
  },
  {
   "cell_type": "markdown",
   "id": "2a3de1c6",
   "metadata": {},
   "source": [
    "#### 15. Python program to find the most occurring character and its count\n"
   ]
  },
  {
   "cell_type": "markdown",
   "id": "23325529",
   "metadata": {},
   "source": [
    "#### 16. Python Program to Find the sum of even factors of a number"
   ]
  },
  {
   "cell_type": "markdown",
   "id": "15c5fbc2",
   "metadata": {},
   "source": [
    "#### 17. Python Program to Check if all digits of a number divide it"
   ]
  },
  {
   "cell_type": "markdown",
   "id": "b1abfe5f",
   "metadata": {},
   "source": [
    "#### 18. Python program to convert float decimal to Octal number\n"
   ]
  },
  {
   "cell_type": "markdown",
   "id": "cbdcd0b6",
   "metadata": {},
   "source": [
    "#### 19. Python program to copy odd lines of one file to other\n"
   ]
  },
  {
   "cell_type": "markdown",
   "id": "38bccf6c",
   "metadata": {},
   "source": [
    "#### 20. Write a Python program to replace whitespaces with an underscore and vice versa"
   ]
  },
  {
   "cell_type": "markdown",
   "id": "2c2c1f8a",
   "metadata": {},
   "source": [
    "#### 21. Write a Python program to convert a date or yyyy-mm-dd format to dd-mm-yyyy"
   ]
  },
  {
   "cell_type": "markdown",
   "id": "5425c6b3",
   "metadata": {},
   "source": [
    "#### 22. Write a Python program to find all words starting with 'a' or 'e' in a given string."
   ]
  },
  {
   "cell_type": "markdown",
   "id": "8ab47bf2",
   "metadata": {},
   "source": [
    "#### 23. Write a Python program to abbreviate 'Road' as 'Rd.' in a given string"
   ]
  },
  {
   "cell_type": "code",
   "execution_count": null,
   "id": "1e1470fb",
   "metadata": {},
   "outputs": [],
   "source": []
  }
 ],
 "metadata": {
  "kernelspec": {
   "display_name": "Python 3 (ipykernel)",
   "language": "python",
   "name": "python3"
  },
  "language_info": {
   "codemirror_mode": {
    "name": "ipython",
    "version": 3
   },
   "file_extension": ".py",
   "mimetype": "text/x-python",
   "name": "python",
   "nbconvert_exporter": "python",
   "pygments_lexer": "ipython3",
   "version": "3.9.7"
  }
 },
 "nbformat": 4,
 "nbformat_minor": 5
}
