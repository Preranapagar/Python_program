{
 "cells": [
  {
   "cell_type": "markdown",
   "id": "f95e0bc1",
   "metadata": {},
   "source": [
    "## Assignment: 2"
   ]
  },
  {
   "cell_type": "markdown",
   "id": "028e2582",
   "metadata": {},
   "source": [
    "Topic: List and Tuples"
   ]
  },
  {
   "cell_type": "markdown",
   "id": "634c0117",
   "metadata": {},
   "source": [
    "#### <span style='color:purple '>1. What is a List?<span>"
   ]
  },
  {
   "cell_type": "markdown",
   "id": "63c9916d",
   "metadata": {},
   "source": [
    "List is sequential data structure is python that is mutable, changeble, iterable,and ordered."
   ]
  },
  {
   "cell_type": "markdown",
   "id": "a02e4206",
   "metadata": {},
   "source": [
    "#### <span style='color:purple '>2. What is a Tuple?<span>"
   ]
  },
  {
   "cell_type": "markdown",
   "id": "f7f3e9bc",
   "metadata": {},
   "source": [
    "Tuple is collection of python objects seperated by commas, In someway tuple in similar to list like indexing and repeatation but unlike list tuple is immutable."
   ]
  },
  {
   "cell_type": "markdown",
   "id": "2d0910f5",
   "metadata": {},
   "source": [
    "#### <span style='color:purple '>3. What is the difference between List and Tuple? <span>"
   ]
  },
  {
   "cell_type": "markdown",
   "id": "4c7e97ea",
   "metadata": {},
   "source": [
    "    List                       Tuple\n",
    "-List is mutable            -Tuple is immutable\n",
    "-List has variable length   -Tuple has fixed length\n",
    "-List is more functional    -Tuple is less functional\n",
    "-Requires more memory       -Requires less memory\n",
    "-slower than tuple          -faster that list"
   ]
  },
  {
   "cell_type": "markdown",
   "id": "e686088b",
   "metadata": {},
   "source": [
    "#### <span style='color:purple '>4. Python Program to find the largest element in the list <span>"
   ]
  },
  {
   "cell_type": "code",
   "execution_count": 2,
   "id": "49d653cf",
   "metadata": {},
   "outputs": [
    {
     "name": "stdout",
     "output_type": "stream",
     "text": [
      "78\n"
     ]
    }
   ],
   "source": [
    "#finding the element with max value from list\n",
    "\n",
    "l1=[23,56,78,54,21,45]\n",
    "print(max(l1))"
   ]
  },
  {
   "cell_type": "code",
   "execution_count": 20,
   "id": "6b21cc20",
   "metadata": {},
   "outputs": [],
   "source": [
    "def large_element(list):\n",
    "    d={}\n",
    "    for i in list:\n",
    "        d.update({i:len(i)})\n",
    "    d2=sorted(d.items(),key=lambda kv:kv[1])\n",
    "    return d2[-1][0]"
   ]
  },
  {
   "cell_type": "code",
   "execution_count": 21,
   "id": "3b292e6a",
   "metadata": {},
   "outputs": [
    {
     "data": {
      "text/plain": [
       "'Aishwarya'"
      ]
     },
     "execution_count": 21,
     "metadata": {},
     "output_type": "execute_result"
    }
   ],
   "source": [
    "list_1=['Sarika','Megha','Ritu', 'Aishwarya','Ketaki','Riya']\n",
    "\n",
    "large_element(list_1)"
   ]
  },
  {
   "cell_type": "markdown",
   "id": "cc41eb50",
   "metadata": {},
   "source": [
    "#### <span style='color:purple '>5. Python program to interchange first and last elements in a list.<span>"
   ]
  },
  {
   "cell_type": "code",
   "execution_count": 22,
   "id": "f14281b7",
   "metadata": {},
   "outputs": [
    {
     "name": "stdout",
     "output_type": "stream",
     "text": [
      "['Riya', 'Megha', 'Ritu', 'Aishwarya', 'Ketaki', 'Sarika']\n"
     ]
    }
   ],
   "source": [
    "list_1=['Sarika','Megha','Ritu', 'Aishwarya','Ketaki','Riya']\n",
    "\n",
    "first_ele=list_1[0]\n",
    "last_ele=list_1[-1]\n",
    "\n",
    "list_1[0]=last_ele\n",
    "list_1[-1]=first_ele\n",
    "print(list_1)"
   ]
  },
  {
   "cell_type": "code",
   "execution_count": 30,
   "id": "d4b1f659",
   "metadata": {},
   "outputs": [
    {
     "name": "stdout",
     "output_type": "stream",
     "text": [
      "[9, 2, 3, 4, 5, 6, 7, 8, 1]\n"
     ]
    }
   ],
   "source": [
    "l1=[1,2,3,4,5,6,7,8,9]\n",
    "fe=l1[0:1]\n",
    "le=l1[-1:]\n",
    "\n",
    "new_list=le+l1[1:-1]+fe\n",
    "print(new_list)"
   ]
  },
  {
   "cell_type": "markdown",
   "id": "bfeb8489",
   "metadata": {},
   "source": [
    "#### <span style='color:purple '>6. Python program to swap two elements in a list <span>"
   ]
  },
  {
   "cell_type": "code",
   "execution_count": 34,
   "id": "eec6554b",
   "metadata": {},
   "outputs": [],
   "source": [
    "def swap_elements(list,ele1,ele2):\n",
    "    index_1=list.index(ele1)\n",
    "    index_2=list.index(ele2)\n",
    "    \n",
    "    list[index_1]=ele2\n",
    "    list[index_2]=ele1\n",
    "    \n",
    "    return list"
   ]
  },
  {
   "cell_type": "code",
   "execution_count": 35,
   "id": "2ecbe515",
   "metadata": {},
   "outputs": [
    {
     "data": {
      "text/plain": [
       "['Sarika', 'Riya', 'Ritu', 'Aishwarya', 'Ketaki', 'Megha']"
      ]
     },
     "execution_count": 35,
     "metadata": {},
     "output_type": "execute_result"
    }
   ],
   "source": [
    "list_1=['Sarika','Megha','Ritu', 'Aishwarya','Ketaki','Riya']\n",
    "swap_elements(list_1,'Megha','Riya')"
   ]
  },
  {
   "cell_type": "markdown",
   "id": "93e539a1",
   "metadata": {},
   "source": [
    "#### <span style='color:purple '>7. Python program to Reverse a List <span>"
   ]
  },
  {
   "cell_type": "code",
   "execution_count": 1,
   "id": "735287f9",
   "metadata": {},
   "outputs": [
    {
     "data": {
      "text/plain": [
       "[5, 4, 3, 2, 1]"
      ]
     },
     "execution_count": 1,
     "metadata": {},
     "output_type": "execute_result"
    }
   ],
   "source": [
    "l=[1,2,3,4,5]\n",
    "l[::-1]"
   ]
  },
  {
   "cell_type": "markdown",
   "id": "ec88b3d0",
   "metadata": {},
   "source": [
    "#### <span style='color:purple '>8. Python program to count occurrences of an element in a list <span>"
   ]
  },
  {
   "cell_type": "code",
   "execution_count": 37,
   "id": "f3a3b01b",
   "metadata": {},
   "outputs": [
    {
     "data": {
      "text/plain": [
       "('Count of element is:', 2)"
      ]
     },
     "execution_count": 37,
     "metadata": {},
     "output_type": "execute_result"
    }
   ],
   "source": [
    "def count_ele(list,element):\n",
    "    count_=list.count(element)\n",
    "    return \"Count of element is:\", count_\n",
    "\n",
    "list1=[22,33,44,55,22,12]\n",
    "\n",
    "count_ele(list1,22)"
   ]
  },
  {
   "cell_type": "markdown",
   "id": "b3d75fa5",
   "metadata": {},
   "source": [
    "#### <span style='color:purple '>9. Python program to find the sum of elements in a list <span>"
   ]
  },
  {
   "cell_type": "code",
   "execution_count": 38,
   "id": "74926323",
   "metadata": {},
   "outputs": [
    {
     "name": "stdout",
     "output_type": "stream",
     "text": [
      "Sum of elements in list is: 188\n"
     ]
    }
   ],
   "source": [
    "list1=[22,33,44,55,22,12]\n",
    "\n",
    "print('Sum of elements in list is:',sum(list1))"
   ]
  },
  {
   "cell_type": "markdown",
   "id": "8dccfdd9",
   "metadata": {},
   "source": [
    "#### <span style='color:purple '>10. Python program to Multiply all numbers in the list <span>"
   ]
  },
  {
   "cell_type": "code",
   "execution_count": 43,
   "id": "2626b3f6",
   "metadata": {},
   "outputs": [
    {
     "name": "stdout",
     "output_type": "stream",
     "text": [
      "Multiplication of all numbers in list is: 463826880\n"
     ]
    }
   ],
   "source": [
    "list1=[22,33,44,55,22,12]\n",
    "\n",
    "multi=1\n",
    "for i in list1:\n",
    "    multi *= i\n",
    "\n",
    "print('Multiplication of all numbers in list is:',multi)"
   ]
  },
  {
   "cell_type": "markdown",
   "id": "601b8154",
   "metadata": {},
   "source": [
    "#### <span style='color:purple '>11. What are the ways to find the length of a list <span>"
   ]
  },
  {
   "cell_type": "code",
   "execution_count": 44,
   "id": "dc3f4778",
   "metadata": {},
   "outputs": [
    {
     "data": {
      "text/plain": [
       "6"
      ]
     },
     "execution_count": 44,
     "metadata": {},
     "output_type": "execute_result"
    }
   ],
   "source": [
    "#using len function\n",
    "list1=[22,33,44,55,22,12]\n",
    "len(list1)"
   ]
  },
  {
   "cell_type": "code",
   "execution_count": 45,
   "id": "3470b607",
   "metadata": {},
   "outputs": [
    {
     "name": "stdout",
     "output_type": "stream",
     "text": [
      "Length: 6\n"
     ]
    }
   ],
   "source": [
    "list1=[22,33,44,55,22,12]\n",
    "length=0\n",
    "\n",
    "for i in list1:\n",
    "    length+=1\n",
    "    \n",
    "print('Length:',length)"
   ]
  },
  {
   "cell_type": "markdown",
   "id": "d794196a",
   "metadata": {},
   "source": [
    "#### <span style='color:purple '>12. Python program to find the smallest and largest number in a list (Without min-max function) <span>"
   ]
  },
  {
   "cell_type": "code",
   "execution_count": 48,
   "id": "0429d76b",
   "metadata": {},
   "outputs": [
    {
     "name": "stdout",
     "output_type": "stream",
     "text": [
      "Min element of list: 12\n",
      "Max element of list: 76\n"
     ]
    }
   ],
   "source": [
    "def min_max(list):\n",
    "    list2=sorted(list)\n",
    "    print('Min element of list:',list2[0])\n",
    "    print('Max element of list:',list2[-1])\n",
    "    return\n",
    "\n",
    "list1=[32,56,43,12,76,52]\n",
    "min_max(list1)"
   ]
  },
  {
   "cell_type": "markdown",
   "id": "1ea51ebf",
   "metadata": {},
   "source": [
    "#### <span style='color:purple '>13. Python Program to find the area of a circle <span>"
   ]
  },
  {
   "cell_type": "code",
   "execution_count": 52,
   "id": "beda44b4",
   "metadata": {},
   "outputs": [
    {
     "name": "stdout",
     "output_type": "stream",
     "text": [
      "4\n",
      "Area of circle: 50.27\n"
     ]
    }
   ],
   "source": [
    "from math import pi\n",
    "\n",
    "radius=int(input())\n",
    "print('Area of circle:', round(pi*radius**2,2))"
   ]
  },
  {
   "cell_type": "markdown",
   "id": "7a156d22",
   "metadata": {},
   "source": [
    "#### <span style='color:purple '>14. Take inputs from the user to make a list. Again take one input from the user and search it in the list and delete that element, if found. Iterate over a list using for loop.<span>"
   ]
  },
  {
   "cell_type": "code",
   "execution_count": 56,
   "id": "fa57cb5e",
   "metadata": {},
   "outputs": [
    {
     "name": "stdout",
     "output_type": "stream",
     "text": [
      "Enter the length of list:3\n",
      "Enter 1 th element:7\n",
      "Enter 2 th element:8\n",
      "Enter 3 th element:9\n",
      "[7, 8, 9]\n",
      "Enter element to be deleted:2\n",
      "element is not available in list\n"
     ]
    }
   ],
   "source": [
    "l1=[]\n",
    "length=int(input('Enter the length of list:'))\n",
    "\n",
    "for i in range(1,length+1):\n",
    "    element=int(input(f'Enter {i} th element:'))\n",
    "    l1.append(element)\n",
    "\n",
    "print(l1)\n",
    "\n",
    "el2=int(input('Enter element to be deleted:'))\n",
    "\n",
    "if el2 in l1:\n",
    "    l1.remove(el2)\n",
    "    print('updated list',l1)\n",
    "else:\n",
    "    print('element is not available in list')\n",
    "\n"
   ]
  },
  {
   "cell_type": "code",
   "execution_count": 57,
   "id": "282e69ad",
   "metadata": {},
   "outputs": [
    {
     "name": "stdout",
     "output_type": "stream",
     "text": [
      "Enter the length of list:4\n",
      "Enter 1 th element:11\n",
      "Enter 2 th element:22\n",
      "Enter 3 th element:33\n",
      "Enter 4 th element:44\n",
      "[11, 22, 33, 44]\n",
      "Enter element to be deleted:22\n",
      "updated list [11, 33, 44]\n"
     ]
    }
   ],
   "source": [
    "l1=[]\n",
    "length=int(input('Enter the length of list:'))\n",
    "\n",
    "for i in range(1,length+1):\n",
    "    element=int(input(f'Enter {i} th element:'))\n",
    "    l1.append(element)\n",
    "\n",
    "print(l1)\n",
    "\n",
    "el2=int(input('Enter element to be deleted:'))\n",
    "\n",
    "if el2 in l1:\n",
    "    l1.remove(el2)\n",
    "    print('updated list',l1)\n",
    "else:\n",
    "    print('element is not available in list')"
   ]
  },
  {
   "cell_type": "markdown",
   "id": "4a394df6",
   "metadata": {},
   "source": [
    "#### <span style='color:purple '>15. You are given a list of integer elements. Make a new list that will store a square of elements of the previous list. (With and without list comprehension) <span>\n",
    "i. Input_list = [2,5,6,12]\n",
    "ii. Output_list = [4,25,36,144]\n"
   ]
  },
  {
   "cell_type": "code",
   "execution_count": 59,
   "id": "9bd0c801",
   "metadata": {},
   "outputs": [
    {
     "name": "stdout",
     "output_type": "stream",
     "text": [
      "[4, 25, 36, 144]\n"
     ]
    }
   ],
   "source": [
    "#without list comprehension\n",
    "Input_list = [2,5,6,12]\n",
    "Output_list=[]\n",
    "\n",
    "for i in Input_list:\n",
    "    Output_list.append(i**2)\n",
    "    \n",
    "print(Output_list)"
   ]
  },
  {
   "cell_type": "code",
   "execution_count": 60,
   "id": "01292425",
   "metadata": {},
   "outputs": [
    {
     "name": "stdout",
     "output_type": "stream",
     "text": [
      "[4, 25, 36, 144]\n"
     ]
    }
   ],
   "source": [
    "#with list comprehension\n",
    "Input_list = [2,5,6,12]\n",
    "Output_list=[i**2 for i in Input_list]\n",
    "\n",
    "print(Output_list)"
   ]
  },
  {
   "cell_type": "markdown",
   "id": "401e0d26",
   "metadata": {},
   "source": [
    "#### <span style='color:purple '>16. WAP to create two lists, one containing all even numbers and the other containing all odd numbers between 0 to 151 <span>"
   ]
  },
  {
   "cell_type": "code",
   "execution_count": 66,
   "id": "94313b3c",
   "metadata": {},
   "outputs": [
    {
     "name": "stdout",
     "output_type": "stream",
     "text": [
      "Even numbers:\n",
      " [0, 2, 4, 6, 8, 10, 12, 14, 16, 18, 20, 22, 24, 26, 28, 30, 32, 34, 36, 38, 40, 42, 44, 46, 48, 50, 52, 54, 56, 58, 60, 62, 64, 66, 68, 70, 72, 74, 76, 78, 80, 82, 84, 86, 88, 90, 92, 94, 96, 98, 100, 102, 104, 106, 108, 110, 112, 114, 116, 118, 120, 122, 124, 126, 128, 130, 132, 134, 136, 138, 140, 142, 144, 146, 148, 150]\n",
      "----------------------------------------------------------------------------------------------------\n",
      "Odd numbers:\n",
      " [1, 3, 5, 7, 9, 11, 13, 15, 17, 19, 21, 23, 25, 27, 29, 31, 33, 35, 37, 39, 41, 43, 45, 47, 49, 51, 53, 55, 57, 59, 61, 63, 65, 67, 69, 71, 73, 75, 77, 79, 81, 83, 85, 87, 89, 91, 93, 95, 97, 99, 101, 103, 105, 107, 109, 111, 113, 115, 117, 119, 121, 123, 125, 127, 129, 131, 133, 135, 137, 139, 141, 143, 145, 147, 149, 151]\n"
     ]
    }
   ],
   "source": [
    "even_num=[i for i in range (152) if i%2==0]\n",
    "odd_num=[i for i in range (152) if i%2!=0]\n",
    "\n",
    "print('Even numbers:\\n',even_num)\n",
    "print('-'*100)\n",
    "print('Odd numbers:\\n',odd_num)"
   ]
  },
  {
   "cell_type": "code",
   "execution_count": 67,
   "id": "8e5b4d8c",
   "metadata": {},
   "outputs": [
    {
     "name": "stdout",
     "output_type": "stream",
     "text": [
      "Even numbers:\n",
      " [0, 2, 4, 6, 8, 10, 12, 14, 16, 18, 20, 22, 24, 26, 28, 30, 32, 34, 36, 38, 40, 42, 44, 46, 48, 50, 52, 54, 56, 58, 60, 62, 64, 66, 68, 70, 72, 74, 76, 78, 80, 82, 84, 86, 88, 90, 92, 94, 96, 98, 100, 102, 104, 106, 108, 110, 112, 114, 116, 118, 120, 122, 124, 126, 128, 130, 132, 134, 136, 138, 140, 142, 144, 146, 148, 150]\n",
      "Odd numbersL\n",
      " [1, 3, 5, 7, 9, 11, 13, 15, 17, 19, 21, 23, 25, 27, 29, 31, 33, 35, 37, 39, 41, 43, 45, 47, 49, 51, 53, 55, 57, 59, 61, 63, 65, 67, 69, 71, 73, 75, 77, 79, 81, 83, 85, 87, 89, 91, 93, 95, 97, 99, 101, 103, 105, 107, 109, 111, 113, 115, 117, 119, 121, 123, 125, 127, 129, 131, 133, 135, 137, 139, 141, 143, 145, 147, 149, 151]\n"
     ]
    }
   ],
   "source": [
    "def seperate_odd_even(num):\n",
    "    even_num=[]\n",
    "    odd_num=[]\n",
    "    \n",
    "    for i in range(num+1):\n",
    "        if i%2==0:\n",
    "            even_num.append(i)\n",
    "        else:\n",
    "            odd_num.append(i)\n",
    "            \n",
    "    print('Even numbers:\\n',even_num)\n",
    "    print('Odd numbersL\\n',odd_num)\n",
    "    return\n",
    "\n",
    "seperate_odd_even(151)\n"
   ]
  },
  {
   "cell_type": "markdown",
   "id": "3128eb09",
   "metadata": {},
   "source": [
    "#### <span style='color:purple '>17. Python program to Count Even and Odd numbers in a List<span>"
   ]
  },
  {
   "cell_type": "code",
   "execution_count": 68,
   "id": "522bac91",
   "metadata": {},
   "outputs": [
    {
     "name": "stdout",
     "output_type": "stream",
     "text": [
      "Even numbers in list: 4\n",
      "Odd numbers in list: 6\n"
     ]
    }
   ],
   "source": [
    "lis1=[32,45,67,98,65,43,13,5,6,76]\n",
    "\n",
    "even_count,odd_count=0,0\n",
    "\n",
    "for i in lis1:\n",
    "    if i%2==0:\n",
    "        even_count+=1\n",
    "    else:\n",
    "        odd_count+=1\n",
    "        \n",
    "print('Even numbers in list:',even_count)\n",
    "print('Odd numbers in list:',odd_count)"
   ]
  },
  {
   "cell_type": "markdown",
   "id": "381f5e92",
   "metadata": {},
   "source": [
    "#### <span style='color:purple '>18. WAP to make new lists, containing only numbers which are divisible by 4, 6, 8, 10, 3, 5, 7, and 9 in separate lists for range(0,151) <span>"
   ]
  },
  {
   "cell_type": "code",
   "execution_count": 71,
   "id": "0d26b618",
   "metadata": {},
   "outputs": [
    {
     "name": "stdout",
     "output_type": "stream",
     "text": [
      "Numbers divisibleed by 3:\n",
      " [3, 6, 9, 12, 15, 18, 21, 24, 27, 30, 33, 36, 39, 42, 45, 48, 51, 54, 57, 60, 63, 66, 69, 72, 75, 78, 81, 84, 87, 90, 93, 96, 99, 102, 105, 108, 111, 114, 117, 120, 123, 126, 129, 132, 135, 138, 141, 144, 147, 150]\n",
      "----------------------------------------------------------------------------------------------------\n",
      "Numbers divisibleed by 4:\n",
      " [4, 8, 12, 16, 20, 24, 28, 32, 36, 40, 44, 48, 52, 56, 60, 64, 68, 72, 76, 80, 84, 88, 92, 96, 100, 104, 108, 112, 116, 120, 124, 128, 132, 136, 140, 144, 148]\n",
      "----------------------------------------------------------------------------------------------------\n",
      "Numbers divisibleed by 5:\n",
      " [5, 10, 15, 20, 25, 30, 35, 40, 45, 50, 55, 60, 65, 70, 75, 80, 85, 90, 95, 100, 105, 110, 115, 120, 125, 130, 135, 140, 145, 150]\n",
      "----------------------------------------------------------------------------------------------------\n",
      "Numbers divisibleed by 6:\n",
      " [6, 12, 18, 24, 30, 36, 42, 48, 54, 60, 66, 72, 78, 84, 90, 96, 102, 108, 114, 120, 126, 132, 138, 144, 150]\n",
      "----------------------------------------------------------------------------------------------------\n",
      "Numbers divisibleed by 7:\n",
      " [7, 14, 21, 28, 35, 42, 49, 56, 63, 70, 77, 84, 91, 98, 105, 112, 119, 126, 133, 140, 147]\n",
      "----------------------------------------------------------------------------------------------------\n",
      "Numbers divisibleed by 8:\n",
      " [8, 16, 24, 32, 40, 48, 56, 64, 72, 80, 88, 96, 104, 112, 120, 128, 136, 144]\n",
      "----------------------------------------------------------------------------------------------------\n",
      "Numbers divisibleed by 9:\n",
      " [9, 18, 27, 36, 45, 54, 63, 72, 81, 90, 99, 108, 117, 126, 135, 144]\n",
      "----------------------------------------------------------------------------------------------------\n",
      "Numbers divisibleed by 10:\n",
      " [10, 20, 30, 40, 50, 60, 70, 80, 90, 100, 110, 120, 130, 140, 150]\n",
      "----------------------------------------------------------------------------------------------------\n"
     ]
    }
   ],
   "source": [
    "divisible_by_3=[i for i in range(1,152) if i%3==0]\n",
    "divisible_by_4=[i for i in range(1,152) if i%4==0]\n",
    "divisible_by_5=[i for i in range(1,152) if i%5==0]\n",
    "divisible_by_6=[i for i in range(1,152) if i%6==0]\n",
    "divisible_by_7=[i for i in range(1,152) if i%7==0]\n",
    "divisible_by_8=[i for i in range(1,152) if i%8==0]\n",
    "divisible_by_9=[i for i in range(1,152) if i%9==0]\n",
    "divisible_by_10=[i for i in range(1,152) if i%10==0]\n",
    "\n",
    "print('Numbers divisibleed by 3:\\n',divisible_by_3)\n",
    "print('-'*100)\n",
    "print('Numbers divisibleed by 4:\\n',divisible_by_4)\n",
    "print('-'*100)\n",
    "print('Numbers divisibleed by 5:\\n',divisible_by_5)\n",
    "print('-'*100)\n",
    "print('Numbers divisibleed by 6:\\n',divisible_by_6)\n",
    "print('-'*100)\n",
    "print('Numbers divisibleed by 7:\\n',divisible_by_7)\n",
    "print('-'*100)\n",
    "print('Numbers divisibleed by 8:\\n',divisible_by_8)\n",
    "print('-'*100)\n",
    "print('Numbers divisibleed by 9:\\n',divisible_by_9)\n",
    "print('-'*100)\n",
    "print('Numbers divisibleed by 10:\\n',divisible_by_10)\n",
    "print('-'*100)"
   ]
  },
  {
   "cell_type": "markdown",
   "id": "1c75e26c",
   "metadata": {},
   "source": [
    "#### <span style='color:purple '>19. From a list containing ints, strings, and floats, make three lists to store them separately.<span>"
   ]
  },
  {
   "cell_type": "code",
   "execution_count": 74,
   "id": "1026f041",
   "metadata": {},
   "outputs": [
    {
     "name": "stdout",
     "output_type": "stream",
     "text": [
      "[34, 6, 7, 5, 8]\n",
      "[8.76, 32.1, 66.7]\n",
      "['science', 'Python']\n"
     ]
    }
   ],
   "source": [
    "list1=[34,6,7,'science',8.76,32.1,5,66.7,8,'Python']\n",
    "\n",
    "strings,floats,ints=[],[],[]\n",
    "\n",
    "for i in list1:\n",
    "    if type(i)==int:\n",
    "        ints.append(i)\n",
    "    elif type(i)==float:\n",
    "        floats.append(i)\n",
    "    else:\n",
    "        strings.append(i)\n",
    "\n",
    "print(ints)\n",
    "print(floats)\n",
    "print(strings)\n"
   ]
  },
  {
   "cell_type": "markdown",
   "id": "6fb7e115",
   "metadata": {},
   "source": [
    "#### <span style='color:purple '>20. What’s The Difference Between The Python append() and extend() Methods? <span>"
   ]
  },
  {
   "cell_type": "markdown",
   "id": "2de41418",
   "metadata": {},
   "source": [
    "append : use to add single value or list to the list at last index\n",
    "extend: use to add only list to the list at last index"
   ]
  },
  {
   "cell_type": "markdown",
   "id": "0e652f01",
   "metadata": {},
   "source": [
    "#### <span style='color:purple '>21. Write a Python program to append a list to the second list <span>"
   ]
  },
  {
   "cell_type": "code",
   "execution_count": 76,
   "id": "49a99508",
   "metadata": {},
   "outputs": [
    {
     "name": "stdout",
     "output_type": "stream",
     "text": [
      "[12, 13, 14, [21, 32, 43]]\n"
     ]
    }
   ],
   "source": [
    "l1=[12,13,14]\n",
    "l2=[21,32,43]\n",
    "\n",
    "l1.append(l2)\n",
    "print(l1)"
   ]
  },
  {
   "cell_type": "markdown",
   "id": "b69ed708",
   "metadata": {},
   "source": [
    "#### <span style='color:purple '> 22. Write a Python program to find the third-largest number in a list<span>"
   ]
  },
  {
   "cell_type": "code",
   "execution_count": 80,
   "id": "bc3be178",
   "metadata": {},
   "outputs": [
    {
     "name": "stdout",
     "output_type": "stream",
     "text": [
      "Third largest element: 55\n"
     ]
    }
   ],
   "source": [
    "l1=[34,55,67,4,32,4,56,7,6,53]\n",
    "l2=sorted(l1)\n",
    "print('Third largest element:',l2[-3])"
   ]
  },
  {
   "cell_type": "markdown",
   "id": "d088e629",
   "metadata": {},
   "source": [
    "#### <span style='color:purple '>23. Write a Python program to get the frequency of the elements in a list.<span>"
   ]
  },
  {
   "cell_type": "code",
   "execution_count": 90,
   "id": "e6d1dc16",
   "metadata": {},
   "outputs": [
    {
     "name": "stdout",
     "output_type": "stream",
     "text": [
      "{'f': 3, 'd': 4, 'v': 2, 'n': 1, 'g': 2, 'j': 1, 's': 3, 'y': 2, 'a': 2, 't': 1, 'w': 1, 'r': 1}\n"
     ]
    }
   ],
   "source": [
    "list1= ['f','d','v','n','g','f','j','s','y','d','s','a','t','d','s','w','f','g','a','r','v','d','y']\n",
    "d={}\n",
    "\n",
    "for i in list1:\n",
    "    d.update({i:list1.count(i)})\n",
    "\n",
    "print(d)"
   ]
  },
  {
   "cell_type": "code",
   "execution_count": 94,
   "id": "c51ad4c8",
   "metadata": {},
   "outputs": [
    {
     "name": "stdout",
     "output_type": "stream",
     "text": [
      "Enter your element:s\n",
      "count of s in list is 3\n"
     ]
    }
   ],
   "source": [
    "list1= ['f','d','v','n','g','f','j','s','y','d','s','a','t','d','s','w','f','g','a','r','v','d','y']\n",
    "\n",
    "element=input('Enter your element:')\n",
    "\n",
    "if element in list1:\n",
    "    print(f'count of {element} in list is {list1.count(element)}')\n",
    "else:\n",
    "    print('your element is not in list')"
   ]
  },
  {
   "cell_type": "code",
   "execution_count": 95,
   "id": "935d2b96",
   "metadata": {},
   "outputs": [
    {
     "name": "stdout",
     "output_type": "stream",
     "text": [
      "Enter your element:k\n",
      "your element is not in list\n"
     ]
    }
   ],
   "source": [
    "list1= ['f','d','v','n','g','f','j','s','y','d','s','a','t','d','s','w','f','g','a','r','v','d','y']\n",
    "\n",
    "element=input('Enter your element:')\n",
    "\n",
    "if element in list1:\n",
    "    print(f'count of {element} in list is {list1.count(element)}')\n",
    "else:\n",
    "    print('your element is not in list')"
   ]
  },
  {
   "cell_type": "markdown",
   "id": "4337c64b",
   "metadata": {},
   "source": [
    "#### <span style='color:purple '>24. Write a Python program to check whether a list contains a sublist <span>"
   ]
  },
  {
   "cell_type": "code",
   "execution_count": 101,
   "id": "bd0e31ab",
   "metadata": {},
   "outputs": [
    {
     "name": "stdout",
     "output_type": "stream",
     "text": [
      "[89, 90, 64] is part of [45, 67, 32, 89, 90, 64, 32, 12, 56]? True\n"
     ]
    }
   ],
   "source": [
    "def check_sublist(list,sublist):\n",
    "    result=False\n",
    "    for i in range(len(list)):\n",
    "        if list[i:i+len(sublist)]==sublist:\n",
    "            result=True\n",
    "            break\n",
    "    print(f'{sublist} is part of {list}?', result)\n",
    "        \n",
    "list1=[45,67,32,89,90,64,32,12,56]\n",
    "sublist=[89,90,64]\n",
    "\n",
    "check_sublist(list1,sublist)"
   ]
  },
  {
   "cell_type": "code",
   "execution_count": 102,
   "id": "4f5ed8e2",
   "metadata": {},
   "outputs": [
    {
     "name": "stdout",
     "output_type": "stream",
     "text": [
      "[89, 32, 64] is part of [45, 67, 32, 89, 90, 64, 32, 12, 56]? False\n"
     ]
    }
   ],
   "source": [
    "list1=[45,67,32,89,90,64,32,12,56]\n",
    "sublist=[89,32,64]\n",
    "\n",
    "check_sublist(list1,sublist)"
   ]
  },
  {
   "cell_type": "markdown",
   "id": "05bd25df",
   "metadata": {},
   "source": [
    "#### <span style='color:purple '>25. Write a Python program to generate all sublists of a list <span>"
   ]
  },
  {
   "cell_type": "code",
   "execution_count": 115,
   "id": "65480e45",
   "metadata": {},
   "outputs": [
    {
     "data": {
      "text/plain": [
       "[[], [1], [1, 2], [2], [1, 2, 3], [2, 3], [3]]"
      ]
     },
     "execution_count": 115,
     "metadata": {},
     "output_type": "execute_result"
    }
   ],
   "source": [
    "def creat_sublist(l):\n",
    "    sub_lists=[[]]\n",
    "    for i in range(len(l)+1):\n",
    "        for j in range(i):\n",
    "            sub_lists.append(l[j: i])\n",
    "    return sub_lists\n",
    "\n",
    "lis=[1,2,3]\n",
    "creat_sublist(lis)"
   ]
  },
  {
   "cell_type": "markdown",
   "id": "f7da6d2f",
   "metadata": {},
   "source": [
    "#### <span style='color:purple '>26. Write a Python program to find common items from two lists <span>"
   ]
  },
  {
   "cell_type": "code",
   "execution_count": 116,
   "id": "54b8e5df",
   "metadata": {},
   "outputs": [
    {
     "name": "stdout",
     "output_type": "stream",
     "text": [
      "[65, 78, 23, 12, 87]\n"
     ]
    }
   ],
   "source": [
    "l1=[43,65,78,54,23,12,45,76,87]\n",
    "l2=[56,23,55,78,65,3,2,12,32,56,87]\n",
    "\n",
    "common=[]\n",
    "for i in l1:\n",
    "    if i in l2:\n",
    "        common.append(i)\n",
    "\n",
    "print(common)"
   ]
  },
  {
   "cell_type": "markdown",
   "id": "c6cb145a",
   "metadata": {},
   "source": [
    "#### <span style='color:purple '>27. How to flatten a list in python? <span>"
   ]
  },
  {
   "cell_type": "code",
   "execution_count": 124,
   "id": "30ead04b",
   "metadata": {},
   "outputs": [
    {
     "name": "stdout",
     "output_type": "stream",
     "text": [
      "[1, 2, 3, 4, 5, 6, 7, 8, 9]\n"
     ]
    }
   ],
   "source": [
    "#falttening a list using list comprehension\n",
    "\n",
    "l1=[[1,2],[3,4,5],[6,7],[8,9]]\n",
    "\n",
    "flat_list=[i for ls in l1 for i in ls]\n",
    "print(flat_list)\n"
   ]
  },
  {
   "cell_type": "code",
   "execution_count": 125,
   "id": "74932667",
   "metadata": {},
   "outputs": [
    {
     "name": "stdout",
     "output_type": "stream",
     "text": [
      "[1, 2, 3, 4, 5, 6, 7, 8, 9]\n"
     ]
    }
   ],
   "source": [
    "#using itertools\n",
    "\n",
    "import itertools\n",
    "\n",
    "l1=[[1,2],[3,4,5],[6,7],[8,9]]\n",
    "flat_list=list(itertools.chain(*l1))\n",
    "\n",
    "print(flat_list)"
   ]
  },
  {
   "cell_type": "code",
   "execution_count": 128,
   "id": "396b88e9",
   "metadata": {},
   "outputs": [
    {
     "name": "stdout",
     "output_type": "stream",
     "text": [
      "[1, 2, 3, 4, 5, 6, 7, 8, 9]\n"
     ]
    }
   ],
   "source": [
    "#using numpy library\n",
    "import numpy as np\n",
    "\n",
    "l1=[[1,2],[3,4,5],[6,7],[8,9]]\n",
    "flat_list=list(np.concatenate(l1).flat)\n",
    "print(flat_list)"
   ]
  },
  {
   "cell_type": "code",
   "execution_count": 129,
   "id": "f3028e59",
   "metadata": {},
   "outputs": [
    {
     "name": "stdout",
     "output_type": "stream",
     "text": [
      "[1, 2, 3, 4, 5, 6, 7, 8, 9]\n"
     ]
    }
   ],
   "source": [
    "#suing sum function\n",
    "\n",
    "l1=[[1,2],[3,4,5],[6,7],[8,9]]\n",
    "f_l=sum(l1,[])\n",
    "print(f_l)"
   ]
  },
  {
   "cell_type": "markdown",
   "id": "1f97f6ff",
   "metadata": {},
   "source": [
    "#### <span style='color:purple '>28. How to sort a list in ascending and descending order without using the sort function? <span>"
   ]
  },
  {
   "cell_type": "code",
   "execution_count": 134,
   "id": "c57019fc",
   "metadata": {},
   "outputs": [
    {
     "name": "stdout",
     "output_type": "stream",
     "text": [
      "List in ascending order: [12, 32, 32, 45, 56, 64, 67, 89, 90]\n"
     ]
    }
   ],
   "source": [
    "list1=[45,67,32,89,90,64,32,12,56]\n",
    "\n",
    "for i in range(len(list1)):\n",
    "    for j in range(i+1,len(list1)):\n",
    "        if list1[i]>list1[j]:\n",
    "            list1[i],list1[j]=list1[j],list1[i]\n",
    "\n",
    "print('List in ascending order:',list1)"
   ]
  },
  {
   "cell_type": "code",
   "execution_count": 135,
   "id": "6994543d",
   "metadata": {},
   "outputs": [
    {
     "name": "stdout",
     "output_type": "stream",
     "text": [
      "List in descending order: [90, 89, 67, 64, 56, 45, 32, 32, 12]\n"
     ]
    }
   ],
   "source": [
    "list1=[45,67,32,89,90,64,32,12,56]\n",
    "\n",
    "for i in range(len(list1)):\n",
    "    for j in range(i+1,len(list1)):\n",
    "        if list1[i]<list1[j]:\n",
    "            list1[i],list1[j]=list1[j],list1[i]\n",
    "\n",
    "print('List in descending order:',list1)"
   ]
  },
  {
   "cell_type": "markdown",
   "id": "fb15ceef",
   "metadata": {},
   "source": [
    "#### <span style='color:purple '>29. How to sort a tuple?<span>"
   ]
  },
  {
   "cell_type": "code",
   "execution_count": 140,
   "id": "5feadd42",
   "metadata": {},
   "outputs": [
    {
     "name": "stdout",
     "output_type": "stream",
     "text": [
      "Tuple sorted in ascending order: (21, 34, 56, 78)\n",
      "Tuple sorted in descending order: (78, 56, 34, 21)\n"
     ]
    }
   ],
   "source": [
    "tup=(34,56,78,21)\n",
    "\n",
    "print('Tuple sorted in ascending order:',tuple(sorted(tup)))\n",
    "print('Tuple sorted in descending order:',tuple(sorted(tup,reverse=True)))"
   ]
  },
  {
   "cell_type": "markdown",
   "id": "f2985a21",
   "metadata": {},
   "source": [
    "#### <span style='color:purple '>30. Write a Python program to convert a list of multiple integers into a single\n",
    "integer <span>\n",
    "a. [11, 33, 50] >>> 113350"
   ]
  },
  {
   "cell_type": "code",
   "execution_count": 141,
   "id": "7153e2e9",
   "metadata": {},
   "outputs": [
    {
     "name": "stdout",
     "output_type": "stream",
     "text": [
      "113350\n"
     ]
    }
   ],
   "source": [
    "l=[11,33,50]\n",
    "st=''\n",
    "\n",
    "for i in l:\n",
    "    s=str(i)\n",
    "    st+=s\n",
    "print(st)"
   ]
  },
  {
   "cell_type": "markdown",
   "id": "2c6cb975",
   "metadata": {},
   "source": [
    "#### <span style='color:purple '>31. Difference between del and clear? <span>"
   ]
  },
  {
   "cell_type": "markdown",
   "id": "ea0d0039",
   "metadata": {},
   "source": [
    "del : It is a keyword but not a function. It delets the list selected to be deleted with all its elements from the memory location. Thus, printing it again would show an error of undefined variable.\n",
    "\n",
    "clear : It is a function of the list. It will clear all the elements from the list, thus giving an empty list as an output. It will be stored in the memory but will be empty."
   ]
  },
  {
   "cell_type": "markdown",
   "id": "13a0c2b9",
   "metadata": {},
   "source": [
    "#### <span style='color:purple '>32. Difference between remove and pop?<span>"
   ]
  },
  {
   "cell_type": "markdown",
   "id": "7b4569f9",
   "metadata": {},
   "source": [
    "remove : It is used to remove the first element from the list by the use of \"item\"."
   ]
  },
  {
   "cell_type": "code",
   "execution_count": 144,
   "id": "a5d845aa",
   "metadata": {},
   "outputs": [
    {
     "data": {
      "text/plain": [
       "[43, 2, 3, 5, 6]"
      ]
     },
     "execution_count": 144,
     "metadata": {},
     "output_type": "execute_result"
    }
   ],
   "source": [
    "l=[5,43,2,3,5,6]\n",
    "l.remove(5) #item\n",
    "l"
   ]
  },
  {
   "cell_type": "markdown",
   "id": "872c4170",
   "metadata": {},
   "source": [
    "pop : It is used to remove the element from the list by using the index of the element in the list. If index is not defined, it will automatically pop the last value in the list."
   ]
  },
  {
   "cell_type": "code",
   "execution_count": 145,
   "id": "35d55ee3",
   "metadata": {},
   "outputs": [
    {
     "data": {
      "text/plain": [
       "[5, 43, 2, 3, 5]"
      ]
     },
     "execution_count": 145,
     "metadata": {},
     "output_type": "execute_result"
    }
   ],
   "source": [
    "l=[5,43,2,3,5,6]\n",
    "l.pop(5) #index\n",
    "l"
   ]
  },
  {
   "cell_type": "markdown",
   "id": "e7c56107",
   "metadata": {},
   "source": [
    "#### <span style='color:purple '>33. Difference between indexing and Slicing? <span>"
   ]
  },
  {
   "cell_type": "markdown",
   "id": "d8d68784",
   "metadata": {},
   "source": [
    "indexing : Indexing means referring to an element of an iterable by its position within the iterable.\n",
    "\n",
    "slicing : Slicing means getting a subset of elements from an iterable based on their indices."
   ]
  },
  {
   "cell_type": "markdown",
   "id": "3ade2cc6",
   "metadata": {},
   "source": [
    "#### <span style='color:purple '>34. Difference between sort and sorted?<span>"
   ]
  },
  {
   "cell_type": "markdown",
   "id": "1cb15659",
   "metadata": {},
   "source": [
    "sort() : sort() function is very similar to sorted() but unlike sorted it returns nothing and makes changes to the original sequence. Moreover, sort() is a method of list class and can only be used with lists.\n",
    "\n",
    "sorted() : sorted() method sorts the given sequence either in ascending order or in descending order and always return the a sorted list. This method does not effect the original sequence."
   ]
  },
  {
   "cell_type": "markdown",
   "id": "50bf2368",
   "metadata": {},
   "source": [
    "#### <span style='color:purple '> 35. Difference between reverse and reversed? <span>"
   ]
  },
  {
   "cell_type": "markdown",
   "id": "e8e468e2",
   "metadata": {},
   "source": [
    "reverse() : It does an in-place reversal and does not return a value.\n",
    "\n",
    "reversed() : It does not change the list, but returns a reverse iterable object."
   ]
  },
  {
   "cell_type": "markdown",
   "id": "402c232c",
   "metadata": {},
   "source": [
    "#### <span style='color:purple '> 36. Difference between copy and deep copy? <span>"
   ]
  },
  {
   "cell_type": "markdown",
   "id": "a86a41aa",
   "metadata": {},
   "source": [
    "copy : Also known as shallow copy. This function copies the elements of the lists as references of the original list.\n",
    "\n",
    "deep copy : This function is related to nested lists. It copies all the elements of the lists including the lists of lists, thus a recursive copy."
   ]
  },
  {
   "cell_type": "markdown",
   "id": "81ec3f3c",
   "metadata": {},
   "source": [
    "#### <span style='color:purple '>37. How to check whether the list is empty or not?<span>"
   ]
  },
  {
   "cell_type": "markdown",
   "id": "6050607a",
   "metadata": {},
   "source": [
    "By using the len(list1) function : If the length of the list is 0, it is empty."
   ]
  },
  {
   "cell_type": "markdown",
   "id": "0bfa8945",
   "metadata": {},
   "source": [
    "#### <span style='color:purple '>38. How to concatenate two lists? <span>"
   ]
  },
  {
   "cell_type": "code",
   "execution_count": 146,
   "id": "64ea8ee4",
   "metadata": {},
   "outputs": [
    {
     "name": "stdout",
     "output_type": "stream",
     "text": [
      "[1, 2, 3, 4, 5, 6]\n"
     ]
    }
   ],
   "source": [
    "# By using the arithmetic operator such as \"+\".\n",
    "\n",
    "l1=[1,2,3]\n",
    "l2=[4,5,6]\n",
    "print(l1+l2)"
   ]
  },
  {
   "cell_type": "code",
   "execution_count": 147,
   "id": "3ef9f568",
   "metadata": {},
   "outputs": [
    {
     "name": "stdout",
     "output_type": "stream",
     "text": [
      "[1, 2, 3, [4, 5, 6]]\n"
     ]
    }
   ],
   "source": [
    "# By using the append() function.\n",
    "l1=[1,2,3]\n",
    "l2=[4,5,6]\n",
    "l1.append(l2) #appends given list as last element\n",
    "print(l1)"
   ]
  },
  {
   "cell_type": "code",
   "execution_count": 148,
   "id": "91c2365b",
   "metadata": {},
   "outputs": [
    {
     "name": "stdout",
     "output_type": "stream",
     "text": [
      "[1, 2, 3, 4, 5, 6]\n"
     ]
    }
   ],
   "source": [
    "# By using the extend() function.\n",
    "l1=[1,2,3]\n",
    "l2=[4,5,6]\n",
    "l1.extend(l2)\n",
    "print(l1)"
   ]
  },
  {
   "cell_type": "markdown",
   "id": "19d3c6e6",
   "metadata": {},
   "source": [
    "#### <span style='color:purple '> 39. How to find the occurrences of an element in the python list? <span>"
   ]
  },
  {
   "cell_type": "markdown",
   "id": "cd963d1f",
   "metadata": {},
   "source": [
    "By using the Count function.\n",
    "\n",
    "By using the for loop and the len() function together."
   ]
  },
  {
   "cell_type": "markdown",
   "id": "e3c509ae",
   "metadata": {},
   "source": [
    "#### <span style='color:purple '>40. How to flatten a list in python?<span>"
   ]
  },
  {
   "cell_type": "markdown",
   "id": "ac294568",
   "metadata": {},
   "source": [
    "Using a list comprehension : A Python list comprehension defines a list based on the contents of an existing list. You can customize each element that goes into your new list by specifying conditions or changes within the comprehension.\n",
    "\n",
    "Using a nested for loop : Nested for loop is another way of saying a for loop within a for loop"
   ]
  },
  {
   "cell_type": "code",
   "execution_count": null,
   "id": "e011a6fa",
   "metadata": {},
   "outputs": [],
   "source": [
    "#end"
   ]
  }
 ],
 "metadata": {
  "kernelspec": {
   "display_name": "Python 3 (ipykernel)",
   "language": "python",
   "name": "python3"
  },
  "language_info": {
   "codemirror_mode": {
    "name": "ipython",
    "version": 3
   },
   "file_extension": ".py",
   "mimetype": "text/x-python",
   "name": "python",
   "nbconvert_exporter": "python",
   "pygments_lexer": "ipython3",
   "version": "3.9.7"
  }
 },
 "nbformat": 4,
 "nbformat_minor": 5
}
