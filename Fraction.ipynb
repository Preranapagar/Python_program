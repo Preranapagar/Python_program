{
 "cells": [
  {
   "cell_type": "code",
   "execution_count": 26,
   "id": "c21bd717",
   "metadata": {},
   "outputs": [],
   "source": [
    "class Fraction:\n",
    "    def __init__(self,n,d):\n",
    "        self.num=n\n",
    "        self.den=d\n",
    "        \n",
    "    def __str__(self):\n",
    "        return '{}/{}'.format(self.num,self.den)\n",
    "    \n",
    "    def __add__(self,other):\n",
    "        temp_num= self.num*other.den + self.den*other.num\n",
    "        temp_den= self.den*other.den\n",
    "        \n",
    "        return '{}/{}'.format(temp_num,temp_den)\n",
    "    \n",
    "    def __sub__(self,other):\n",
    "        temp_num= self.num*other.den - self.den*other.num\n",
    "        temp_den= self.den*other.den\n",
    "        \n",
    "        return '{}/{}'.format(temp_num,temp_den)\n",
    "    \n",
    "    def __mul__(self,other):\n",
    "        temp_num= self.num * other.num\n",
    "        temp_den= self.den * other.den\n",
    "        \n",
    "        return '{}/{}'.format(temp_num,temp_den)\n",
    "    \n",
    "    def __truediv__(self,other):\n",
    "        temp_num= self.num * other.den\n",
    "        temp_den= self.den * other.num\n",
    "        \n",
    "        return '{}/{}'.format(temp_num,temp_den)"
   ]
  },
  {
   "cell_type": "code",
   "execution_count": 27,
   "id": "d4d2cd02",
   "metadata": {},
   "outputs": [],
   "source": [
    "x=Fraction(1,2)\n",
    "y=Fraction(2,1)"
   ]
  },
  {
   "cell_type": "code",
   "execution_count": 28,
   "id": "23ffa1d2",
   "metadata": {},
   "outputs": [
    {
     "name": "stdout",
     "output_type": "stream",
     "text": [
      "1/2\n",
      "2/1\n"
     ]
    }
   ],
   "source": [
    "print(x)\n",
    "print(y)\n"
   ]
  },
  {
   "cell_type": "code",
   "execution_count": 29,
   "id": "5915b1ca",
   "metadata": {},
   "outputs": [
    {
     "name": "stdout",
     "output_type": "stream",
     "text": [
      "5/2\n",
      "-3/2\n",
      "2/2\n",
      "1/4\n"
     ]
    }
   ],
   "source": [
    "print(y+x)\n",
    "print(x-y)\n",
    "print(x*y)\n",
    "print(x/y)"
   ]
  }
 ],
 "metadata": {
  "kernelspec": {
   "display_name": "Python 3 (ipykernel)",
   "language": "python",
   "name": "python3"
  },
  "language_info": {
   "codemirror_mode": {
    "name": "ipython",
    "version": 3
   },
   "file_extension": ".py",
   "mimetype": "text/x-python",
   "name": "python",
   "nbconvert_exporter": "python",
   "pygments_lexer": "ipython3",
   "version": "3.9.7"
  }
 },
 "nbformat": 4,
 "nbformat_minor": 5
}
