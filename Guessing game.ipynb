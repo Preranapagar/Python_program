{
 "cells": [
  {
   "cell_type": "code",
   "execution_count": 2,
   "id": "e900177d",
   "metadata": {},
   "outputs": [],
   "source": [
    "import random"
   ]
  },
  {
   "cell_type": "code",
   "execution_count": 5,
   "id": "ad9f0a3d",
   "metadata": {},
   "outputs": [
    {
     "name": "stdout",
     "output_type": "stream",
     "text": [
      "Guess the number:65\n",
      "Guess lower\n",
      "Guess the number:43\n",
      "Guess higher\n",
      "Guess the number:50\n",
      "Guess lower\n",
      "Guess the number:45\n",
      "Guess higher\n",
      "Guess the number:48\n",
      "Guess lower\n",
      "Guess the number:46\n",
      "Correct\n",
      "You took 6 attemts\n"
     ]
    }
   ],
   "source": [
    "Jackpot= random.randint(1,100)\n",
    "\n",
    "guess=int(input('Guess the number:'))\n",
    "\n",
    "counter=1\n",
    "\n",
    "while guess!=Jackpot:\n",
    "    if guess>Jackpot:\n",
    "        print('Guess lower')\n",
    "    else:\n",
    "        print('Guess higher')\n",
    "    guess=int(input('Guess the number:'))\n",
    "    counter+=1\n",
    "    \n",
    "print('Correct')  \n",
    "print('You took',counter,'attemts')"
   ]
  },
  {
   "cell_type": "code",
   "execution_count": null,
   "id": "11d09643",
   "metadata": {},
   "outputs": [],
   "source": [
    "firs_num= input('enter your num')\n",
    "sec_num= input('enter your num')"
   ]
  },
  {
   "cell_type": "code",
   "execution_count": 3,
   "id": "912bee6c",
   "metadata": {},
   "outputs": [
    {
     "name": "stdout",
     "output_type": "stream",
     "text": [
      "32\n"
     ]
    }
   ],
   "source": [
    "print(sec_num)"
   ]
  },
  {
   "cell_type": "code",
   "execution_count": null,
   "id": "9f5ca00d",
   "metadata": {},
   "outputs": [],
   "source": []
  }
 ],
 "metadata": {
  "kernelspec": {
   "display_name": "Python 3 (ipykernel)",
   "language": "python",
   "name": "python3"
  },
  "language_info": {
   "codemirror_mode": {
    "name": "ipython",
    "version": 3
   },
   "file_extension": ".py",
   "mimetype": "text/x-python",
   "name": "python",
   "nbconvert_exporter": "python",
   "pygments_lexer": "ipython3",
   "version": "3.9.7"
  }
 },
 "nbformat": 4,
 "nbformat_minor": 5
}
