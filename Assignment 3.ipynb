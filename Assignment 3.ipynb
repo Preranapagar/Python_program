{
 "cells": [
  {
   "cell_type": "markdown",
   "id": "0f7b1b04",
   "metadata": {},
   "source": [
    "## Assignment: 3"
   ]
  },
  {
   "cell_type": "markdown",
   "id": "8b982ea1",
   "metadata": {},
   "source": [
    "Topic: Patterns and loops"
   ]
  },
  {
   "cell_type": "markdown",
   "id": "252babb4",
   "metadata": {},
   "source": []
  },
  {
   "cell_type": "code",
   "execution_count": null,
   "id": "97ba5e5b",
   "metadata": {},
   "outputs": [],
   "source": []
  }
 ],
 "metadata": {
  "kernelspec": {
   "display_name": "Python 3 (ipykernel)",
   "language": "python",
   "name": "python3"
  },
  "language_info": {
   "codemirror_mode": {
    "name": "ipython",
    "version": 3
   },
   "file_extension": ".py",
   "mimetype": "text/x-python",
   "name": "python",
   "nbconvert_exporter": "python",
   "pygments_lexer": "ipython3",
   "version": "3.9.7"
  }
 },
 "nbformat": 4,
 "nbformat_minor": 5
}
