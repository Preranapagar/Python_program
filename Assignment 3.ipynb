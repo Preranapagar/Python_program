{
 "cells": [
  {
   "cell_type": "markdown",
   "id": "0f7b1b04",
   "metadata": {},
   "source": [
    "## Assignment: 3"
   ]
  },
  {
   "cell_type": "markdown",
   "id": "8b982ea1",
   "metadata": {},
   "source": [
    "Topic: Patterns and loops"
   ]
  },
  {
   "cell_type": "markdown",
   "id": "938bb0b0",
   "metadata": {},
   "source": [
    "Write a Python Program to print below Patterns using For and\n",
    "While Loop:"
   ]
  },
  {
   "cell_type": "markdown",
   "id": "3c7e9944",
   "metadata": {},
   "source": [
    "### Simple Pyramid"
   ]
  },
  {
   "cell_type": "code",
   "execution_count": null,
   "id": "e7e9b53e",
   "metadata": {},
   "outputs": [],
   "source": [
    "\n",
    "*\n",
    "* *\n",
    "* * *\n",
    "* * * *\n",
    "* * * * *"
   ]
  },
  {
   "cell_type": "code",
   "execution_count": 3,
   "id": "f04fb94a",
   "metadata": {},
   "outputs": [
    {
     "name": "stdout",
     "output_type": "stream",
     "text": [
      "5\n",
      "\n",
      "* \n",
      "* * \n",
      "* * * \n",
      "* * * * \n",
      "* * * * * \n"
     ]
    }
   ],
   "source": [
    "#using for loop\n",
    "n=int(input())\n",
    "for i in range(n+1):\n",
    "    print('* '*i)"
   ]
  },
  {
   "cell_type": "code",
   "execution_count": 12,
   "id": "63da37da",
   "metadata": {
    "scrolled": true
   },
   "outputs": [
    {
     "name": "stdout",
     "output_type": "stream",
     "text": [
      "* \r\n",
      "* * \r\n",
      "* * * \r\n",
      "* * * * \r\n",
      "* * * * * \r\n"
     ]
    }
   ],
   "source": [
    "def pypart(n):\n",
    "    for i in range(0,n):\n",
    "        for j in range(0,i+1):\n",
    "            print('*',end=' ')\n",
    "        print('\\r')\n",
    "pypart(5)"
   ]
  },
  {
   "cell_type": "code",
   "execution_count": 15,
   "id": "af2275d5",
   "metadata": {},
   "outputs": [
    {
     "name": "stdout",
     "output_type": "stream",
     "text": [
      "5\n",
      "* \n",
      "* * \n",
      "* * * \n",
      "* * * * \n",
      "* * * * * \n"
     ]
    }
   ],
   "source": [
    "#using list\n",
    "n=int(input())\n",
    "mylist=[]\n",
    "\n",
    "for i in range(1,n+1):\n",
    "    mylist.append('* '*i)\n",
    "print('\\n'.join(mylist))"
   ]
  },
  {
   "cell_type": "code",
   "execution_count": null,
   "id": "287e2791",
   "metadata": {},
   "outputs": [],
   "source": [
    "2:\n",
    "        *\n",
    "      * *\n",
    "    * * *\n",
    "  * * * *\n",
    "* * * * *"
   ]
  },
  {
   "cell_type": "code",
   "execution_count": 36,
   "id": "12d6b3fb",
   "metadata": {},
   "outputs": [
    {
     "name": "stdout",
     "output_type": "stream",
     "text": [
      "5\n",
      "           \n",
      "         * \n",
      "       * * \n",
      "     * * * \n",
      "   * * * * \n",
      " * * * * * \n"
     ]
    }
   ],
   "source": [
    "n=int(input())\n",
    "\n",
    "for i in range(n+1):\n",
    "    print('  '*(n-i),'* '*i)"
   ]
  },
  {
   "cell_type": "code",
   "execution_count": 40,
   "id": "d2d9094d",
   "metadata": {},
   "outputs": [
    {
     "name": "stdout",
     "output_type": "stream",
     "text": [
      "        * \r\n",
      "      * * \r\n",
      "    * * * \r\n",
      "  * * * * \r\n",
      "* * * * * \r\n"
     ]
    }
   ],
   "source": [
    "n=5\n",
    "k=n*2-2\n",
    "\n",
    "for i in range(n):\n",
    "    for j in range(k):\n",
    "        print(end=' ')\n",
    "    k=k-2\n",
    "    for j in range(i+1):\n",
    "        print('*',end=' ')\n",
    "    print('\\r')"
   ]
  },
  {
   "cell_type": "code",
   "execution_count": null,
   "id": "5f90cd2e",
   "metadata": {},
   "outputs": [],
   "source": [
    "3: cristmas tree\n",
    "    *\n",
    "   * *\n",
    "  * * *\n",
    " * * * *\n",
    "* * * * *   "
   ]
  },
  {
   "cell_type": "code",
   "execution_count": 49,
   "id": "6636728a",
   "metadata": {},
   "outputs": [
    {
     "name": "stdout",
     "output_type": "stream",
     "text": [
      "    * \n",
      "   * * \n",
      "  * * * \n",
      " * * * * \n",
      "* * * * * \n"
     ]
    }
   ],
   "source": [
    "\n",
    "n=5\n",
    "for i in range(1,n+1):\n",
    "    print(' '* (n-i)+'* '*i)"
   ]
  },
  {
   "cell_type": "code",
   "execution_count": null,
   "id": "e7d120cf",
   "metadata": {},
   "outputs": [],
   "source": []
  }
 ],
 "metadata": {
  "kernelspec": {
   "display_name": "Python 3 (ipykernel)",
   "language": "python",
   "name": "python3"
  },
  "language_info": {
   "codemirror_mode": {
    "name": "ipython",
    "version": 3
   },
   "file_extension": ".py",
   "mimetype": "text/x-python",
   "name": "python",
   "nbconvert_exporter": "python",
   "pygments_lexer": "ipython3",
   "version": "3.9.7"
  }
 },
 "nbformat": 4,
 "nbformat_minor": 5
}
