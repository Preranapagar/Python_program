{
 "cells": [
  {
   "cell_type": "markdown",
   "id": "f940a45d",
   "metadata": {},
   "source": [
    "#### List:"
   ]
  },
  {
   "cell_type": "markdown",
   "id": "6dfa98b2",
   "metadata": {},
   "source": [
    "It is a collection of items\n",
    "\n",
    "data types >> int,float,str,list,tuple,dict,set etc\n",
    "\n",
    "It is used to store sequence of various data types\n"
   ]
  },
  {
   "cell_type": "markdown",
   "id": "1dd421cf",
   "metadata": {},
   "source": [
    "#### Properties:"
   ]
  },
  {
   "cell_type": "markdown",
   "id": "8f57a686",
   "metadata": {},
   "source": [
    "* Ordered data type\n",
    "* Mutable/changable >> add, delete, update\n",
    "* duplicates are allowed\n",
    "* enclosed by square brackets>> []\n",
    "* list items are comma seperated"
   ]
  },
  {
   "cell_type": "code",
   "execution_count": 1,
   "id": "bf3b342b",
   "metadata": {},
   "outputs": [
    {
     "name": "stdout",
     "output_type": "stream",
     "text": [
      "[2, 3, 4, 5, 6]\n"
     ]
    }
   ],
   "source": [
    "list1=[2,3,4,5,6]\n",
    "print(list1)"
   ]
  },
  {
   "cell_type": "code",
   "execution_count": 2,
   "id": "d1b701ca",
   "metadata": {},
   "outputs": [
    {
     "name": "stdout",
     "output_type": "stream",
     "text": [
      "{43, 'python', 's', 76}\n"
     ]
    }
   ],
   "source": [
    "set1={'python',43,'s',76}\n",
    "print(set1)"
   ]
  },
  {
   "cell_type": "code",
   "execution_count": 3,
   "id": "2572a98e",
   "metadata": {},
   "outputs": [
    {
     "name": "stdout",
     "output_type": "stream",
     "text": [
      "['python', 43, 100, 76]\n"
     ]
    }
   ],
   "source": [
    "var=['python',43,'s',76]\n",
    "var[2]=100\n",
    "print(var)"
   ]
  },
  {
   "cell_type": "code",
   "execution_count": 4,
   "id": "d86e9987",
   "metadata": {},
   "outputs": [
    {
     "data": {
      "text/plain": [
       "list"
      ]
     },
     "execution_count": 4,
     "metadata": {},
     "output_type": "execute_result"
    }
   ],
   "source": [
    "type(var)"
   ]
  },
  {
   "cell_type": "code",
   "execution_count": 6,
   "id": "3f9af746",
   "metadata": {},
   "outputs": [
    {
     "name": "stdout",
     "output_type": "stream",
     "text": [
      "[23, 45, 89.54, 65.3, 'python', 'data', 'science', [34, 45, 21], {65, 78, 55}, {'ram': 12, 'sham': 34}]\n"
     ]
    }
   ],
   "source": [
    "list2=[23,45,89.54,65.3,'python','data','science',[34,45,21],{55,78,65},{'ram':12,'sham':34}]\n",
    "print(list2)"
   ]
  },
  {
   "cell_type": "markdown",
   "id": "2456566d",
   "metadata": {},
   "source": [
    "#### Indexing:"
   ]
  },
  {
   "cell_type": "code",
   "execution_count": 7,
   "id": "58dfcb33",
   "metadata": {},
   "outputs": [
    {
     "data": {
      "text/plain": [
       "5"
      ]
     },
     "execution_count": 7,
     "metadata": {},
     "output_type": "execute_result"
    }
   ],
   "source": [
    "l1=[34,67,53,21,56]\n",
    "len(l1)"
   ]
  },
  {
   "cell_type": "code",
   "execution_count": 8,
   "id": "da952141",
   "metadata": {},
   "outputs": [
    {
     "data": {
      "text/plain": [
       "34"
      ]
     },
     "execution_count": 8,
     "metadata": {},
     "output_type": "execute_result"
    }
   ],
   "source": [
    "l1[0]"
   ]
  },
  {
   "cell_type": "code",
   "execution_count": 9,
   "id": "77ec8a4a",
   "metadata": {},
   "outputs": [
    {
     "ename": "IndexError",
     "evalue": "list index out of range",
     "output_type": "error",
     "traceback": [
      "\u001b[1;31m---------------------------------------------------------------------------\u001b[0m",
      "\u001b[1;31mIndexError\u001b[0m                                Traceback (most recent call last)",
      "\u001b[1;32m~\\AppData\\Local\\Temp\\ipykernel_27408\\1664345190.py\u001b[0m in \u001b[0;36m<cell line: 1>\u001b[1;34m()\u001b[0m\n\u001b[1;32m----> 1\u001b[1;33m \u001b[0ml1\u001b[0m\u001b[1;33m[\u001b[0m\u001b[1;36m5\u001b[0m\u001b[1;33m]\u001b[0m\u001b[1;33m\u001b[0m\u001b[1;33m\u001b[0m\u001b[0m\n\u001b[0m",
      "\u001b[1;31mIndexError\u001b[0m: list index out of range"
     ]
    }
   ],
   "source": [
    "l1[5]"
   ]
  },
  {
   "cell_type": "code",
   "execution_count": null,
   "id": "c158f574",
   "metadata": {},
   "outputs": [],
   "source": [
    "list1 >>        [ 3,  6,  1,  9,  4]\n",
    "+ve index >>      0   1   2   3   4 \n",
    "-ve index >>     -5  -4  -3  -2 -1"
   ]
  },
  {
   "cell_type": "code",
   "execution_count": 10,
   "id": "0a6ff81a",
   "metadata": {},
   "outputs": [
    {
     "name": "stdout",
     "output_type": "stream",
     "text": [
      "6\n",
      "6\n"
     ]
    }
   ],
   "source": [
    "list1 = [3,6,1,9,4]\n",
    "print(list1[-4])\n",
    "print(list1[1])"
   ]
  },
  {
   "cell_type": "markdown",
   "id": "b5a83ce4",
   "metadata": {},
   "source": [
    "#### Slicing:"
   ]
  },
  {
   "cell_type": "code",
   "execution_count": 11,
   "id": "cc35fc02",
   "metadata": {},
   "outputs": [
    {
     "name": "stdout",
     "output_type": "stream",
     "text": [
      "[23, 45, 89.54, 65.3, 'python', 'data', 'science', [34, 45, 21], {65, 78, 55}, {'ram': 12, 'sham': 34}]\n"
     ]
    }
   ],
   "source": [
    "list2=[23,45,89.54,65.3,'python','data','science',[34,45,21],{55,78,65},{'ram':12,'sham':34}]\n",
    "print(list2)"
   ]
  },
  {
   "cell_type": "code",
   "execution_count": 12,
   "id": "41f81eb4",
   "metadata": {},
   "outputs": [
    {
     "data": {
      "text/plain": [
       "[23, 45, 89.54, 65.3]"
      ]
     },
     "execution_count": 12,
     "metadata": {},
     "output_type": "execute_result"
    }
   ],
   "source": [
    "list2[0:4]"
   ]
  },
  {
   "cell_type": "code",
   "execution_count": 13,
   "id": "4fba1d90",
   "metadata": {},
   "outputs": [
    {
     "data": {
      "text/plain": [
       "['python', 'data', 'science', [34, 45, 21]]"
      ]
     },
     "execution_count": 13,
     "metadata": {},
     "output_type": "execute_result"
    }
   ],
   "source": [
    "list2[4:8]"
   ]
  },
  {
   "cell_type": "code",
   "execution_count": 14,
   "id": "4c4750b5",
   "metadata": {},
   "outputs": [
    {
     "data": {
      "text/plain": [
       "[23, 89.54]"
      ]
     },
     "execution_count": 14,
     "metadata": {},
     "output_type": "execute_result"
    }
   ],
   "source": [
    "list2[0:4:2] #step size"
   ]
  },
  {
   "cell_type": "code",
   "execution_count": 15,
   "id": "c32aa3f5",
   "metadata": {},
   "outputs": [
    {
     "data": {
      "text/plain": [
       "[{'ram': 12, 'sham': 34},\n",
       " {55, 65, 78},\n",
       " [34, 45, 21],\n",
       " 'science',\n",
       " 'data',\n",
       " 'python',\n",
       " 65.3,\n",
       " 89.54,\n",
       " 45,\n",
       " 23]"
      ]
     },
     "execution_count": 15,
     "metadata": {},
     "output_type": "execute_result"
    }
   ],
   "source": [
    "list2[::-1] #reverse list"
   ]
  },
  {
   "cell_type": "markdown",
   "id": "c489beb9",
   "metadata": {},
   "source": [
    "#### Check items in list:"
   ]
  },
  {
   "cell_type": "code",
   "execution_count": 16,
   "id": "6b28b177",
   "metadata": {},
   "outputs": [
    {
     "data": {
      "text/plain": [
       "True"
      ]
     },
     "execution_count": 16,
     "metadata": {},
     "output_type": "execute_result"
    }
   ],
   "source": [
    "list1 = [3,6,1,9,4,100,200,300,'python', 'data', 'science','machine','learning']\n",
    "300 in list1"
   ]
  },
  {
   "cell_type": "code",
   "execution_count": 18,
   "id": "95ed59bf",
   "metadata": {},
   "outputs": [
    {
     "data": {
      "text/plain": [
       "True"
      ]
     },
     "execution_count": 18,
     "metadata": {},
     "output_type": "execute_result"
    }
   ],
   "source": [
    "'python' in list1"
   ]
  },
  {
   "cell_type": "code",
   "execution_count": 19,
   "id": "43d3948a",
   "metadata": {},
   "outputs": [
    {
     "data": {
      "text/plain": [
       "False"
      ]
     },
     "execution_count": 19,
     "metadata": {},
     "output_type": "execute_result"
    }
   ],
   "source": [
    "45 in list1"
   ]
  },
  {
   "cell_type": "code",
   "execution_count": 20,
   "id": "077d5a0d",
   "metadata": {},
   "outputs": [
    {
     "name": "stdout",
     "output_type": "stream",
     "text": [
      "Mumbai is in given list\n"
     ]
    }
   ],
   "source": [
    "city_names = ['Pune', \"Mumbai\", \"Delhi\", 'Chennai']\n",
    "city = 'Mumbai'\n",
    "\n",
    "if city in city_names:\n",
    "    print(f'{city} is in given list')\n",
    "    \n",
    "else:\n",
    "    print(f\"{city} is not in given list\")"
   ]
  },
  {
   "cell_type": "markdown",
   "id": "472f3eb2",
   "metadata": {},
   "source": [
    "#### Access list using for loops:"
   ]
  },
  {
   "cell_type": "code",
   "execution_count": 21,
   "id": "fff3b7b4",
   "metadata": {},
   "outputs": [
    {
     "name": "stdout",
     "output_type": "stream",
     "text": [
      "Purva\n",
      "Akku\n",
      "Radha\n",
      "Meera\n"
     ]
    }
   ],
   "source": [
    "names=['Purva','Akku','Radha','Meera']\n",
    "\n",
    "for i in names:\n",
    "    print(i)"
   ]
  },
  {
   "cell_type": "code",
   "execution_count": 22,
   "id": "cea0f417",
   "metadata": {},
   "outputs": [
    {
     "name": "stdout",
     "output_type": "stream",
     "text": [
      "Hello Purva\n",
      "Hello Akku\n",
      "Hello Radha\n",
      "Hello Meera\n"
     ]
    }
   ],
   "source": [
    "for i in names:\n",
    "    print('Hello', i)"
   ]
  },
  {
   "cell_type": "code",
   "execution_count": 23,
   "id": "61287ea4",
   "metadata": {},
   "outputs": [
    {
     "name": "stdout",
     "output_type": "stream",
     "text": [
      "Purva\n",
      "Akku\n",
      "Radha\n",
      "Meera\n"
     ]
    }
   ],
   "source": [
    "for name in names:\n",
    "    print(name)"
   ]
  },
  {
   "cell_type": "code",
   "execution_count": 24,
   "id": "71a935b2",
   "metadata": {},
   "outputs": [
    {
     "name": "stdout",
     "output_type": "stream",
     "text": [
      "0 Purva\n",
      "1 Akku\n",
      "2 Radha\n",
      "3 Meera\n"
     ]
    }
   ],
   "source": [
    "for i,j in enumerate(names):\n",
    "    print(i,j)"
   ]
  },
  {
   "cell_type": "code",
   "execution_count": 26,
   "id": "a29a841f",
   "metadata": {},
   "outputs": [
    {
     "data": {
      "text/plain": [
       "[10, 11, 12, 13, 14]"
      ]
     },
     "execution_count": 26,
     "metadata": {},
     "output_type": "execute_result"
    }
   ],
   "source": [
    "list(range(10,15))"
   ]
  },
  {
   "cell_type": "code",
   "execution_count": 27,
   "id": "71ce08ea",
   "metadata": {},
   "outputs": [
    {
     "data": {
      "text/plain": [
       "[0, 1, 2, 3, 4]"
      ]
     },
     "execution_count": 27,
     "metadata": {},
     "output_type": "execute_result"
    }
   ],
   "source": [
    "list(range(5))"
   ]
  },
  {
   "cell_type": "code",
   "execution_count": 28,
   "id": "d621ea17",
   "metadata": {},
   "outputs": [
    {
     "data": {
      "text/plain": [
       "[0, 5, 10, 15]"
      ]
     },
     "execution_count": 28,
     "metadata": {},
     "output_type": "execute_result"
    }
   ],
   "source": [
    "list(range(0,20,5))"
   ]
  },
  {
   "cell_type": "code",
   "execution_count": 29,
   "id": "5bdb94c3",
   "metadata": {},
   "outputs": [
    {
     "name": "stdout",
     "output_type": "stream",
     "text": [
      "0 Pune\n",
      "1 Mumbai\n",
      "2 Delhi\n",
      "3 Chennai\n",
      "4 Bangalore\n"
     ]
    }
   ],
   "source": [
    "city_names = ['Pune', \"Mumbai\", \"Delhi\", 'Chennai',\"Bangalore\"]\n",
    "\n",
    "for var in range(len(city_names)):  # range(5)\n",
    "    print(var,city_names[var])"
   ]
  },
  {
   "cell_type": "code",
   "execution_count": 30,
   "id": "814257ed",
   "metadata": {},
   "outputs": [
    {
     "name": "stdout",
     "output_type": "stream",
     "text": [
      "city at index 0 is Pune\n",
      "city at index 1 is Mumbai\n",
      "city at index 2 is Delhi\n",
      "city at index 3 is Chennai\n",
      "city at index 4 is Bangalore\n"
     ]
    }
   ],
   "source": [
    "city_names = ['Pune', \"Mumbai\", \"Delhi\", 'Chennai',\"Bangalore\"]\n",
    "\n",
    "for i in range(len(city_names)):  # range(5)\n",
    "    print(f\"city at index {i} is {city_names[i]}\")"
   ]
  },
  {
   "cell_type": "code",
   "execution_count": 31,
   "id": "fea62559",
   "metadata": {},
   "outputs": [
    {
     "name": "stdout",
     "output_type": "stream",
     "text": [
      "Pune PUNE\n",
      "++++++++++++++++++++++++===\n",
      "Mumbai MUMBAI\n",
      "++++++++++++++++++++++++===\n",
      "Delhi DELHI\n",
      "++++++++++++++++++++++++===\n",
      "Chennai CHENNAI\n",
      "++++++++++++++++++++++++===\n",
      "Bangalore BANGALORE\n",
      "++++++++++++++++++++++++===\n"
     ]
    }
   ],
   "source": [
    "city_names = ['Pune', \"Mumbai\", \"Delhi\", 'Chennai',\"Bangalore\"]\n",
    "for city in city_names: # i = 'Bangalore'\n",
    "    print(city,city.upper())\n",
    "    print(\"++++++++++++++++++++++++===\")"
   ]
  },
  {
   "cell_type": "markdown",
   "id": "c5aab0bd",
   "metadata": {},
   "source": [
    "#### Create list"
   ]
  },
  {
   "cell_type": "code",
   "execution_count": 32,
   "id": "93a9a0d3",
   "metadata": {},
   "outputs": [
    {
     "data": {
      "text/plain": [
       "list"
      ]
     },
     "execution_count": 32,
     "metadata": {},
     "output_type": "execute_result"
    }
   ],
   "source": [
    "var=[] #list initialization\n",
    "type(var)"
   ]
  },
  {
   "cell_type": "markdown",
   "id": "e0ddef42",
   "metadata": {},
   "source": [
    "## List Functions"
   ]
  },
  {
   "cell_type": "code",
   "execution_count": null,
   "id": "a43e3b8a",
   "metadata": {},
   "outputs": [],
   "source": [
    "1. append()   # To add only one item\n",
    "2. extend()   # To add list\n",
    "3. insert()   # To add item at specified index\n",
    "4. remove()\n",
    "5. pop()\n",
    "6. clear()\n",
    "7. sort()\n",
    "8. reverse()\n",
    "9. index()\n",
    "10. count()\n",
    "11. copy()\n",
    "\n",
    "12. del keywords\n"
   ]
  },
  {
   "cell_type": "markdown",
   "id": "3fea408f",
   "metadata": {},
   "source": [
    "#### 1.append()"
   ]
  },
  {
   "cell_type": "markdown",
   "id": "dd310493",
   "metadata": {},
   "source": [
    "list.append(value)\n",
    "\n",
    "we can only one item/value at a time\n",
    "\n",
    "item will get added at last index"
   ]
  },
  {
   "cell_type": "code",
   "execution_count": 33,
   "id": "afb3e934",
   "metadata": {},
   "outputs": [
    {
     "name": "stdout",
     "output_type": "stream",
     "text": [
      "[100]\n"
     ]
    }
   ],
   "source": [
    "var=[]\n",
    "var.append(100)\n",
    "print(var)"
   ]
  },
  {
   "cell_type": "code",
   "execution_count": 34,
   "id": "1a347668",
   "metadata": {},
   "outputs": [
    {
     "name": "stdout",
     "output_type": "stream",
     "text": [
      "[]\n",
      "[10]\n",
      "[10, 20]\n",
      "[10, 20, 30]\n"
     ]
    }
   ],
   "source": [
    "numbers=[]\n",
    "print(numbers)\n",
    "\n",
    "numbers.append(10)\n",
    "print(numbers)\n",
    "\n",
    "numbers.append(20)\n",
    "print(numbers)\n",
    "\n",
    "numbers.append(30)\n",
    "print(numbers)"
   ]
  },
  {
   "cell_type": "code",
   "execution_count": 35,
   "id": "c02f2758",
   "metadata": {},
   "outputs": [
    {
     "name": "stdout",
     "output_type": "stream",
     "text": [
      "[10, 20, 30, 'Python']\n"
     ]
    }
   ],
   "source": [
    "numbers.append('Python')\n",
    "print(numbers)"
   ]
  },
  {
   "cell_type": "code",
   "execution_count": 36,
   "id": "40e4a865",
   "metadata": {},
   "outputs": [
    {
     "name": "stdout",
     "output_type": "stream",
     "text": [
      "[10, 20, 30, 'Python', [34, 433]]\n"
     ]
    }
   ],
   "source": [
    "numbers.append([34,433]) #appending item\n",
    "print(numbers)"
   ]
  },
  {
   "cell_type": "markdown",
   "id": "41e5e641",
   "metadata": {},
   "source": [
    "#### 2. extend()"
   ]
  },
  {
   "cell_type": "markdown",
   "id": "7e5c3c2a",
   "metadata": {},
   "source": [
    "list1.extend(list2)"
   ]
  },
  {
   "cell_type": "code",
   "execution_count": 37,
   "id": "527fccf3",
   "metadata": {},
   "outputs": [
    {
     "name": "stdout",
     "output_type": "stream",
     "text": [
      "['A', 'B', 'C', 'D', 'E', 'F']\n"
     ]
    }
   ],
   "source": [
    "list1=['A','B','C']\n",
    "list2=['D','E','F']\n",
    "\n",
    "list1.extend(list2)\n",
    "print(list1)"
   ]
  },
  {
   "cell_type": "code",
   "execution_count": 39,
   "id": "e8f1b477",
   "metadata": {},
   "outputs": [
    {
     "data": {
      "text/plain": [
       "['D', 'E', 'F']"
      ]
     },
     "execution_count": 39,
     "metadata": {},
     "output_type": "execute_result"
    }
   ],
   "source": [
    "list2"
   ]
  },
  {
   "cell_type": "code",
   "execution_count": 41,
   "id": "6440eacc",
   "metadata": {},
   "outputs": [
    {
     "data": {
      "text/plain": [
       "['D', 'E', 'F', 'A', 'B', 'C', 'D', 'E', 'F', 'A', 'B', 'C', 'D', 'E', 'F']"
      ]
     },
     "execution_count": 41,
     "metadata": {},
     "output_type": "execute_result"
    }
   ],
   "source": [
    "list2.extend(list1)\n",
    "list2"
   ]
  },
  {
   "cell_type": "markdown",
   "id": "0ea6cdc1",
   "metadata": {},
   "source": [
    "#### 3. insert()"
   ]
  },
  {
   "cell_type": "markdown",
   "id": "24f8a19c",
   "metadata": {},
   "source": [
    "list.insert(index,value)"
   ]
  },
  {
   "cell_type": "code",
   "execution_count": 42,
   "id": "4d5a67f7",
   "metadata": {},
   "outputs": [
    {
     "name": "stdout",
     "output_type": "stream",
     "text": [
      "['A', 'B', 'C']\n"
     ]
    }
   ],
   "source": [
    "list1=['A','B','C']\n",
    "print(list1)"
   ]
  },
  {
   "cell_type": "code",
   "execution_count": 43,
   "id": "59a031cd",
   "metadata": {},
   "outputs": [
    {
     "name": "stdout",
     "output_type": "stream",
     "text": [
      "['A', 'B', 'K', 'C']\n"
     ]
    }
   ],
   "source": [
    "list1.insert(2,'K')\n",
    "print(list1)"
   ]
  },
  {
   "cell_type": "markdown",
   "id": "57f99881",
   "metadata": {},
   "source": [
    "#### Delete items from list"
   ]
  },
  {
   "cell_type": "markdown",
   "id": "13e61a52",
   "metadata": {},
   "source": [
    "1. remove\n",
    "2. pop\n",
    "3. clear\n",
    "4. del  keyword"
   ]
  },
  {
   "cell_type": "markdown",
   "id": "5aa4ccc4",
   "metadata": {},
   "source": [
    "#### 1. remove"
   ]
  },
  {
   "cell_type": "markdown",
   "id": "1e170c51",
   "metadata": {},
   "source": [
    "list.remove(item)"
   ]
  },
  {
   "cell_type": "code",
   "execution_count": 44,
   "id": "89f2e5b3",
   "metadata": {},
   "outputs": [
    {
     "name": "stdout",
     "output_type": "stream",
     "text": [
      "['A', 'B', 'C']\n"
     ]
    }
   ],
   "source": [
    "list1=['A','B','C']\n",
    "print(list1)"
   ]
  },
  {
   "cell_type": "code",
   "execution_count": 45,
   "id": "db65c364",
   "metadata": {},
   "outputs": [
    {
     "name": "stdout",
     "output_type": "stream",
     "text": [
      "['A', 'B']\n"
     ]
    }
   ],
   "source": [
    "list1.remove('C')\n",
    "print(list1)"
   ]
  },
  {
   "cell_type": "markdown",
   "id": "128c04e1",
   "metadata": {},
   "source": [
    "#### 2. pop"
   ]
  },
  {
   "cell_type": "markdown",
   "id": "24638c84",
   "metadata": {},
   "source": [
    "list.pop(index)\n",
    "\n",
    "default index value is -1"
   ]
  },
  {
   "cell_type": "code",
   "execution_count": 46,
   "id": "6ac1e2c4",
   "metadata": {},
   "outputs": [
    {
     "data": {
      "text/plain": [
       "['D', 'E', 'F', 'A', 'B', 'C', 'D', 'E', 'F', 'A', 'B', 'C', 'D', 'E', 'F']"
      ]
     },
     "execution_count": 46,
     "metadata": {},
     "output_type": "execute_result"
    }
   ],
   "source": [
    "list2"
   ]
  },
  {
   "cell_type": "code",
   "execution_count": 47,
   "id": "2688a424",
   "metadata": {},
   "outputs": [
    {
     "data": {
      "text/plain": [
       "'F'"
      ]
     },
     "execution_count": 47,
     "metadata": {},
     "output_type": "execute_result"
    }
   ],
   "source": [
    "list2.pop()"
   ]
  },
  {
   "cell_type": "code",
   "execution_count": 48,
   "id": "7d4916fa",
   "metadata": {},
   "outputs": [
    {
     "data": {
      "text/plain": [
       "['D', 'E', 'F', 'A', 'B', 'C', 'D', 'E', 'F', 'A', 'B', 'C', 'D', 'E']"
      ]
     },
     "execution_count": 48,
     "metadata": {},
     "output_type": "execute_result"
    }
   ],
   "source": [
    "list2"
   ]
  },
  {
   "cell_type": "code",
   "execution_count": 49,
   "id": "c15a7ad3",
   "metadata": {},
   "outputs": [
    {
     "data": {
      "text/plain": [
       "'E'"
      ]
     },
     "execution_count": 49,
     "metadata": {},
     "output_type": "execute_result"
    }
   ],
   "source": [
    "list2.pop(1)"
   ]
  },
  {
   "cell_type": "code",
   "execution_count": 50,
   "id": "c0ebc5a3",
   "metadata": {},
   "outputs": [
    {
     "data": {
      "text/plain": [
       "['D', 'F', 'A', 'B', 'C', 'D', 'E', 'F', 'A', 'B', 'C', 'D', 'E']"
      ]
     },
     "execution_count": 50,
     "metadata": {},
     "output_type": "execute_result"
    }
   ],
   "source": [
    "list2"
   ]
  },
  {
   "cell_type": "markdown",
   "id": "046c064a",
   "metadata": {},
   "source": [
    "#### 3. clear"
   ]
  },
  {
   "cell_type": "markdown",
   "id": "3b59aee4",
   "metadata": {},
   "source": [
    "to clear the list"
   ]
  },
  {
   "cell_type": "code",
   "execution_count": 51,
   "id": "79727a1e",
   "metadata": {},
   "outputs": [
    {
     "data": {
      "text/plain": [
       "['D', 'F', 'A', 'B', 'C', 'D', 'E', 'F', 'A', 'B', 'C', 'D', 'E']"
      ]
     },
     "execution_count": 51,
     "metadata": {},
     "output_type": "execute_result"
    }
   ],
   "source": [
    "list2"
   ]
  },
  {
   "cell_type": "code",
   "execution_count": 52,
   "id": "b13bab6f",
   "metadata": {},
   "outputs": [],
   "source": [
    "list2.clear()"
   ]
  },
  {
   "cell_type": "code",
   "execution_count": 53,
   "id": "9ce12052",
   "metadata": {},
   "outputs": [
    {
     "data": {
      "text/plain": [
       "[]"
      ]
     },
     "execution_count": 53,
     "metadata": {},
     "output_type": "execute_result"
    }
   ],
   "source": [
    "list2"
   ]
  },
  {
   "cell_type": "markdown",
   "id": "d0dc7e13",
   "metadata": {},
   "source": [
    "#### 4. del keyword"
   ]
  },
  {
   "cell_type": "markdown",
   "id": "c0b9e48a",
   "metadata": {},
   "source": [
    "to delete the list"
   ]
  },
  {
   "cell_type": "code",
   "execution_count": 54,
   "id": "525f431f",
   "metadata": {},
   "outputs": [
    {
     "name": "stdout",
     "output_type": "stream",
     "text": [
      "[]\n"
     ]
    }
   ],
   "source": [
    "print(list2)"
   ]
  },
  {
   "cell_type": "code",
   "execution_count": 55,
   "id": "60608e1a",
   "metadata": {},
   "outputs": [],
   "source": [
    "del list2"
   ]
  },
  {
   "cell_type": "code",
   "execution_count": 56,
   "id": "b6b6dac2",
   "metadata": {},
   "outputs": [
    {
     "ename": "NameError",
     "evalue": "name 'list2' is not defined",
     "output_type": "error",
     "traceback": [
      "\u001b[1;31m---------------------------------------------------------------------------\u001b[0m",
      "\u001b[1;31mNameError\u001b[0m                                 Traceback (most recent call last)",
      "\u001b[1;32m~\\AppData\\Local\\Temp\\ipykernel_27408\\2285325234.py\u001b[0m in \u001b[0;36m<cell line: 1>\u001b[1;34m()\u001b[0m\n\u001b[1;32m----> 1\u001b[1;33m \u001b[0mprint\u001b[0m\u001b[1;33m(\u001b[0m\u001b[0mlist2\u001b[0m\u001b[1;33m)\u001b[0m\u001b[1;33m\u001b[0m\u001b[1;33m\u001b[0m\u001b[0m\n\u001b[0m",
      "\u001b[1;31mNameError\u001b[0m: name 'list2' is not defined"
     ]
    }
   ],
   "source": [
    "print(list2)"
   ]
  },
  {
   "cell_type": "markdown",
   "id": "0a5bd4e4",
   "metadata": {},
   "source": [
    "#### Sorting"
   ]
  },
  {
   "cell_type": "markdown",
   "id": "39e5ab83",
   "metadata": {},
   "source": [
    "#### 1. Ascending order"
   ]
  },
  {
   "cell_type": "code",
   "execution_count": 57,
   "id": "520746f3",
   "metadata": {},
   "outputs": [
    {
     "name": "stdout",
     "output_type": "stream",
     "text": [
      "[54, 87, 97, 43, 2, 34, 65, 32, 12, 65]\n"
     ]
    }
   ],
   "source": [
    "numbers=[54,87,97,43,2,34,65,32,12,65]\n",
    "print(numbers)"
   ]
  },
  {
   "cell_type": "code",
   "execution_count": 58,
   "id": "1af5fd4d",
   "metadata": {},
   "outputs": [],
   "source": [
    "numbers.sort()"
   ]
  },
  {
   "cell_type": "code",
   "execution_count": 59,
   "id": "1cdebc64",
   "metadata": {},
   "outputs": [
    {
     "name": "stdout",
     "output_type": "stream",
     "text": [
      "[2, 12, 32, 34, 43, 54, 65, 65, 87, 97]\n"
     ]
    }
   ],
   "source": [
    "print(numbers)"
   ]
  },
  {
   "cell_type": "code",
   "execution_count": 60,
   "id": "ac21b51b",
   "metadata": {},
   "outputs": [
    {
     "name": "stdout",
     "output_type": "stream",
     "text": [
      "original list ['Pune', 'Mumbai', 'Delhi', 'Chennai', 'Bangalore']\n",
      "sorted list ['Bangalore', 'Chennai', 'Delhi', 'Mumbai', 'Pune']\n"
     ]
    }
   ],
   "source": [
    "city_names = ['Pune', \"Mumbai\", \"Delhi\", 'Chennai',\"Bangalore\"]\n",
    "print('original list',city_names)\n",
    "\n",
    "city_names.sort()\n",
    "print('sorted list',city_names)"
   ]
  },
  {
   "cell_type": "markdown",
   "id": "20dd44b0",
   "metadata": {},
   "source": [
    "#### 2. Descending order"
   ]
  },
  {
   "cell_type": "code",
   "execution_count": 61,
   "id": "75e8fdf3",
   "metadata": {},
   "outputs": [
    {
     "name": "stdout",
     "output_type": "stream",
     "text": [
      "[67, 23, 20, 10, 6, 5, 4, 1]\n"
     ]
    }
   ],
   "source": [
    "numbers = [10,4,20,5,1,23,67,6]\n",
    "numbers.sort()\n",
    "print(numbers[::-1])"
   ]
  },
  {
   "cell_type": "code",
   "execution_count": 62,
   "id": "df9f6605",
   "metadata": {},
   "outputs": [
    {
     "name": "stdout",
     "output_type": "stream",
     "text": [
      "original list ['Pune', 'Mumbai', 'Delhi', 'Chennai', 'Bangalore']\n",
      "sorted list ['Pune', 'Mumbai', 'Delhi', 'Chennai', 'Bangalore']\n"
     ]
    }
   ],
   "source": [
    "city_names = ['Pune', \"Mumbai\", \"Delhi\", 'Chennai',\"Bangalore\"]\n",
    "print('original list',city_names)\n",
    "\n",
    "city_names.sort(reverse=True)\n",
    "print('sorted list',city_names)"
   ]
  },
  {
   "cell_type": "code",
   "execution_count": 63,
   "id": "bd8fb45a",
   "metadata": {},
   "outputs": [
    {
     "name": "stdout",
     "output_type": "stream",
     "text": [
      "original ['B', 'K', 'S', 'T', 'K', 'P']\n",
      "sorted ['B', 'K', 'K', 'P', 'S', 'T']\n"
     ]
    }
   ],
   "source": [
    "letters=['B','K','S','T','K','P']\n",
    "print('original',letters)\n",
    "\n",
    "letters.sort()\n",
    "print('sorted',letters)"
   ]
  },
  {
   "cell_type": "code",
   "execution_count": 64,
   "id": "b1bfcd0d",
   "metadata": {},
   "outputs": [
    {
     "name": "stdout",
     "output_type": "stream",
     "text": [
      "original ['B', 'K', 'S', 'T', 'K', 'P']\n",
      "sorted ['T', 'S', 'P', 'K', 'K', 'B']\n"
     ]
    }
   ],
   "source": [
    "letters=['B','K','S','T','K','P']\n",
    "print('original',letters)\n",
    "\n",
    "letters.sort(reverse=True)\n",
    "print('sorted',letters)"
   ]
  },
  {
   "cell_type": "markdown",
   "id": "0916de37",
   "metadata": {},
   "source": [
    "### Sorted()"
   ]
  },
  {
   "cell_type": "code",
   "execution_count": null,
   "id": "0a2b2a50",
   "metadata": {},
   "outputs": [],
   "source": [
    "built in function\n",
    "sorted(list1)"
   ]
  },
  {
   "cell_type": "code",
   "execution_count": 65,
   "id": "3236f2a2",
   "metadata": {},
   "outputs": [
    {
     "data": {
      "text/plain": [
       "['B', 'K', 'K', 'P', 'S', 'T']"
      ]
     },
     "execution_count": 65,
     "metadata": {},
     "output_type": "execute_result"
    }
   ],
   "source": [
    "letters=['B','K','S','T','K','P']\n",
    "sorted(letters)"
   ]
  },
  {
   "cell_type": "code",
   "execution_count": 66,
   "id": "ecd8ef61",
   "metadata": {},
   "outputs": [
    {
     "data": {
      "text/plain": [
       "[1, 4, 5, 6, 10, 20, 23, 67]"
      ]
     },
     "execution_count": 66,
     "metadata": {},
     "output_type": "execute_result"
    }
   ],
   "source": [
    "numbers = [10,4,20,5,1,23,67,6]\n",
    "sorted(numbers)"
   ]
  },
  {
   "cell_type": "markdown",
   "id": "4516c97d",
   "metadata": {},
   "source": [
    "### Reverse()"
   ]
  },
  {
   "cell_type": "code",
   "execution_count": 69,
   "id": "3bd73a03",
   "metadata": {},
   "outputs": [
    {
     "name": "stdout",
     "output_type": "stream",
     "text": [
      "[6, 67, 23, 1, 5, 20, 4, 10]\n"
     ]
    }
   ],
   "source": [
    "numbers = [10,4,20,5,1,23,67,6]\n",
    "numbers.reverse()\n",
    "print(numbers)"
   ]
  },
  {
   "cell_type": "markdown",
   "id": "53dd4b04",
   "metadata": {},
   "source": [
    "### Reversed()"
   ]
  },
  {
   "cell_type": "code",
   "execution_count": 70,
   "id": "c243da56",
   "metadata": {},
   "outputs": [
    {
     "name": "stdout",
     "output_type": "stream",
     "text": [
      "[10, 4, 20, 5, 1, 23, 67, 6]\n"
     ]
    }
   ],
   "source": [
    "numbers = [10,4,20,5,1,23,67,6]\n",
    "print(numbers)"
   ]
  },
  {
   "cell_type": "code",
   "execution_count": 73,
   "id": "c94bb133",
   "metadata": {},
   "outputs": [
    {
     "name": "stdout",
     "output_type": "stream",
     "text": [
      "(6, 67, 23, 1, 5, 20, 4, 10)\n"
     ]
    }
   ],
   "source": [
    "nw=tuple(reversed(numbers))\n",
    "print(nw)"
   ]
  },
  {
   "cell_type": "markdown",
   "id": "02592f3e",
   "metadata": {},
   "source": [
    "### Index()"
   ]
  },
  {
   "cell_type": "code",
   "execution_count": 74,
   "id": "7c43bf4b",
   "metadata": {},
   "outputs": [
    {
     "data": {
      "text/plain": [
       "1"
      ]
     },
     "execution_count": 74,
     "metadata": {},
     "output_type": "execute_result"
    }
   ],
   "source": [
    "string = 'python'\n",
    "string.index('y')"
   ]
  },
  {
   "cell_type": "code",
   "execution_count": 75,
   "id": "36fee087",
   "metadata": {},
   "outputs": [
    {
     "data": {
      "text/plain": [
       "2"
      ]
     },
     "execution_count": 75,
     "metadata": {},
     "output_type": "execute_result"
    }
   ],
   "source": [
    "sub_names = [\"Phy\",\"Che\",\"math\",\"bio\",'Eng']\n",
    "sub_names.index(\"math\")"
   ]
  },
  {
   "cell_type": "markdown",
   "id": "007cf17c",
   "metadata": {},
   "source": [
    "#### Count()"
   ]
  },
  {
   "cell_type": "code",
   "execution_count": 76,
   "id": "beb9c8c0",
   "metadata": {},
   "outputs": [
    {
     "name": "stdout",
     "output_type": "stream",
     "text": [
      "1\n"
     ]
    }
   ],
   "source": [
    "numbers = [3,4,510,20,30,20,20]\n",
    "cnt = numbers.count(4)\n",
    "print(cnt)"
   ]
  },
  {
   "cell_type": "code",
   "execution_count": 77,
   "id": "1883ae5e",
   "metadata": {},
   "outputs": [
    {
     "data": {
      "text/plain": [
       "2"
      ]
     },
     "execution_count": 77,
     "metadata": {},
     "output_type": "execute_result"
    }
   ],
   "source": [
    "sub_names = [\"Phy\",\"Che\",\"math\",\"bio\",'Eng',\"math\"]\n",
    "sub_names.count(\"math\")"
   ]
  },
  {
   "cell_type": "markdown",
   "id": "14883ece",
   "metadata": {},
   "source": [
    "### copy()"
   ]
  },
  {
   "cell_type": "code",
   "execution_count": 82,
   "id": "a54e2105",
   "metadata": {},
   "outputs": [
    {
     "name": "stdout",
     "output_type": "stream",
     "text": [
      "list1 >> [10, 20, 30, 40, 50]\n",
      "list2 >> [10, 20, 30, 40, 50]\n",
      "list1 >> [10, 20, 30, 40, 50]\n",
      "list2 >> [10, 20, 30, 'data', 50]\n"
     ]
    }
   ],
   "source": [
    "list1 = [10,20,30,40,50]\n",
    "list2 = list1.copy()\n",
    "print(\"list1 >>\",list1)\n",
    "print(\"list2 >>\",list2)\n",
    "\n",
    "list2[3] = 'data'\n",
    "print(\"list1 >>\",list1)\n",
    "print(\"list2 >>\",list2)"
   ]
  },
  {
   "cell_type": "code",
   "execution_count": 83,
   "id": "e09ca2af",
   "metadata": {},
   "outputs": [
    {
     "name": "stdout",
     "output_type": "stream",
     "text": [
      "list1 >> [[10, 20], [30, 40], [50, 60]]\n",
      "list2 >> [[10, 20], [30, 40], [50, 60]]\n",
      "list1 >> [[10, 20], [30, 40], [10000, 60]]\n",
      "list2 >> [[10, 20], [30, 40], [10000, 60]]\n"
     ]
    }
   ],
   "source": [
    "list1 = [[10,20],[30,40],[50,60]]\n",
    "list2 = list1.copy() # Shallow copy\n",
    "print(\"list1 >>\",list1)\n",
    "print(\"list2 >>\",list2)\n",
    "\n",
    "list2[2][0] = 10000\n",
    "print(\"list1 >>\",list1)\n",
    "print(\"list2 >>\",list2)"
   ]
  },
  {
   "cell_type": "code",
   "execution_count": 84,
   "id": "72586aa7",
   "metadata": {},
   "outputs": [
    {
     "name": "stdout",
     "output_type": "stream",
     "text": [
      "l1>> [1, 2, 3]\n",
      "l2>> [1, 2, 3]\n",
      "l1>> [1, 2, 3]\n",
      "l2>> [1, 2, 0]\n"
     ]
    }
   ],
   "source": [
    "l1=[1,2,3]\n",
    "l2=l1.copy()\n",
    "\n",
    "print('l1>>',l1)\n",
    "print('l2>>',l2)\n",
    "\n",
    "l2[2]=0\n",
    "print('l1>>',l1)\n",
    "print('l2>>',l2)\n"
   ]
  },
  {
   "cell_type": "code",
   "execution_count": 85,
   "id": "dcfdf3da",
   "metadata": {},
   "outputs": [
    {
     "name": "stdout",
     "output_type": "stream",
     "text": [
      "l1>> [1, 2, 3]\n",
      "l2>> [1, 2, 3]\n",
      "l1>> [1, 2, 0]\n",
      "l2>> [1, 2, 3]\n"
     ]
    }
   ],
   "source": [
    "l1=[1,2,3]\n",
    "l2=l1.copy()\n",
    "\n",
    "print('l1>>',l1)\n",
    "print('l2>>',l2)\n",
    "\n",
    "l1[2]=0\n",
    "print('l1>>',l1)\n",
    "print('l2>>',l2)"
   ]
  },
  {
   "cell_type": "code",
   "execution_count": 86,
   "id": "1268f81e",
   "metadata": {},
   "outputs": [
    {
     "name": "stdout",
     "output_type": "stream",
     "text": [
      "l1>> [['python'], ['data', 'science'], ['natural', 'language', 'processing']]\n",
      "l2>> [['python'], ['data', 'science'], ['natural', 'language', 'processing']]\n",
      "l1>> [['python'], ['data', 'science'], ['natural', 'data', 'processing']]\n",
      "l2>> [['python'], ['data', 'science'], ['natural', 'data', 'processing']]\n"
     ]
    }
   ],
   "source": [
    "l1=[['python'],['data','science'],['natural','language','processing']]\n",
    "l2=l1.copy()\n",
    "\n",
    "print('l1>>',l1)\n",
    "print('l2>>',l2)\n",
    "\n",
    "l2[2][1]='data'\n",
    "\n",
    "print('l1>>',l1)\n",
    "print('l2>>',l2)"
   ]
  },
  {
   "cell_type": "markdown",
   "id": "74678fe0",
   "metadata": {},
   "source": [
    "### Deepcopy()"
   ]
  },
  {
   "cell_type": "code",
   "execution_count": 90,
   "id": "0e99f518",
   "metadata": {},
   "outputs": [],
   "source": [
    "import copy"
   ]
  },
  {
   "cell_type": "code",
   "execution_count": 88,
   "id": "7938bc5f",
   "metadata": {},
   "outputs": [
    {
     "name": "stdout",
     "output_type": "stream",
     "text": [
      "list1 >> [[10, 20], [30, 40], [50, 60]]\n",
      "list2 >> [[10, 20], [30, 40], [50, 60]]\n",
      "list1 >> [[10, 20], [30, 40], [50, 60]]\n",
      "list2 >> [[10, 20], ['python', 40], [50, 60]]\n"
     ]
    }
   ],
   "source": [
    "list1 = [[10,20],[30,40],[50,60]]\n",
    "list2 = copy.deepcopy(list1)\n",
    "print(\"list1 >>\",list1)\n",
    "print(\"list2 >>\",list2)\n",
    "\n",
    "list2[1][0] = 'python'\n",
    "print(\"list1 >>\",list1)\n",
    "print(\"list2 >>\",list2)"
   ]
  },
  {
   "cell_type": "code",
   "execution_count": 92,
   "id": "730c2203",
   "metadata": {},
   "outputs": [
    {
     "name": "stdout",
     "output_type": "stream",
     "text": [
      "l1>> [['python'], ['data', 'science'], ['natural', 'language', 'processing']]\n",
      "l2>> [['python'], ['data', 'science'], ['natural', 'language', 'processing']]\n",
      "l1>> [['python'], ['data', 'science'], ['natural', 'language', 'processing']]\n",
      "l2>> [['python'], ['data', 'science'], ['natural', 'data', 'processing']]\n"
     ]
    }
   ],
   "source": [
    "l1=[['python'],['data','science'],['natural','language','processing']]\n",
    "l2=copy.deepcopy(l1)\n",
    "\n",
    "print('l1>>',l1)\n",
    "print('l2>>',l2)\n",
    "\n",
    "l2[2][1]='data'\n",
    "\n",
    "print('l1>>',l1)\n",
    "print('l2>>',l2)"
   ]
  },
  {
   "cell_type": "markdown",
   "id": "84b85cd8",
   "metadata": {},
   "source": [
    "## Built in functions"
   ]
  },
  {
   "cell_type": "code",
   "execution_count": null,
   "id": "5b613b85",
   "metadata": {},
   "outputs": [],
   "source": [
    "1. sorted()\n",
    "2. reversed()\n",
    "3. sum()\n",
    "4. min()\n",
    "5. max()"
   ]
  },
  {
   "cell_type": "markdown",
   "id": "b25a2bfb",
   "metadata": {},
   "source": [
    "## Nested list"
   ]
  },
  {
   "cell_type": "code",
   "execution_count": 78,
   "id": "3a969c54",
   "metadata": {},
   "outputs": [
    {
     "name": "stdout",
     "output_type": "stream",
     "text": [
      "[[2, 3, 4], [10, 20, 30], [100, 200, 300]] 3\n"
     ]
    }
   ],
   "source": [
    "list1 = [[2,3,4],[10,20,30],[100,200,300]]\n",
    "print(list1,len(list1))"
   ]
  },
  {
   "cell_type": "code",
   "execution_count": 79,
   "id": "8e31185a",
   "metadata": {},
   "outputs": [
    {
     "name": "stdout",
     "output_type": "stream",
     "text": [
      "[2, 3, 4]\n",
      "[10, 20, 30]\n",
      "[100, 200, 300]\n"
     ]
    }
   ],
   "source": [
    "for item in list1:\n",
    "    print(item)"
   ]
  },
  {
   "cell_type": "code",
   "execution_count": 80,
   "id": "396bbc75",
   "metadata": {},
   "outputs": [
    {
     "data": {
      "text/plain": [
       "[10, 20, 30]"
      ]
     },
     "execution_count": 80,
     "metadata": {},
     "output_type": "execute_result"
    }
   ],
   "source": [
    "list1 = [[2,3,4],[10,20,30],[100,200,300]]\n",
    "list1[1]"
   ]
  },
  {
   "cell_type": "code",
   "execution_count": 81,
   "id": "fb870301",
   "metadata": {},
   "outputs": [
    {
     "data": {
      "text/plain": [
       "30"
      ]
     },
     "execution_count": 81,
     "metadata": {},
     "output_type": "execute_result"
    }
   ],
   "source": [
    "list1 = [[2,3,4],[10,20,30],[100,200,300]]\n",
    "list1[1][2]"
   ]
  },
  {
   "cell_type": "markdown",
   "id": "cdf53181",
   "metadata": {},
   "source": [
    "## <span style='color:purple '> List Constructor </span>"
   ]
  },
  {
   "cell_type": "code",
   "execution_count": 93,
   "id": "5d16ad0c",
   "metadata": {},
   "outputs": [
    {
     "data": {
      "text/plain": [
       "tuple"
      ]
     },
     "execution_count": 93,
     "metadata": {},
     "output_type": "execute_result"
    }
   ],
   "source": [
    "var = (10,20,30,40)\n",
    "type(var)"
   ]
  },
  {
   "cell_type": "code",
   "execution_count": 94,
   "id": "59981e0e",
   "metadata": {},
   "outputs": [
    {
     "name": "stdout",
     "output_type": "stream",
     "text": [
      "(10, 20, 30, 40) <class 'tuple'>\n",
      "[10, 20, 30, 40] <class 'list'>\n"
     ]
    }
   ],
   "source": [
    "var = (10,20,30,40)\n",
    "print(var,type(var))\n",
    "\n",
    "list1 = list(var) # list constructor\n",
    "print(list1,type(list1))"
   ]
  },
  {
   "cell_type": "code",
   "execution_count": 95,
   "id": "c7be199e",
   "metadata": {},
   "outputs": [
    {
     "name": "stdout",
     "output_type": "stream",
     "text": [
      "{40, 10, 20, 30} <class 'set'>\n",
      "[40, 10, 20, 30] <class 'list'>\n"
     ]
    }
   ],
   "source": [
    "set1 = {10,20,30,40,20,30}\n",
    "print(set1,type(set1))\n",
    "\n",
    "list1 = list(set1) # list constructor\n",
    "print(list1,type(list1))"
   ]
  },
  {
   "cell_type": "code",
   "execution_count": 96,
   "id": "7844ba77",
   "metadata": {},
   "outputs": [
    {
     "name": "stdout",
     "output_type": "stream",
     "text": [
      "python <class 'str'>\n",
      "['p', 'y', 't', 'h', 'o', 'n'] <class 'list'>\n"
     ]
    }
   ],
   "source": [
    "str1 = 'python'\n",
    "print(str1,type(str1))\n",
    "\n",
    "list1 = list(str1) # list constructor\n",
    "print(list1,type(list1))"
   ]
  },
  {
   "cell_type": "code",
   "execution_count": 97,
   "id": "913241a2",
   "metadata": {},
   "outputs": [
    {
     "data": {
      "text/plain": [
       "['python', 'and', 'data', 'science']"
      ]
     },
     "execution_count": 97,
     "metadata": {},
     "output_type": "execute_result"
    }
   ],
   "source": [
    "str2 = 'python and data science'\n",
    "str2.split()"
   ]
  },
  {
   "cell_type": "code",
   "execution_count": 98,
   "id": "43544d30",
   "metadata": {},
   "outputs": [
    {
     "data": {
      "text/plain": [
       "'a-b-c-d-e'"
      ]
     },
     "execution_count": 98,
     "metadata": {},
     "output_type": "execute_result"
    }
   ],
   "source": [
    "list1 = ['a', 'b', 'c', 'd', 'e']\n",
    "string = '-'.join(list1)\n",
    "string"
   ]
  },
  {
   "cell_type": "markdown",
   "id": "a198d26d",
   "metadata": {},
   "source": [
    "## List Comprehension"
   ]
  },
  {
   "cell_type": "code",
   "execution_count": null,
   "id": "104eb46d",
   "metadata": {},
   "outputs": [],
   "source": [
    "new_list = [expression for item in list1]\n",
    "new_list = [expression for item in list1 if condition] # condition >> True"
   ]
  },
  {
   "cell_type": "code",
   "execution_count": 99,
   "id": "dc042447",
   "metadata": {},
   "outputs": [
    {
     "name": "stdout",
     "output_type": "stream",
     "text": [
      "even_numbers in list: [4, 6, 8, 10, 34, 36, 20, 100]\n"
     ]
    }
   ],
   "source": [
    "list1 = [4,1,3,6,7,8,10,11,34,36,20,55,77,99,100]\n",
    "even_numbers = []\n",
    "for i in list1:\n",
    "    if i % 2 == 0:\n",
    "        even_numbers.append(i)\n",
    "print('even_numbers in list:',even_numbers)"
   ]
  },
  {
   "cell_type": "code",
   "execution_count": 101,
   "id": "f9b0e361",
   "metadata": {},
   "outputs": [
    {
     "name": "stdout",
     "output_type": "stream",
     "text": [
      "[4, 6, 8, 10, 34, 36, 20, 100]\n"
     ]
    }
   ],
   "source": [
    "list1 = [4,1,3,6,7,8,10,11,34,36,20,55,77,99,100]\n",
    "even_numbers = [i for i in list1 if i%2==0]\n",
    "\n",
    "print(even_numbers)"
   ]
  },
  {
   "cell_type": "code",
   "execution_count": 102,
   "id": "984c78d3",
   "metadata": {},
   "outputs": [
    {
     "name": "stdout",
     "output_type": "stream",
     "text": [
      "['mumbai', 'pune', 'delhi', 'chennai', 'kolkata']\n"
     ]
    }
   ],
   "source": [
    "city_names = ['Mumbai','PUNE',\"Delhi\",'chennai','kolkata']\n",
    "new_city_names = [city.lower() for city in city_names]\n",
    "print(new_city_names)"
   ]
  },
  {
   "cell_type": "code",
   "execution_count": 103,
   "id": "67c0dd47",
   "metadata": {},
   "outputs": [
    {
     "data": {
      "text/plain": [
       "[16, 36, 64, 100]"
      ]
     },
     "execution_count": 103,
     "metadata": {},
     "output_type": "execute_result"
    }
   ],
   "source": [
    "list1 = [4,1,3,6,7,8,10,11,34,36,20,55,77,99,100]\n",
    "even_numbers = [i**2 for i in list1 if i % 2 == 0 and i < 15]\n",
    "even_numbers"
   ]
  },
  {
   "cell_type": "code",
   "execution_count": 104,
   "id": "af3c50df",
   "metadata": {},
   "outputs": [
    {
     "data": {
      "text/plain": [
       "['SUNDAY', 'MONDAY', 'FRIDAY']"
      ]
     },
     "execution_count": 104,
     "metadata": {},
     "output_type": "execute_result"
    }
   ],
   "source": [
    "weekdays = ['Sunday','Monday',\"Tuesday\",'Wednesday','Thursday','Friday','Saturday']\n",
    "result = [day.upper() for day in weekdays if len(day) == 6]\n",
    "result"
   ]
  },
  {
   "cell_type": "code",
   "execution_count": null,
   "id": "33c8f3a9",
   "metadata": {},
   "outputs": [],
   "source": [
    "#end"
   ]
  }
 ],
 "metadata": {
  "kernelspec": {
   "display_name": "Python 3 (ipykernel)",
   "language": "python",
   "name": "python3"
  },
  "language_info": {
   "codemirror_mode": {
    "name": "ipython",
    "version": 3
   },
   "file_extension": ".py",
   "mimetype": "text/x-python",
   "name": "python",
   "nbconvert_exporter": "python",
   "pygments_lexer": "ipython3",
   "version": "3.9.7"
  }
 },
 "nbformat": 4,
 "nbformat_minor": 5
}
