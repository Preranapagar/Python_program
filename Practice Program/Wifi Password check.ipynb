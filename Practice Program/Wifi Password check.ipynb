{
 "cells": [
  {
   "cell_type": "markdown",
   "id": "4d644869",
   "metadata": {},
   "source": [
    "### 1. Checking saved wifi password on your device"
   ]
  },
  {
   "cell_type": "code",
   "execution_count": 1,
   "id": "6eae0596",
   "metadata": {},
   "outputs": [],
   "source": [
    "import subprocess"
   ]
  },
  {
   "cell_type": "code",
   "execution_count": 2,
   "id": "4ffd08ad",
   "metadata": {},
   "outputs": [
    {
     "name": "stdout",
     "output_type": "stream",
     "text": [
      "Bakers Street                 | Prerana333\n",
      "Coffee Nation FC              | Cnfc12345\n",
      "waari 5 ghz                   | waari1618\n",
      "Super Bug 5G                  | 11111111\n",
      "AndroidAP_8795                | manisha@333\n",
      "Redmi Note 7S                 | nppagar1\n",
      "Prerana                       | Peru@123\n",
      "BAKER STREET                  | ppagar@369\n"
     ]
    }
   ],
   "source": [
    "data=subprocess.check_output(['netsh','wlan','show','profiles']).decode('utf-8').split('\\n')\n",
    "\n",
    "profiles=[i.split(\":\")[1][1:-1] for i in data if \"All User Profile\" in i]\n",
    "\n",
    "for i in profiles:\n",
    "    results=subprocess.check_output(['netsh','wlan','show','profiles',i,'key=clear']).decode('utf-8').split('\\n')\n",
    "    \n",
    "    results=[b.split(\":\")[1][1:-1] for b in results if 'Key Content' in b]\n",
    "    \n",
    "    try:\n",
    "        print(\"{:<30}| {:<}\".format(i,results[0]))\n",
    "    except IndexError:\n",
    "        print(\"{:<30}| {:<}\".format(i,\"\"))"
   ]
  },
  {
   "cell_type": "code",
   "execution_count": null,
   "id": "ba49688b",
   "metadata": {},
   "outputs": [],
   "source": []
  }
 ],
 "metadata": {
  "kernelspec": {
   "display_name": "Python 3 (ipykernel)",
   "language": "python",
   "name": "python3"
  },
  "language_info": {
   "codemirror_mode": {
    "name": "ipython",
    "version": 3
   },
   "file_extension": ".py",
   "mimetype": "text/x-python",
   "name": "python",
   "nbconvert_exporter": "python",
   "pygments_lexer": "ipython3",
   "version": "3.9.7"
  }
 },
 "nbformat": 4,
 "nbformat_minor": 5
}
