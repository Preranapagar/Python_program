{
 "cells": [
  {
   "cell_type": "markdown",
   "id": "54ba3a98",
   "metadata": {},
   "source": [
    "# Lambda Function"
   ]
  },
  {
   "cell_type": "code",
   "execution_count": null,
   "id": "c8bbbaa5",
   "metadata": {},
   "outputs": [],
   "source": [
    "It is annonymous function\n",
    "annonymous >> function without name\n",
    "defined by using lambda keyword\n",
    "No need to use return statement\n",
    "\n",
    "The expression is evaluated and returned\n",
    "Short period of function\n",
    "\n",
    "Higher-order function : If function is taking function as an argument"
   ]
  },
  {
   "cell_type": "code",
   "execution_count": null,
   "id": "e6b3e895",
   "metadata": {},
   "outputs": [],
   "source": [
    "map(function_name)\n",
    "filter(function_name)\n",
    "\n",
    "function_name >> lambda function or normal function"
   ]
  },
  {
   "cell_type": "markdown",
   "id": "9d483919",
   "metadata": {},
   "source": [
    "### Sytax"
   ]
  },
  {
   "cell_type": "code",
   "execution_count": null,
   "id": "5e5dbde9",
   "metadata": {},
   "outputs": [],
   "source": [
    "lambda arguments : expression\n",
    "\n",
    "arguments >> Multiple arguments\n",
    "expression >> only one expression"
   ]
  },
  {
   "cell_type": "code",
   "execution_count": 1,
   "id": "4619f58c",
   "metadata": {},
   "outputs": [
    {
     "data": {
      "text/plain": [
       "12"
      ]
     },
     "execution_count": 1,
     "metadata": {},
     "output_type": "execute_result"
    }
   ],
   "source": [
    "def calculation(a,b,c):\n",
    "    add = a + b + c\n",
    "    return add\n",
    "\n",
    "calculation(3,4,5)"
   ]
  },
  {
   "cell_type": "code",
   "execution_count": 2,
   "id": "a0428da2",
   "metadata": {},
   "outputs": [
    {
     "data": {
      "text/plain": [
       "12"
      ]
     },
     "execution_count": 2,
     "metadata": {},
     "output_type": "execute_result"
    }
   ],
   "source": [
    "x=lambda a,b,c :a+b+c\n",
    "x(3,4,5)"
   ]
  },
  {
   "cell_type": "code",
   "execution_count": 3,
   "id": "b046b34d",
   "metadata": {},
   "outputs": [
    {
     "data": {
      "text/plain": [
       "6"
      ]
     },
     "execution_count": 3,
     "metadata": {},
     "output_type": "execute_result"
    }
   ],
   "source": [
    "z=lambda a,b:a*b\n",
    "z(2,3)"
   ]
  },
  {
   "cell_type": "code",
   "execution_count": 5,
   "id": "f8696e63",
   "metadata": {},
   "outputs": [
    {
     "data": {
      "text/plain": [
       "5.0"
      ]
     },
     "execution_count": 5,
     "metadata": {},
     "output_type": "execute_result"
    }
   ],
   "source": [
    "(lambda a,b:a/b)(10,2)\n"
   ]
  },
  {
   "cell_type": "code",
   "execution_count": 6,
   "id": "33ca3449",
   "metadata": {},
   "outputs": [
    {
     "data": {
      "text/plain": [
       "20"
      ]
     },
     "execution_count": 6,
     "metadata": {},
     "output_type": "execute_result"
    }
   ],
   "source": [
    "x = lambda  *args: sum(args)\n",
    "x(2,3,4,5,6)"
   ]
  },
  {
   "cell_type": "code",
   "execution_count": 7,
   "id": "66371924",
   "metadata": {},
   "outputs": [
    {
     "data": {
      "text/plain": [
       "50"
      ]
     },
     "execution_count": 7,
     "metadata": {},
     "output_type": "execute_result"
    }
   ],
   "source": [
    "x = lambda  **kwargs: sum(kwargs.values())\n",
    "x(n1 = 5, n2 = 10, n3 = 15, n4 = 20 )"
   ]
  },
  {
   "cell_type": "code",
   "execution_count": 11,
   "id": "70df882a",
   "metadata": {},
   "outputs": [],
   "source": [
    "x = lambda a,b : print('a is smaller than b') if a < b else print('a is greater than or equal to b')"
   ]
  },
  {
   "cell_type": "code",
   "execution_count": 12,
   "id": "02fe03f9",
   "metadata": {},
   "outputs": [
    {
     "name": "stdout",
     "output_type": "stream",
     "text": [
      "a is smaller than b\n"
     ]
    }
   ],
   "source": [
    "x(5,8)"
   ]
  },
  {
   "cell_type": "code",
   "execution_count": 13,
   "id": "c3a9234c",
   "metadata": {},
   "outputs": [
    {
     "name": "stdout",
     "output_type": "stream",
     "text": [
      "12 is smaller than 44\n"
     ]
    }
   ],
   "source": [
    "compare_nums=lambda a,b:print(f'{a} is smaller than {b}') if a<b else print(f'{b} is smaller than {a}')\n",
    "compare_nums(12,44)"
   ]
  },
  {
   "cell_type": "code",
   "execution_count": 14,
   "id": "d42d3ff4",
   "metadata": {},
   "outputs": [
    {
     "data": {
      "text/plain": [
       "[0.1, 0.2, 0.3, 0.4, 0.5, 0.6, 0.7, 0.8]"
      ]
     },
     "execution_count": 14,
     "metadata": {},
     "output_type": "execute_result"
    }
   ],
   "source": [
    "list1=[1,2,3,4,5,6,7,8]\n",
    "result=list(map(lambda x:x/10,list1))\n",
    "result"
   ]
  },
  {
   "cell_type": "code",
   "execution_count": null,
   "id": "367747e5",
   "metadata": {},
   "outputs": [],
   "source": [
    "#end"
   ]
  }
 ],
 "metadata": {
  "kernelspec": {
   "display_name": "Python 3 (ipykernel)",
   "language": "python",
   "name": "python3"
  },
  "language_info": {
   "codemirror_mode": {
    "name": "ipython",
    "version": 3
   },
   "file_extension": ".py",
   "mimetype": "text/x-python",
   "name": "python",
   "nbconvert_exporter": "python",
   "pygments_lexer": "ipython3",
   "version": "3.9.7"
  }
 },
 "nbformat": 4,
 "nbformat_minor": 5
}
