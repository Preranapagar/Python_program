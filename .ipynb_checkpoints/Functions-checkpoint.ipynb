{
 "cells": [
  {
   "cell_type": "markdown",
   "id": "feaff974",
   "metadata": {},
   "source": [
    "# Functions"
   ]
  },
  {
   "cell_type": "code",
   "execution_count": null,
   "id": "fb2d9286",
   "metadata": {},
   "outputs": [],
   "source": [
    "Functions are an oraganized block of reusable code\n",
    "\n",
    "Functions will execute only when it is called\n",
    "\n",
    "my_fun() # Function Calling\n",
    "my_fun(arg1,arg2) # Function Calling\n",
    "\n",
    "def keyword is used to define a function\n",
    "\n",
    "Function Name should follow identifiers rules"
   ]
  },
  {
   "cell_type": "markdown",
   "id": "fc5a4885",
   "metadata": {},
   "source": [
    "### Function syntax"
   ]
  },
  {
   "cell_type": "code",
   "execution_count": 1,
   "id": "ea0103cd",
   "metadata": {},
   "outputs": [
    {
     "name": "stdout",
     "output_type": "stream",
     "text": [
      "statement1\n",
      "statement2\n"
     ]
    }
   ],
   "source": [
    "def my_funtion():  # Defining a function\n",
    "    print(\"statement1\")     # Code block\n",
    "    print(\"statement2\")\n",
    "    \n",
    "my_funtion()      # Function Calling\n",
    "   "
   ]
  },
  {
   "cell_type": "code",
   "execution_count": 2,
   "id": "50637ee5",
   "metadata": {},
   "outputs": [
    {
     "name": "stdout",
     "output_type": "stream",
     "text": [
      "******************************\n",
      "We are learning Python Functions\n",
      "We are using user defined function\n",
      "$$$$$$$$$$$$$$$$$$$$$$$$$$$$$$\n",
      "\n",
      "******************************\n",
      "We are learning Python Functions\n",
      "We are using user defined function\n",
      "$$$$$$$$$$$$$$$$$$$$$$$$$$$$$$\n",
      "\n"
     ]
    }
   ],
   "source": [
    "def my_fun():\n",
    "    print(\"*\"*30)\n",
    "    print(\"We are learning Python Functions\")\n",
    "    print(\"We are using user defined function\")\n",
    "    print(\"$\"*30)\n",
    "    print()\n",
    "    \n",
    "my_fun()\n",
    "my_fun()"
   ]
  },
  {
   "cell_type": "code",
   "execution_count": 3,
   "id": "125f1e1a",
   "metadata": {},
   "outputs": [
    {
     "name": "stdout",
     "output_type": "stream",
     "text": [
      "a == 4, b == 6, c == 8\n",
      "Average of 3 numbers is : 6.0\n",
      "\n",
      "a == 14, b == 58, c == 18\n",
      "Average of 3 numbers is : 30.0\n",
      "\n",
      "a == 144, b == 58, c == 18\n",
      "Average of 3 numbers is : 73.33333333333333\n",
      "\n",
      "a == 146, b == 58, c == 18\n",
      "Average of 3 numbers is : 74.0\n",
      "\n",
      "a == 4, b == 58, c == 18\n",
      "Average of 3 numbers is : 26.666666666666668\n",
      "\n",
      "a == 14, b == 8, c == 18\n",
      "Average of 3 numbers is : 13.333333333333334\n",
      "\n"
     ]
    }
   ],
   "source": [
    "def get_average(a,b,c):\n",
    "    print(\"a == {}, b == {}, c == {}\".format(a,b,c))\n",
    "    avg = (a+b+c)/3\n",
    "    print(\"Average of 3 numbers is :\",avg)\n",
    "    print()\n",
    "    \n",
    "get_average(4,6,8)\n",
    "get_average(14,58,18)\n",
    "get_average(144,58,18)\n",
    "get_average(146,58,18)\n",
    "get_average(4,58,18)\n",
    "get_average(14,8,18)"
   ]
  },
  {
   "cell_type": "code",
   "execution_count": 4,
   "id": "930845c9",
   "metadata": {},
   "outputs": [
    {
     "name": "stdout",
     "output_type": "stream",
     "text": [
      "x == 10, y == 5\n"
     ]
    }
   ],
   "source": [
    "def my_function(x,y):\n",
    "    print(f\"x == {x}, y == {y}\")\n",
    "    \n",
    "my_function(10, 5)"
   ]
  },
  {
   "cell_type": "code",
   "execution_count": 5,
   "id": "6ed9f12c",
   "metadata": {},
   "outputs": [
    {
     "ename": "TypeError",
     "evalue": "my_function() missing 1 required positional argument: 'y'",
     "output_type": "error",
     "traceback": [
      "\u001b[1;31m---------------------------------------------------------------------------\u001b[0m",
      "\u001b[1;31mTypeError\u001b[0m                                 Traceback (most recent call last)",
      "\u001b[1;32m~\\AppData\\Local\\Temp\\ipykernel_17292\\1220612807.py\u001b[0m in \u001b[0;36m<cell line: 4>\u001b[1;34m()\u001b[0m\n\u001b[0;32m      2\u001b[0m     \u001b[0mprint\u001b[0m\u001b[1;33m(\u001b[0m\u001b[1;34mf\"x == {x}, y == {y}\"\u001b[0m\u001b[1;33m)\u001b[0m\u001b[1;33m\u001b[0m\u001b[1;33m\u001b[0m\u001b[0m\n\u001b[0;32m      3\u001b[0m \u001b[1;33m\u001b[0m\u001b[0m\n\u001b[1;32m----> 4\u001b[1;33m \u001b[0mmy_function\u001b[0m\u001b[1;33m(\u001b[0m\u001b[1;36m10\u001b[0m\u001b[1;33m)\u001b[0m\u001b[1;33m\u001b[0m\u001b[1;33m\u001b[0m\u001b[0m\n\u001b[0m",
      "\u001b[1;31mTypeError\u001b[0m: my_function() missing 1 required positional argument: 'y'"
     ]
    }
   ],
   "source": [
    "def my_function(x,y):\n",
    "    print(f\"x == {x}, y == {y}\")\n",
    "    \n",
    "my_function(10)"
   ]
  },
  {
   "cell_type": "code",
   "execution_count": 6,
   "id": "1553e43a",
   "metadata": {},
   "outputs": [
    {
     "ename": "TypeError",
     "evalue": "my_function() takes 2 positional arguments but 3 were given",
     "output_type": "error",
     "traceback": [
      "\u001b[1;31m---------------------------------------------------------------------------\u001b[0m",
      "\u001b[1;31mTypeError\u001b[0m                                 Traceback (most recent call last)",
      "\u001b[1;32m~\\AppData\\Local\\Temp\\ipykernel_17292\\1965910652.py\u001b[0m in \u001b[0;36m<cell line: 4>\u001b[1;34m()\u001b[0m\n\u001b[0;32m      2\u001b[0m     \u001b[0mprint\u001b[0m\u001b[1;33m(\u001b[0m\u001b[1;34mf\"x == {x}, y == {y}\"\u001b[0m\u001b[1;33m)\u001b[0m\u001b[1;33m\u001b[0m\u001b[1;33m\u001b[0m\u001b[0m\n\u001b[0;32m      3\u001b[0m \u001b[1;33m\u001b[0m\u001b[0m\n\u001b[1;32m----> 4\u001b[1;33m \u001b[0mmy_function\u001b[0m\u001b[1;33m(\u001b[0m\u001b[1;36m10\u001b[0m\u001b[1;33m,\u001b[0m\u001b[1;36m20\u001b[0m\u001b[1;33m,\u001b[0m\u001b[1;36m30\u001b[0m\u001b[1;33m)\u001b[0m\u001b[1;33m\u001b[0m\u001b[1;33m\u001b[0m\u001b[0m\n\u001b[0m",
      "\u001b[1;31mTypeError\u001b[0m: my_function() takes 2 positional arguments but 3 were given"
     ]
    }
   ],
   "source": [
    "def my_function(x,y):\n",
    "    print(f\"x == {x}, y == {y}\")\n",
    "    \n",
    "my_function(10,20,30)"
   ]
  },
  {
   "cell_type": "code",
   "execution_count": null,
   "id": "295ccabf",
   "metadata": {},
   "outputs": [],
   "source": [
    "Number of paramter == Number of Arguments"
   ]
  },
  {
   "cell_type": "code",
   "execution_count": 7,
   "id": "f7e3f9e5",
   "metadata": {},
   "outputs": [
    {
     "data": {
      "text/plain": [
       "[1, 4, 9, 16, 25, 676, 729, 784, 841, 900]"
      ]
     },
     "execution_count": 7,
     "metadata": {},
     "output_type": "execute_result"
    }
   ],
   "source": [
    "#Square of first 5 and last 5 numbers\n",
    "\n",
    "def sqr_list(start,end):\n",
    "    list1=[i**2 for i in range(start,start+5)]\n",
    "    list2=[i**2 for i in range(end-4,end+1)]\n",
    "    \n",
    "    return list1+list2\n",
    "\n",
    "sqr_list(1,30)"
   ]
  },
  {
   "cell_type": "markdown",
   "id": "1e531d31",
   "metadata": {},
   "source": [
    "### Return statement"
   ]
  },
  {
   "cell_type": "code",
   "execution_count": 9,
   "id": "09cbe909",
   "metadata": {},
   "outputs": [
    {
     "name": "stdout",
     "output_type": "stream",
     "text": [
      "[25, 36, 49, 64, 81, 441, 484, 529, 576, 625]\n"
     ]
    }
   ],
   "source": [
    "def sqrList(start, end):\n",
    "    list1 = [num ** 2 for num in range(start, start + 5)]\n",
    "    list2 = [num ** 2 for num in range(end - 4, end + 1)]\n",
    "    list3 = list1 + list2\n",
    "    print(list3)\n",
    "\n",
    "sqrList(5, 25)"
   ]
  },
  {
   "cell_type": "code",
   "execution_count": 10,
   "id": "dd07e1e1",
   "metadata": {},
   "outputs": [
    {
     "name": "stdout",
     "output_type": "stream",
     "text": [
      "[25, 36, 49, 64, 81, 441, 484, 529, 576, 625]\n",
      "None\n"
     ]
    }
   ],
   "source": [
    "def sqrList(start, end):\n",
    "    list1 = [num ** 2 for num in range(start, start + 5)]\n",
    "    list2 = [num ** 2 for num in range(end - 4, end + 1)]\n",
    "    list3 = list1 + list2\n",
    "    print(list3)\n",
    "\n",
    "var=sqrList(5, 25)\n",
    "print(var)"
   ]
  },
  {
   "cell_type": "code",
   "execution_count": 11,
   "id": "bb836529",
   "metadata": {},
   "outputs": [
    {
     "name": "stdout",
     "output_type": "stream",
     "text": [
      "[25, 36, 49, 64, 81, 441, 484, 529, 576, 625]\n"
     ]
    }
   ],
   "source": [
    "def sqrList(start, end):\n",
    "    list1 = [num ** 2 for num in range(start, start + 5)]\n",
    "    list2 = [num ** 2 for num in range(end - 4, end + 1)]\n",
    "    list3 = list1 + list2\n",
    "    return list3\n",
    "\n",
    "var=sqrList(5, 25)\n",
    "print(var)"
   ]
  },
  {
   "cell_type": "code",
   "execution_count": 13,
   "id": "1978a370",
   "metadata": {},
   "outputs": [
    {
     "name": "stdout",
     "output_type": "stream",
     "text": [
      "[25, 36, 49, 64, 81, 441, 484, 529, 576, 625]\n",
      "success\n"
     ]
    }
   ],
   "source": [
    "def sqrList(start, end):\n",
    "    list1 = [num ** 2 for num in range(start, start + 5)]\n",
    "    list2 = [num ** 2 for num in range(end - 4, end + 1)]\n",
    "    list3 = list1 + list2\n",
    "    print(list3)\n",
    "    return 'success'\n",
    "\n",
    "var=sqrList(5, 25)\n",
    "print(var)"
   ]
  },
  {
   "cell_type": "code",
   "execution_count": 14,
   "id": "a9ed8b2e",
   "metadata": {},
   "outputs": [
    {
     "name": "stdout",
     "output_type": "stream",
     "text": [
      "iterable >> [3, 4, 5, 6]\n"
     ]
    },
    {
     "data": {
      "text/plain": [
       "18"
      ]
     },
     "execution_count": 14,
     "metadata": {},
     "output_type": "execute_result"
    }
   ],
   "source": [
    "def get_sum(iterable):\n",
    "    print('iterable >>',iterable)\n",
    "    sum1 = 0\n",
    "    for i in iterable:\n",
    "        sum1 += i \n",
    "    return sum1\n",
    "\n",
    "get_sum([3,4,5,6])"
   ]
  },
  {
   "cell_type": "markdown",
   "id": "9870922c",
   "metadata": {},
   "source": [
    "### pass statement"
   ]
  },
  {
   "cell_type": "code",
   "execution_count": null,
   "id": "c0a5dadf",
   "metadata": {},
   "outputs": [],
   "source": [
    "Used to avoid an errors"
   ]
  },
  {
   "cell_type": "code",
   "execution_count": 15,
   "id": "60de5fd7",
   "metadata": {},
   "outputs": [
    {
     "name": "stdout",
     "output_type": "stream",
     "text": [
      "iterable >> [3, 4, 5, 6]\n"
     ]
    }
   ],
   "source": [
    "def get_sum(iterable):\n",
    "    print('iterable >>',iterable)\n",
    "    pass\n",
    "\n",
    "get_sum([3,4,5,6])"
   ]
  },
  {
   "cell_type": "code",
   "execution_count": 16,
   "id": "7a43c67a",
   "metadata": {},
   "outputs": [
    {
     "name": "stdout",
     "output_type": "stream",
     "text": [
      "0 1 1 2 3 5 8 13 21 34 "
     ]
    }
   ],
   "source": [
    "def fibonacci(n):\n",
    "    first=0\n",
    "    second=1\n",
    "    for i in range(0,n):\n",
    "        print(first,end=' ')\n",
    "        new=first+second\n",
    "        first=second\n",
    "        second=new\n",
    "        \n",
    "        \n",
    "        \n",
    "# print(f\"Fibonacci series of {n} is\")\n",
    "\n",
    "\n",
    "# n=int(input(\"Entered no for fibonacci series = \"))\n",
    "fibonacci(10)"
   ]
  },
  {
   "cell_type": "code",
   "execution_count": 17,
   "id": "24d29c10",
   "metadata": {},
   "outputs": [
    {
     "data": {
      "text/plain": [
       "[0, 1, 1, 2, 3, 5, 8, 13, 21, 34]"
      ]
     },
     "execution_count": 17,
     "metadata": {},
     "output_type": "execute_result"
    }
   ],
   "source": [
    "def fibo_series(num):\n",
    "    list1 = []\n",
    "    list1.append(0)\n",
    "    list1.append(1)\n",
    "    for i in range(0,num-2):\n",
    "        new = list1[i]+list1[i+1]\n",
    "        list1.append(new)\n",
    "    return list1\n",
    "\n",
    "\n",
    "series = fibo_series(10)\n",
    "series"
   ]
  },
  {
   "cell_type": "code",
   "execution_count": 18,
   "id": "181f1833",
   "metadata": {},
   "outputs": [
    {
     "data": {
      "text/plain": [
       "2"
      ]
     },
     "execution_count": 18,
     "metadata": {},
     "output_type": "execute_result"
    }
   ],
   "source": [
    "def d_min(f):\n",
    "    cur_min = f[0]\n",
    "    for num in f:\n",
    "        if num < cur_min:\n",
    "            cur_min = num\n",
    "    return cur_min\n",
    "\n",
    "d_min([3,4,5,2,7])"
   ]
  },
  {
   "cell_type": "markdown",
   "id": "ae31708f",
   "metadata": {},
   "source": [
    "### Types of arguments"
   ]
  },
  {
   "cell_type": "code",
   "execution_count": null,
   "id": "9aed1b03",
   "metadata": {},
   "outputs": [],
   "source": [
    "1. Positional Argument\n",
    "2. Default Argument(Keyword argument)\n",
    "3. Arbitrary Positional Argument(*)\n",
    "4. Arbitrary Keyword argument(**)"
   ]
  },
  {
   "cell_type": "markdown",
   "id": "2eb045c5",
   "metadata": {},
   "source": [
    "## 1. Positional Argument"
   ]
  },
  {
   "cell_type": "code",
   "execution_count": null,
   "id": "67134839",
   "metadata": {},
   "outputs": [],
   "source": [
    "Number of positional argument = Number of paramters"
   ]
  }
 ],
 "metadata": {
  "kernelspec": {
   "display_name": "Python 3 (ipykernel)",
   "language": "python",
   "name": "python3"
  },
  "language_info": {
   "codemirror_mode": {
    "name": "ipython",
    "version": 3
   },
   "file_extension": ".py",
   "mimetype": "text/x-python",
   "name": "python",
   "nbconvert_exporter": "python",
   "pygments_lexer": "ipython3",
   "version": "3.9.7"
  }
 },
 "nbformat": 4,
 "nbformat_minor": 5
}
