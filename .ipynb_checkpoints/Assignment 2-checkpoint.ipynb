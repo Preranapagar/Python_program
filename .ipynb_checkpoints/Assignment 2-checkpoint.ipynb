{
 "cells": [
  {
   "cell_type": "markdown",
   "id": "f95e0bc1",
   "metadata": {},
   "source": [
    "## Assignment: 2"
   ]
  },
  {
   "cell_type": "markdown",
   "id": "028e2582",
   "metadata": {},
   "source": [
    "Topic: List and Tuples"
   ]
  },
  {
   "cell_type": "markdown",
   "id": "634c0117",
   "metadata": {},
   "source": [
    "#### <span style='color:purple '>1. What is a List?<span>"
   ]
  },
  {
   "cell_type": "markdown",
   "id": "a02e4206",
   "metadata": {},
   "source": [
    "#### <span style='color:purple '>2. What is a Tuple?<span>"
   ]
  },
  {
   "cell_type": "markdown",
   "id": "2d0910f5",
   "metadata": {},
   "source": [
    "#### <span style='color:purple '>3. What is the difference between List and Tuple? <span>"
   ]
  },
  {
   "cell_type": "markdown",
   "id": "e686088b",
   "metadata": {},
   "source": [
    "#### <span style='color:purple '>4. Python Program to find the largest element in the list <span>"
   ]
  },
  {
   "cell_type": "markdown",
   "id": "cc41eb50",
   "metadata": {},
   "source": [
    "#### <span style='color:purple '>5. Python program to interchange first and last elements in a list.<span>"
   ]
  },
  {
   "cell_type": "markdown",
   "id": "93e539a1",
   "metadata": {},
   "source": [
    "#### <span style='color:purple '>7. Python program to Reverse a List <span>"
   ]
  },
  {
   "cell_type": "markdown",
   "id": "ec88b3d0",
   "metadata": {},
   "source": [
    "#### <span style='color:purple '>8. Python program to count occurrences of an element in a list <span>"
   ]
  },
  {
   "cell_type": "markdown",
   "id": "b3d75fa5",
   "metadata": {},
   "source": [
    "#### <span style='color:purple '>9. Python program to find the sum of elements in a list <span>"
   ]
  },
  {
   "cell_type": "markdown",
   "id": "8dccfdd9",
   "metadata": {},
   "source": [
    "#### <span style='color:purple '>10. Python program to Multiply all numbers in the list <span>"
   ]
  },
  {
   "cell_type": "markdown",
   "id": "601b8154",
   "metadata": {},
   "source": [
    "#### <span style='color:purple '>11. What are the ways to find the length of a list <span>"
   ]
  },
  {
   "cell_type": "markdown",
   "id": "d794196a",
   "metadata": {},
   "source": [
    "#### <span style='color:purple '>12. Python program to find the smallest and largest number in a list (Without min-max function) <span>"
   ]
  },
  {
   "cell_type": "markdown",
   "id": "1ea51ebf",
   "metadata": {},
   "source": [
    "#### <span style='color:purple '>13. Python Program to find the area of a circle <span>"
   ]
  },
  {
   "cell_type": "markdown",
   "id": "7a156d22",
   "metadata": {},
   "source": [
    "#### <span style='color:purple '>14. Take inputs from the user to make a list. Again take one input from the user and search it in the list and delete that element, if found. Iterate over a list using for loop.<span>"
   ]
  },
  {
   "cell_type": "markdown",
   "id": "4a394df6",
   "metadata": {},
   "source": [
    "#### <span style='color:purple '>15. You are given a list of integer elements. Make a new list that will store a square of elements of the previous list. (With and without list comprehension) <span>\n",
    "i. Input_list = [2,5,6,12]\n",
    "ii. Output_list = [4,25,36,144]\n"
   ]
  },
  {
   "cell_type": "markdown",
   "id": "401e0d26",
   "metadata": {},
   "source": [
    "#### <span style='color:purple '>16. WAP to create two lists, one containing all even numbers and the other containing all odd numbers between 0 to 151 <span>"
   ]
  },
  {
   "cell_type": "markdown",
   "id": "3128eb09",
   "metadata": {},
   "source": [
    "#### <span style='color:purple '>17. Python program to Count Even and Odd numbers in a List<span>"
   ]
  },
  {
   "cell_type": "markdown",
   "id": "381f5e92",
   "metadata": {},
   "source": [
    "#### <span style='color:purple '>18. WAP to make new lists, containing only numbers which are divisible by 4, 6, 8, 10, 3, 5, 7, and 9 in separate lists for range(0,151) <span>"
   ]
  },
  {
   "cell_type": "markdown",
   "id": "1c75e26c",
   "metadata": {},
   "source": [
    "#### <span style='color:purple '>19. From a list containing ints, strings, and floats, make three lists to store them separately.<span>"
   ]
  },
  {
   "cell_type": "markdown",
   "id": "6fb7e115",
   "metadata": {},
   "source": [
    "#### <span style='color:purple '>20. What’s The Difference Between The Python append() and extend() Methods? <span>"
   ]
  },
  {
   "cell_type": "markdown",
   "id": "0e652f01",
   "metadata": {},
   "source": [
    "#### <span style='color:purple '>21. Write a Python program to append a list to the second list <span>"
   ]
  },
  {
   "cell_type": "markdown",
   "id": "b69ed708",
   "metadata": {},
   "source": [
    "#### <span style='color:purple '> 22. Write a Python program to find the third-largest number in a list<span>"
   ]
  },
  {
   "cell_type": "markdown",
   "id": "d088e629",
   "metadata": {},
   "source": [
    "#### <span style='color:purple '>23. Write a Python program to get the frequency of the elements in a list.<span>"
   ]
  },
  {
   "cell_type": "markdown",
   "id": "4337c64b",
   "metadata": {},
   "source": [
    "#### <span style='color:purple '>24. Write a Python program to check whether a list contains a sublist <span>"
   ]
  },
  {
   "cell_type": "markdown",
   "id": "05bd25df",
   "metadata": {},
   "source": [
    "#### <span style='color:purple '>25. Write a Python program to generate all sublists of a list <span>"
   ]
  },
  {
   "cell_type": "markdown",
   "id": "f7da6d2f",
   "metadata": {},
   "source": [
    "#### <span style='color:purple '>26. Write a Python program to find common items from two lists <span>"
   ]
  },
  {
   "cell_type": "markdown",
   "id": "c6cb145a",
   "metadata": {},
   "source": [
    "#### <span style='color:purple '>27. How to flatten a list in python? <span>"
   ]
  },
  {
   "cell_type": "markdown",
   "id": "1f97f6ff",
   "metadata": {},
   "source": [
    "#### <span style='color:purple '>28. How to sort a list in ascending and descending order without using the sort function? <span>"
   ]
  },
  {
   "cell_type": "markdown",
   "id": "fb15ceef",
   "metadata": {},
   "source": [
    "#### <span style='color:purple '>29. How to sort a tuple?<span>"
   ]
  },
  {
   "cell_type": "markdown",
   "id": "f2985a21",
   "metadata": {},
   "source": [
    "#### <span style='color:purple '>30. Write a Python program to convert a list of multiple integers into a single\n",
    "integer <span>\n",
    "a. [11, 33, 50] >>> 113350"
   ]
  },
  {
   "cell_type": "markdown",
   "id": "2c6cb975",
   "metadata": {},
   "source": [
    "#### <span style='color:purple '>31. Difference between del and clear? <span>"
   ]
  },
  {
   "cell_type": "markdown",
   "id": "13a0c2b9",
   "metadata": {},
   "source": [
    "#### <span style='color:purple '>32. Difference between remove and pop?<span>"
   ]
  },
  {
   "cell_type": "markdown",
   "id": "e7c56107",
   "metadata": {},
   "source": [
    "#### <span style='color:purple '>33. Difference between indexing and Slicing? <span>"
   ]
  },
  {
   "cell_type": "markdown",
   "id": "3ade2cc6",
   "metadata": {},
   "source": [
    "#### <span style='color:purple '>34. Difference between sort and sorted?<span>"
   ]
  },
  {
   "cell_type": "markdown",
   "id": "50bf2368",
   "metadata": {},
   "source": [
    "#### <span style='color:purple '> 35. Difference between reverse and reversed? <span>"
   ]
  },
  {
   "cell_type": "markdown",
   "id": "402c232c",
   "metadata": {},
   "source": [
    "#### <span style='color:purple '> 36. Difference between copy and deep copy? <span>"
   ]
  },
  {
   "cell_type": "markdown",
   "id": "81ec3f3c",
   "metadata": {},
   "source": [
    "#### <span style='color:purple '>37. How to check whether the list is empty or not?<span>"
   ]
  },
  {
   "cell_type": "markdown",
   "id": "0bfa8945",
   "metadata": {},
   "source": [
    "#### <span style='color:purple '>38. How to concatenate two lists? <span>"
   ]
  },
  {
   "cell_type": "markdown",
   "id": "19d3c6e6",
   "metadata": {},
   "source": [
    "#### <span style='color:purple '> 39. How to find the occurrences of an element in the python list? <span>"
   ]
  },
  {
   "cell_type": "markdown",
   "id": "e3c509ae",
   "metadata": {},
   "source": [
    "#### <span style='color:purple '>40. How to flatten a list in python?<span>"
   ]
  },
  {
   "cell_type": "code",
   "execution_count": null,
   "id": "44b09a5d",
   "metadata": {},
   "outputs": [],
   "source": []
  }
 ],
 "metadata": {
  "kernelspec": {
   "display_name": "Python 3 (ipykernel)",
   "language": "python",
   "name": "python3"
  },
  "language_info": {
   "codemirror_mode": {
    "name": "ipython",
    "version": 3
   },
   "file_extension": ".py",
   "mimetype": "text/x-python",
   "name": "python",
   "nbconvert_exporter": "python",
   "pygments_lexer": "ipython3",
   "version": "3.9.7"
  }
 },
 "nbformat": 4,
 "nbformat_minor": 5
}
