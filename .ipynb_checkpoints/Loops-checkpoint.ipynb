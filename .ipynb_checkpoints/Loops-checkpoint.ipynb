{
 "cells": [
  {
   "cell_type": "markdown",
   "id": "e493a810",
   "metadata": {},
   "source": [
    "### Loops"
   ]
  },
  {
   "cell_type": "markdown",
   "id": "8092a7d1",
   "metadata": {},
   "source": [
    "1. for loop\n",
    "\n",
    "2. while loop"
   ]
  },
  {
   "cell_type": "markdown",
   "id": "4ccbbf13",
   "metadata": {},
   "source": [
    "### <span style='color:purple '> 1.For loop </span>"
   ]
  },
  {
   "cell_type": "code",
   "execution_count": null,
   "id": "64f9383c",
   "metadata": {},
   "outputs": [],
   "source": [
    "it works like iterator\n",
    "Sequence >> String, List, tuple, set, dict, range, numpy array, dataframe\n",
    "\n",
    "for variable in sequence:\n",
    "    print(variable)\n",
    "    statement1\n",
    "    statement2\n",
    "    \n",
    "    \n",
    "for index,item in enumerate(sequence):\n",
    "    print(index,item)\n",
    "    statement3\n",
    "    statement4\n"
   ]
  },
  {
   "cell_type": "code",
   "execution_count": 1,
   "id": "6b6b234a",
   "metadata": {},
   "outputs": [
    {
     "name": "stdout",
     "output_type": "stream",
     "text": [
      "0\n",
      "1\n",
      "2\n",
      "3\n",
      "4\n"
     ]
    }
   ],
   "source": [
    "for i in range(5):\n",
    "    print(i)"
   ]
  },
  {
   "cell_type": "code",
   "execution_count": 2,
   "id": "e6395986",
   "metadata": {},
   "outputs": [
    {
     "name": "stdout",
     "output_type": "stream",
     "text": [
      "We are learning loops\n",
      "We are learning loops\n",
      "We are learning loops\n",
      "We are learning loops\n",
      "We are learning loops\n"
     ]
    }
   ],
   "source": [
    "for i in range(5):\n",
    "    print('We are learning loops')"
   ]
  },
  {
   "cell_type": "code",
   "execution_count": 3,
   "id": "b1671dfb",
   "metadata": {},
   "outputs": [
    {
     "name": "stdout",
     "output_type": "stream",
     "text": [
      "H\n",
      "e\n",
      "l\n",
      "l\n",
      "o\n"
     ]
    }
   ],
   "source": [
    "string='Hello'\n",
    "\n",
    "for i in string:\n",
    "    print(i)"
   ]
  },
  {
   "cell_type": "code",
   "execution_count": 4,
   "id": "4e79cd83",
   "metadata": {},
   "outputs": [
    {
     "name": "stdout",
     "output_type": "stream",
     "text": [
      "Hello\n",
      "Hello\n",
      "Hello\n",
      "Hello\n",
      "Hello\n"
     ]
    }
   ],
   "source": [
    "for i in string:\n",
    "    print(string)"
   ]
  },
  {
   "cell_type": "code",
   "execution_count": 5,
   "id": "6143b0ed",
   "metadata": {},
   "outputs": [
    {
     "name": "stdout",
     "output_type": "stream",
     "text": [
      "H\n",
      "+++++\n",
      "e\n",
      "+++++\n",
      "l\n",
      "+++++\n",
      "l\n",
      "+++++\n",
      "o\n",
      "+++++\n"
     ]
    }
   ],
   "source": [
    "for i in string:\n",
    "    print(i)\n",
    "    print('+'*5)"
   ]
  },
  {
   "cell_type": "code",
   "execution_count": 6,
   "id": "4cd8ccab",
   "metadata": {},
   "outputs": [
    {
     "name": "stdout",
     "output_type": "stream",
     "text": [
      "0 H\n",
      "1 e\n",
      "2 l\n",
      "3 l\n",
      "4 o\n"
     ]
    }
   ],
   "source": [
    "for index, item in enumerate(string):\n",
    "    print(index,item)"
   ]
  },
  {
   "cell_type": "code",
   "execution_count": 7,
   "id": "62a874c7",
   "metadata": {},
   "outputs": [
    {
     "name": "stdout",
     "output_type": "stream",
     "text": [
      "char at index 0 is m\n",
      "char at index 1 is a\n",
      "char at index 2 is c\n",
      "char at index 3 is h\n",
      "char at index 4 is i\n",
      "char at index 5 is n\n",
      "char at index 6 is e\n"
     ]
    }
   ],
   "source": [
    "string = 'machine'\n",
    "for i,v in enumerate(string):\n",
    "    print(f'char at index {i} is {v}')"
   ]
  },
  {
   "cell_type": "markdown",
   "id": "c238e3ee",
   "metadata": {},
   "source": [
    "#### 1.1 for loop in list"
   ]
  },
  {
   "cell_type": "code",
   "execution_count": 8,
   "id": "c8ac0e4f",
   "metadata": {},
   "outputs": [
    {
     "name": "stdout",
     "output_type": "stream",
     "text": [
      "10\n",
      "20\n",
      "30\n",
      "14\n",
      "26\n"
     ]
    }
   ],
   "source": [
    "list1 = [10,20,30,14,26]\n",
    "for i in list1:\n",
    "    print(i)"
   ]
  },
  {
   "cell_type": "code",
   "execution_count": 9,
   "id": "c66cfd74",
   "metadata": {},
   "outputs": [
    {
     "name": "stdout",
     "output_type": "stream",
     "text": [
      "0 10\n",
      "1 20\n",
      "2 30\n",
      "3 14\n",
      "4 26\n"
     ]
    }
   ],
   "source": [
    "list1 = [10,20,30,14,26]\n",
    "for i,v in enumerate(list1):\n",
    "    print(i,v)"
   ]
  },
  {
   "cell_type": "code",
   "execution_count": 10,
   "id": "8d253a78",
   "metadata": {},
   "outputs": [
    {
     "name": "stdout",
     "output_type": "stream",
     "text": [
      "Integers : [2, 3, 20, 100]\n",
      "Float    : [4.5, 5.14, 15.1, 9.45]\n",
      "String   : ['python', 'data science']\n"
     ]
    }
   ],
   "source": [
    "list1 = [2,3,4.5,20,5.14,'python',100,15.10,'data science',9.45]\n",
    "\n",
    "intList = []\n",
    "floatList = []\n",
    "strList = []\n",
    "for value in list1:\n",
    "    if type(value) == int:\n",
    "        intList.append(value)\n",
    "        \n",
    "    elif type(value) == float:\n",
    "        floatList.append(value)\n",
    "        \n",
    "    else:\n",
    "        strList.append(value)\n",
    "\n",
    "print(\"Integers :\",intList)\n",
    "print(\"Float    :\",floatList)\n",
    "print(\"String   :\",strList)"
   ]
  },
  {
   "cell_type": "code",
   "execution_count": 11,
   "id": "5ae1b17a",
   "metadata": {},
   "outputs": [
    {
     "name": "stdout",
     "output_type": "stream",
     "text": [
      "Enter value : 56\n",
      "Enter value : data\n",
      "Enter value : 6.9\n",
      "Enter value : 23\n",
      "Enter value : python\n",
      "Enter value : science\n",
      "Enter value : 3.3\n",
      "[56, 23]\n",
      "['data', 'python', 'science']\n",
      "[6.9, 3.3]\n"
     ]
    }
   ],
   "source": [
    "intList = []\n",
    "strList = []\n",
    "floatList = []\n",
    "for i in range(7):\n",
    "    a = input('Enter value : ')\n",
    "    \n",
    "    if a.isdigit():\n",
    "        intList.append(int(a))\n",
    "        \n",
    "    elif a.isalpha():\n",
    "        strList.append(a)\n",
    "        \n",
    "    else:\n",
    "        floatList.append(float(a))\n",
    "    \n",
    "print(intList)\n",
    "print(strList)\n",
    "print(floatList)"
   ]
  },
  {
   "cell_type": "markdown",
   "id": "fb4e273e",
   "metadata": {},
   "source": [
    "### Loop control statement"
   ]
  },
  {
   "cell_type": "code",
   "execution_count": null,
   "id": "96fb2651",
   "metadata": {},
   "outputs": [],
   "source": [
    "1. break\n",
    "2. continue\n",
    "3. pass"
   ]
  },
  {
   "cell_type": "markdown",
   "id": "54120fe1",
   "metadata": {},
   "source": [
    "#### 1.break"
   ]
  },
  {
   "cell_type": "markdown",
   "id": "43c8c4c3",
   "metadata": {},
   "source": [
    "use to exit for loop"
   ]
  },
  {
   "cell_type": "code",
   "execution_count": 12,
   "id": "36ebef1b",
   "metadata": {},
   "outputs": [
    {
     "name": "stdout",
     "output_type": "stream",
     "text": [
      "0\n",
      "1\n",
      "2\n",
      "3\n",
      "4\n",
      "5\n",
      "6\n",
      "7\n",
      "8\n",
      "9\n"
     ]
    }
   ],
   "source": [
    "for i in range(10):\n",
    "    print(i)"
   ]
  },
  {
   "cell_type": "code",
   "execution_count": 13,
   "id": "621c265d",
   "metadata": {},
   "outputs": [
    {
     "name": "stdout",
     "output_type": "stream",
     "text": [
      "i==0\n",
      "i==1\n",
      "i==2\n",
      "i==3\n",
      "i==4\n",
      "i==5\n",
      "i==6\n",
      "found item\n",
      "i==7\n",
      "i==8\n",
      "i==9\n"
     ]
    }
   ],
   "source": [
    "for i in range(10):\n",
    "    print(f'i=={i}')\n",
    "    if i==6:\n",
    "        print('found item')"
   ]
  },
  {
   "cell_type": "code",
   "execution_count": 14,
   "id": "937fe3a0",
   "metadata": {},
   "outputs": [
    {
     "name": "stdout",
     "output_type": "stream",
     "text": [
      "i==0\n",
      "i==1\n",
      "i==2\n",
      "i==3\n",
      "i==4\n",
      "i==5\n",
      "i==6\n",
      "found item\n"
     ]
    }
   ],
   "source": [
    "for i in range(10):\n",
    "    print(f'i=={i}')\n",
    "    if i==6:\n",
    "        print('found item')\n",
    "        break"
   ]
  },
  {
   "cell_type": "code",
   "execution_count": 15,
   "id": "6a9c36c9",
   "metadata": {},
   "outputs": [
    {
     "name": "stdout",
     "output_type": "stream",
     "text": [
      "i==0\n",
      "i==1\n",
      "i==2\n",
      "i==3\n",
      "i==4\n",
      "i==5\n",
      "i==6\n"
     ]
    }
   ],
   "source": [
    "for i in range(10):\n",
    "    print(f'i=={i}')\n",
    "    if i==6:\n",
    "        break\n",
    "        print('found item')\n",
    "        "
   ]
  },
  {
   "cell_type": "code",
   "execution_count": 16,
   "id": "6a90b1df",
   "metadata": {},
   "outputs": [
    {
     "name": "stdout",
     "output_type": "stream",
     "text": [
      "2\n",
      "4\n",
      "6\n",
      "7\n",
      "Odd number found in list\n"
     ]
    }
   ],
   "source": [
    "numbers = [2,4,6,7,8,10,20]\n",
    "for item in numbers:\n",
    "    print(item)\n",
    "    if item % 2 != 0:\n",
    "        print('Odd number found in list')\n",
    "        break"
   ]
  },
  {
   "cell_type": "markdown",
   "id": "c56608a7",
   "metadata": {},
   "source": [
    "#### 2. continue"
   ]
  },
  {
   "cell_type": "markdown",
   "id": "f8b08542",
   "metadata": {},
   "source": [
    "Used to stop only current iteratio, and contineu with next iteration"
   ]
  },
  {
   "cell_type": "code",
   "execution_count": 17,
   "id": "f4d061e1",
   "metadata": {},
   "outputs": [
    {
     "name": "stdout",
     "output_type": "stream",
     "text": [
      "i == 0\n",
      "i == 1\n",
      "i == 2\n",
      "i == 3\n",
      "i == 4\n",
      "i == 5\n",
      "i == 6\n",
      "i == 7\n",
      "Required value found\n",
      "i == 8\n",
      "i == 9\n"
     ]
    }
   ],
   "source": [
    "for i in range(10):\n",
    "    print(f'i == {i}')\n",
    "    if i == 7:\n",
    "        print(\"Required value found\")\n",
    "        continue"
   ]
  },
  {
   "cell_type": "code",
   "execution_count": 19,
   "id": "50822665",
   "metadata": {},
   "outputs": [
    {
     "name": "stdout",
     "output_type": "stream",
     "text": [
      "i == 0\n",
      "i == 1\n",
      "i == 2\n",
      "i == 3\n",
      "i == 4\n",
      "i == 5\n",
      "i == 6\n",
      "Required value found\n",
      "i == 8\n",
      "i == 9\n"
     ]
    }
   ],
   "source": [
    "for i in range(10):\n",
    "    if i == 7:\n",
    "        print(\"Required value found\")\n",
    "        continue # used to stop current iteration\n",
    "    print(f'i == {i}')\n"
   ]
  },
  {
   "cell_type": "markdown",
   "id": "50a9ae9d",
   "metadata": {},
   "source": [
    "#### 3.pass "
   ]
  },
  {
   "cell_type": "markdown",
   "id": "ba16a671",
   "metadata": {},
   "source": [
    "he pass statement is used as a placeholder for future code. When the pass statement is executed, nothing happens, but you avoid getting an error when empty code is not allowed. "
   ]
  },
  {
   "cell_type": "code",
   "execution_count": 20,
   "id": "bc6dc1ba",
   "metadata": {},
   "outputs": [
    {
     "name": "stdout",
     "output_type": "stream",
     "text": [
      "Value in i variable is : 10\n",
      "Value in i variable is : 20\n",
      "Value in i variable is : 40\n"
     ]
    }
   ],
   "source": [
    "for i in [10,20,40]:\n",
    "    print('Value in i variable is :',i)"
   ]
  },
  {
   "cell_type": "code",
   "execution_count": 21,
   "id": "1be0449b",
   "metadata": {},
   "outputs": [
    {
     "name": "stdout",
     "output_type": "stream",
     "text": [
      "Value in i variable is : 10\n",
      "Value in i variable is : 20\n",
      "Value in i variable is : 40\n"
     ]
    }
   ],
   "source": [
    "for i in [10,20,40]:\n",
    "    print('Value in i variable is :',i)\n",
    "    pass"
   ]
  },
  {
   "cell_type": "markdown",
   "id": "ea997b4f",
   "metadata": {},
   "source": [
    "### for-else"
   ]
  },
  {
   "cell_type": "markdown",
   "id": "6c5dead6",
   "metadata": {},
   "source": [
    "Else block will execute only when the loop completes its all iterations"
   ]
  },
  {
   "cell_type": "code",
   "execution_count": 23,
   "id": "29d2e5cd",
   "metadata": {},
   "outputs": [
    {
     "name": "stdout",
     "output_type": "stream",
     "text": [
      "i == 0\n",
      "i == 1\n",
      "i == 2\n",
      "i == 3\n",
      "i == 4\n",
      "i == 5\n",
      "i == 6\n",
      "i == 7\n",
      "i == 8\n"
     ]
    }
   ],
   "source": [
    "for i in range(10):\n",
    "    print(f'i == {i}')\n",
    "    if i == 8:\n",
    "        break\n",
    "        \n",
    "else: \n",
    "    print('Loop Completed')"
   ]
  },
  {
   "cell_type": "code",
   "execution_count": 24,
   "id": "456d80d8",
   "metadata": {},
   "outputs": [
    {
     "name": "stdout",
     "output_type": "stream",
     "text": [
      "i == 0\n",
      "i == 1\n",
      "i == 2\n",
      "i == 3\n",
      "i == 4\n",
      "i == 5\n",
      "i == 6\n",
      "i == 7\n",
      "i == 8\n",
      "i == 9\n",
      "Loop Completed\n"
     ]
    }
   ],
   "source": [
    "for i in range(10):\n",
    "    print(f'i == {i}')\n",
    "    if i == 8:\n",
    "        pass\n",
    "        \n",
    "else: \n",
    "    print('Loop Completed')"
   ]
  },
  {
   "cell_type": "code",
   "execution_count": 25,
   "id": "5c712271",
   "metadata": {},
   "outputs": [
    {
     "name": "stdout",
     "output_type": "stream",
     "text": [
      "i == 0\n",
      "i == 1\n",
      "i == 2\n",
      "i == 3\n",
      "i == 4\n",
      "i == 5\n",
      "i == 6\n",
      "i == 7\n",
      "i == 8\n",
      "i == 9\n",
      "Loop Completed\n"
     ]
    }
   ],
   "source": [
    "for i in range(10):\n",
    "    print(f'i == {i}')\n",
    "    if i == 8:\n",
    "        continue\n",
    "        \n",
    "else: \n",
    "    print('Loop Completed')"
   ]
  },
  {
   "cell_type": "markdown",
   "id": "8d6bcd76",
   "metadata": {},
   "source": [
    "### Factorial of Numbers"
   ]
  },
  {
   "cell_type": "code",
   "execution_count": null,
   "id": "b2825bd7",
   "metadata": {},
   "outputs": [],
   "source": [
    "5!  >> 5 * 4 * 3 * 2 * 1  > 120\n",
    "4!  >> 4 * 3 * 2 * 1\n",
    "3!  >> 3 * 2 * 1\n",
    "1!  >> 1\n",
    "0!  >> 1"
   ]
  },
  {
   "cell_type": "code",
   "execution_count": 27,
   "id": "0b7d151e",
   "metadata": {},
   "outputs": [
    {
     "name": "stdout",
     "output_type": "stream",
     "text": [
      "1\n",
      "2\n",
      "6\n",
      "24\n",
      "120\n"
     ]
    }
   ],
   "source": [
    "n=5\n",
    "fact=1\n",
    "\n",
    "for i in range(1,n+1):\n",
    "    fact*=i\n",
    "    print(fact)"
   ]
  },
  {
   "cell_type": "code",
   "execution_count": 28,
   "id": "c5448b97",
   "metadata": {},
   "outputs": [
    {
     "name": "stdout",
     "output_type": "stream",
     "text": [
      "Enter the value of n :6\n",
      "Factorial of 6 is 720\n"
     ]
    }
   ],
   "source": [
    "n = int(input('Enter the value of n :'))\n",
    "fact = 1\n",
    "if n < 0:\n",
    "    print(\"Factorial does not exist\")\n",
    "else:\n",
    "    for i in range(1,n+1):\n",
    "        fact = fact * i\n",
    "    \n",
    "    print(f'Factorial of {n} is {fact}')\n",
    "    "
   ]
  },
  {
   "cell_type": "markdown",
   "id": "9efd5d04",
   "metadata": {},
   "source": [
    "#### Prime Number"
   ]
  },
  {
   "cell_type": "code",
   "execution_count": 31,
   "id": "bb8ce21d",
   "metadata": {},
   "outputs": [
    {
     "name": "stdout",
     "output_type": "stream",
     "text": [
      "Enter the number:7\n",
      "7 is a prime number\n"
     ]
    }
   ],
   "source": [
    "n=int(input('Enter the number:'))\n",
    "\n",
    "for i in range(2,n-1):\n",
    "    if n%i==0:\n",
    "        print(f'{n} is not a prime number')\n",
    "        break\n",
    "    else:\n",
    "        print(f'{n} is a prime number')\n",
    "        break"
   ]
  },
  {
   "cell_type": "markdown",
   "id": "be255c1b",
   "metadata": {},
   "source": [
    "#### Fibonacci Series"
   ]
  },
  {
   "cell_type": "markdown",
   "id": "0312e897",
   "metadata": {},
   "source": [
    "0 1 1 2 3 5 8 13 .....\n",
    "\n",
    "n = 8\n",
    "0 1 1 2 3 5 8 13\n",
    "\n",
    "n = 10\n",
    "0 1 1 2 3 5 8 13 21 34\n",
    "\n",
    "n = 5\n",
    "0 1 1 2 3"
   ]
  },
  {
   "cell_type": "code",
   "execution_count": 41,
   "id": "0dcd02b4",
   "metadata": {},
   "outputs": [
    {
     "name": "stdout",
     "output_type": "stream",
     "text": [
      "Enter the number:25\n",
      "Fibonacci series: 0 1 1 2 3 5 8 13 21 34 55 89 144 233 377 610 987 1597 2584 4181 6765 10946 17711 28657 46368 "
     ]
    }
   ],
   "source": [
    "n=int(input('Enter the number:'))\n",
    "\n",
    "f_num=0\n",
    "s_num=1\n",
    "\n",
    "print('Fibonacci series:',f_num,s_num,end=' ')\n",
    "for i in range(0,n-2):\n",
    "    new=f_num+s_num\n",
    "    f_num=s_num\n",
    "    s_num=new\n",
    "    print(new,end=' ')"
   ]
  },
  {
   "cell_type": "markdown",
   "id": "0ea3d51d",
   "metadata": {},
   "source": [
    "#### Nested for loops"
   ]
  },
  {
   "cell_type": "markdown",
   "id": "d8afbab6",
   "metadata": {},
   "source": [
    "for loop inside for loop"
   ]
  },
  {
   "cell_type": "code",
   "execution_count": null,
   "id": "0f7cead8",
   "metadata": {},
   "outputs": [],
   "source": [
    "for variable1 in sequence1:\n",
    "    statement1\n",
    "    statement2\n",
    "    for variable2 in sequence2:\n",
    "        statement3 \n",
    "        statement4\n",
    "        for variable3 in sequence3:\n",
    "            statement5\n",
    "            statement6\n",
    "            \n",
    "        for variable4 in sequence4:\n",
    "            statement5\n",
    "            statement6"
   ]
  },
  {
   "cell_type": "code",
   "execution_count": 43,
   "id": "14f9b0d7",
   "metadata": {},
   "outputs": [
    {
     "name": "stdout",
     "output_type": "stream",
     "text": [
      "i==0\n",
      "i==1\n",
      "j**0\n",
      "i==2\n",
      "j**0\n",
      "j**1\n",
      "i==3\n",
      "j**0\n",
      "j**1\n",
      "j**2\n",
      "i==4\n",
      "j**0\n",
      "j**1\n",
      "j**2\n",
      "j**3\n",
      "i==5\n",
      "j**0\n",
      "j**1\n",
      "j**2\n",
      "j**3\n",
      "j**4\n"
     ]
    }
   ],
   "source": [
    "for i in range(6):\n",
    "    print(f'i=={i}')\n",
    "    for j in range(i):\n",
    "        print(f'j**{j}')\n"
   ]
  },
  {
   "cell_type": "code",
   "execution_count": 44,
   "id": "a97e4f26",
   "metadata": {},
   "outputs": [
    {
     "name": "stdout",
     "output_type": "stream",
     "text": [
      "i==0\n",
      "i==1\n",
      "j**0\n",
      "l\n",
      "o\n",
      "o\n",
      "p\n",
      "i==2\n",
      "j**0\n",
      "l\n",
      "o\n",
      "o\n",
      "p\n",
      "j**1\n",
      "l\n",
      "o\n",
      "o\n",
      "p\n",
      "i==3\n",
      "j**0\n",
      "l\n",
      "o\n",
      "o\n",
      "p\n",
      "j**1\n",
      "l\n",
      "o\n",
      "o\n",
      "p\n",
      "j**2\n",
      "l\n",
      "o\n",
      "o\n",
      "p\n",
      "i==4\n",
      "j**0\n",
      "l\n",
      "o\n",
      "o\n",
      "p\n",
      "j**1\n",
      "l\n",
      "o\n",
      "o\n",
      "p\n",
      "j**2\n",
      "l\n",
      "o\n",
      "o\n",
      "p\n",
      "j**3\n",
      "l\n",
      "o\n",
      "o\n",
      "p\n",
      "i==5\n",
      "j**0\n",
      "l\n",
      "o\n",
      "o\n",
      "p\n",
      "j**1\n",
      "l\n",
      "o\n",
      "o\n",
      "p\n",
      "j**2\n",
      "l\n",
      "o\n",
      "o\n",
      "p\n",
      "j**3\n",
      "l\n",
      "o\n",
      "o\n",
      "p\n",
      "j**4\n",
      "l\n",
      "o\n",
      "o\n",
      "p\n"
     ]
    }
   ],
   "source": [
    "for i in range(6):\n",
    "    print(f'i=={i}')\n",
    "    for j in range(i):\n",
    "        print(f'j**{j}')\n",
    "        for k in 'loop':\n",
    "            print(k)"
   ]
  },
  {
   "cell_type": "code",
   "execution_count": 50,
   "id": "a8c25fa0",
   "metadata": {},
   "outputs": [
    {
     "name": "stdout",
     "output_type": "stream",
     "text": [
      "i==0>>i==1>>j**0>>\n",
      "l\n",
      "o\n",
      "o\n",
      "p\n",
      "i==2>>j**0>>\n",
      "l\n",
      "o\n",
      "o\n",
      "p\n",
      "j**1>>\n",
      "l\n",
      "o\n",
      "o\n",
      "p\n",
      "i==3>>j**0>>\n",
      "l\n",
      "o\n",
      "o\n",
      "p\n",
      "j**1>>\n",
      "l\n",
      "o\n",
      "o\n",
      "p\n",
      "j**2>>\n",
      "l\n",
      "o\n",
      "o\n",
      "p\n",
      "i==4>>j**0>>\n",
      "l\n",
      "o\n",
      "o\n",
      "p\n",
      "j**1>>\n",
      "l\n",
      "o\n",
      "o\n",
      "p\n",
      "j**2>>\n",
      "l\n",
      "o\n",
      "o\n",
      "p\n",
      "j**3>>\n",
      "l\n",
      "o\n",
      "o\n",
      "p\n",
      "i==5>>j**0>>\n",
      "l\n",
      "o\n",
      "o\n",
      "p\n",
      "j**1>>\n",
      "l\n",
      "o\n",
      "o\n",
      "p\n",
      "j**2>>\n",
      "l\n",
      "o\n",
      "o\n",
      "p\n",
      "j**3>>\n",
      "l\n",
      "o\n",
      "o\n",
      "p\n",
      "j**4>>\n",
      "l\n",
      "o\n",
      "o\n",
      "p\n"
     ]
    }
   ],
   "source": [
    "for i in range(6):\n",
    "    print(f'i=={i}',end='>>')\n",
    "    for j in range(i):\n",
    "        print(f'j**{j}',end='>>\\n')\n",
    "        for k in 'loop':\n",
    "            print(k)"
   ]
  },
  {
   "cell_type": "code",
   "execution_count": 53,
   "id": "1b6bea60",
   "metadata": {},
   "outputs": [
    {
     "name": "stdout",
     "output_type": "stream",
     "text": [
      "*\n",
      "*\n",
      "*\n",
      "*\n",
      "\n",
      "*\n",
      "*\n",
      "*\n",
      "*\n",
      "\n",
      "*\n",
      "*\n",
      "*\n",
      "*\n",
      "\n",
      "*\n",
      "*\n",
      "*\n",
      "*\n",
      "\n",
      "*\n",
      "*\n",
      "*\n",
      "*\n",
      "\n"
     ]
    }
   ],
   "source": [
    "for i in range(5):\n",
    "    for j in range(4):\n",
    "        print('*')\n",
    "    print()\n"
   ]
  },
  {
   "cell_type": "code",
   "execution_count": 54,
   "id": "4ea3d8b7",
   "metadata": {},
   "outputs": [
    {
     "name": "stdout",
     "output_type": "stream",
     "text": [
      "\n",
      "*\n",
      "\n",
      "*\n",
      "*\n",
      "\n",
      "*\n",
      "*\n",
      "*\n",
      "\n",
      "*\n",
      "*\n",
      "*\n",
      "*\n",
      "\n"
     ]
    }
   ],
   "source": [
    "for i in range(5):\n",
    "    for j in range(i):\n",
    "        print('*')\n",
    "    print()\n"
   ]
  },
  {
   "cell_type": "code",
   "execution_count": 55,
   "id": "f87216ba",
   "metadata": {},
   "outputs": [
    {
     "name": "stdout",
     "output_type": "stream",
     "text": [
      "* * * * * \n",
      "* * * * * \n",
      "* * * * * \n",
      "* * * * * \n",
      "* * * * * \n"
     ]
    }
   ],
   "source": [
    "for i in range(5):\n",
    "    for j in range(5):\n",
    "        print('*',end=' ')\n",
    "    print()\n"
   ]
  },
  {
   "cell_type": "code",
   "execution_count": 1,
   "id": "e8537a97",
   "metadata": {},
   "outputs": [
    {
     "name": "stdout",
     "output_type": "stream",
     "text": [
      "* \n",
      "* * \n",
      "* * * \n",
      "* * * * \n",
      "* * * * * \n"
     ]
    }
   ],
   "source": [
    "for i in range(1,6):\n",
    "    for j in range(i):\n",
    "        print('*',end=' ')\n",
    "    print()\n"
   ]
  },
  {
   "cell_type": "code",
   "execution_count": 4,
   "id": "b3025aa8",
   "metadata": {},
   "outputs": [
    {
     "name": "stdout",
     "output_type": "stream",
     "text": [
      "* \n",
      "* * \n",
      "* * * \n",
      "* * * * \n",
      "* * * * * \n",
      "* * * * * * \n",
      "* * * * * * * \n",
      "* * * * * * * * \n",
      "* * * * * * * * * \n",
      "* * * * * * * * * * \n"
     ]
    }
   ],
   "source": [
    "n=10\n",
    "\n",
    "for i in range(1,n+1):\n",
    "    for j in range(i):\n",
    "        print('*',end=' ')\n",
    "    print()"
   ]
  },
  {
   "cell_type": "code",
   "execution_count": 7,
   "id": "eb6e901c",
   "metadata": {},
   "outputs": [
    {
     "name": "stdout",
     "output_type": "stream",
     "text": [
      "* * * * * \n",
      "* * * * \n",
      "* * * \n",
      "* * \n",
      "* \n"
     ]
    }
   ],
   "source": [
    "n=5\n",
    "for i in range(n,0,-1):\n",
    "    for j in range(i):\n",
    "        print('*',end=' ')\n",
    "    print()"
   ]
  },
  {
   "cell_type": "code",
   "execution_count": 8,
   "id": "dd84c583",
   "metadata": {},
   "outputs": [
    {
     "name": "stdout",
     "output_type": "stream",
     "text": [
      "1 1 1 1 1 \n",
      "1 1 1 1 1 \n",
      "1 1 1 1 1 \n",
      "1 1 1 1 1 \n",
      "1 1 1 1 1 \n"
     ]
    }
   ],
   "source": [
    "for i in range(5):\n",
    "    for j in range(5):\n",
    "        print('1',end=' ')\n",
    "    print()"
   ]
  },
  {
   "cell_type": "code",
   "execution_count": 9,
   "id": "0e50ad50",
   "metadata": {},
   "outputs": [
    {
     "name": "stdout",
     "output_type": "stream",
     "text": [
      "5 5 5 \n",
      "5 5 5 \n",
      "5 5 5 \n",
      "5 5 5 \n",
      "5 5 5 \n"
     ]
    }
   ],
   "source": [
    "for i in range(5):\n",
    "    for j in range(3):\n",
    "        print('5',end=' ')\n",
    "    print()"
   ]
  },
  {
   "cell_type": "code",
   "execution_count": 10,
   "id": "35351b01",
   "metadata": {},
   "outputs": [
    {
     "name": "stdout",
     "output_type": "stream",
     "text": [
      "1 2 3 4 5 \n",
      "1 2 3 4 5 \n",
      "1 2 3 4 5 \n",
      "1 2 3 4 5 \n",
      "1 2 3 4 5 \n"
     ]
    }
   ],
   "source": [
    "for i in range(5):\n",
    "    for j in range(5):\n",
    "        print(j+1,end=' ')\n",
    "    print()"
   ]
  },
  {
   "cell_type": "code",
   "execution_count": 12,
   "id": "19d0d4e7",
   "metadata": {},
   "outputs": [
    {
     "name": "stdout",
     "output_type": "stream",
     "text": [
      "1 \n",
      "1 2 \n",
      "1 2 3 \n",
      "1 2 3 4 \n",
      "1 2 3 4 5 \n"
     ]
    }
   ],
   "source": [
    "for i in range(1,6):\n",
    "    for j in range(i):\n",
    "        print(j+1,end=' ')\n",
    "    print()"
   ]
  },
  {
   "cell_type": "code",
   "execution_count": 13,
   "id": "0f9d5b64",
   "metadata": {},
   "outputs": [
    {
     "name": "stdout",
     "output_type": "stream",
     "text": [
      "0 1 2 3 4 \n",
      "0 1 2 3 4 \n",
      "0 1 2 3 4 \n",
      "0 1 2 3 4 \n",
      "0 1 2 3 4 \n"
     ]
    }
   ],
   "source": [
    "for i in range(5):\n",
    "    for j in range(5):\n",
    "        print(j,end=' ')\n",
    "    print()"
   ]
  },
  {
   "cell_type": "code",
   "execution_count": 14,
   "id": "3a5825e2",
   "metadata": {},
   "outputs": [
    {
     "name": "stdout",
     "output_type": "stream",
     "text": [
      "0 0 0 0 0 \n",
      "1 1 1 1 1 \n",
      "2 2 2 2 2 \n",
      "3 3 3 3 3 \n",
      "4 4 4 4 4 \n"
     ]
    }
   ],
   "source": [
    "for i in range(5):\n",
    "    for j in range(5):\n",
    "        print(i,end=' ')\n",
    "    print()"
   ]
  },
  {
   "cell_type": "code",
   "execution_count": 15,
   "id": "34f7f4ec",
   "metadata": {},
   "outputs": [
    {
     "name": "stdout",
     "output_type": "stream",
     "text": [
      "1 1 1 1 1 \n",
      "2 2 2 2 2 \n",
      "3 3 3 3 3 \n",
      "4 4 4 4 4 \n",
      "5 5 5 5 5 \n"
     ]
    }
   ],
   "source": [
    "for i in range(1,6):\n",
    "    for j in range(5):\n",
    "        print(i,end=' ')\n",
    "    print()"
   ]
  },
  {
   "cell_type": "code",
   "execution_count": 16,
   "id": "d387adf6",
   "metadata": {},
   "outputs": [
    {
     "name": "stdout",
     "output_type": "stream",
     "text": [
      "1 \n",
      "2 2 \n",
      "3 3 3 \n",
      "4 4 4 4 \n",
      "5 5 5 5 5 \n"
     ]
    }
   ],
   "source": [
    "for i in range(1,6):\n",
    "    for j in range(i):\n",
    "        print(i,end=' ')\n",
    "    print()"
   ]
  },
  {
   "cell_type": "code",
   "execution_count": 17,
   "id": "cae45877",
   "metadata": {},
   "outputs": [
    {
     "name": "stdout",
     "output_type": "stream",
     "text": [
      "A A A A A \n",
      "A A A A A \n",
      "A A A A A \n",
      "A A A A A \n",
      "A A A A A \n"
     ]
    }
   ],
   "source": [
    "n=5\n",
    "\n",
    "for i in range(n):\n",
    "    for j in range(n):\n",
    "        print('A',end=' ')\n",
    "    print()"
   ]
  },
  {
   "cell_type": "code",
   "execution_count": 18,
   "id": "0a0506e0",
   "metadata": {},
   "outputs": [
    {
     "name": "stdout",
     "output_type": "stream",
     "text": [
      "B B B B B \n",
      "B B B B B \n",
      "B B B B B \n",
      "B B B B B \n",
      "B B B B B \n"
     ]
    }
   ],
   "source": [
    "n=5\n",
    "\n",
    "for i in range(1,n+1):\n",
    "    for j in range(1,n+1):\n",
    "        print(chr(66),end=' ')\n",
    "    print()"
   ]
  },
  {
   "cell_type": "code",
   "execution_count": 21,
   "id": "f79974bd",
   "metadata": {},
   "outputs": [
    {
     "name": "stdout",
     "output_type": "stream",
     "text": [
      "A B C D E \n",
      "F G H I J \n",
      "K L M N O \n",
      "P Q R S T \n",
      "U V W X Y \n"
     ]
    }
   ],
   "source": [
    "n=5\n",
    "num=65\n",
    "\n",
    "for i in range(1,n+1):\n",
    "    for j in range(1,n+1):\n",
    "        print(chr(num),end=' ')\n",
    "        num+=1\n",
    "    print()"
   ]
  },
  {
   "cell_type": "code",
   "execution_count": 23,
   "id": "a0f163fd",
   "metadata": {},
   "outputs": [
    {
     "name": "stdout",
     "output_type": "stream",
     "text": [
      "A A A A A \n",
      "B B B B B \n",
      "C C C C C \n",
      "D D D D D \n",
      "E E E E E \n"
     ]
    }
   ],
   "source": [
    "n=5\n",
    "num=65\n",
    "\n",
    "for i in range(1,n+1):\n",
    "    for j in range(1,n+1):\n",
    "        print(chr(num),end=' ')\n",
    "    num+=1\n",
    "    print()"
   ]
  },
  {
   "cell_type": "code",
   "execution_count": 24,
   "id": "38529fb3",
   "metadata": {},
   "outputs": [
    {
     "name": "stdout",
     "output_type": "stream",
     "text": [
      "A \n",
      "B C \n",
      "D E F \n",
      "G H I J \n",
      "K L M N O \n"
     ]
    }
   ],
   "source": [
    "n=5\n",
    "num=65\n",
    "\n",
    "for i in range(1,n+1):\n",
    "    for j in range(i):\n",
    "        print(chr(num),end=' ')\n",
    "        num+=1\n",
    "    print()"
   ]
  },
  {
   "cell_type": "code",
   "execution_count": 25,
   "id": "4e635da5",
   "metadata": {},
   "outputs": [
    {
     "name": "stdout",
     "output_type": "stream",
     "text": [
      "A \n",
      "B B \n",
      "C C C \n",
      "D D D D \n",
      "E E E E E \n"
     ]
    }
   ],
   "source": [
    "n=5\n",
    "num=65\n",
    "\n",
    "for i in range(1,n+1):\n",
    "    for j in range(i):\n",
    "        print(chr(num),end=' ')\n",
    "    num+=1\n",
    "    print()"
   ]
  },
  {
   "cell_type": "code",
   "execution_count": 26,
   "id": "5b51d77f",
   "metadata": {},
   "outputs": [
    {
     "name": "stdout",
     "output_type": "stream",
     "text": [
      "A \n",
      "A B \n",
      "A B C \n",
      "A B C D \n",
      "A B C D E \n"
     ]
    }
   ],
   "source": [
    "n=5\n",
    "\n",
    "\n",
    "for i in range(1,n+1):\n",
    "    num=65\n",
    "    for j in range(i):\n",
    "        print(chr(num),end=' ')\n",
    "        num+=1\n",
    "    print()"
   ]
  },
  {
   "cell_type": "code",
   "execution_count": 27,
   "id": "c1de38b9",
   "metadata": {},
   "outputs": [
    {
     "name": "stdout",
     "output_type": "stream",
     "text": [
      "a \n",
      "a b \n",
      "a b c \n",
      "a b c d \n",
      "a b c d e \n"
     ]
    }
   ],
   "source": [
    "n=5\n",
    "\n",
    "\n",
    "for i in range(1,n+1):\n",
    "    num=97\n",
    "    for j in range(i):\n",
    "        print(chr(num),end=' ')\n",
    "        num+=1\n",
    "    print()"
   ]
  },
  {
   "cell_type": "code",
   "execution_count": 31,
   "id": "b7898fce",
   "metadata": {},
   "outputs": [
    {
     "name": "stdout",
     "output_type": "stream",
     "text": [
      "1 \n",
      "1 2 \n",
      "1 2 3 \n",
      "1 2 3 4 \n",
      "1 2 3 4 5 \n"
     ]
    }
   ],
   "source": [
    "\n",
    "for i in range(1,6):\n",
    "    num=1\n",
    "    for j in range(i):\n",
    "        print(num,end=' ')\n",
    "        num+=1\n",
    "    print()"
   ]
  },
  {
   "cell_type": "code",
   "execution_count": 33,
   "id": "7e500aca",
   "metadata": {},
   "outputs": [
    {
     "name": "stdout",
     "output_type": "stream",
     "text": [
      "1 \n",
      "2 2 \n",
      "3 3 3 \n",
      "4 4 4 4 \n",
      "5 5 5 5 5 \n"
     ]
    }
   ],
   "source": [
    "num=1\n",
    "for i in range(1,6):\n",
    "    \n",
    "    for j in range(i):\n",
    "        print(num,end=' ')\n",
    "    num+=1\n",
    "    print()"
   ]
  },
  {
   "cell_type": "code",
   "execution_count": 34,
   "id": "09f7546c",
   "metadata": {},
   "outputs": [
    {
     "name": "stdout",
     "output_type": "stream",
     "text": [
      "1 \n",
      "1 4 \n",
      "1 4 9 \n",
      "1 4 9 16 \n",
      "1 4 9 16 25 \n"
     ]
    }
   ],
   "source": [
    "n = 5\n",
    "for i in range(1,n+1): \n",
    "    num = 1\n",
    "    for j in range(i): \n",
    "        print(num ** 2,end = ' ') \n",
    "        num += 1\n",
    "    print()"
   ]
  },
  {
   "cell_type": "code",
   "execution_count": 39,
   "id": "f0f127e8",
   "metadata": {},
   "outputs": [
    {
     "name": "stdout",
     "output_type": "stream",
     "text": [
      "* \n",
      "* * \n",
      "* * * \n",
      "* * * * \n",
      "* * * * * \n",
      "* * * * \n",
      "* * * \n",
      "* * \n",
      "* \n"
     ]
    }
   ],
   "source": [
    "n=5\n",
    "for i in range(1,n+1):\n",
    "    for j in range(i):\n",
    "        print('*',end=' ')\n",
    "    print()\n",
    "for i in range(n-1,0,-1):\n",
    "    for j in range(i):\n",
    "        print('*',end=' ')\n",
    "    print()"
   ]
  },
  {
   "cell_type": "code",
   "execution_count": 46,
   "id": "848b8f54",
   "metadata": {},
   "outputs": [
    {
     "name": "stdout",
     "output_type": "stream",
     "text": [
      "    *\n",
      "   **\n",
      "  ***\n",
      " ****\n",
      "*****\n"
     ]
    }
   ],
   "source": [
    "n=5\n",
    "for i in range(1,n+1):\n",
    "    print(' '*(n-i)+ '*'*i)"
   ]
  },
  {
   "cell_type": "code",
   "execution_count": 47,
   "id": "8b64fa9c",
   "metadata": {},
   "outputs": [
    {
     "name": "stdout",
     "output_type": "stream",
     "text": [
      "    *\n",
      "   ***\n",
      "  *****\n",
      " *******\n",
      "*********\n"
     ]
    }
   ],
   "source": [
    "n=5\n",
    "\n",
    "for i in range(1,n+1):\n",
    "    print(' '*(n-i)+'*'*(i*2-1))"
   ]
  },
  {
   "cell_type": "code",
   "execution_count": 48,
   "id": "112decad",
   "metadata": {},
   "outputs": [
    {
     "name": "stdout",
     "output_type": "stream",
     "text": [
      "A \n",
      "A A \n",
      "A A A \n",
      "A A A A \n",
      "A A A A A \n",
      "A A A A \n",
      "A A A \n",
      "A A \n",
      "A \n"
     ]
    }
   ],
   "source": [
    "n=5\n",
    "num=65\n",
    "\n",
    "for i in range(1,n+1):\n",
    "    for j in range(i):\n",
    "        print(chr(num),end=' ')\n",
    "    print()\n",
    "for i in range(n-1,0,-1):\n",
    "    for j in range(i):\n",
    "        print(chr(num),end=' ')\n",
    "    print()"
   ]
  },
  {
   "cell_type": "code",
   "execution_count": 53,
   "id": "d02a0ce5",
   "metadata": {},
   "outputs": [
    {
     "name": "stdout",
     "output_type": "stream",
     "text": [
      "A \n",
      "B C \n",
      "D E F \n",
      "G H I J \n",
      "K L M N O \n",
      "P Q R S \n",
      "T U V \n",
      "W X \n",
      "Y \n"
     ]
    }
   ],
   "source": [
    "n=5\n",
    "num=65\n",
    "\n",
    "for i in range(1,n+1):\n",
    "    for j in range(i):\n",
    "        print(chr(num),end=' ')\n",
    "        num+=1\n",
    "    print()\n",
    "for i in range(n-1,0,-1):\n",
    "    for j in range(i):\n",
    "        print(chr(num),end=' ')\n",
    "        num+=1\n",
    "    print()"
   ]
  },
  {
   "cell_type": "code",
   "execution_count": 54,
   "id": "01b83a43",
   "metadata": {},
   "outputs": [
    {
     "name": "stdout",
     "output_type": "stream",
     "text": [
      "1 \n",
      "2 3 \n",
      "4 5 6 \n",
      "7 8 9 10 \n",
      "11 12 13 14 15 \n",
      "16 17 18 19 \n",
      "20 21 22 \n",
      "23 24 \n",
      "25 \n"
     ]
    }
   ],
   "source": [
    "n = 5\n",
    "num = 1\n",
    "for i in range(1,n+1): \n",
    "    for j in range(i):\n",
    "        print(num,end = ' ')\n",
    "        num += 1\n",
    "    print()\n",
    "for i in range(n-1,0,-1): \n",
    "    for j in range(i):\n",
    "        print(num,end = ' ')\n",
    "        num += 1\n",
    "    print()"
   ]
  },
  {
   "cell_type": "markdown",
   "id": "b360c700",
   "metadata": {},
   "source": [
    "#### Flaten_list"
   ]
  },
  {
   "cell_type": "code",
   "execution_count": 56,
   "id": "2c016092",
   "metadata": {},
   "outputs": [
    {
     "name": "stdout",
     "output_type": "stream",
     "text": [
      "[23, 56, 78, 43, 76, 99]\n"
     ]
    }
   ],
   "source": [
    "list1=[[23,56,78],[43,76,99]]\n",
    "\n",
    "flatten_list=[]\n",
    "\n",
    "for i in list1:\n",
    "    for j in i:\n",
    "        flatten_list.append(j)\n",
    "print(flatten_list)"
   ]
  },
  {
   "cell_type": "markdown",
   "id": "7f8a0646",
   "metadata": {},
   "source": [
    "### <span style='color:purple '> 2.While loop </span>"
   ]
  },
  {
   "cell_type": "markdown",
   "id": "cc95276a",
   "metadata": {},
   "source": [
    "while condition:\n",
    "    statement1\n",
    "    statement2\n",
    "    increment "
   ]
  },
  {
   "cell_type": "code",
   "execution_count": 57,
   "id": "f59bde50",
   "metadata": {},
   "outputs": [
    {
     "name": "stdout",
     "output_type": "stream",
     "text": [
      "0\n",
      "1\n",
      "2\n",
      "3\n",
      "4\n"
     ]
    }
   ],
   "source": [
    "for i in range(5):\n",
    "    print(i)"
   ]
  },
  {
   "cell_type": "code",
   "execution_count": 2,
   "id": "83621d76",
   "metadata": {},
   "outputs": [
    {
     "name": "stdout",
     "output_type": "stream",
     "text": [
      "0\n",
      "1\n",
      "2\n",
      "3\n",
      "4\n"
     ]
    }
   ],
   "source": [
    "i=0\n",
    "\n",
    "while i<5:\n",
    "    print(i)\n",
    "    i=i+1\n"
   ]
  },
  {
   "cell_type": "code",
   "execution_count": 4,
   "id": "fb42fc79",
   "metadata": {},
   "outputs": [
    {
     "name": "stdout",
     "output_type": "stream",
     "text": [
      "learning loops\n",
      "learning loops\n",
      "learning loops\n"
     ]
    }
   ],
   "source": [
    "i=0\n",
    "while i<3:\n",
    "    print('learning loops')\n",
    "    i+=1"
   ]
  },
  {
   "cell_type": "code",
   "execution_count": 5,
   "id": "7ae26bc1",
   "metadata": {},
   "outputs": [
    {
     "name": "stdout",
     "output_type": "stream",
     "text": [
      "learning loops\n",
      "learning loops\n",
      "learning loops\n"
     ]
    }
   ],
   "source": [
    "i=0\n",
    "while i<6:\n",
    "    print('learning loops')\n",
    "    i+=2"
   ]
  },
  {
   "cell_type": "code",
   "execution_count": 13,
   "id": "378ba05b",
   "metadata": {},
   "outputs": [
    {
     "name": "stdout",
     "output_type": "stream",
     "text": [
      "Number:5\n",
      "addition of first 5 numbers is 15\n"
     ]
    }
   ],
   "source": [
    "#addition of naturals numbers using for loop\n",
    "n=int(input('Number:'))\n",
    "addition=0\n",
    "\n",
    "for i in range(n+1):\n",
    "    addition+=i\n",
    "print(f'addition of first {n} numbers is {addition}')"
   ]
  },
  {
   "cell_type": "code",
   "execution_count": 12,
   "id": "fe0871f7",
   "metadata": {},
   "outputs": [
    {
     "name": "stdout",
     "output_type": "stream",
     "text": [
      "Number:5\n",
      "addition of first 5 numbers is 15\n"
     ]
    }
   ],
   "source": [
    "#addition of naturals numbers using while loop\n",
    "\n",
    "n=int(input('Number:'))\n",
    "i=0\n",
    "addition=0\n",
    "\n",
    "while i<=n:\n",
    "    addition+=i\n",
    "    i+=1\n",
    "print(f'addition of first {n} numbers is {addition}')    "
   ]
  },
  {
   "cell_type": "code",
   "execution_count": 17,
   "id": "f4e880b6",
   "metadata": {},
   "outputs": [
    {
     "name": "stdout",
     "output_type": "stream",
     "text": [
      "enter number:10\n",
      "multiplication of first 10 natural numbers is 3628800\n"
     ]
    }
   ],
   "source": [
    "#multiplication of naturals numbers \n",
    "n=int(input('enter number:'))\n",
    "multiplication=1\n",
    "\n",
    "i=1\n",
    "while i<=n:\n",
    "    multiplication*=i\n",
    "    i+=1\n",
    "print(f'multiplication of first {n} natural numbers is {multiplication}')"
   ]
  },
  {
   "cell_type": "markdown",
   "id": "024dd7c9",
   "metadata": {},
   "source": [
    "#### Loop control"
   ]
  },
  {
   "cell_type": "markdown",
   "id": "29e5d200",
   "metadata": {},
   "source": [
    "1. break"
   ]
  },
  {
   "cell_type": "code",
   "execution_count": 19,
   "id": "8fcc8e93",
   "metadata": {},
   "outputs": [
    {
     "name": "stdout",
     "output_type": "stream",
     "text": [
      "5\n",
      "6\n",
      "7\n",
      "8\n",
      "Number print\n"
     ]
    }
   ],
   "source": [
    "i=5\n",
    "while i<=10:\n",
    "    print(i)\n",
    "    if i==8:\n",
    "        print('Number print')\n",
    "        break\n",
    "    i+=1"
   ]
  },
  {
   "cell_type": "code",
   "execution_count": 20,
   "id": "ea35c80b",
   "metadata": {},
   "outputs": [
    {
     "name": "stdout",
     "output_type": "stream",
     "text": [
      "5\n",
      "6\n",
      "7\n",
      "Number print\n"
     ]
    }
   ],
   "source": [
    "i=5\n",
    "while i<=10:\n",
    "    print(i)\n",
    "    i+=1\n",
    "    if i==8:\n",
    "        print('Number print')\n",
    "        break\n",
    "    "
   ]
  },
  {
   "cell_type": "markdown",
   "id": "a393ed37",
   "metadata": {},
   "source": [
    "2.continue"
   ]
  },
  {
   "cell_type": "code",
   "execution_count": 21,
   "id": "55de2858",
   "metadata": {},
   "outputs": [
    {
     "name": "stdout",
     "output_type": "stream",
     "text": [
      "5\n",
      "6\n",
      "7\n",
      "8\n",
      "number found\n",
      "9\n",
      "10\n"
     ]
    }
   ],
   "source": [
    "i=5\n",
    "\n",
    "while i<=10:\n",
    "    print(i)\n",
    "    if i==8:\n",
    "        print('number found')\n",
    "    i+=1\n",
    "    continue"
   ]
  },
  {
   "cell_type": "code",
   "execution_count": 22,
   "id": "73f5abe7",
   "metadata": {},
   "outputs": [
    {
     "name": "stdout",
     "output_type": "stream",
     "text": [
      "5\n",
      "6\n",
      "7\n",
      "number found\n",
      "8\n",
      "9\n",
      "10\n"
     ]
    }
   ],
   "source": [
    "i=5\n",
    "\n",
    "while i<=10:\n",
    "    print(i)\n",
    "    i+=1\n",
    "    if i==8:\n",
    "        print('number found')\n",
    "    continue"
   ]
  },
  {
   "cell_type": "code",
   "execution_count": 24,
   "id": "1f1e8cf0",
   "metadata": {},
   "outputs": [
    {
     "name": "stdout",
     "output_type": "stream",
     "text": [
      "A\n",
      "m\n",
      "i\n",
      "s\n",
      "h\n",
      "a\n"
     ]
    }
   ],
   "source": [
    "#print characters from string\n",
    "string='Amisha'\n",
    "i=0\n",
    "\n",
    "while i<len(string):\n",
    "    print(string[i])\n",
    "    i+=1"
   ]
  },
  {
   "cell_type": "code",
   "execution_count": 25,
   "id": "6287e05f",
   "metadata": {},
   "outputs": [
    {
     "name": "stdout",
     "output_type": "stream",
     "text": [
      "Char at index 0 is p\n",
      "Char at index 1 is y\n",
      "Char at index 2 is t\n",
      "Char at index 3 is h\n",
      "Char at index 4 is o\n",
      "Char at index 5 is n\n"
     ]
    }
   ],
   "source": [
    "string = 'python'\n",
    "i = 0\n",
    "while i < len(string): # i < 6\n",
    "    print(f'Char at index {i} is {string[i]}')\n",
    "    i += 1"
   ]
  },
  {
   "cell_type": "code",
   "execution_count": 26,
   "id": "8598f90b",
   "metadata": {},
   "outputs": [
    {
     "name": "stdout",
     "output_type": "stream",
     "text": [
      "value at index 0 is 20\n",
      "value at index 1 is 30\n",
      "value at index 2 is 10\n",
      "value at index 3 is 45\n",
      "value at index 4 is 25\n"
     ]
    }
   ],
   "source": [
    "numbers = [20,30,10,45,25]\n",
    "i = 0\n",
    "while i < len(numbers):\n",
    "    print(f'value at index {i} is {numbers[i]}')\n",
    "    i += 1"
   ]
  },
  {
   "cell_type": "code",
   "execution_count": 27,
   "id": "02fb70f9",
   "metadata": {},
   "outputs": [
    {
     "name": "stdout",
     "output_type": "stream",
     "text": [
      "factorial of 5 is 120\n"
     ]
    }
   ],
   "source": [
    "#factorial\n",
    "fact=1\n",
    "n=5\n",
    "i=n\n",
    "\n",
    "while i>=1:\n",
    "    fact=fact*i\n",
    "    i=i-1\n",
    "print(f'factorial of {n} is {fact}')"
   ]
  },
  {
   "cell_type": "code",
   "execution_count": 28,
   "id": "98f3ce8d",
   "metadata": {},
   "outputs": [
    {
     "name": "stdout",
     "output_type": "stream",
     "text": [
      "10*1=10\n",
      "10*2=20\n",
      "10*3=30\n",
      "10*4=40\n",
      "10*5=50\n",
      "10*6=60\n",
      "10*7=70\n",
      "10*8=80\n",
      "10*9=90\n",
      "10*10=100\n"
     ]
    }
   ],
   "source": [
    "#table\n",
    "n=10\n",
    "i=1\n",
    "\n",
    "while i<=10:\n",
    "    print(f'{n}*{i}={n*i}')\n",
    "    i+=1"
   ]
  },
  {
   "cell_type": "code",
   "execution_count": null,
   "id": "caf9b014",
   "metadata": {},
   "outputs": [],
   "source": [
    "#end"
   ]
  }
 ],
 "metadata": {
  "kernelspec": {
   "display_name": "Python 3 (ipykernel)",
   "language": "python",
   "name": "python3"
  },
  "language_info": {
   "codemirror_mode": {
    "name": "ipython",
    "version": 3
   },
   "file_extension": ".py",
   "mimetype": "text/x-python",
   "name": "python",
   "nbconvert_exporter": "python",
   "pygments_lexer": "ipython3",
   "version": "3.9.7"
  }
 },
 "nbformat": 4,
 "nbformat_minor": 5
}
