{
 "cells": [
  {
   "cell_type": "markdown",
   "id": "f9a763df",
   "metadata": {},
   "source": [
    "## Assignment:8"
   ]
  },
  {
   "cell_type": "code",
   "execution_count": null,
   "id": "01d6f404",
   "metadata": {},
   "outputs": [],
   "source": [
    "Topic: Object-Oriented Programming"
   ]
  },
  {
   "cell_type": "markdown",
   "id": "da1e2f2d",
   "metadata": {},
   "source": [
    "#### 1. What Is Object-Oriented Programming?\n"
   ]
  },
  {
   "cell_type": "markdown",
   "id": "63f47c69",
   "metadata": {},
   "source": [
    "#### 2. Difference between Procedural programming and OOPs?"
   ]
  },
  {
   "cell_type": "markdown",
   "id": "a606d1a8",
   "metadata": {},
   "source": [
    "#### 3. What are the fundamental principles/features of Object-Oriented Programming?\n"
   ]
  },
  {
   "cell_type": "markdown",
   "id": "4ff52825",
   "metadata": {},
   "source": [
    "#### 4. What is an object?\n"
   ]
  },
  {
   "cell_type": "markdown",
   "id": "100317b6",
   "metadata": {},
   "source": [
    "#### 5. What is a class?"
   ]
  },
  {
   "cell_type": "markdown",
   "id": "10275296",
   "metadata": {},
   "source": [
    "#### 6. What is the difference between a class and an object?\n"
   ]
  },
  {
   "cell_type": "markdown",
   "id": "ae837b55",
   "metadata": {},
   "source": [
    "#### 7. Can you call the base class method without creating an instance?\n"
   ]
  },
  {
   "cell_type": "markdown",
   "id": "35927be1",
   "metadata": {},
   "source": [
    "#### 8. What is inheritance?\n"
   ]
  },
  {
   "cell_type": "markdown",
   "id": "fb4cad3e",
   "metadata": {},
   "source": [
    "#### 9. What are the different types of inheritance?"
   ]
  },
  {
   "cell_type": "markdown",
   "id": "1264f690",
   "metadata": {},
   "source": [
    "#### 10. What is the difference between multiple and multilevel inheritances?"
   ]
  },
  {
   "cell_type": "markdown",
   "id": "cc8e79cb",
   "metadata": {},
   "source": [
    "#### 11. What are the limitations of inheritance?\n"
   ]
  },
  {
   "cell_type": "markdown",
   "id": "08ff4765",
   "metadata": {},
   "source": [
    "#### 12. What are the superclass and subclass?"
   ]
  },
  {
   "cell_type": "markdown",
   "id": "39888a55",
   "metadata": {},
   "source": [
    "#### 13. What is the super keyword?"
   ]
  },
  {
   "cell_type": "markdown",
   "id": "4252eec2",
   "metadata": {},
   "source": [
    "#### 14. What is encapsulation?"
   ]
  },
  {
   "cell_type": "markdown",
   "id": "1a3a004d",
   "metadata": {},
   "source": [
    "#### 15. What is the name mangling and how does it work?"
   ]
  },
  {
   "cell_type": "markdown",
   "id": "e5c00ea3",
   "metadata": {},
   "source": [
    "#### 16. What is the difference between public and private access modifiers?\n"
   ]
  },
  {
   "cell_type": "markdown",
   "id": "c23f403e",
   "metadata": {},
   "source": [
    "#### 17. Is Python 100 percent object-oriented?\n"
   ]
  },
  {
   "cell_type": "markdown",
   "id": "747e2ff6",
   "metadata": {},
   "source": [
    "#### 18. What is data abstraction?\n"
   ]
  },
  {
   "cell_type": "markdown",
   "id": "5ff824b0",
   "metadata": {},
   "source": [
    "#### 19. How to achieve data abstraction?"
   ]
  },
  {
   "cell_type": "markdown",
   "id": "8b0d1541",
   "metadata": {},
   "source": [
    "#### 20. What is an abstract class?\n"
   ]
  },
  {
   "cell_type": "markdown",
   "id": "08aa87dc",
   "metadata": {},
   "source": [
    "#### 21. Can you create an object of an abstract class?"
   ]
  },
  {
   "cell_type": "markdown",
   "id": "2f22698c",
   "metadata": {},
   "source": [
    "#### 22. Differentiate between data abstraction and encapsulation"
   ]
  },
  {
   "cell_type": "markdown",
   "id": "5a1e4b50",
   "metadata": {},
   "source": [
    "#### 23. What is polymorphism?\n"
   ]
  },
  {
   "cell_type": "markdown",
   "id": "f278b386",
   "metadata": {},
   "source": [
    "#### 24. What is the overloading method?"
   ]
  },
  {
   "cell_type": "markdown",
   "id": "73bbf1bf",
   "metadata": {},
   "source": [
    "#### 25. What are the limitations of OOPs?"
   ]
  },
  {
   "cell_type": "markdown",
   "id": "308dc7d0",
   "metadata": {},
   "source": [
    "#### 26.Write a program to find the occurrence and position of the substrings within a string."
   ]
  },
  {
   "cell_type": "markdown",
   "id": "d14b991c",
   "metadata": {},
   "source": [
    "#### 27.Write a code to replace whitespaces with an underscore and vice versa."
   ]
  },
  {
   "cell_type": "markdown",
   "id": "78821312",
   "metadata": {},
   "source": [
    "#### 28.How would you remove all whitespaces from a string?\n"
   ]
  },
  {
   "cell_type": "markdown",
   "id": "d9374f47",
   "metadata": {},
   "source": [
    "#### 29.Write a Python program to match if two words from a list of words starting with the letter 'P'\n"
   ]
  },
  {
   "cell_type": "markdown",
   "id": "c78ea368",
   "metadata": {},
   "source": [
    "#### 30.Write a code to find all words starting with 'a' or 'e' in a given string."
   ]
  },
  {
   "cell_type": "markdown",
   "id": "af01d27a",
   "metadata": {},
   "source": [
    "#### 31.Write a Python program to separate and print the numbers and their position of a given string.\n"
   ]
  },
  {
   "cell_type": "markdown",
   "id": "7b0f8874",
   "metadata": {},
   "source": [
    "#### 32.Write a Python program to replace all occurrences of space, comma, or dot with a colon"
   ]
  },
  {
   "cell_type": "markdown",
   "id": "825276b7",
   "metadata": {},
   "source": [
    "#### 33.Write a program to replace maximum 2 occurrences of space, comma, or dot with a colon"
   ]
  },
  {
   "cell_type": "markdown",
   "id": "eed00b2f",
   "metadata": {},
   "source": [
    "#### 34.Write a Python program to find all three, four, five characters long words in a string."
   ]
  },
  {
   "cell_type": "markdown",
   "id": "8ce8c149",
   "metadata": {},
   "source": [
    "#### 35.Write a program to extract values between quotation marks of a string.\n"
   ]
  },
  {
   "cell_type": "markdown",
   "id": "de3e9ca3",
   "metadata": {},
   "source": [
    "#### 36.How would you remove multiple spaces in a string"
   ]
  },
  {
   "cell_type": "code",
   "execution_count": null,
   "id": "2fb528a2",
   "metadata": {},
   "outputs": [],
   "source": []
  }
 ],
 "metadata": {
  "kernelspec": {
   "display_name": "Python 3 (ipykernel)",
   "language": "python",
   "name": "python3"
  },
  "language_info": {
   "codemirror_mode": {
    "name": "ipython",
    "version": 3
   },
   "file_extension": ".py",
   "mimetype": "text/x-python",
   "name": "python",
   "nbconvert_exporter": "python",
   "pygments_lexer": "ipython3",
   "version": "3.9.7"
  }
 },
 "nbformat": 4,
 "nbformat_minor": 5
}
