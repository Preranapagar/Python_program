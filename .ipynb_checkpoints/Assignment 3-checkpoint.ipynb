{
 "cells": [
  {
   "cell_type": "markdown",
   "id": "0f7b1b04",
   "metadata": {},
   "source": [
    "## Assignment: 3"
   ]
  },
  {
   "cell_type": "markdown",
   "id": "8b982ea1",
   "metadata": {},
   "source": [
    "Topic: Patterns and loops"
   ]
  },
  {
   "cell_type": "markdown",
   "id": "2b42051e",
   "metadata": {},
   "source": [
    "Write a Python Program to print below Patterns using For and\n",
    "While Loop:"
   ]
  },
  {
   "cell_type": "markdown",
   "id": "13bc8324",
   "metadata": {},
   "source": [
    "### Simple Pyramid"
   ]
  },
  {
   "cell_type": "markdown",
   "id": "da2a9c8b",
   "metadata": {},
   "source": [
    "\n",
    "*\n",
    "* *\n",
    "* * *\n",
    "* * * *\n",
    "* * * * *"
   ]
  },
  {
   "cell_type": "code",
   "execution_count": 3,
   "id": "11c4b134",
   "metadata": {},
   "outputs": [
    {
     "name": "stdout",
     "output_type": "stream",
     "text": [
      "5\n",
      "\n",
      "* \n",
      "* * \n",
      "* * * \n",
      "* * * * \n",
      "* * * * * \n"
     ]
    }
   ],
   "source": [
    "#using for loop\n",
    "n=int(input())\n",
    "for i in range(n+1):\n",
    "    print('* '*i)"
   ]
  },
  {
   "cell_type": "code",
   "execution_count": 12,
   "id": "83f1e407",
   "metadata": {
    "scrolled": true
   },
   "outputs": [
    {
     "name": "stdout",
     "output_type": "stream",
     "text": [
      "* \r\n",
      "* * \r\n",
      "* * * \r\n",
      "* * * * \r\n",
      "* * * * * \r\n"
     ]
    }
   ],
   "source": [
    "def pypart(n):\n",
    "    for i in range(0,n):\n",
    "        for j in range(0,i+1):\n",
    "            print('*',end=' ')\n",
    "        print('\\r')\n",
    "pypart(5)"
   ]
  },
  {
   "cell_type": "code",
   "execution_count": 15,
   "id": "c8f220d0",
   "metadata": {},
   "outputs": [
    {
     "name": "stdout",
     "output_type": "stream",
     "text": [
      "5\n",
      "* \n",
      "* * \n",
      "* * * \n",
      "* * * * \n",
      "* * * * * \n"
     ]
    }
   ],
   "source": [
    "#using list\n",
    "n=int(input())\n",
    "mylist=[]\n",
    "\n",
    "for i in range(1,n+1):\n",
    "    mylist.append('* '*i)\n",
    "print('\\n'.join(mylist))"
   ]
  },
  {
   "cell_type": "markdown",
   "id": "bd215bfc",
   "metadata": {},
   "source": [
    "2:\n",
    "        *\n",
    "      * *\n",
    "    * * *\n",
    "  * * * *\n",
    "* * * * *"
   ]
  },
  {
   "cell_type": "code",
   "execution_count": 36,
   "id": "73b35d81",
   "metadata": {},
   "outputs": [
    {
     "name": "stdout",
     "output_type": "stream",
     "text": [
      "5\n",
      "           \n",
      "         * \n",
      "       * * \n",
      "     * * * \n",
      "   * * * * \n",
      " * * * * * \n"
     ]
    }
   ],
   "source": [
    "n=int(input())\n",
    "\n",
    "for i in range(n+1):\n",
    "    print('  '*(n-i),'* '*i)"
   ]
  },
  {
   "cell_type": "code",
   "execution_count": 40,
   "id": "65837977",
   "metadata": {},
   "outputs": [
    {
     "name": "stdout",
     "output_type": "stream",
     "text": [
      "        * \r\n",
      "      * * \r\n",
      "    * * * \r\n",
      "  * * * * \r\n",
      "* * * * * \r\n"
     ]
    }
   ],
   "source": [
    "n=5\n",
    "k=n*2-2\n",
    "\n",
    "for i in range(n):\n",
    "    for j in range(k):\n",
    "        print(end=' ')\n",
    "    k=k-2\n",
    "    for j in range(i+1):\n",
    "        print('*',end=' ')\n",
    "    print('\\r')"
   ]
  },
  {
   "cell_type": "markdown",
   "id": "26c4873b",
   "metadata": {},
   "source": [
    "3: cristmas tree\n",
    "    *\n",
    "   * *\n",
    "  * * *\n",
    " * * * *\n",
    "* * * * *   "
   ]
  },
  {
   "cell_type": "code",
   "execution_count": 49,
   "id": "9a093758",
   "metadata": {},
   "outputs": [
    {
     "name": "stdout",
     "output_type": "stream",
     "text": [
      "    * \n",
      "   * * \n",
      "  * * * \n",
      " * * * * \n",
      "* * * * * \n"
     ]
    }
   ],
   "source": [
    "\n",
    "n=5\n",
    "for i in range(1,n+1):\n",
    "    print(' '* (n-i)+'* '*i)"
   ]
  },
  {
   "cell_type": "markdown",
   "id": "098b8861",
   "metadata": {},
   "source": [
    "4:\n",
    "1\n",
    "1 2\n",
    "1 2 3\n",
    "1 2 3 4\n",
    "1 2 3 4 5"
   ]
  },
  {
   "cell_type": "code",
   "execution_count": 56,
   "id": "638c603e",
   "metadata": {},
   "outputs": [
    {
     "name": "stdout",
     "output_type": "stream",
     "text": [
      "1 \n",
      "1 2 \n",
      "1 2 3 \n",
      "1 2 3 4 \n",
      "1 2 3 4 5 \n"
     ]
    }
   ],
   "source": [
    "n=5\n",
    "\n",
    "for i in range(1,n+1):\n",
    "    num=1\n",
    "    for j in range(i):\n",
    "        print(num,end=' ')\n",
    "        num+=1\n",
    "    print()"
   ]
  },
  {
   "cell_type": "markdown",
   "id": "f9e8f606",
   "metadata": {},
   "source": [
    "5:\n",
    "1\n",
    "2 3\n",
    "4 5 6\n",
    "7 8 9 10\n",
    "11 12 13 14 15\n"
   ]
  },
  {
   "cell_type": "code",
   "execution_count": 62,
   "id": "6f462ac4",
   "metadata": {},
   "outputs": [
    {
     "name": "stdout",
     "output_type": "stream",
     "text": [
      "1 \n",
      "2 3 \n",
      "4 5 6 \n",
      "7 8 9 10 \n",
      "11 12 13 14 15 \n"
     ]
    }
   ],
   "source": [
    "n=5\n",
    "num=1\n",
    "for i in range(1,n+1):\n",
    "    for j in range(i):\n",
    "        print(num,end=' ')\n",
    "        num+=1\n",
    "    print()"
   ]
  },
  {
   "cell_type": "markdown",
   "id": "41f688ba",
   "metadata": {},
   "source": [
    "6:\n",
    "A \n",
    "B B\n",
    "C C C\n",
    "D D D D\n",
    "E E E E E"
   ]
  },
  {
   "cell_type": "code",
   "execution_count": 72,
   "id": "c4b7d54e",
   "metadata": {},
   "outputs": [
    {
     "name": "stdout",
     "output_type": "stream",
     "text": [
      "A \n",
      "B B \n",
      "C C C \n",
      "D D D D \n",
      "E E E E E \n"
     ]
    }
   ],
   "source": [
    "n=5\n",
    "num=65\n",
    "\n",
    "for i in range(0,n):\n",
    "   \n",
    "    for j in range(0,i+1):\n",
    "        ch=chr(num)\n",
    "        print(ch,end=' ')\n",
    "    num+=1\n",
    "    print()"
   ]
  },
  {
   "cell_type": "markdown",
   "id": "162882fd",
   "metadata": {},
   "source": [
    "7:\n",
    "A\n",
    "B C\n",
    "D E F\n",
    "G H I J\n",
    "K L M N O"
   ]
  },
  {
   "cell_type": "code",
   "execution_count": 73,
   "id": "cf0cb98d",
   "metadata": {},
   "outputs": [
    {
     "name": "stdout",
     "output_type": "stream",
     "text": [
      "A \n",
      "B C \n",
      "D E F \n",
      "G H I J \n",
      "K L M N O \n"
     ]
    }
   ],
   "source": [
    "n = 5\n",
    "num = 65\n",
    "for i in range(0,n): \n",
    "    for j in range(0,i+1):\n",
    "        ch=chr(num)\n",
    "        print(ch,end = ' ')\n",
    "        num += 1\n",
    "    print()"
   ]
  },
  {
   "cell_type": "markdown",
   "id": "09b721cf",
   "metadata": {},
   "source": [
    "8:\n",
    "K\n",
    "K K\n",
    "K K K\n",
    "K K K K\n",
    "K K K K K\n"
   ]
  },
  {
   "cell_type": "code",
   "execution_count": 74,
   "id": "c33a12d5",
   "metadata": {},
   "outputs": [
    {
     "name": "stdout",
     "output_type": "stream",
     "text": [
      "K \n",
      "K K \n",
      "K K K \n",
      "K K K K \n",
      "K K K K K \n"
     ]
    }
   ],
   "source": [
    "\n",
    "for i in range(0,5):\n",
    "    for j in range(0,i+1):\n",
    "        print('K',end=\" \")\n",
    "    print()  "
   ]
  },
  {
   "cell_type": "code",
   "execution_count": 75,
   "id": "0c27786a",
   "metadata": {},
   "outputs": [
    {
     "name": "stdout",
     "output_type": "stream",
     "text": [
      "A \n",
      "A B \n",
      "A B C \n",
      "A B C D \n",
      "A B C D E \n"
     ]
    }
   ],
   "source": [
    "#9\n",
    "n=5\n",
    "num=65\n",
    "for i in range(1,n+1):\n",
    "    num=65\n",
    "    for j in range(i):\n",
    "        print(chr(num),end=' ')\n",
    "        num+=1\n",
    "    print()"
   ]
  },
  {
   "cell_type": "code",
   "execution_count": 76,
   "id": "83d7dc67",
   "metadata": {},
   "outputs": [
    {
     "name": "stdout",
     "output_type": "stream",
     "text": [
      "P\n",
      "Py\n",
      "Pyt\n",
      "Pyth\n",
      "Pytho\n",
      "Python\n"
     ]
    }
   ],
   "source": [
    "#10\n",
    "str1='Python'\n",
    "ch=''\n",
    "for i in str1:\n",
    "    ch=ch+i\n",
    "    print(ch)"
   ]
  },
  {
   "cell_type": "code",
   "execution_count": 77,
   "id": "935d3bfd",
   "metadata": {},
   "outputs": [
    {
     "name": "stdout",
     "output_type": "stream",
     "text": [
      "1 1 1 1 1 \n",
      "2 2 2 2 \n",
      "3 3 3 \n",
      "4 4 \n",
      "5 \n"
     ]
    }
   ],
   "source": [
    "#11\n",
    "num=1\n",
    "for i in range(6,1,-1):\n",
    "    for j in range(i-1):\n",
    "        print(num,end=' ')\n",
    "    num+=1\n",
    "    print()\n"
   ]
  },
  {
   "cell_type": "code",
   "execution_count": 78,
   "id": "3b15c28e",
   "metadata": {},
   "outputs": [
    {
     "name": "stdout",
     "output_type": "stream",
     "text": [
      "1 1 1 1 1 \n",
      "2 2 2 2 \n",
      "3 3 3 \n",
      "4 4 \n",
      "5 \n"
     ]
    }
   ],
   "source": [
    "#11\n",
    "i=1\n",
    "while i <=5:\n",
    "    j=5\n",
    "    while j>=i:\n",
    "        print(i,end=\" \")\n",
    "        j-=1\n",
    "    print()\n",
    "    i+=1"
   ]
  },
  {
   "cell_type": "code",
   "execution_count": 79,
   "id": "8b3858b2",
   "metadata": {},
   "outputs": [
    {
     "name": "stdout",
     "output_type": "stream",
     "text": [
      "6 6 6 6 6 6 \n",
      "5 5 5 5 5 \n",
      "4 4 4 4 \n",
      "3 3 3 \n",
      "2 2 \n",
      "1 \n"
     ]
    }
   ],
   "source": [
    "#12\n",
    "num=6\n",
    "for i in range(7,1,-1):\n",
    "    for j in range(i-1):\n",
    "        print(num,end=' ')\n",
    "    num-=1\n",
    "    print()"
   ]
  },
  {
   "cell_type": "code",
   "execution_count": 80,
   "id": "bfcb4eda",
   "metadata": {},
   "outputs": [
    {
     "name": "stdout",
     "output_type": "stream",
     "text": [
      "0 1 2 3 4 5 \n",
      "0 1 2 3 4 \n",
      "0 1 2 3 \n",
      "0 1 2 \n",
      "0 1 \n"
     ]
    }
   ],
   "source": [
    "#13\n",
    "for i in range(6,1,-1):\n",
    "    for j in range(i):\n",
    "        print(j,end=' ')\n",
    "    print()\n"
   ]
  },
  {
   "cell_type": "code",
   "execution_count": 81,
   "id": "d33e7ec8",
   "metadata": {},
   "outputs": [
    {
     "name": "stdout",
     "output_type": "stream",
     "text": [
      "1 \n",
      "2 3 4 \n",
      "5 6 7 8 9 \n"
     ]
    }
   ],
   "source": [
    "#14\n",
    "num=1\n",
    "n=0\n",
    "for i in range(1,4):\n",
    "    I=2*n+1\n",
    "    for j in range(I):\n",
    "        print(num,end=' ')\n",
    "        num+=1\n",
    "    n+=1\n",
    "    print()"
   ]
  },
  {
   "cell_type": "code",
   "execution_count": 82,
   "id": "23df8437",
   "metadata": {},
   "outputs": [
    {
     "name": "stdout",
     "output_type": "stream",
     "text": [
      "6 5 4 3 2 1 \n",
      "5 4 3 2 1 \n",
      "4 3 2 1 \n",
      "3 2 1 \n",
      "2 1 \n",
      "1 \n"
     ]
    }
   ],
   "source": [
    "#15\n",
    "for i in range(6,0,-1):\n",
    "    for j in range(i,0,-1):\n",
    "        print(j,end=' ')\n",
    "    print()"
   ]
  },
  {
   "cell_type": "code",
   "execution_count": 83,
   "id": "958d3a4c",
   "metadata": {},
   "outputs": [
    {
     "name": "stdout",
     "output_type": "stream",
     "text": [
      "1 \n",
      "3 3 \n",
      "5 5 5 \n",
      "7 7 7 7 \n",
      "9 9 9 9 9 \n"
     ]
    }
   ],
   "source": [
    "#16\n",
    "n=1\n",
    "for i in range(1,6):\n",
    "    for j in range(i):\n",
    "        print(n,end=' ')\n",
    "    n+=2\n",
    "    print()\n"
   ]
  },
  {
   "cell_type": "code",
   "execution_count": 84,
   "id": "f1297dc8",
   "metadata": {},
   "outputs": [
    {
     "name": "stdout",
     "output_type": "stream",
     "text": [
      "1 \n",
      "1 2 \n",
      "1 2 3 \n",
      "1 2 3 4 \n",
      "1 2 3 4 5 \n"
     ]
    }
   ],
   "source": [
    "#17\n",
    "for i in range(1,6):\n",
    "    for j in range(i):\n",
    "        print(j+1,end=\" \")\n",
    "    print()"
   ]
  },
  {
   "cell_type": "code",
   "execution_count": 85,
   "id": "3d7662b7",
   "metadata": {},
   "outputs": [
    {
     "name": "stdout",
     "output_type": "stream",
     "text": [
      "1 2 3 4 5 \n",
      "2 2 3 4 5 \n",
      "3 3 3 4 5 \n",
      "4 4 4 4 5 \n",
      "5 5 5 5 5 \n"
     ]
    }
   ],
   "source": [
    "#18 using for loop\n",
    "for i in range(1,6):\n",
    "    for j in range(1,6):\n",
    "        if j<=i:\n",
    "            print(i,end=\" \")\n",
    "        else:\n",
    "            print(j,end=\" \")\n",
    "    print()"
   ]
  },
  {
   "cell_type": "code",
   "execution_count": 86,
   "id": "e2c21ba4",
   "metadata": {},
   "outputs": [
    {
     "name": "stdout",
     "output_type": "stream",
     "text": [
      "1 2 3 4 5 \n",
      "2 2 3 4 5 \n",
      "3 3 3 4 5 \n",
      "4 4 4 4 5 \n",
      "5 5 5 5 5 \n"
     ]
    }
   ],
   "source": [
    "#18 using while loop\n",
    "i=1\n",
    "while i<6:\n",
    "    j=1\n",
    "    while j<6:\n",
    "        if j<=i:\n",
    "            print(i,end=\" \")\n",
    "        else:\n",
    "            print(j,end=\" \")\n",
    "        j+=1\n",
    "    i+=1\n",
    "    print()"
   ]
  },
  {
   "cell_type": "code",
   "execution_count": 87,
   "id": "eccad086",
   "metadata": {},
   "outputs": [
    {
     "name": "stdout",
     "output_type": "stream",
     "text": [
      "1 \n",
      "2 4 \n",
      "3 6 9 \n",
      "4 8 12 16 \n",
      "5 10 15 20 25 \n",
      "6 12 18 24 30 36 \n",
      "7 14 21 28 35 42 49 \n"
     ]
    }
   ],
   "source": [
    "#19 Using for loop\n",
    "n=1\n",
    "for i in range(1,8):\n",
    "    m=1\n",
    "    for j in range(i):\n",
    "        print(m*n,end=\" \")\n",
    "        m+=1\n",
    "    n+=1\n",
    "    print()"
   ]
  },
  {
   "cell_type": "code",
   "execution_count": 88,
   "id": "91e44359",
   "metadata": {},
   "outputs": [
    {
     "name": "stdout",
     "output_type": "stream",
     "text": [
      "1 \n",
      "2 4 \n",
      "3 6 9 \n",
      "4 8 12 16 \n",
      "5 10 15 20 25 \n",
      "6 12 18 24 30 36 \n",
      "7 14 21 28 35 42 49 \n"
     ]
    }
   ],
   "source": [
    "#19 Using while loop\n",
    "i=1\n",
    "while i<8:\n",
    "    j=1\n",
    "    n=1\n",
    "    while j <=i:\n",
    "        print(i*j,end=\" \")\n",
    "        j+=1\n",
    "    i+=1\n",
    "    print()"
   ]
  },
  {
   "cell_type": "code",
   "execution_count": 89,
   "id": "26f15e30",
   "metadata": {},
   "outputs": [
    {
     "name": "stdout",
     "output_type": "stream",
     "text": [
      "1 \n",
      "2 1 \n",
      "4 2 1 \n",
      "8 4 2 1 \n",
      "16 8 4 2 1 \n",
      "32 16 8 4 2 1 \n",
      "64 32 16 8 4 2 1 \n",
      "128 64 32 16 8 4 2 1 \n"
     ]
    }
   ],
   "source": [
    "#20 Using for loop\n",
    "for i in range(1,9):\n",
    "    for j in range(i-1,-1,-1):\n",
    "        print(2**j,end=\" \")\n",
    "    print()\n"
   ]
  },
  {
   "cell_type": "code",
   "execution_count": 92,
   "id": "98e053b8",
   "metadata": {},
   "outputs": [
    {
     "name": "stdout",
     "output_type": "stream",
     "text": [
      "* * * * * *                                *  *  *  *  *  *  \n",
      "* * * * *                                     *  *  *  *  *  \n",
      "* * * *                                          *  *  *  *  \n",
      "* * *                                               *  *  *  \n",
      "* *                                                    *  *  \n",
      "*                                                         *  \n"
     ]
    }
   ],
   "source": [
    "#21\n",
    "m=6\n",
    "n=0\n",
    "for i in range(m,0,-1):\n",
    "    print(\"* \"*i +' '*m*5 + \" * \"*i,end=' ')\n",
    "    m+=1\n",
    "    print()"
   ]
  },
  {
   "cell_type": "code",
   "execution_count": 93,
   "id": "5a07993f",
   "metadata": {},
   "outputs": [
    {
     "name": "stdout",
     "output_type": "stream",
     "text": [
      "* \n",
      "* * \n",
      "* * * \n",
      "* * * * \n",
      "* * * * * \n",
      "* * * * * * \n",
      "* * * * * * \n",
      "* * * * * \n",
      "* * * * \n",
      "* * * \n",
      "* * \n",
      "* \n"
     ]
    }
   ],
   "source": [
    "#22\n",
    "for i in range(1,7):# 0,1,2,3,4,5,6\n",
    "    for j in range(i):\n",
    "        print('*',end=' ')\n",
    "    print() \n",
    "for x in range(6,0,-1):\n",
    "    for y in range(x):\n",
    "        print('*',end=' ') \n",
    "    print()\n"
   ]
  },
  {
   "cell_type": "code",
   "execution_count": 94,
   "id": "9f4a0512",
   "metadata": {},
   "outputs": [
    {
     "name": "stdout",
     "output_type": "stream",
     "text": [
      "* \n",
      "* * \n",
      "* * * \n",
      "* * * * \n",
      "* * * * * \n",
      "* * * * * * \n",
      "\n",
      "* * * * * * \n",
      "* * * * * \n",
      "* * * * \n",
      "* * * \n",
      "* * \n",
      "* \n"
     ]
    }
   ],
   "source": [
    "#23\n",
    "for i in range(1,7):# 0,1,2,3,4,5,6\n",
    "    for j in range(i):\n",
    "        print('*',end=' ')\n",
    "    print() \n",
    "print()\n",
    "for x in range(6,0,-1):\n",
    "    for y in range(x):\n",
    "        print('*',end=' ') \n",
    "    print()"
   ]
  },
  {
   "cell_type": "code",
   "execution_count": null,
   "id": "75d9d636",
   "metadata": {},
   "outputs": [],
   "source": [
    "#end"
   ]
  }
 ],
 "metadata": {
  "kernelspec": {
   "display_name": "Python 3 (ipykernel)",
   "language": "python",
   "name": "python3"
  },
  "language_info": {
   "codemirror_mode": {
    "name": "ipython",
    "version": 3
   },
   "file_extension": ".py",
   "mimetype": "text/x-python",
   "name": "python",
   "nbconvert_exporter": "python",
   "pygments_lexer": "ipython3",
   "version": "3.9.7"
  }
 },
 "nbformat": 4,
 "nbformat_minor": 5
}
