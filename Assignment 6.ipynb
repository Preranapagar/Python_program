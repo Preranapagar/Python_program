{
 "cells": [
  {
   "cell_type": "markdown",
   "id": "1c5cc943",
   "metadata": {},
   "source": [
    "## Assignment :6"
   ]
  },
  {
   "cell_type": "markdown",
   "id": "5dfe92e5",
   "metadata": {},
   "source": [
    "Topic: Lambda Function, Built in function"
   ]
  },
  {
   "cell_type": "markdown",
   "id": "f2380166",
   "metadata": {},
   "source": [
    "#### 1. Write a Python program to sort a list of tuples using Lambda.\n"
   ]
  },
  {
   "cell_type": "markdown",
   "id": "79d8df93",
   "metadata": {},
   "source": [
    "#### 2. Write a Python program to sort a list of dictionaries using Lambda"
   ]
  },
  {
   "cell_type": "markdown",
   "id": "9cbcb9ad",
   "metadata": {},
   "source": [
    "#### 3. Write a Python program to find square and cube every number in a given list of integers using Lambda"
   ]
  },
  {
   "cell_type": "markdown",
   "id": "7df91c77",
   "metadata": {},
   "source": [
    "#### 4. Write a Python program to find if a given string starts with a given character using Lambda"
   ]
  },
  {
   "cell_type": "markdown",
   "id": "db73d10a",
   "metadata": {},
   "source": [
    "#### 5. Write a Python program to check whether a given string is number or not using Lambda\n"
   ]
  },
  {
   "cell_type": "markdown",
   "id": "c660ea1e",
   "metadata": {},
   "source": [
    "#### 6. Write a Python program to create Fibonacci series using Lambda"
   ]
  },
  {
   "cell_type": "markdown",
   "id": "972efba5",
   "metadata": {},
   "source": [
    "#### 7. Write a Python program to find the intersection of two given arrays using Lambda"
   ]
  },
  {
   "cell_type": "markdown",
   "id": "0275e040",
   "metadata": {},
   "source": [
    "#### 8. Write a Python program to rearrange positive and negative numbers in a given array using Lambda"
   ]
  },
  {
   "cell_type": "markdown",
   "id": "559268c1",
   "metadata": {},
   "source": [
    "#### 9. Write a Python program to count the even, odd numbers in a given array of integers using Lambda\n"
   ]
  },
  {
   "cell_type": "markdown",
   "id": "37d96b11",
   "metadata": {},
   "source": [
    "#### 10. Write a Python program to add two given lists using map and lambda\n"
   ]
  },
  {
   "cell_type": "markdown",
   "id": "fc7995a0",
   "metadata": {},
   "source": [
    "#### 11. Write a Python program to find numbers divisible by nineteen or thirteen from a list of numbers using Lambda\n"
   ]
  },
  {
   "cell_type": "markdown",
   "id": "ee3350d6",
   "metadata": {},
   "source": [
    "#### 12. Write a Python program to find palindromes in a given list of strings using Lambda"
   ]
  },
  {
   "cell_type": "markdown",
   "id": "15844a38",
   "metadata": {},
   "source": [
    "#### 13. Write a Python program to find all anagrams of a string in a given list of strings using lambda"
   ]
  },
  {
   "cell_type": "markdown",
   "id": "93ddeed3",
   "metadata": {},
   "source": [
    "#### 14. Write a Python program that multiplies each number of a given list with a given number using lambda function. Print the result\n"
   ]
  },
  {
   "cell_type": "markdown",
   "id": "16a4882e",
   "metadata": {},
   "source": [
    "#### 15. Write a Python program to calculate the sum of the positive and negative numbers of a given list of numbers using lambda function\n"
   ]
  },
  {
   "cell_type": "markdown",
   "id": "5a2bfdd7",
   "metadata": {},
   "source": [
    "#### 16. Write a Python program to find the list with maximum and minimum length using lambda"
   ]
  },
  {
   "cell_type": "markdown",
   "id": "08ae9272",
   "metadata": {},
   "source": [
    "#### 17. Write a Python program to check whether a specified list is sorted or not using lambda"
   ]
  },
  {
   "cell_type": "markdown",
   "id": "560d1f50",
   "metadata": {},
   "source": [
    "#### 18. Write a Python program to remove all elements from a given list present in another list using lambda.\n"
   ]
  },
  {
   "cell_type": "markdown",
   "id": "0ef5b5b5",
   "metadata": {},
   "source": [
    "#### 19. Write a Python program to convert string element to integer inside a given tuple using\n"
   ]
  },
  {
   "cell_type": "markdown",
   "id": "3c6e445d",
   "metadata": {},
   "source": [
    "#### 20. Write a Python program to count the occurrences of the items in a given list using lambda"
   ]
  },
  {
   "cell_type": "markdown",
   "id": "c14bddac",
   "metadata": {},
   "source": [
    "#### 21. Write a Python program to add three given lists using Python map and lambda\n"
   ]
  },
  {
   "cell_type": "markdown",
   "id": "0e553f92",
   "metadata": {},
   "source": [
    "#### 22. Write a Python program to listify the list of given strings individually using Python map\n"
   ]
  },
  {
   "cell_type": "markdown",
   "id": "c9e9e05d",
   "metadata": {},
   "source": [
    "#### 23. Write a Python program to square the elements of a list using map() function"
   ]
  },
  {
   "cell_type": "markdown",
   "id": "093eb76a",
   "metadata": {},
   "source": [
    "#### 24. Write a Python program to add two given lists and find the difference between lists. Use map() function"
   ]
  },
  {
   "cell_type": "markdown",
   "id": "ca5c03ce",
   "metadata": {},
   "source": [
    "#### 25. Write a Python program to convert a given list of integers and a tuple of integers in a list of strings\n"
   ]
  },
  {
   "cell_type": "markdown",
   "id": "0ddaf057",
   "metadata": {},
   "source": [
    "#### 26. Write a Python program to compute the sum of elements of an given array of integers, use map() function\n"
   ]
  },
  {
   "cell_type": "markdown",
   "id": "fc808c2d",
   "metadata": {},
   "source": [
    "#### 27. Write a Python program to count the same pair in two given lists. use map() function\n"
   ]
  },
  {
   "cell_type": "markdown",
   "id": "96d8b5b1",
   "metadata": {},
   "source": [
    "#### 28. Write a Python program to convert a given list of strings into list of lists using map function\n"
   ]
  },
  {
   "cell_type": "markdown",
   "id": "fa2b6f2f",
   "metadata": {},
   "source": [
    "#### 29. Write a Python program to convert a given list of tuples to a list of strings using map function\n"
   ]
  },
  {
   "cell_type": "markdown",
   "id": "c4c3dcc4",
   "metadata": {},
   "source": [
    "#### 30. Python program to find the diff. between two lists using filter() function"
   ]
  },
  {
   "cell_type": "markdown",
   "id": "a29c80ff",
   "metadata": {},
   "source": [
    "#### 31. Python program to remove stop words from string using filter() function"
   ]
  },
  {
   "cell_type": "markdown",
   "id": "b54ca66d",
   "metadata": {},
   "source": [
    "#### 32. Python program to find common items in two arrays using lambda and filter() function\n"
   ]
  },
  {
   "cell_type": "markdown",
   "id": "5c7ebeca",
   "metadata": {},
   "source": [
    "#### 33. Python program to filter odd numbers from the list using filter() function"
   ]
  },
  {
   "cell_type": "markdown",
   "id": "1e4d16fd",
   "metadata": {},
   "source": [
    "#### 34. Python program to filter even numbers from the list using filter() function\n"
   ]
  },
  {
   "cell_type": "markdown",
   "id": "2dfeffb1",
   "metadata": {},
   "source": [
    "#### 35. Python program that filters non-vowels from the list using filter() function"
   ]
  }
 ],
 "metadata": {
  "kernelspec": {
   "display_name": "Python 3 (ipykernel)",
   "language": "python",
   "name": "python3"
  },
  "language_info": {
   "codemirror_mode": {
    "name": "ipython",
    "version": 3
   },
   "file_extension": ".py",
   "mimetype": "text/x-python",
   "name": "python",
   "nbconvert_exporter": "python",
   "pygments_lexer": "ipython3",
   "version": "3.9.7"
  }
 },
 "nbformat": 4,
 "nbformat_minor": 5
}
