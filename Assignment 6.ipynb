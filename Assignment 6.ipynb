{
 "cells": [
  {
   "cell_type": "markdown",
   "id": "1c5cc943",
   "metadata": {},
   "source": [
    "## Assignment :6"
   ]
  },
  {
   "cell_type": "markdown",
   "id": "5dfe92e5",
   "metadata": {},
   "source": [
    "Topic: Lambda Function, Built in function"
   ]
  },
  {
   "cell_type": "markdown",
   "id": "f2380166",
   "metadata": {},
   "source": [
    "#### 1. Write a Python program to sort a list of tuples using Lambda.\n"
   ]
  },
  {
   "cell_type": "code",
   "execution_count": 6,
   "id": "372e4a29",
   "metadata": {},
   "outputs": [
    {
     "data": {
      "text/plain": [
       "[(1, 3), (1, 4), (4, 5), (2, 7), (3, 8)]"
      ]
     },
     "execution_count": 6,
     "metadata": {},
     "output_type": "execute_result"
    }
   ],
   "source": [
    "list_ =[(1,3),(2,7),(3,8),(4,5),(1,4)]\n",
    "sorted_list = sorted(list_, key = lambda x:x[1])\n",
    "sorted_list"
   ]
  },
  {
   "cell_type": "markdown",
   "id": "79d8df93",
   "metadata": {},
   "source": [
    "#### 2. Write a Python program to sort a list of dictionaries using Lambda"
   ]
  },
  {
   "cell_type": "code",
   "execution_count": 19,
   "id": "82602e07",
   "metadata": {
    "scrolled": true
   },
   "outputs": [
    {
     "data": {
      "text/plain": [
       "[{'d': 1}, {'c': 2}, {'b': 3}, {'a': 5}]"
      ]
     },
     "execution_count": 19,
     "metadata": {},
     "output_type": "execute_result"
    }
   ],
   "source": [
    "list2 =[{'a':5},{'b':3},{'c':2},{'d':1}]\n",
    "sorted_lisy = sorted(list2, key= lambda x : list(x.values())[0])\n",
    "sorted_lisy"
   ]
  },
  {
   "cell_type": "markdown",
   "id": "9cbcb9ad",
   "metadata": {},
   "source": [
    "#### 3. Write a Python program to find square and cube every number in a given list of integers using Lambda"
   ]
  },
  {
   "cell_type": "code",
   "execution_count": 22,
   "id": "26a21d75",
   "metadata": {},
   "outputs": [
    {
     "name": "stdout",
     "output_type": "stream",
     "text": [
      "[1, 4, 9, 16, 25, 36, 49]\n",
      "[1, 8, 27, 64, 125, 216, 343]\n"
     ]
    }
   ],
   "source": [
    "list3=[1,2,3,4,5,6,7]\n",
    "\n",
    "square_list=list(map(lambda x:x**2,list3))\n",
    "print(square_list)\n",
    "\n",
    "cube_list=list(map(lambda x:x**3,list3))\n",
    "print(cube_list)"
   ]
  },
  {
   "cell_type": "markdown",
   "id": "7df91c77",
   "metadata": {},
   "source": [
    "#### 4. Write a Python program to find if a given string starts with a given character using Lambda"
   ]
  },
  {
   "cell_type": "code",
   "execution_count": 23,
   "id": "cfdf1dc7",
   "metadata": {},
   "outputs": [
    {
     "name": "stdout",
     "output_type": "stream",
     "text": [
      "Python\n",
      "y\n"
     ]
    },
    {
     "data": {
      "text/plain": [
       "False"
      ]
     },
     "execution_count": 23,
     "metadata": {},
     "output_type": "execute_result"
    }
   ],
   "source": [
    "string=input()\n",
    "char =input()\n",
    "\n",
    "check = lambda x: True if x.startswith(char) else False\n",
    "check(string)"
   ]
  },
  {
   "cell_type": "markdown",
   "id": "db73d10a",
   "metadata": {},
   "source": [
    "#### 5. Write a Python program to check whether a given string is number or not using Lambda\n"
   ]
  },
  {
   "cell_type": "code",
   "execution_count": 25,
   "id": "d67fbca1",
   "metadata": {},
   "outputs": [
    {
     "name": "stdout",
     "output_type": "stream",
     "text": [
      "py\n"
     ]
    },
    {
     "data": {
      "text/plain": [
       "False"
      ]
     },
     "execution_count": 25,
     "metadata": {},
     "output_type": "execute_result"
    }
   ],
   "source": [
    "string=input()\n",
    "\n",
    "is_digit = lambda x: True if x.isdigit() else False\n",
    "is_digit(string)\n",
    "is_digit(string)"
   ]
  },
  {
   "cell_type": "markdown",
   "id": "c660ea1e",
   "metadata": {},
   "source": [
    "#### 6. Write a Python program to create Fibonacci series using Lambda"
   ]
  },
  {
   "cell_type": "code",
   "execution_count": 30,
   "id": "16c7c29f",
   "metadata": {},
   "outputs": [
    {
     "data": {
      "text/plain": [
       "[0, 1, 1, 2, 3, 5, 8, 13]"
      ]
     },
     "execution_count": 30,
     "metadata": {},
     "output_type": "execute_result"
    }
   ],
   "source": [
    "def fibbo(n):\n",
    "    l1=[0,1]\n",
    "    any(map(lambda x: l1.append(sum(l1[-2:])),range(2,n)))\n",
    "    return l1\n",
    "\n",
    "fibbo(8)"
   ]
  },
  {
   "cell_type": "markdown",
   "id": "972efba5",
   "metadata": {},
   "source": [
    "#### 7. Write a Python program to find the intersection of two given arrays using Lambda"
   ]
  },
  {
   "cell_type": "code",
   "execution_count": 32,
   "id": "b6a810d7",
   "metadata": {},
   "outputs": [
    {
     "name": "stdout",
     "output_type": "stream",
     "text": [
      "[5, 2, 3, 6]\n"
     ]
    }
   ],
   "source": [
    "arr1 =[4,5,6,74,2,3]\n",
    "arr2 =[5,2,1,3,6,43]\n",
    "\n",
    "intersection = list(filter(lambda x: x in arr1,arr2))\n",
    "print(intersection)"
   ]
  },
  {
   "cell_type": "markdown",
   "id": "0275e040",
   "metadata": {},
   "source": [
    "#### 8. Write a Python program to rearrange positive and negative numbers in a given array using Lambda"
   ]
  },
  {
   "cell_type": "code",
   "execution_count": 12,
   "id": "70c05c17",
   "metadata": {},
   "outputs": [
    {
     "data": {
      "text/plain": [
       "[-5, -4, -2, -1, 0, 1, 2, 3, 3, 4, 6, 7]"
      ]
     },
     "execution_count": 12,
     "metadata": {},
     "output_type": "execute_result"
    }
   ],
   "source": [
    "arr1 = [2,4,6,7,0,3,-2,1,-5,3,-4,-1]\n",
    "\n",
    "rearrange = sorted(arr1, key= lambda x:x)\n",
    "rearrange"
   ]
  },
  {
   "cell_type": "markdown",
   "id": "559268c1",
   "metadata": {},
   "source": [
    "#### 9. Write a Python program to count the even, odd numbers in a given array of integers using Lambda\n"
   ]
  },
  {
   "cell_type": "code",
   "execution_count": 15,
   "id": "86a8be71",
   "metadata": {},
   "outputs": [
    {
     "name": "stdout",
     "output_type": "stream",
     "text": [
      "Count of even number in the array is 5\n",
      "Count of odd number in the array is 3\n"
     ]
    }
   ],
   "source": [
    "arr3 = [4,5,6,8,7,5,32,0]\n",
    "\n",
    "count_eve = len(list(filter(lambda x: (x%2==0),arr3)))\n",
    "count_odd = len(list(filter(lambda x:(x%2!=0),arr3)))\n",
    "\n",
    "print(f'Count of even number in the array is {count_eve}')\n",
    "print(f'Count of odd number in the array is {count_odd}')"
   ]
  },
  {
   "cell_type": "markdown",
   "id": "37d96b11",
   "metadata": {},
   "source": [
    "#### 10. Write a Python program to add two given lists using map and lambda\n"
   ]
  },
  {
   "cell_type": "code",
   "execution_count": 16,
   "id": "e7a652e6",
   "metadata": {},
   "outputs": [
    {
     "data": {
      "text/plain": [
       "[4, 6, 8, 10]"
      ]
     },
     "execution_count": 16,
     "metadata": {},
     "output_type": "execute_result"
    }
   ],
   "source": [
    "l1 = [1,2,3,4]\n",
    "l2 = [3,4,5,6]\n",
    "\n",
    "result = list(map(lambda x,y:x+y,l1,l2))\n",
    "result"
   ]
  },
  {
   "cell_type": "markdown",
   "id": "fc7995a0",
   "metadata": {},
   "source": [
    "#### 11. Write a Python program to find numbers divisible by nineteen or thirteen from a list of numbers using Lambda\n"
   ]
  },
  {
   "cell_type": "code",
   "execution_count": 19,
   "id": "070c1849",
   "metadata": {},
   "outputs": [
    {
     "data": {
      "text/plain": [
       "[26, 456, 234]"
      ]
     },
     "execution_count": 19,
     "metadata": {},
     "output_type": "execute_result"
    }
   ],
   "source": [
    "list_num = [564,54,26,456,36,234]\n",
    "divisible_by_13_19 = list(filter(lambda x : (x%13==0) or (x%19==0),list_num))\n",
    "divisible_by_13_19"
   ]
  },
  {
   "cell_type": "markdown",
   "id": "ee3350d6",
   "metadata": {},
   "source": [
    "#### 12. Write a Python program to find palindromes in a given list of strings using Lambda"
   ]
  },
  {
   "cell_type": "code",
   "execution_count": 28,
   "id": "54e64555",
   "metadata": {},
   "outputs": [
    {
     "data": {
      "text/plain": [
       "['mom', 'radar', 'bob']"
      ]
     },
     "execution_count": 28,
     "metadata": {},
     "output_type": "execute_result"
    }
   ],
   "source": [
    "list_of_strings =['banana','mom','rat','radar','king','bob']\n",
    "\n",
    "palindromes = list(filter(lambda x : x==x[::-1],list_of_strings))\n",
    "palindromes"
   ]
  },
  {
   "cell_type": "markdown",
   "id": "15844a38",
   "metadata": {},
   "source": [
    "#### 13. Write a Python program to find all anagrams of a string in a given list of strings using lambda"
   ]
  },
  {
   "cell_type": "code",
   "execution_count": 2,
   "id": "ed8ac78e",
   "metadata": {},
   "outputs": [
    {
     "data": {
      "text/plain": [
       "['net', 'ten']"
      ]
     },
     "execution_count": 2,
     "metadata": {},
     "output_type": "execute_result"
    }
   ],
   "source": [
    "def find_anagram(word, list_of_straing):\n",
    "    \n",
    "    anagram = list(filter(lambda x : (sorted(x)==sorted(word)), list_of_straing))\n",
    "    return anagram\n",
    "\n",
    "los = ['mat','map','pam','rat', 'silent','enlist','google','net','ten']\n",
    "\n",
    "find_anagram('net',los)\n",
    "    "
   ]
  },
  {
   "cell_type": "markdown",
   "id": "93ddeed3",
   "metadata": {},
   "source": [
    "#### 14. Write a Python program that multiplies each number of a given list with a given number using lambda function. Print the result\n"
   ]
  },
  {
   "cell_type": "markdown",
   "id": "16a4882e",
   "metadata": {},
   "source": [
    "#### 15. Write a Python program to calculate the sum of the positive and negative numbers of a given list of numbers using lambda function\n"
   ]
  },
  {
   "cell_type": "markdown",
   "id": "5a2bfdd7",
   "metadata": {},
   "source": [
    "#### 16. Write a Python program to find the list with maximum and minimum length using lambda"
   ]
  },
  {
   "cell_type": "markdown",
   "id": "08ae9272",
   "metadata": {},
   "source": [
    "#### 17. Write a Python program to check whether a specified list is sorted or not using lambda"
   ]
  },
  {
   "cell_type": "markdown",
   "id": "560d1f50",
   "metadata": {},
   "source": [
    "#### 18. Write a Python program to remove all elements from a given list present in another list using lambda.\n"
   ]
  },
  {
   "cell_type": "markdown",
   "id": "0ef5b5b5",
   "metadata": {},
   "source": [
    "#### 19. Write a Python program to convert string element to integer inside a given tuple using\n"
   ]
  },
  {
   "cell_type": "markdown",
   "id": "3c6e445d",
   "metadata": {},
   "source": [
    "#### 20. Write a Python program to count the occurrences of the items in a given list using lambda"
   ]
  },
  {
   "cell_type": "markdown",
   "id": "c14bddac",
   "metadata": {},
   "source": [
    "#### 21. Write a Python program to add three given lists using Python map and lambda\n"
   ]
  },
  {
   "cell_type": "markdown",
   "id": "0e553f92",
   "metadata": {},
   "source": [
    "#### 22. Write a Python program to listify the list of given strings individually using Python map\n"
   ]
  },
  {
   "cell_type": "markdown",
   "id": "c9e9e05d",
   "metadata": {},
   "source": [
    "#### 23. Write a Python program to square the elements of a list using map() function"
   ]
  },
  {
   "cell_type": "markdown",
   "id": "093eb76a",
   "metadata": {},
   "source": [
    "#### 24. Write a Python program to add two given lists and find the difference between lists. Use map() function"
   ]
  },
  {
   "cell_type": "markdown",
   "id": "ca5c03ce",
   "metadata": {},
   "source": [
    "#### 25. Write a Python program to convert a given list of integers and a tuple of integers in a list of strings\n"
   ]
  },
  {
   "cell_type": "markdown",
   "id": "0ddaf057",
   "metadata": {},
   "source": [
    "#### 26. Write a Python program to compute the sum of elements of an given array of integers, use map() function\n"
   ]
  },
  {
   "cell_type": "markdown",
   "id": "fc808c2d",
   "metadata": {},
   "source": [
    "#### 27. Write a Python program to count the same pair in two given lists. use map() function\n"
   ]
  },
  {
   "cell_type": "markdown",
   "id": "96d8b5b1",
   "metadata": {},
   "source": [
    "#### 28. Write a Python program to convert a given list of strings into list of lists using map function\n"
   ]
  },
  {
   "cell_type": "markdown",
   "id": "fa2b6f2f",
   "metadata": {},
   "source": [
    "#### 29. Write a Python program to convert a given list of tuples to a list of strings using map function\n"
   ]
  },
  {
   "cell_type": "markdown",
   "id": "c4c3dcc4",
   "metadata": {},
   "source": [
    "#### 30. Python program to find the diff. between two lists using filter() function"
   ]
  },
  {
   "cell_type": "markdown",
   "id": "a29c80ff",
   "metadata": {},
   "source": [
    "#### 31. Python program to remove stop words from string using filter() function"
   ]
  },
  {
   "cell_type": "markdown",
   "id": "b54ca66d",
   "metadata": {},
   "source": [
    "#### 32. Python program to find common items in two arrays using lambda and filter() function\n"
   ]
  },
  {
   "cell_type": "markdown",
   "id": "5c7ebeca",
   "metadata": {},
   "source": [
    "#### 33. Python program to filter odd numbers from the list using filter() function"
   ]
  },
  {
   "cell_type": "markdown",
   "id": "1e4d16fd",
   "metadata": {},
   "source": [
    "#### 34. Python program to filter even numbers from the list using filter() function\n"
   ]
  },
  {
   "cell_type": "markdown",
   "id": "2dfeffb1",
   "metadata": {},
   "source": [
    "#### 35. Python program that filters non-vowels from the list using filter() function"
   ]
  }
 ],
 "metadata": {
  "kernelspec": {
   "display_name": "Python 3 (ipykernel)",
   "language": "python",
   "name": "python3"
  },
  "language_info": {
   "codemirror_mode": {
    "name": "ipython",
    "version": 3
   },
   "file_extension": ".py",
   "mimetype": "text/x-python",
   "name": "python",
   "nbconvert_exporter": "python",
   "pygments_lexer": "ipython3",
   "version": "3.9.7"
  }
 },
 "nbformat": 4,
 "nbformat_minor": 5
}
