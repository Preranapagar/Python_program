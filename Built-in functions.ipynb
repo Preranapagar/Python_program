{
 "cells": [
  {
   "cell_type": "markdown",
   "id": "13de1a91",
   "metadata": {},
   "source": [
    "# Built in functions"
   ]
  },
  {
   "cell_type": "markdown",
   "id": "3a8566d4",
   "metadata": {},
   "source": [
    "max()\n",
    "min()\n",
    "sum()\n",
    "print()\n",
    "int()\n",
    "float()\n",
    "str()\n",
    "list()\n",
    "tuple()\n",
    "set()\n",
    "frozenset()\n",
    "dict()\n",
    "len()\n",
    "type()\n",
    "sorted()\n",
    "reversed()\n",
    "bool()\n",
    "range()\n",
    "enumerate()\n",
    "complex()\n",
    "chr()\n"
   ]
  },
  {
   "cell_type": "markdown",
   "id": "b53811d3",
   "metadata": {},
   "source": [
    "### 1.zip()"
   ]
  },
  {
   "cell_type": "code",
   "execution_count": 2,
   "id": "e7bba9e8",
   "metadata": {},
   "outputs": [
    {
     "name": "stdout",
     "output_type": "stream",
     "text": [
      "{'Ram': 25, 'Sham': 27, 'Radha': 34}\n"
     ]
    }
   ],
   "source": [
    "#using loops\n",
    "names=['Ram','Sham','Radha']\n",
    "marks=[25,27,34]\n",
    "\n",
    "score_card={}\n",
    "for index,name in enumerate(names):\n",
    "    score_card.update({name:marks[index]})\n",
    "print(score_card)"
   ]
  },
  {
   "cell_type": "code",
   "execution_count": 3,
   "id": "7b32e797",
   "metadata": {},
   "outputs": [
    {
     "data": {
      "text/plain": [
       "{'Ram': 25, 'Sham': 27, 'Radha': 34}"
      ]
     },
     "execution_count": 3,
     "metadata": {},
     "output_type": "execute_result"
    }
   ],
   "source": [
    "names=['Ram','Sham','Radha']\n",
    "marks=[25,27,34]\n",
    "dict(zip(names,marks))"
   ]
  },
  {
   "cell_type": "code",
   "execution_count": 4,
   "id": "a5e92794",
   "metadata": {},
   "outputs": [
    {
     "data": {
      "text/plain": [
       "<zip at 0x294dd1d6240>"
      ]
     },
     "execution_count": 4,
     "metadata": {},
     "output_type": "execute_result"
    }
   ],
   "source": [
    "names = ['Akshay','Akash', 'Rohit','Swapnil']\n",
    "age = [ 20,30,25,28]\n",
    "location = ['pune', 'mumbai','delhi','chennai']\n",
    "\n",
    "zip(age,location)"
   ]
  },
  {
   "cell_type": "code",
   "execution_count": 6,
   "id": "2263b217",
   "metadata": {},
   "outputs": [
    {
     "data": {
      "text/plain": [
       "[(20, 'pune'), (30, 'mumbai'), (25, 'delhi'), (28, 'chennai')]"
      ]
     },
     "execution_count": 6,
     "metadata": {},
     "output_type": "execute_result"
    }
   ],
   "source": [
    "list(zip(age,location))"
   ]
  },
  {
   "cell_type": "code",
   "execution_count": 7,
   "id": "ac55f3af",
   "metadata": {},
   "outputs": [
    {
     "data": {
      "text/plain": [
       "{'Akshay': (20, 'pune'),\n",
       " 'Akash': (30, 'mumbai'),\n",
       " 'Rohit': (25, 'delhi'),\n",
       " 'Swapnil': (28, 'chennai')}"
      ]
     },
     "execution_count": 7,
     "metadata": {},
     "output_type": "execute_result"
    }
   ],
   "source": [
    "dict(zip(names,list(zip(age,location))))"
   ]
  },
  {
   "cell_type": "code",
   "execution_count": 8,
   "id": "318ada82",
   "metadata": {},
   "outputs": [
    {
     "data": {
      "text/plain": [
       "{'A': 20, 'B': 12, 'C': 23, 'D': 45}"
      ]
     },
     "execution_count": 8,
     "metadata": {},
     "output_type": "execute_result"
    }
   ],
   "source": [
    "letter=['A','B','C','D']\n",
    "l1=[20,12,23,45,56]\n",
    "dict(zip(letter,l1))"
   ]
  },
  {
   "cell_type": "code",
   "execution_count": 10,
   "id": "1cad92e5",
   "metadata": {},
   "outputs": [
    {
     "data": {
      "text/plain": [
       "{'A': 20, 'B': [12, 67], 'C': 23, 'D': 45}"
      ]
     },
     "execution_count": 10,
     "metadata": {},
     "output_type": "execute_result"
    }
   ],
   "source": [
    "letter=['A','B','C','D']\n",
    "l1=[20,[12,67],23,45,56]\n",
    "dict(zip(letter,l1))"
   ]
  },
  {
   "cell_type": "code",
   "execution_count": 11,
   "id": "b0358d09",
   "metadata": {},
   "outputs": [
    {
     "data": {
      "text/plain": [
       "{'Akshay': [20, 2], 'Akash': [30, 4], 'Rohit': 25, 'Swapnil': 28}"
      ]
     },
     "execution_count": 11,
     "metadata": {},
     "output_type": "execute_result"
    }
   ],
   "source": [
    "names = ['Akshay','Akash', 'Rohit','Swapnil']\n",
    "age = [[20,2],[30,4],25,28]\n",
    "dict(zip(names,age))"
   ]
  },
  {
   "cell_type": "markdown",
   "id": "a3b68399",
   "metadata": {},
   "source": [
    "### filter()"
   ]
  },
  {
   "cell_type": "markdown",
   "id": "58d98152",
   "metadata": {},
   "source": [
    "It returns only true values\n",
    "filter(function_name, iterable)\n",
    "\n",
    "list(filter(function_name, iterable))\n",
    "tuple(filter(function_name, iterable))"
   ]
  },
  {
   "cell_type": "code",
   "execution_count": 13,
   "id": "c6f38893",
   "metadata": {},
   "outputs": [
    {
     "name": "stdout",
     "output_type": "stream",
     "text": [
      "a==> 4\n",
      "a==> 3\n"
     ]
    },
    {
     "data": {
      "text/plain": [
       "3"
      ]
     },
     "execution_count": 13,
     "metadata": {},
     "output_type": "execute_result"
    }
   ],
   "source": [
    "def check_odd(a):\n",
    "    print('a==>',a)\n",
    "    if a%2!=0:\n",
    "        return a\n",
    "    \n",
    "check_odd(4)\n",
    "check_odd(3)"
   ]
  },
  {
   "cell_type": "code",
   "execution_count": 14,
   "id": "635f4623",
   "metadata": {},
   "outputs": [
    {
     "name": "stdout",
     "output_type": "stream",
     "text": [
      "a==> 23\n",
      "a==> 5\n",
      "a==> 67\n",
      "a==> 33\n",
      "a==> 12\n",
      "a==> 56\n",
      "a==> 78\n"
     ]
    },
    {
     "data": {
      "text/plain": [
       "[23, 5, 67, 33]"
      ]
     },
     "execution_count": 14,
     "metadata": {},
     "output_type": "execute_result"
    }
   ],
   "source": [
    "num=[23,5,67,33,12,56,78]\n",
    "list(filter(check_odd,num))"
   ]
  },
  {
   "cell_type": "code",
   "execution_count": 16,
   "id": "1e9f374a",
   "metadata": {},
   "outputs": [
    {
     "data": {
      "text/plain": [
       "['P', 'P']"
      ]
     },
     "execution_count": 16,
     "metadata": {},
     "output_type": "execute_result"
    }
   ],
   "source": [
    "string='Python Program'\n",
    "result=list(filter(lambda i:i.isupper(),string))\n",
    "result"
   ]
  },
  {
   "cell_type": "markdown",
   "id": "e36169a0",
   "metadata": {},
   "source": [
    "### 3.map()"
   ]
  },
  {
   "cell_type": "code",
   "execution_count": null,
   "id": "191b3428",
   "metadata": {},
   "outputs": [],
   "source": [
    "map(function, iterable)"
   ]
  },
  {
   "cell_type": "code",
   "execution_count": 17,
   "id": "bab5e014",
   "metadata": {},
   "outputs": [
    {
     "data": {
      "text/plain": [
       "[100, 400, 900]"
      ]
     },
     "execution_count": 17,
     "metadata": {},
     "output_type": "execute_result"
    }
   ],
   "source": [
    "numbers = [10,20,30]\n",
    "result = list(map(lambda x : x ** 2,numbers))\n",
    "result"
   ]
  },
  {
   "cell_type": "code",
   "execution_count": 18,
   "id": "4c8b20f3",
   "metadata": {},
   "outputs": [
    {
     "data": {
      "text/plain": [
       "['D', 'A', 'T', 'A', ' ', 'S', 'C', 'I', 'E', 'N', 'C', 'E']"
      ]
     },
     "execution_count": 18,
     "metadata": {},
     "output_type": "execute_result"
    }
   ],
   "source": [
    "string = 'Data Science'\n",
    "result = list(map(lambda char : char.upper(), string))\n",
    "result"
   ]
  },
  {
   "cell_type": "code",
   "execution_count": 19,
   "id": "78da73b3",
   "metadata": {},
   "outputs": [
    {
     "data": {
      "text/plain": [
       "[True,\n",
       " False,\n",
       " False,\n",
       " False,\n",
       " False,\n",
       " True,\n",
       " False,\n",
       " False,\n",
       " False,\n",
       " False,\n",
       " False,\n",
       " False]"
      ]
     },
     "execution_count": 19,
     "metadata": {},
     "output_type": "execute_result"
    }
   ],
   "source": [
    "string = 'Data Science'\n",
    "result = list(map(lambda char : char.isupper(), string))\n",
    "result"
   ]
  },
  {
   "cell_type": "code",
   "execution_count": null,
   "id": "ea0a4bf6",
   "metadata": {},
   "outputs": [],
   "source": [
    "#end"
   ]
  }
 ],
 "metadata": {
  "kernelspec": {
   "display_name": "Python 3 (ipykernel)",
   "language": "python",
   "name": "python3"
  },
  "language_info": {
   "codemirror_mode": {
    "name": "ipython",
    "version": 3
   },
   "file_extension": ".py",
   "mimetype": "text/x-python",
   "name": "python",
   "nbconvert_exporter": "python",
   "pygments_lexer": "ipython3",
   "version": "3.9.7"
  }
 },
 "nbformat": 4,
 "nbformat_minor": 5
}
