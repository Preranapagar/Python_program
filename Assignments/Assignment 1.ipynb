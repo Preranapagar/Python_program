{
 "cells": [
  {
   "cell_type": "markdown",
   "id": "76a96a13",
   "metadata": {},
   "source": [
    "## Assignment: 1"
   ]
  },
  {
   "cell_type": "markdown",
   "id": "333b7e9c",
   "metadata": {},
   "source": [
    "Topic :Variables, String, float, int"
   ]
  },
  {
   "cell_type": "markdown",
   "id": "a4293953",
   "metadata": {},
   "source": [
    "#### <span style='color:purple '> 1.What are the key features of Python? </span>"
   ]
  },
  {
   "cell_type": "markdown",
   "id": "e06aba6a",
   "metadata": {},
   "source": [
    "* Python is easy to learn & understand\n",
    "* Python has many open sources and libraries\n",
    "* Object oriented programming\n",
    "* Dynamically typed\n",
    "* GUI programming"
   ]
  },
  {
   "cell_type": "markdown",
   "id": "9aefee3e",
   "metadata": {},
   "source": [
    "#### <span style='color:purple '> 2.What are the Data Types in Python? </span> "
   ]
  },
  {
   "cell_type": "markdown",
   "id": "81406d7b",
   "metadata": {},
   "source": [
    "* Numeric\n",
    "* Boolean\n",
    "* Text\n",
    "* sequence\n",
    "* Mapping\n",
    "* SetDT"
   ]
  },
  {
   "cell_type": "markdown",
   "id": "24663e1a",
   "metadata": {},
   "source": [
    "#### <span style='color:purple '> 3.What are local variables and global variables in Python? </span>\n"
   ]
  },
  {
   "cell_type": "markdown",
   "id": "2e8d14a0",
   "metadata": {},
   "source": [
    "A local variable is variable declared in the function and accesible in the function only\n",
    "where global variable can be accessed globaly throughout the program."
   ]
  },
  {
   "cell_type": "markdown",
   "id": "ceccfa3d",
   "metadata": {},
   "source": [
    "#### <span style='color:purple '> 4.How do you write comments in python? and Why Comments are important? </span>"
   ]
  },
  {
   "cell_type": "markdown",
   "id": "b7ae3505",
   "metadata": {},
   "source": [
    "we can write comments in python using # and triple inverted commas. comments are useful\n",
    "to write a keypoint/function of program so can be understood easily later by anyone"
   ]
  },
  {
   "cell_type": "markdown",
   "id": "50ea747f",
   "metadata": {},
   "source": [
    "#### <span style='color:purple'> 5.How to comment on multiple lines in python? <span>"
   ]
  },
  {
   "cell_type": "markdown",
   "id": "63d6b437",
   "metadata": {},
   "source": [
    "to comment multiple lines in python we can use triple inverted commas"
   ]
  },
  {
   "cell_type": "markdown",
   "id": "7531e747",
   "metadata": {},
   "source": [
    "#### <span style='color:purple '> 6.What do you mean by Python literals? <span>"
   ]
  },
  {
   "cell_type": "markdown",
   "id": "f88b5f27",
   "metadata": {},
   "source": [
    "Python literals means values declared/assigned to variables"
   ]
  },
  {
   "cell_type": "markdown",
   "id": "a43ecdde",
   "metadata": {},
   "source": [
    "#### <span style='color:purple '> 7.What are different ways to assign value to variables? <span>"
   ]
  },
  {
   "cell_type": "markdown",
   "id": "8a895881",
   "metadata": {},
   "source": [
    "* Direct initialize >> a=5.\n",
    "* Same value assign for different variables >> a=5,b=5,c=5.\n",
    "* Different value assign for different variables >> a=5,b=10,c=15."
   ]
  },
  {
   "cell_type": "markdown",
   "id": "5a6c9ed4",
   "metadata": {},
   "source": [
    "#### <span style='color:purple '>8.What are the Escape Characters in python? <span>"
   ]
  },
  {
   "cell_type": "markdown",
   "id": "3cb24e11",
   "metadata": {},
   "source": [
    "backslash is an escape character in python"
   ]
  },
  {
   "cell_type": "markdown",
   "id": "2481496e",
   "metadata": {},
   "source": [
    "#### <span style='color:purple '> 9.Which are the different ways to perform string formatting? Explain with example. <span>\n"
   ]
  },
  {
   "cell_type": "markdown",
   "id": "b165faa5",
   "metadata": {},
   "source": [
    "##### ways of formatting string:"
   ]
  },
  {
   "cell_type": "markdown",
   "id": "4c4cfd13",
   "metadata": {},
   "source": [
    "###### 1) capitalize()"
   ]
  },
  {
   "cell_type": "code",
   "execution_count": 1,
   "id": "249703be",
   "metadata": {},
   "outputs": [
    {
     "name": "stdout",
     "output_type": "stream",
     "text": [
      "python language\n"
     ]
    },
    {
     "data": {
      "text/plain": [
       "'Python language'"
      ]
     },
     "execution_count": 1,
     "metadata": {},
     "output_type": "execute_result"
    }
   ],
   "source": [
    "string='python language'\n",
    "print(string)\n",
    "\n",
    "string.capitalize() #capitalizes the first word of string"
   ]
  },
  {
   "cell_type": "markdown",
   "id": "cd56001e",
   "metadata": {},
   "source": [
    "###### 2) upper()"
   ]
  },
  {
   "cell_type": "code",
   "execution_count": 2,
   "id": "fad00cd0",
   "metadata": {},
   "outputs": [
    {
     "name": "stdout",
     "output_type": "stream",
     "text": [
      "Data Science\n"
     ]
    },
    {
     "data": {
      "text/plain": [
       "'DATA SCIENCE'"
      ]
     },
     "execution_count": 2,
     "metadata": {},
     "output_type": "execute_result"
    }
   ],
   "source": [
    "string='Data Science'\n",
    "print(string)\n",
    "\n",
    "string.upper() #changes each charater of string to upper case"
   ]
  },
  {
   "cell_type": "markdown",
   "id": "acce4954",
   "metadata": {},
   "source": [
    "###### 3) lower()"
   ]
  },
  {
   "cell_type": "code",
   "execution_count": 3,
   "id": "673e921a",
   "metadata": {},
   "outputs": [
    {
     "name": "stdout",
     "output_type": "stream",
     "text": [
      "DATA SCIENCE\n"
     ]
    },
    {
     "data": {
      "text/plain": [
       "'data science'"
      ]
     },
     "execution_count": 3,
     "metadata": {},
     "output_type": "execute_result"
    }
   ],
   "source": [
    "string='DATA SCIENCE'\n",
    "print(string)\n",
    "\n",
    "string.lower() #changes each character of string to lower case"
   ]
  },
  {
   "cell_type": "markdown",
   "id": "dda42406",
   "metadata": {},
   "source": [
    "###### 4) title()"
   ]
  },
  {
   "cell_type": "code",
   "execution_count": 4,
   "id": "ed3d0172",
   "metadata": {},
   "outputs": [
    {
     "name": "stdout",
     "output_type": "stream",
     "text": [
      "data science\n"
     ]
    },
    {
     "data": {
      "text/plain": [
       "'Data Science'"
      ]
     },
     "execution_count": 4,
     "metadata": {},
     "output_type": "execute_result"
    }
   ],
   "source": [
    "string='data science'\n",
    "print(string)\n",
    "\n",
    "string.title() #changes first character of word to upper case"
   ]
  },
  {
   "cell_type": "markdown",
   "id": "b6952d65",
   "metadata": {},
   "source": [
    "###### 5) lstrip()"
   ]
  },
  {
   "cell_type": "code",
   "execution_count": 5,
   "id": "e003b465",
   "metadata": {},
   "outputs": [
    {
     "name": "stdout",
     "output_type": "stream",
     "text": [
      "      Python\n"
     ]
    },
    {
     "data": {
      "text/plain": [
       "'Python'"
      ]
     },
     "execution_count": 5,
     "metadata": {},
     "output_type": "execute_result"
    }
   ],
   "source": [
    "string='      Python'\n",
    "print(string)\n",
    "\n",
    "string.lstrip() #removes leading spaces"
   ]
  },
  {
   "cell_type": "markdown",
   "id": "42a2e7cf",
   "metadata": {},
   "source": [
    "###### 6) rstrip()"
   ]
  },
  {
   "cell_type": "code",
   "execution_count": 6,
   "id": "493eddc3",
   "metadata": {},
   "outputs": [
    {
     "name": "stdout",
     "output_type": "stream",
     "text": [
      "Python       \n"
     ]
    },
    {
     "data": {
      "text/plain": [
       "'Python'"
      ]
     },
     "execution_count": 6,
     "metadata": {},
     "output_type": "execute_result"
    }
   ],
   "source": [
    "string='Python       '\n",
    "print(string)\n",
    "\n",
    "string.rstrip() #removes trailing spaces"
   ]
  },
  {
   "cell_type": "markdown",
   "id": "b01ec46b",
   "metadata": {},
   "source": [
    "###### 7) strip()"
   ]
  },
  {
   "cell_type": "code",
   "execution_count": 7,
   "id": "ab64c3cb",
   "metadata": {},
   "outputs": [
    {
     "name": "stdout",
     "output_type": "stream",
     "text": [
      "    Python    \n"
     ]
    },
    {
     "data": {
      "text/plain": [
       "'Python'"
      ]
     },
     "execution_count": 7,
     "metadata": {},
     "output_type": "execute_result"
    }
   ],
   "source": [
    "string='    Python    '\n",
    "print(string)\n",
    "\n",
    "string.strip() #removes all leading and trailin gspaces"
   ]
  },
  {
   "cell_type": "markdown",
   "id": "30daeb5b",
   "metadata": {},
   "source": [
    "###### 8) swapcase()"
   ]
  },
  {
   "cell_type": "code",
   "execution_count": 8,
   "id": "8d414435",
   "metadata": {},
   "outputs": [
    {
     "name": "stdout",
     "output_type": "stream",
     "text": [
      "Python\n"
     ]
    },
    {
     "data": {
      "text/plain": [
       "'pYTHON'"
      ]
     },
     "execution_count": 8,
     "metadata": {},
     "output_type": "execute_result"
    }
   ],
   "source": [
    "string='Python'\n",
    "print(string)\n",
    "\n",
    "string.swapcase() #changes cases of characters"
   ]
  },
  {
   "cell_type": "markdown",
   "id": "c79b8b96",
   "metadata": {},
   "source": [
    "###### 9) replace()"
   ]
  },
  {
   "cell_type": "code",
   "execution_count": 9,
   "id": "805921a2",
   "metadata": {},
   "outputs": [
    {
     "name": "stdout",
     "output_type": "stream",
     "text": [
      "I am a Data Scientist\n"
     ]
    },
    {
     "data": {
      "text/plain": [
       "'I am a Rocket Scientist'"
      ]
     },
     "execution_count": 9,
     "metadata": {},
     "output_type": "execute_result"
    }
   ],
   "source": [
    "string='I am a Data Scientist'\n",
    "print(string)\n",
    "\n",
    "string.replace('Data','Rocket')"
   ]
  },
  {
   "cell_type": "code",
   "execution_count": 10,
   "id": "56280aa2",
   "metadata": {},
   "outputs": [
    {
     "data": {
      "text/plain": [
       "'I 1m 1 D1t1 Scientist'"
      ]
     },
     "execution_count": 10,
     "metadata": {},
     "output_type": "execute_result"
    }
   ],
   "source": [
    "string.replace('a','1')"
   ]
  },
  {
   "cell_type": "markdown",
   "id": "972cabf1",
   "metadata": {},
   "source": [
    "###### 10) count()"
   ]
  },
  {
   "cell_type": "code",
   "execution_count": 11,
   "id": "82ffa68c",
   "metadata": {},
   "outputs": [
    {
     "name": "stdout",
     "output_type": "stream",
     "text": [
      "I am a Data Scientist\n"
     ]
    },
    {
     "data": {
      "text/plain": [
       "4"
      ]
     },
     "execution_count": 11,
     "metadata": {},
     "output_type": "execute_result"
    }
   ],
   "source": [
    "string='I am a Data Scientist'\n",
    "print(string)\n",
    "\n",
    "string.count('a')"
   ]
  },
  {
   "cell_type": "markdown",
   "id": "4542ccea",
   "metadata": {},
   "source": [
    "###### 11) index()"
   ]
  },
  {
   "cell_type": "code",
   "execution_count": 12,
   "id": "d14ca0f0",
   "metadata": {},
   "outputs": [
    {
     "name": "stdout",
     "output_type": "stream",
     "text": [
      "I am a Data Scientist\n"
     ]
    },
    {
     "data": {
      "text/plain": [
       "7"
      ]
     },
     "execution_count": 12,
     "metadata": {},
     "output_type": "execute_result"
    }
   ],
   "source": [
    "string='I am a Data Scientist'\n",
    "print(string)\n",
    "\n",
    "string.index('Data')"
   ]
  },
  {
   "cell_type": "markdown",
   "id": "36739fc9",
   "metadata": {},
   "source": [
    "###### 12) find()"
   ]
  },
  {
   "cell_type": "code",
   "execution_count": 13,
   "id": "be5254bd",
   "metadata": {},
   "outputs": [
    {
     "name": "stdout",
     "output_type": "stream",
     "text": [
      "I am a Data Scientist\n"
     ]
    },
    {
     "data": {
      "text/plain": [
       "7"
      ]
     },
     "execution_count": 13,
     "metadata": {},
     "output_type": "execute_result"
    }
   ],
   "source": [
    "string='I am a Data Scientist'\n",
    "print(string)\n",
    "\n",
    "string.find('Data')"
   ]
  },
  {
   "cell_type": "markdown",
   "id": "e8ae9132",
   "metadata": {},
   "source": [
    "###### 13) split()"
   ]
  },
  {
   "cell_type": "code",
   "execution_count": 14,
   "id": "3fa17a9d",
   "metadata": {},
   "outputs": [
    {
     "name": "stdout",
     "output_type": "stream",
     "text": [
      "I am a Data Scientist\n"
     ]
    },
    {
     "data": {
      "text/plain": [
       "['I', 'am', 'a', 'Data', 'Scientist']"
      ]
     },
     "execution_count": 14,
     "metadata": {},
     "output_type": "execute_result"
    }
   ],
   "source": [
    "string='I am a Data Scientist'\n",
    "print(string)\n",
    "\n",
    "string.split()"
   ]
  },
  {
   "cell_type": "markdown",
   "id": "002c27ba",
   "metadata": {},
   "source": [
    "###### 14) endswith()"
   ]
  },
  {
   "cell_type": "code",
   "execution_count": 15,
   "id": "4ac2b33c",
   "metadata": {},
   "outputs": [
    {
     "name": "stdout",
     "output_type": "stream",
     "text": [
      "I am a Data Scientist\n"
     ]
    },
    {
     "data": {
      "text/plain": [
       "False"
      ]
     },
     "execution_count": 15,
     "metadata": {},
     "output_type": "execute_result"
    }
   ],
   "source": [
    "string='I am a Data Scientist'\n",
    "print(string)\n",
    "\n",
    "string.endswith('o')"
   ]
  },
  {
   "cell_type": "markdown",
   "id": "ddb3dfec",
   "metadata": {},
   "source": [
    "###### 15) startswith()"
   ]
  },
  {
   "cell_type": "code",
   "execution_count": 16,
   "id": "a85448f5",
   "metadata": {},
   "outputs": [
    {
     "name": "stdout",
     "output_type": "stream",
     "text": [
      "I am a Data Scientist\n"
     ]
    },
    {
     "data": {
      "text/plain": [
       "True"
      ]
     },
     "execution_count": 16,
     "metadata": {},
     "output_type": "execute_result"
    }
   ],
   "source": [
    "string='I am a Data Scientist'\n",
    "print(string)\n",
    "\n",
    "string.startswith('I')"
   ]
  },
  {
   "cell_type": "markdown",
   "id": "d756d7e8",
   "metadata": {},
   "source": [
    "###### 16) isalnum()"
   ]
  },
  {
   "cell_type": "code",
   "execution_count": 17,
   "id": "15074816",
   "metadata": {},
   "outputs": [
    {
     "data": {
      "text/plain": [
       "True"
      ]
     },
     "execution_count": 17,
     "metadata": {},
     "output_type": "execute_result"
    }
   ],
   "source": [
    "string='Python333'\n",
    "\n",
    "string.isalnum()"
   ]
  },
  {
   "cell_type": "markdown",
   "id": "a1ff79e8",
   "metadata": {},
   "source": [
    "###### 17) isalpha()"
   ]
  },
  {
   "cell_type": "code",
   "execution_count": 18,
   "id": "7fcd7f56",
   "metadata": {},
   "outputs": [
    {
     "data": {
      "text/plain": [
       "False"
      ]
     },
     "execution_count": 18,
     "metadata": {},
     "output_type": "execute_result"
    }
   ],
   "source": [
    "string='Python333'\n",
    "\n",
    "string.isalpha()"
   ]
  },
  {
   "cell_type": "markdown",
   "id": "10783a67",
   "metadata": {},
   "source": [
    "###### 18) isdigit()"
   ]
  },
  {
   "cell_type": "code",
   "execution_count": 19,
   "id": "109852bc",
   "metadata": {},
   "outputs": [
    {
     "data": {
      "text/plain": [
       "True"
      ]
     },
     "execution_count": 19,
     "metadata": {},
     "output_type": "execute_result"
    }
   ],
   "source": [
    "string='9975437'\n",
    "\n",
    "string.isdigit()"
   ]
  },
  {
   "cell_type": "markdown",
   "id": "3fbf9b06",
   "metadata": {},
   "source": [
    "###### 19) isdecimal()"
   ]
  },
  {
   "cell_type": "code",
   "execution_count": 20,
   "id": "7cb914b8",
   "metadata": {},
   "outputs": [
    {
     "data": {
      "text/plain": [
       "True"
      ]
     },
     "execution_count": 20,
     "metadata": {},
     "output_type": "execute_result"
    }
   ],
   "source": [
    "string='9975437'\n",
    "\n",
    "string.isdecimal()"
   ]
  },
  {
   "cell_type": "markdown",
   "id": "efc8a403",
   "metadata": {},
   "source": [
    "###### 20) isdigit()"
   ]
  },
  {
   "cell_type": "code",
   "execution_count": 21,
   "id": "f047e411",
   "metadata": {},
   "outputs": [
    {
     "data": {
      "text/plain": [
       "True"
      ]
     },
     "execution_count": 21,
     "metadata": {},
     "output_type": "execute_result"
    }
   ],
   "source": [
    "mobile_num = '\\u0039'\n",
    "mobile_num.isdigit()"
   ]
  },
  {
   "cell_type": "markdown",
   "id": "5dbdb8ae",
   "metadata": {},
   "source": [
    "###### 21) isnumeric()"
   ]
  },
  {
   "cell_type": "code",
   "execution_count": 22,
   "id": "b464e62d",
   "metadata": {},
   "outputs": [
    {
     "data": {
      "text/plain": [
       "True"
      ]
     },
     "execution_count": 22,
     "metadata": {},
     "output_type": "execute_result"
    }
   ],
   "source": [
    "mobile_num = '\\u0039'\n",
    "mobile_num.isnumeric()"
   ]
  },
  {
   "cell_type": "markdown",
   "id": "6c4e91c7",
   "metadata": {},
   "source": [
    "###### 22) islower()"
   ]
  },
  {
   "cell_type": "code",
   "execution_count": 23,
   "id": "85696f7a",
   "metadata": {},
   "outputs": [
    {
     "name": "stdout",
     "output_type": "stream",
     "text": [
      "False\n",
      "True\n"
     ]
    }
   ],
   "source": [
    "string='Python'\n",
    "string2='python'\n",
    "\n",
    "print(string.islower())\n",
    "print(string2.islower())"
   ]
  },
  {
   "cell_type": "markdown",
   "id": "c0c669b8",
   "metadata": {},
   "source": [
    "###### 23) isupper()"
   ]
  },
  {
   "cell_type": "code",
   "execution_count": 24,
   "id": "cf7247b3",
   "metadata": {},
   "outputs": [
    {
     "name": "stdout",
     "output_type": "stream",
     "text": [
      "False\n",
      "True\n"
     ]
    }
   ],
   "source": [
    "string='Python'\n",
    "string2='PYTHON'\n",
    "\n",
    "print(string.isupper())\n",
    "print(string2.isupper())"
   ]
  },
  {
   "cell_type": "markdown",
   "id": "7ac5e26e",
   "metadata": {},
   "source": [
    "###### 24) istitle()"
   ]
  },
  {
   "cell_type": "code",
   "execution_count": 25,
   "id": "f03c5553",
   "metadata": {},
   "outputs": [
    {
     "name": "stdout",
     "output_type": "stream",
     "text": [
      "True\n",
      "False\n"
     ]
    }
   ],
   "source": [
    "string='Data Science'\n",
    "string2='Data science'\n",
    "\n",
    "print(string.istitle())\n",
    "print(string2.istitle())"
   ]
  },
  {
   "cell_type": "markdown",
   "id": "66e5ac8e",
   "metadata": {},
   "source": [
    "###### 25) isspace()"
   ]
  },
  {
   "cell_type": "code",
   "execution_count": 26,
   "id": "01a1e4f0",
   "metadata": {},
   "outputs": [
    {
     "name": "stdout",
     "output_type": "stream",
     "text": [
      "True\n",
      "False\n"
     ]
    }
   ],
   "source": [
    "string='Python'\n",
    "string='   '\n",
    "\n",
    "print(string.isspace())\n",
    "print(string2.isspace())"
   ]
  },
  {
   "cell_type": "markdown",
   "id": "14ca9329",
   "metadata": {},
   "source": [
    "###### 26) zfill()"
   ]
  },
  {
   "cell_type": "code",
   "execution_count": 27,
   "id": "107acca0",
   "metadata": {},
   "outputs": [
    {
     "data": {
      "text/plain": [
       "'000000000Python'"
      ]
     },
     "execution_count": 27,
     "metadata": {},
     "output_type": "execute_result"
    }
   ],
   "source": [
    "string='Python'\n",
    "\n",
    "string.zfill(15)"
   ]
  },
  {
   "cell_type": "markdown",
   "id": "493c98be",
   "metadata": {},
   "source": [
    "###### 27) center()"
   ]
  },
  {
   "cell_type": "code",
   "execution_count": 28,
   "id": "058df9b6",
   "metadata": {},
   "outputs": [
    {
     "data": {
      "text/plain": [
       "'     pyhton    '"
      ]
     },
     "execution_count": 28,
     "metadata": {},
     "output_type": "execute_result"
    }
   ],
   "source": [
    "string='pyhton'\n",
    "string.center(15)"
   ]
  },
  {
   "cell_type": "markdown",
   "id": "e0abd830",
   "metadata": {},
   "source": [
    "#### <span style='color:purple '> 10. Write a program to print every character of a string entered by the user in a new line using a loop <span>"
   ]
  },
  {
   "cell_type": "code",
   "execution_count": 29,
   "id": "c98dd7d2",
   "metadata": {},
   "outputs": [
    {
     "name": "stdout",
     "output_type": "stream",
     "text": [
      "python\n",
      "p\n",
      "y\n",
      "t\n",
      "h\n",
      "o\n",
      "n\n"
     ]
    }
   ],
   "source": [
    "string=input()\n",
    "\n",
    "for i in string:\n",
    "    print(i)"
   ]
  },
  {
   "cell_type": "markdown",
   "id": "0f95699b",
   "metadata": {},
   "source": [
    "#### <span style='color:purple '>11. Write a program to find the length of the string \"machine learning\" with and without using len function.<span>\n"
   ]
  },
  {
   "cell_type": "code",
   "execution_count": 30,
   "id": "28c39d29",
   "metadata": {},
   "outputs": [
    {
     "name": "stdout",
     "output_type": "stream",
     "text": [
      "Length of string is 16\n"
     ]
    }
   ],
   "source": [
    "string='machine learning'\n",
    "\n",
    "print('Length of string is',len(string))"
   ]
  },
  {
   "cell_type": "code",
   "execution_count": 31,
   "id": "c6d1c2b6",
   "metadata": {},
   "outputs": [
    {
     "name": "stdout",
     "output_type": "stream",
     "text": [
      "Length of string is 16\n"
     ]
    }
   ],
   "source": [
    "length=0\n",
    "for i in string:\n",
    "    length+=1\n",
    "print('Length of string is', length)"
   ]
  },
  {
   "cell_type": "markdown",
   "id": "68cacbb7",
   "metadata": {},
   "source": [
    "#### <span style='color:purple '>12. Write a program to check if the word 'orange' is present in the \"This is orange juice\"<span>"
   ]
  },
  {
   "cell_type": "code",
   "execution_count": 32,
   "id": "fe14cebd",
   "metadata": {},
   "outputs": [
    {
     "name": "stdout",
     "output_type": "stream",
     "text": [
      "orange is present in orange juice\n"
     ]
    }
   ],
   "source": [
    "string='This is orange juice'\n",
    "\n",
    "if string.find('orange')!=-1:\n",
    "    print('orange is present in orange juice')"
   ]
  },
  {
   "cell_type": "code",
   "execution_count": 33,
   "id": "5c762f78",
   "metadata": {},
   "outputs": [
    {
     "name": "stdout",
     "output_type": "stream",
     "text": [
      "orange is present in given string\n"
     ]
    }
   ],
   "source": [
    "string = 'this is orange juice'\n",
    "substring = 'orange'\n",
    "if substring in string :\n",
    "    print(f'{substring} is present in given string')"
   ]
  },
  {
   "cell_type": "markdown",
   "id": "a4048670",
   "metadata": {},
   "source": [
    "#### <span style='color:purple '>13. Write a program to find the number of vowels, consonants, digits, and white space characters in a string.<span>\n"
   ]
  },
  {
   "cell_type": "code",
   "execution_count": 34,
   "id": "449d17cd",
   "metadata": {},
   "outputs": [
    {
     "name": "stdout",
     "output_type": "stream",
     "text": [
      "Vowels: 4\n",
      "Consonants: 12\n",
      "Digits: 1\n",
      "Whitespaces: 2\n"
     ]
    }
   ],
   "source": [
    "string='Python Assignment 1'\n",
    "\n",
    "vowels,consonants,digits,whitespace=0,0,0,0\n",
    "\n",
    "for i in string:\n",
    "    if i.isalpha()==True:\n",
    "        if i in 'aeiou' or i in 'AEIOU':\n",
    "            vowels+=1\n",
    "        else:\n",
    "            consonants+=1\n",
    "    elif i.isdigit()==True:\n",
    "        digits+=1\n",
    "    elif i.isspace()==True:\n",
    "        whitespace+=1\n",
    "        \n",
    "print('Vowels:',vowels)\n",
    "print('Consonants:',consonants)\n",
    "print('Digits:',digits)\n",
    "print('Whitespaces:',whitespace)"
   ]
  },
  {
   "cell_type": "markdown",
   "id": "91c2432b",
   "metadata": {},
   "source": [
    "#### <span style='color:purple '>14. Write a Python program to count Uppercase, Lowercase, special character, and numeric values in a given string.<span>"
   ]
  },
  {
   "cell_type": "code",
   "execution_count": 35,
   "id": "07244c29",
   "metadata": {},
   "outputs": [
    {
     "name": "stdout",
     "output_type": "stream",
     "text": [
      "Uppercase: 2\n",
      "Lowercase: 14\n",
      "Special character: 1\n",
      "Numeric value: 1\n"
     ]
    }
   ],
   "source": [
    "string='Python Assignment : 1'\n",
    "\n",
    "uc,lc,sc,nv=0,0,0,0\n",
    "\n",
    "for i in string:\n",
    "    if i.isalpha():\n",
    "        if i.isupper():\n",
    "            uc+=1\n",
    "        else:\n",
    "            lc+=1\n",
    "    elif i.isdigit():\n",
    "        nv+=1\n",
    "    elif i.isspace()==False:\n",
    "        sc+=1\n",
    "            \n",
    "print('Uppercase:',uc)\n",
    "print('Lowercase:',lc)\n",
    "print('Special character:',sc)\n",
    "print('Numeric value:',nv)"
   ]
  },
  {
   "cell_type": "markdown",
   "id": "a7056f53",
   "metadata": {},
   "source": [
    "#### <span style='color:purple '>15. Write a program to make a new string with all the consonants deleted from the string \"Hello, have a good day\".<span>\n"
   ]
  },
  {
   "cell_type": "code",
   "execution_count": 36,
   "id": "dcf0028e",
   "metadata": {},
   "outputs": [
    {
     "name": "stdout",
     "output_type": "stream",
     "text": [
      "eoaeaooa"
     ]
    }
   ],
   "source": [
    "string='Hello, have a good day'\n",
    "\n",
    "for i in string:\n",
    "    if i in 'aeiou'or i in 'AEIOU':\n",
    "        print(i,end='')"
   ]
  },
  {
   "cell_type": "markdown",
   "id": "a813bbab",
   "metadata": {},
   "source": [
    "#### <span style='color:purple '>16. Write a Python program to remove the nth index character from a non-empty string.<span>\n"
   ]
  },
  {
   "cell_type": "code",
   "execution_count": 37,
   "id": "99aa87f8",
   "metadata": {},
   "outputs": [
    {
     "name": "stdout",
     "output_type": "stream",
     "text": [
      "python\n",
      "3\n",
      "pyton\n"
     ]
    }
   ],
   "source": [
    "string=input()\n",
    "n=int(input())\n",
    "\n",
    "if n in range(len(string)):\n",
    "    print(string[:n]+string[n+1:])\n",
    "else:\n",
    "    print('Invalid index')"
   ]
  },
  {
   "cell_type": "markdown",
   "id": "ff75793b",
   "metadata": {},
   "source": [
    "#### <span style='color:purple '>17. Write a Python program to change a given string to a new string where the first and last characters have been exchanged.<span>"
   ]
  },
  {
   "cell_type": "code",
   "execution_count": 38,
   "id": "92d9efee",
   "metadata": {},
   "outputs": [],
   "source": [
    "def letter_exchange(string):\n",
    "    return string[-1]+string[1:-1]+string[0]"
   ]
  },
  {
   "cell_type": "code",
   "execution_count": 39,
   "id": "222435d8",
   "metadata": {},
   "outputs": [
    {
     "data": {
      "text/plain": [
       "'nythoP'"
      ]
     },
     "execution_count": 39,
     "metadata": {},
     "output_type": "execute_result"
    }
   ],
   "source": [
    "letter_exchange('Python')"
   ]
  },
  {
   "cell_type": "code",
   "execution_count": 40,
   "id": "0f3e8a0b",
   "metadata": {},
   "outputs": [
    {
     "data": {
      "text/plain": [
       "'aatD'"
      ]
     },
     "execution_count": 40,
     "metadata": {},
     "output_type": "execute_result"
    }
   ],
   "source": [
    "letter_exchange('Data')"
   ]
  },
  {
   "cell_type": "markdown",
   "id": "617f87a1",
   "metadata": {},
   "source": [
    "#### <span style='color:purple '>18. Write a Python program to count the occurrences of each word in a given sentence.<span>"
   ]
  },
  {
   "cell_type": "code",
   "execution_count": 41,
   "id": "d33abf6b",
   "metadata": {},
   "outputs": [],
   "source": [
    "def count_word(string):\n",
    "    l1=string.split()\n",
    "    s1=set(l1)\n",
    "    for i in s1:\n",
    "        print('count of', i, 'is', l1.count(i))"
   ]
  },
  {
   "cell_type": "code",
   "execution_count": 42,
   "id": "d6dc8894",
   "metadata": {},
   "outputs": [
    {
     "name": "stdout",
     "output_type": "stream",
     "text": [
      "count of banana is 2\n",
      "count of orange is 3\n",
      "count of guava is 1\n",
      "count of Apple is 1\n"
     ]
    }
   ],
   "source": [
    "count_word('Apple banana orange banana guava orange orange')"
   ]
  },
  {
   "cell_type": "code",
   "execution_count": 43,
   "id": "43769d12",
   "metadata": {},
   "outputs": [],
   "source": [
    "def count_word2(string):\n",
    "    l1=string.split()\n",
    "    d={}\n",
    "    for i in l1:\n",
    "        d.update({i:l1.count(i)})\n",
    "    return d"
   ]
  },
  {
   "cell_type": "code",
   "execution_count": 44,
   "id": "e76421bd",
   "metadata": {},
   "outputs": [
    {
     "data": {
      "text/plain": [
       "{'Apple': 1, 'banana': 2, 'orange': 3, 'guava': 1}"
      ]
     },
     "execution_count": 44,
     "metadata": {},
     "output_type": "execute_result"
    }
   ],
   "source": [
    "count_word2('Apple banana orange banana guava orange orange')"
   ]
  },
  {
   "cell_type": "markdown",
   "id": "7be891a7",
   "metadata": {},
   "source": [
    "#### <span style='color:purple '>19. How do you count the occurrence of a given character in a string? <span>"
   ]
  },
  {
   "cell_type": "code",
   "execution_count": 45,
   "id": "8577e092",
   "metadata": {},
   "outputs": [],
   "source": [
    "def count_char(string,char):\n",
    "    print('count of {} in given string is {}'.format(char,string.count(char)))"
   ]
  },
  {
   "cell_type": "code",
   "execution_count": 46,
   "id": "e761a63e",
   "metadata": {},
   "outputs": [
    {
     "name": "stdout",
     "output_type": "stream",
     "text": [
      "count of y in given string is 1\n"
     ]
    }
   ],
   "source": [
    "string='Python'\n",
    "char='y'\n",
    "count_char(string,char)"
   ]
  },
  {
   "cell_type": "code",
   "execution_count": 47,
   "id": "a84f70db",
   "metadata": {},
   "outputs": [
    {
     "name": "stdout",
     "output_type": "stream",
     "text": [
      "count of banana in given string is 2\n"
     ]
    }
   ],
   "source": [
    "string='Apple banana orange banana guava orange orange'\n",
    "char='banana'\n",
    "count_char(string,char)"
   ]
  },
  {
   "cell_type": "markdown",
   "id": "c1b8c08e",
   "metadata": {},
   "source": [
    "#### <span style='color:purple '>20. Write a program to find last 10 characters of a string?<span>"
   ]
  },
  {
   "cell_type": "code",
   "execution_count": 48,
   "id": "f55e7619",
   "metadata": {},
   "outputs": [],
   "source": [
    "def last_10char(string):\n",
    "    if len(string)>=10:\n",
    "        return string[-10:]\n",
    "    else:\n",
    "        return 'invalid'"
   ]
  },
  {
   "cell_type": "code",
   "execution_count": 49,
   "id": "4aa736ff",
   "metadata": {},
   "outputs": [
    {
     "data": {
      "text/plain": [
       "'ta science'"
      ]
     },
     "execution_count": 49,
     "metadata": {},
     "output_type": "execute_result"
    }
   ],
   "source": [
    "last_10char('Python and data science')"
   ]
  },
  {
   "cell_type": "code",
   "execution_count": 50,
   "id": "caadb19f",
   "metadata": {},
   "outputs": [
    {
     "data": {
      "text/plain": [
       "'invalid'"
      ]
     },
     "execution_count": 50,
     "metadata": {},
     "output_type": "execute_result"
    }
   ],
   "source": [
    "last_10char('Python')"
   ]
  },
  {
   "cell_type": "markdown",
   "id": "24136b17",
   "metadata": {},
   "source": [
    "#### <span style='color:purple '>21. WAP to convert a given string to all uppercase if it contains at least 2 uppercase characters in the first 4 characters <span>"
   ]
  },
  {
   "cell_type": "code",
   "execution_count": 51,
   "id": "19310a3b",
   "metadata": {},
   "outputs": [],
   "source": [
    "def convert_case(string):\n",
    "    l=[]\n",
    "    for i in string[:4]:\n",
    "        if i.isupper():\n",
    "            l.append(i)\n",
    "    if len(l)>=2:\n",
    "        return string.upper()\n",
    "    else:\n",
    "        return string"
   ]
  },
  {
   "cell_type": "code",
   "execution_count": 52,
   "id": "c0bfe87b",
   "metadata": {},
   "outputs": [
    {
     "data": {
      "text/plain": [
       "'Python'"
      ]
     },
     "execution_count": 52,
     "metadata": {},
     "output_type": "execute_result"
    }
   ],
   "source": [
    "convert_case('Python')"
   ]
  },
  {
   "cell_type": "code",
   "execution_count": 53,
   "id": "df1d9d71",
   "metadata": {},
   "outputs": [
    {
     "data": {
      "text/plain": [
       "'PYTHON'"
      ]
     },
     "execution_count": 53,
     "metadata": {},
     "output_type": "execute_result"
    }
   ],
   "source": [
    "convert_case('PYthon')"
   ]
  },
  {
   "cell_type": "code",
   "execution_count": 54,
   "id": "8110db5f",
   "metadata": {},
   "outputs": [
    {
     "data": {
      "text/plain": [
       "'PythoN'"
      ]
     },
     "execution_count": 54,
     "metadata": {},
     "output_type": "execute_result"
    }
   ],
   "source": [
    "convert_case('PythoN')"
   ]
  },
  {
   "cell_type": "markdown",
   "id": "db0cf641",
   "metadata": {},
   "source": [
    "#### <span style='color:purple '>22. Write a Python program to remove a newline in Python.<span>"
   ]
  },
  {
   "cell_type": "code",
   "execution_count": 55,
   "id": "78db7cf2",
   "metadata": {},
   "outputs": [
    {
     "name": "stdout",
     "output_type": "stream",
     "text": [
      "A regular\n",
      " expression is a sequence\n",
      " of characters\n",
      " that specifies a search\n",
      " pattern.\n",
      "A regular expression is a sequence of characters that specifies a search pattern.\n"
     ]
    }
   ],
   "source": [
    "text = \"A regular\\n expression is a sequence\\n of characters\\n that specifies a search\\n pattern.\"\n",
    "print(text)\n",
    "print(text.replace('\\n', ''))"
   ]
  },
  {
   "cell_type": "markdown",
   "id": "5c05e0d1",
   "metadata": {},
   "source": [
    "#### <span style='color:purple '>23. Write a Python program to swap commas and dots in a string\n",
    "○ Sample string: \"32.054,23\"\n",
    "○ Expected Output: \"32,054.23\" <span>"
   ]
  },
  {
   "cell_type": "code",
   "execution_count": 56,
   "id": "c7741e7a",
   "metadata": {},
   "outputs": [
    {
     "name": "stdout",
     "output_type": "stream",
     "text": [
      "Enter the number:32.054,23\n",
      "32,054.23\n"
     ]
    }
   ],
   "source": [
    "s1=input('Enter the number:')\n",
    "s2=s1.maketrans('.,',',.')\n",
    "print(s1.translate(s2))"
   ]
  },
  {
   "cell_type": "markdown",
   "id": "34c96cf2",
   "metadata": {},
   "source": [
    "#### <span style='color:purple '>24. Write a Python program to find the first repeated character in a given string <span>"
   ]
  },
  {
   "cell_type": "code",
   "execution_count": 57,
   "id": "a8778817",
   "metadata": {},
   "outputs": [],
   "source": [
    "def repeated_char(string):\n",
    "    l=[]\n",
    "    \n",
    "    for i in string:\n",
    "        if string.count(i)>=2:\n",
    "            l.append(i)\n",
    "    if len(l)>=1:\n",
    "        return \"Repeated characters:\",set(l)\n",
    "    else:\n",
    "        return \"No repeated character\""
   ]
  },
  {
   "cell_type": "code",
   "execution_count": 58,
   "id": "07ba7ea7",
   "metadata": {},
   "outputs": [
    {
     "data": {
      "text/plain": [
       "('Repeated characters:', {'c', 'e'})"
      ]
     },
     "execution_count": 58,
     "metadata": {},
     "output_type": "execute_result"
    }
   ],
   "source": [
    "repeated_char('Science')"
   ]
  },
  {
   "cell_type": "code",
   "execution_count": 59,
   "id": "e4e95a62",
   "metadata": {},
   "outputs": [
    {
     "data": {
      "text/plain": [
       "'No repeated character'"
      ]
     },
     "execution_count": 59,
     "metadata": {},
     "output_type": "execute_result"
    }
   ],
   "source": [
    "repeated_char('Python')"
   ]
  },
  {
   "cell_type": "code",
   "execution_count": 60,
   "id": "a25c67bf",
   "metadata": {},
   "outputs": [],
   "source": [
    "def rep_char(string):\n",
    "    d={}\n",
    "    l=[]\n",
    "    for i in string:\n",
    "        d.update({i:string.count(i)})\n",
    "    for i in d:\n",
    "        if d.get(i)>1:\n",
    "            l.append(i)\n",
    "    if len(l)>=1:\n",
    "        return \"Repeated characters:\",l\n",
    "    else:\n",
    "        return \"No repeated character\""
   ]
  },
  {
   "cell_type": "code",
   "execution_count": 61,
   "id": "4951cf9c",
   "metadata": {},
   "outputs": [
    {
     "data": {
      "text/plain": [
       "('Repeated characters:', ['c', 'e'])"
      ]
     },
     "execution_count": 61,
     "metadata": {},
     "output_type": "execute_result"
    }
   ],
   "source": [
    "rep_char('Science')"
   ]
  },
  {
   "cell_type": "code",
   "execution_count": 62,
   "id": "dfed405e",
   "metadata": {},
   "outputs": [
    {
     "data": {
      "text/plain": [
       "'No repeated character'"
      ]
     },
     "execution_count": 62,
     "metadata": {},
     "output_type": "execute_result"
    }
   ],
   "source": [
    "rep_char('Python')"
   ]
  },
  {
   "cell_type": "markdown",
   "id": "6428b1a7",
   "metadata": {},
   "source": [
    "#### <span style='color:purple '>25. Write a Python program to find the second most repeated word in a given string <span>\n"
   ]
  },
  {
   "cell_type": "code",
   "execution_count": 1,
   "id": "5b6f1785",
   "metadata": {},
   "outputs": [
    {
     "name": "stdout",
     "output_type": "stream",
     "text": [
      "[('gia', 1), ('radha', 1), ('sham', 2), ('pia', 2), ('ram', 3)]\n",
      "('pia', 2)\n"
     ]
    }
   ],
   "source": [
    "def word_count(str):\n",
    "    counts = dict()\n",
    "    words = str.split()\n",
    "\n",
    "    for word in words:\n",
    "        if word in counts:\n",
    "            counts[word] += 1\n",
    "        else:\n",
    "            counts[word] = 1\n",
    " \n",
    "    counts_x = sorted(counts.items(), key=lambda kv: kv[1])\n",
    "    print(counts_x)\n",
    "    return counts_x[-2]\n",
    " \n",
    "print(word_count(\"ram sham gia pia pia sham ram radha ram\"))"
   ]
  },
  {
   "cell_type": "markdown",
   "id": "baee4239",
   "metadata": {},
   "source": [
    "#### <span style='color:purple '>26. Python program to Count Even and Odd numbers in a List <span>"
   ]
  },
  {
   "cell_type": "code",
   "execution_count": 64,
   "id": "05c69dcd",
   "metadata": {},
   "outputs": [
    {
     "name": "stdout",
     "output_type": "stream",
     "text": [
      "count of even numbers in list is 10\n",
      "count of odd numbers in list is 6\n"
     ]
    }
   ],
   "source": [
    "l=[23,54,65,77,65,43,12,34,54,67,98,76,54,32,12,32]\n",
    "\n",
    "even_num,odd_num=0,0\n",
    "\n",
    "for i in l:\n",
    "    if i%2==0:\n",
    "        even_num+=1\n",
    "    else:\n",
    "        odd_num+=1\n",
    "print('count of even numbers in list is', even_num)\n",
    "print('count of odd numbers in list is', odd_num)"
   ]
  },
  {
   "cell_type": "markdown",
   "id": "ed95faed",
   "metadata": {},
   "source": [
    "#### <span style='color:purple '>27. How do you check if a string contains only digits?<span>"
   ]
  },
  {
   "cell_type": "code",
   "execution_count": 65,
   "id": "504a0aa3",
   "metadata": {},
   "outputs": [
    {
     "name": "stdout",
     "output_type": "stream",
     "text": [
      "String contains only digits\n",
      "String contains other charaters\n",
      "String contains other charaters\n"
     ]
    }
   ],
   "source": [
    "def is_digit(string):\n",
    "    if string.isdecimal():\n",
    "        return 'String contains only digits'\n",
    "    else:\n",
    "        return 'String contains other charaters'\n",
    "    \n",
    "print(is_digit('8459382'))\n",
    "print(is_digit('8se321'))\n",
    "print(is_digit('u2084'))"
   ]
  },
  {
   "cell_type": "markdown",
   "id": "03537675",
   "metadata": {},
   "source": [
    "#### <span style='color:purple '>28. How do you remove a given character/word from String?<span>"
   ]
  },
  {
   "cell_type": "code",
   "execution_count": 66,
   "id": "994d9f84",
   "metadata": {},
   "outputs": [],
   "source": [
    "def remove_char(string,substring):\n",
    "    length=len(substring)\n",
    "    index=string.index(substring)\n",
    "    return string[:index]+string[index+length:]\n"
   ]
  },
  {
   "cell_type": "code",
   "execution_count": 67,
   "id": "947e5997",
   "metadata": {},
   "outputs": [
    {
     "data": {
      "text/plain": [
       "' python and data science is fun'"
      ]
     },
     "execution_count": 67,
     "metadata": {},
     "output_type": "execute_result"
    }
   ],
   "source": [
    "string='Learning python and data science is fun'\n",
    "substring='Learning'\n",
    "\n",
    "remove_char(string,substring)"
   ]
  },
  {
   "cell_type": "code",
   "execution_count": 68,
   "id": "0d07cdd7",
   "metadata": {},
   "outputs": [
    {
     "data": {
      "text/plain": [
       "'Lerning python and data science is fun'"
      ]
     },
     "execution_count": 68,
     "metadata": {},
     "output_type": "execute_result"
    }
   ],
   "source": [
    "string='Learning python and data science is fun'\n",
    "substring='a'\n",
    "\n",
    "remove_char(string,substring)"
   ]
  },
  {
   "cell_type": "code",
   "execution_count": 69,
   "id": "f921674b",
   "metadata": {},
   "outputs": [],
   "source": [
    "def remove_word(string,substring):\n",
    "    return string.replace(substring,'')\n"
   ]
  },
  {
   "cell_type": "code",
   "execution_count": 70,
   "id": "8e08804b",
   "metadata": {},
   "outputs": [
    {
     "data": {
      "text/plain": [
       "'Learning  and data science is fun'"
      ]
     },
     "execution_count": 70,
     "metadata": {},
     "output_type": "execute_result"
    }
   ],
   "source": [
    "string='Learning python and data science is fun'\n",
    "substring='python'\n",
    "\n",
    "remove_word(string,substring)"
   ]
  },
  {
   "cell_type": "code",
   "execution_count": 71,
   "id": "925dab72",
   "metadata": {},
   "outputs": [
    {
     "data": {
      "text/plain": [
       "'Lerning python nd dt science is fun'"
      ]
     },
     "execution_count": 71,
     "metadata": {},
     "output_type": "execute_result"
    }
   ],
   "source": [
    "string='Learning python and data science is fun'\n",
    "substring='a'\n",
    "\n",
    "remove_word(string,substring)"
   ]
  },
  {
   "cell_type": "markdown",
   "id": "fd99037c",
   "metadata": {},
   "source": [
    "#### <span style='color:purple '>29. Write a Python program to remove the characters which have odd index values of a given string <span>\n"
   ]
  },
  {
   "cell_type": "code",
   "execution_count": 72,
   "id": "ec9f9a65",
   "metadata": {},
   "outputs": [
    {
     "data": {
      "text/plain": [
       "'Lann yhnaddt cec sfn'"
      ]
     },
     "execution_count": 72,
     "metadata": {},
     "output_type": "execute_result"
    }
   ],
   "source": [
    "def remove_odd(string):\n",
    "    result=''\n",
    "    for i in range(len(string)):\n",
    "        if i%2==0:\n",
    "            result=result+string[i]\n",
    "    return result\n",
    "\n",
    "string='Learning python and data science is fun'   \n",
    "remove_odd(string)"
   ]
  },
  {
   "cell_type": "markdown",
   "id": "cde62a94",
   "metadata": {},
   "source": [
    "#### <span style='color:purple '>30. Write a Python function to reverses a string if its length is a multiple of 5<span>"
   ]
  },
  {
   "cell_type": "code",
   "execution_count": 73,
   "id": "c36e891f",
   "metadata": {},
   "outputs": [],
   "source": [
    "def reverse_string(string):\n",
    "    if len(string)%5==0:\n",
    "        return string[::-1]\n",
    "    else:\n",
    "        return 'String is not reversible'"
   ]
  },
  {
   "cell_type": "code",
   "execution_count": 74,
   "id": "fef561cb",
   "metadata": {},
   "outputs": [
    {
     "data": {
      "text/plain": [
       "'String is not reversible'"
      ]
     },
     "execution_count": 74,
     "metadata": {},
     "output_type": "execute_result"
    }
   ],
   "source": [
    "reverse_string('Python')"
   ]
  },
  {
   "cell_type": "code",
   "execution_count": 75,
   "id": "c9c7614d",
   "metadata": {},
   "outputs": [
    {
     "data": {
      "text/plain": [
       "'tnirp'"
      ]
     },
     "execution_count": 75,
     "metadata": {},
     "output_type": "execute_result"
    }
   ],
   "source": [
    "reverse_string('print')"
   ]
  },
  {
   "cell_type": "markdown",
   "id": "de308c0d",
   "metadata": {},
   "source": [
    "#### <span style='color:purple '>31. Write a Python program to format a number with a percentage(0.05 >> 5%)<span>"
   ]
  },
  {
   "cell_type": "code",
   "execution_count": 76,
   "id": "0e6d1b3e",
   "metadata": {},
   "outputs": [
    {
     "name": "stdout",
     "output_type": "stream",
     "text": [
      "0.43\n",
      "43%\n"
     ]
    }
   ],
   "source": [
    "number=float(input())\n",
    "percent='{:.0%}'.format(number)\n",
    "print(percent)"
   ]
  },
  {
   "cell_type": "markdown",
   "id": "1089c4f4",
   "metadata": {},
   "source": [
    "#### <span style='color:purple '>32. Write a Python program to reverse words in a string<span>"
   ]
  },
  {
   "cell_type": "code",
   "execution_count": 77,
   "id": "ca51c107",
   "metadata": {},
   "outputs": [],
   "source": [
    "def reverse_words(string):\n",
    "    l=string.split()\n",
    "    l2=[]\n",
    "    for i in l:\n",
    "        l2.append(i[::-1])\n",
    "    return ' '.join(l2)"
   ]
  },
  {
   "cell_type": "code",
   "execution_count": 78,
   "id": "4055ec52",
   "metadata": {},
   "outputs": [
    {
     "data": {
      "text/plain": [
       "'gninraeL nohtyp dna atad ecneics si nuf'"
      ]
     },
     "execution_count": 78,
     "metadata": {},
     "output_type": "execute_result"
    }
   ],
   "source": [
    "string='Learning python and data science is fun'\n",
    "reverse_words(string)"
   ]
  },
  {
   "cell_type": "markdown",
   "id": "24d95743",
   "metadata": {},
   "source": [
    "#### <span style='color:purple '>33. Write a Python program to swap cases of a given string<span>"
   ]
  },
  {
   "cell_type": "code",
   "execution_count": 79,
   "id": "c472b12e",
   "metadata": {},
   "outputs": [
    {
     "name": "stdout",
     "output_type": "stream",
     "text": [
      "Enter your string:Pyhton\n",
      "pYHTON\n"
     ]
    }
   ],
   "source": [
    "string=input('Enter your string:')\n",
    "\n",
    "print(string.swapcase())"
   ]
  },
  {
   "cell_type": "markdown",
   "id": "e582e823",
   "metadata": {},
   "source": [
    "#### <span style='color:purple '>34. Write a Python program to remove spaces from a given string<span>"
   ]
  },
  {
   "cell_type": "code",
   "execution_count": 80,
   "id": "1caac430",
   "metadata": {},
   "outputs": [
    {
     "name": "stdout",
     "output_type": "stream",
     "text": [
      "Enter your string:Python Assignment\n",
      "PythonAssignment\n"
     ]
    }
   ],
   "source": [
    "string=input('Enter your string:')\n",
    "\n",
    "print(string.replace(' ',''))\n"
   ]
  },
  {
   "cell_type": "markdown",
   "id": "82aeaf64",
   "metadata": {},
   "source": [
    "#### <span style='color:purple '>35. Write a Python program to remove duplicate characters of a given string<span>"
   ]
  },
  {
   "cell_type": "code",
   "execution_count": 81,
   "id": "856c12fb",
   "metadata": {},
   "outputs": [
    {
     "name": "stdout",
     "output_type": "stream",
     "text": [
      "loip\n"
     ]
    }
   ],
   "source": [
    "string='lollipop'\n",
    "a=''\n",
    "for i in string:\n",
    "    if i not in a:\n",
    "        a=a+i\n",
    "print(a)"
   ]
  },
  {
   "cell_type": "code",
   "execution_count": 82,
   "id": "01a2c6fb",
   "metadata": {},
   "outputs": [
    {
     "name": "stdout",
     "output_type": "stream",
     "text": [
      "python\n"
     ]
    }
   ],
   "source": [
    "string='python'\n",
    "a=''\n",
    "for i in string:\n",
    "    if i not in a:\n",
    "        a=a+i\n",
    "print(a)"
   ]
  },
  {
   "cell_type": "markdown",
   "id": "8cce9d9e",
   "metadata": {},
   "source": [
    "#### <span style='color:purple '>36. Write a Python Program to find the area of a circle<span>"
   ]
  },
  {
   "cell_type": "code",
   "execution_count": 83,
   "id": "979dfb21",
   "metadata": {},
   "outputs": [
    {
     "name": "stdout",
     "output_type": "stream",
     "text": [
      "enter radius of circle:4\n",
      "Aread of circle: 50.27\n"
     ]
    }
   ],
   "source": [
    "from math import pi\n",
    "\n",
    "radius=float(input('enter radius of circle:'))\n",
    "\n",
    "print('Aread of circle:', round(pi*radius**2,2))"
   ]
  },
  {
   "cell_type": "markdown",
   "id": "b9e13693",
   "metadata": {},
   "source": [
    "#### <span style='color:purple '>37. Python Program to find Sum of squares of first n natural numbers <span>"
   ]
  },
  {
   "cell_type": "code",
   "execution_count": 84,
   "id": "d5cf04d6",
   "metadata": {},
   "outputs": [
    {
     "data": {
      "text/plain": [
       "385"
      ]
     },
     "execution_count": 84,
     "metadata": {},
     "output_type": "execute_result"
    }
   ],
   "source": [
    "def sum_of_squares(n):\n",
    "    sum_=0\n",
    "    for i in range(n+1):\n",
    "        sum_=sum_+i**2\n",
    "    return sum_\n",
    "\n",
    "sum_of_squares(10)"
   ]
  },
  {
   "cell_type": "markdown",
   "id": "00570e6c",
   "metadata": {},
   "source": [
    "#### <span style='color:purple '>38. Python Program to find cube sum of first n natural numbers <span>"
   ]
  },
  {
   "cell_type": "code",
   "execution_count": 85,
   "id": "4e6b92bc",
   "metadata": {},
   "outputs": [
    {
     "data": {
      "text/plain": [
       "225"
      ]
     },
     "execution_count": 85,
     "metadata": {},
     "output_type": "execute_result"
    }
   ],
   "source": [
    "def sum_of_cubes(n):\n",
    "    sum_=0\n",
    "    for i in range(n+1):\n",
    "        sum_=sum_+i**3\n",
    "    return sum_\n",
    "\n",
    "sum_of_cubes(5)"
   ]
  },
  {
   "cell_type": "markdown",
   "id": "d77ca81b",
   "metadata": {},
   "source": [
    "#### <span style='color:purple '>39. Python Program to find simple interest and compound interest <span>"
   ]
  },
  {
   "cell_type": "code",
   "execution_count": 86,
   "id": "85dc86e6",
   "metadata": {},
   "outputs": [
    {
     "name": "stdout",
     "output_type": "stream",
     "text": [
      "Enter the principal amount:2000\n",
      "Enter the number of years:5\n",
      "Enter rate of intrest:12\n",
      "Simple intrest: 1200.0\n",
      "Compound intrest: 3524.6833664000014\n"
     ]
    }
   ],
   "source": [
    "#simple intrest & compound intrest\n",
    "P=float(input(\"Enter the principal amount:\"))\n",
    "N=float(input(\"Enter the number of years:\"))\n",
    "R=float(input(\"Enter rate of intrest:\"))\n",
    "Simple_intrest = (P*N*R)/100\n",
    "\n",
    "print(\"Simple intrest:\", Simple_intrest)\n",
    "\n",
    "Compound_intrest = P*(pow((1+R/100), N))\n",
    "\n",
    "print(\"Compound intrest:\", Compound_intrest)"
   ]
  },
  {
   "cell_type": "markdown",
   "id": "215b1035",
   "metadata": {},
   "source": [
    "#### <span style='color:purple '>40. Python program to check whether a number is Prime or not<span>"
   ]
  },
  {
   "cell_type": "code",
   "execution_count": 87,
   "id": "887337ff",
   "metadata": {},
   "outputs": [],
   "source": [
    "def prime_number(num):\n",
    "    for i in range(2,int(num/2)+1):\n",
    "        if num % i==0:\n",
    "            print('Number is not a prime number')\n",
    "            break\n",
    "    else:\n",
    "        print('Number is prime number')"
   ]
  },
  {
   "cell_type": "code",
   "execution_count": 88,
   "id": "fc8cbf84",
   "metadata": {},
   "outputs": [
    {
     "name": "stdout",
     "output_type": "stream",
     "text": [
      "Number is prime number\n"
     ]
    }
   ],
   "source": [
    "prime_number(41)"
   ]
  },
  {
   "cell_type": "code",
   "execution_count": 89,
   "id": "303189f5",
   "metadata": {},
   "outputs": [
    {
     "name": "stdout",
     "output_type": "stream",
     "text": [
      "Number is not a prime number\n"
     ]
    }
   ],
   "source": [
    "prime_number(15)"
   ]
  },
  {
   "cell_type": "code",
   "execution_count": null,
   "id": "a69dc2a1",
   "metadata": {},
   "outputs": [],
   "source": [
    "#end"
   ]
  }
 ],
 "metadata": {
  "kernelspec": {
   "display_name": "Python 3 (ipykernel)",
   "language": "python",
   "name": "python3"
  },
  "language_info": {
   "codemirror_mode": {
    "name": "ipython",
    "version": 3
   },
   "file_extension": ".py",
   "mimetype": "text/x-python",
   "name": "python",
   "nbconvert_exporter": "python",
   "pygments_lexer": "ipython3",
   "version": "3.9.7"
  }
 },
 "nbformat": 4,
 "nbformat_minor": 5
}
