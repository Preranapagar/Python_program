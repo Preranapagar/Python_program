{
 "cells": [
  {
   "cell_type": "markdown",
   "id": "40b4ffb9",
   "metadata": {},
   "source": [
    "## Assignment: 7"
   ]
  },
  {
   "cell_type": "markdown",
   "id": "630a6fd3",
   "metadata": {},
   "source": [
    "Topic: (Datetime, OS Module, File and Exception Handling)"
   ]
  },
  {
   "cell_type": "markdown",
   "id": "1e255960",
   "metadata": {},
   "source": [
    "#### 1. Write a Python program to read an entire text file\n"
   ]
  },
  {
   "cell_type": "markdown",
   "id": "da3b666a",
   "metadata": {},
   "source": [
    "#### 2. Write a Python program to read the first n lines of a file"
   ]
  },
  {
   "cell_type": "markdown",
   "id": "19134c70",
   "metadata": {},
   "source": [
    "#### 3. Write a Python program to append text to a file and display the text"
   ]
  },
  {
   "cell_type": "markdown",
   "id": "d929184c",
   "metadata": {},
   "source": [
    "#### 4. Write a Python program to read the last n lines of a file"
   ]
  },
  {
   "cell_type": "markdown",
   "id": "860c9401",
   "metadata": {},
   "source": [
    "#### 5. Write a Python program to read a file line by line and store it into a list"
   ]
  },
  {
   "cell_type": "markdown",
   "id": "bbe0b211",
   "metadata": {},
   "source": [
    "#### 6. Write a Python program to count the number of lines in a text file"
   ]
  },
  {
   "cell_type": "markdown",
   "id": "7a55e073",
   "metadata": {},
   "source": [
    "#### 7. Write a Python program to count the frequency of words in a file\n"
   ]
  },
  {
   "cell_type": "markdown",
   "id": "4f27abd8",
   "metadata": {},
   "source": [
    "#### 8. Write a Python program to copy the contents of a file to another file"
   ]
  },
  {
   "cell_type": "markdown",
   "id": "729af49b",
   "metadata": {},
   "source": [
    "#### 9. Write a Python script to display the various Date Time formats - Go to the editor\n",
    "a) Current date and time\n",
    "\n",
    "b) Current year\n",
    "\n",
    "c) Month of year\n",
    "\n",
    "d) Week number of the year\n",
    "\n",
    "e) Weekday of the week\n",
    "\n",
    "f) Day of year\n",
    "\n",
    "g) Day of the month\n",
    "\n",
    "h) Day of week\n"
   ]
  },
  {
   "cell_type": "markdown",
   "id": "eeca7e46",
   "metadata": {},
   "source": [
    "#### 10. Write a Python program to determine whether a given year is a leap year\n"
   ]
  },
  {
   "cell_type": "markdown",
   "id": "8e8d785f",
   "metadata": {},
   "source": [
    "#### 11. Write a Python program to convert a string to datetime. Go to the editor\n",
    "○ Sample String : Jan 1 2014 2:43PM\n",
    "\n",
    "○ Expected Output : 2014-07-01 14:43:00"
   ]
  },
  {
   "cell_type": "markdown",
   "id": "1ad82502",
   "metadata": {},
   "source": [
    "#### 12. Write a Python program to subtract five days from current date\n"
   ]
  },
  {
   "cell_type": "markdown",
   "id": "95cb82ce",
   "metadata": {},
   "source": [
    "#### 13. Write a Python program to print yesterday, today, tomorrow"
   ]
  },
  {
   "cell_type": "markdown",
   "id": "2901ec48",
   "metadata": {},
   "source": [
    "#### 14. Write a Python program to print next 5 days starting from today"
   ]
  },
  {
   "cell_type": "markdown",
   "id": "37d64d68",
   "metadata": {},
   "source": [
    "#### 15. Write a Python program to drop microseconds from DateTim"
   ]
  },
  {
   "cell_type": "markdown",
   "id": "895970ae",
   "metadata": {},
   "source": [
    "#### 16. Write a Python program to find the date of the first Monday of a given week"
   ]
  },
  {
   "cell_type": "markdown",
   "id": "1a109f7c",
   "metadata": {},
   "source": [
    "#### 17. Write a Python program to select all the Sundays of a specified year\n"
   ]
  },
  {
   "cell_type": "markdown",
   "id": "f703fdf2",
   "metadata": {},
   "source": [
    "#### 18. Write a Python program to create a file and write some text and rename the file name\n"
   ]
  },
  {
   "cell_type": "markdown",
   "id": "3e14172b",
   "metadata": {},
   "source": [
    "#### 19. What are different methods available in the OS module for creating a directory?"
   ]
  },
  {
   "cell_type": "markdown",
   "id": "15c65ed0",
   "metadata": {},
   "source": [
    "#### 20. Explain os.listdir() method.\n"
   ]
  },
  {
   "cell_type": "markdown",
   "id": "9ab69304",
   "metadata": {},
   "source": [
    "#### 21. What are different methods for removing directories and files in Python?"
   ]
  },
  {
   "cell_type": "markdown",
   "id": "9aa6d865",
   "metadata": {},
   "source": [
    "#### 22. What are exceptions in Python?"
   ]
  },
  {
   "cell_type": "markdown",
   "id": "6f1f3e8d",
   "metadata": {},
   "source": [
    "#### 23. What are Built-in exceptions?"
   ]
  },
  {
   "cell_type": "markdown",
   "id": "ead1cae3",
   "metadata": {},
   "source": [
    "#### 24. What are User-defined Exceptions?"
   ]
  },
  {
   "cell_type": "markdown",
   "id": "7e975d0b",
   "metadata": {},
   "source": [
    "#### 25. When would you not use try-except?\n"
   ]
  },
  {
   "cell_type": "markdown",
   "id": "a430c732",
   "metadata": {},
   "source": [
    "#### 26. Can try-except catch the error if a file can’t be opened?"
   ]
  },
  {
   "cell_type": "code",
   "execution_count": null,
   "id": "d8cb05f0",
   "metadata": {},
   "outputs": [],
   "source": []
  }
 ],
 "metadata": {
  "kernelspec": {
   "display_name": "Python 3 (ipykernel)",
   "language": "python",
   "name": "python3"
  },
  "language_info": {
   "codemirror_mode": {
    "name": "ipython",
    "version": 3
   },
   "file_extension": ".py",
   "mimetype": "text/x-python",
   "name": "python",
   "nbconvert_exporter": "python",
   "pygments_lexer": "ipython3",
   "version": "3.9.7"
  }
 },
 "nbformat": 4,
 "nbformat_minor": 5
}
