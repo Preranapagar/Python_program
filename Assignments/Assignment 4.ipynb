{
 "cells": [
  {
   "cell_type": "markdown",
   "id": "dcc4ce71",
   "metadata": {},
   "source": [
    "## Assigment: 4"
   ]
  },
  {
   "cell_type": "markdown",
   "id": "a2f08ba5",
   "metadata": {},
   "source": [
    "Topic: Loop, Dict, Function"
   ]
  },
  {
   "cell_type": "markdown",
   "id": "78c9f0e9",
   "metadata": {},
   "source": [
    "#### 1. Python program to sort Python Dictionaries by Keys"
   ]
  },
  {
   "cell_type": "code",
   "execution_count": 2,
   "id": "f9efcb26",
   "metadata": {},
   "outputs": [
    {
     "name": "stdout",
     "output_type": "stream",
     "text": [
      "{'A': 56, 'B': 11, 'C': 23, 'K': 12}\n"
     ]
    }
   ],
   "source": [
    "dict1={'K':12,'B':11,'C':23,'A':56}\n",
    "\n",
    "sorted_dict={}\n",
    "for i in sorted(dict1.keys()):\n",
    "    sorted_dict.update({i:dict1[i]})\n",
    "    \n",
    "print(sorted_dict)"
   ]
  },
  {
   "cell_type": "code",
   "execution_count": 11,
   "id": "9099e4eb",
   "metadata": {},
   "outputs": [
    {
     "data": {
      "text/plain": [
       "{'A': 56, 'B': 11, 'C': 23, 'K': 12}"
      ]
     },
     "execution_count": 11,
     "metadata": {},
     "output_type": "execute_result"
    }
   ],
   "source": [
    "dict(sorted(dict1.items()))"
   ]
  },
  {
   "cell_type": "markdown",
   "id": "a3fc3ac7",
   "metadata": {},
   "source": [
    "#### 2. Python program to sort Python Dictionaries by Values"
   ]
  },
  {
   "cell_type": "code",
   "execution_count": 9,
   "id": "3c1c7d41",
   "metadata": {},
   "outputs": [
    {
     "name": "stdout",
     "output_type": "stream",
     "text": [
      "{'B': 11, 'K': 12, 'C': 23, 'A': 56}\n"
     ]
    }
   ],
   "source": [
    "dict1={'K':12,'B':11,'C':23,'A':56}\n",
    "sorted_dict={}\n",
    "\n",
    "for value in sorted(dict1.values()):\n",
    "    for key in dict1.keys():\n",
    "        if dict1[key]==value:\n",
    "            sorted_dict[key]=value\n",
    "            \n",
    "print(sorted_dict)"
   ]
  },
  {
   "cell_type": "markdown",
   "id": "7cecf9f4",
   "metadata": {},
   "source": [
    "#### 3. Python program to find the sum of all items in a dictionary\n"
   ]
  },
  {
   "cell_type": "code",
   "execution_count": 14,
   "id": "a13e259a",
   "metadata": {},
   "outputs": [
    {
     "name": "stdout",
     "output_type": "stream",
     "text": [
      "sum of all values in dict: 102\n"
     ]
    }
   ],
   "source": [
    "dict1={'K':12,'B':11,'C':23,'A':56}\n",
    "print('sum of all values in dict:',sum(dict1.values()))"
   ]
  },
  {
   "cell_type": "markdown",
   "id": "be92e3b2",
   "metadata": {},
   "source": [
    "#### 4. Python program to remove a key from a dictionary"
   ]
  },
  {
   "cell_type": "code",
   "execution_count": 17,
   "id": "7ec82a97",
   "metadata": {},
   "outputs": [
    {
     "data": {
      "text/plain": [
       "{'K': 12, 'C': 23, 'A': 56}"
      ]
     },
     "execution_count": 17,
     "metadata": {},
     "output_type": "execute_result"
    }
   ],
   "source": [
    "dict1={'K':12,'B':11,'C':23,'A':56}\n",
    "\n",
    "dict1.pop('B')\n",
    "dict1"
   ]
  },
  {
   "cell_type": "markdown",
   "id": "8129d796",
   "metadata": {},
   "source": [
    "#### 5. Python program to merge two Dictionaries"
   ]
  },
  {
   "cell_type": "code",
   "execution_count": 20,
   "id": "8618a0bd",
   "metadata": {},
   "outputs": [
    {
     "name": "stdout",
     "output_type": "stream",
     "text": [
      "{'K': 12, 'B': 11, 'C': 23, 'A': 56, 'mark': 23, 'john': 45}\n"
     ]
    }
   ],
   "source": [
    "dict1={'K':12,'B':11,'C':23,'A':56}\n",
    "name={'mark':23,'john':45}\n",
    "\n",
    "dict1.update(name)\n",
    "print(dict1)"
   ]
  },
  {
   "cell_type": "markdown",
   "id": "bd9f811f",
   "metadata": {},
   "source": [
    "#### 6. Program to create grade calculator in Python"
   ]
  },
  {
   "cell_type": "code",
   "execution_count": 33,
   "id": "6d0c1d8e",
   "metadata": {},
   "outputs": [
    {
     "name": "stdout",
     "output_type": "stream",
     "text": [
      "The student got 62.67 % and C grade\n"
     ]
    }
   ],
   "source": [
    "def grade_calculator(dict):\n",
    "    total_marks=sum(dict.values())\n",
    "    length=len(dict)\n",
    "    percentage=round((total_marks/length),2)\n",
    "    \n",
    "    if percentage >=90:\n",
    "        print(f'The student got {percentage} % and A grade')\n",
    "    elif percentage>=80 and percentage<=90:\n",
    "        print(f'The student got {percentage} % and B grade')\n",
    "    elif percentage>=60 and percentage<=80:\n",
    "        print(f'The student got {percentage} % and C grade')\n",
    "    else:\n",
    "        print(f'The student got {percentage} % and C- grade')\n",
    "        \n",
    "        \n",
    "student1={'Math':49,'Science':69,'History':70}\n",
    "grade_calculator(student1)"
   ]
  },
  {
   "cell_type": "markdown",
   "id": "add30e90",
   "metadata": {},
   "source": [
    "#### 7. Print anagrams together in Python using List and Dictionary\n"
   ]
  },
  {
   "cell_type": "code",
   "execution_count": 44,
   "id": "83e6a9c3",
   "metadata": {},
   "outputs": [
    {
     "name": "stdout",
     "output_type": "stream",
     "text": [
      "Anagrams from lists are:\n"
     ]
    },
    {
     "data": {
      "text/plain": [
       "[['cat', 'tac']]"
      ]
     },
     "execution_count": 44,
     "metadata": {},
     "output_type": "execute_result"
    }
   ],
   "source": [
    "def find_anagram(l):\n",
    "    ana={}\n",
    "    for i in l:\n",
    "        key=''.join(sorted(i))\n",
    "        list1=[]\n",
    "        for i in l:\n",
    "            if key==''.join(sorted(i)):\n",
    "                list1.append(i)\n",
    "        ana[key]=list1\n",
    "    \n",
    "    anagrams=[]\n",
    "    for key in ana:\n",
    "        if len(ana[key])>1:\n",
    "               anagrams.append(ana[key])\n",
    "    print('Anagrams from lists are:')\n",
    "    return anagrams\n",
    "\n",
    "find_anagram(['cat','bat','mat','tac'])    "
   ]
  },
  {
   "cell_type": "code",
   "execution_count": 45,
   "id": "1cc2f2fb",
   "metadata": {},
   "outputs": [
    {
     "name": "stdout",
     "output_type": "stream",
     "text": [
      "Anagrams from lists are:\n"
     ]
    },
    {
     "data": {
      "text/plain": [
       "[['dog', 'god'],\n",
       " ['pat', 'tap'],\n",
       " ['below', 'elbow'],\n",
       " ['act', 'cat'],\n",
       " ['silent', 'listen']]"
      ]
     },
     "execution_count": 45,
     "metadata": {},
     "output_type": "execute_result"
    }
   ],
   "source": [
    "word=['dog','god','pat','tap','below','elbow','act','cat','silent','listen']\n",
    "find_anagram(word)"
   ]
  },
  {
   "cell_type": "markdown",
   "id": "be900feb",
   "metadata": {},
   "source": [
    "#### 8. Check if binary representations of two numbers are an anagram"
   ]
  },
  {
   "cell_type": "code",
   "execution_count": 49,
   "id": "ad2f6b9e",
   "metadata": {},
   "outputs": [
    {
     "name": "stdout",
     "output_type": "stream",
     "text": [
      "binary of 2 and 5 are not an anagram\n"
     ]
    }
   ],
   "source": [
    "def bin_ana(a,b):\n",
    "    num1=bin(a)\n",
    "    num2=bin(b)\n",
    "    if ''.join(sorted(num1))==''.join(sorted(num2)):\n",
    "        print(f'binary of {a} and {b} are anagram')\n",
    "    else:\n",
    "        print(f'binary of {a} and {b} are not an anagram')\n",
    "        \n",
    "bin_ana(2,5)"
   ]
  },
  {
   "cell_type": "code",
   "execution_count": 55,
   "id": "45994e66",
   "metadata": {},
   "outputs": [
    {
     "name": "stdout",
     "output_type": "stream",
     "text": [
      "binary of 5 and 6 are anagram\n"
     ]
    }
   ],
   "source": [
    "bin_ana(5,6)"
   ]
  },
  {
   "cell_type": "code",
   "execution_count": 58,
   "id": "e684867e",
   "metadata": {},
   "outputs": [
    {
     "name": "stdout",
     "output_type": "stream",
     "text": [
      "binary of 14 and 11 are anagram\n"
     ]
    }
   ],
   "source": [
    "bin_ana(14,11)"
   ]
  },
  {
   "cell_type": "code",
   "execution_count": 8,
   "id": "1b3950e5",
   "metadata": {},
   "outputs": [
    {
     "name": "stdout",
     "output_type": "stream",
     "text": [
      "Binary representation of 1 and 2 is not an anagram\n"
     ]
    }
   ],
   "source": [
    "def bin_ana2(a,b):\n",
    "    n1=bin(a)[2:]\n",
    "    n2=bin(b)[2:]\n",
    "    \n",
    "    if n1.count('0')==n2.count('0') and n1.count('1')==n2.count('1'):\n",
    "        print(f'Binary representation of {a} and {b} is an anagram')\n",
    "    else:\n",
    "        print(f'Binary representation of {a} and {b} is not an anagram')\n",
    "bin_ana2(1,2)       "
   ]
  },
  {
   "cell_type": "code",
   "execution_count": 9,
   "id": "843176d1",
   "metadata": {},
   "outputs": [
    {
     "name": "stdout",
     "output_type": "stream",
     "text": [
      "Binary representation of 14 and 11 is an anagram\n"
     ]
    }
   ],
   "source": [
    "bin_ana2(14,11)"
   ]
  },
  {
   "cell_type": "markdown",
   "id": "2332501d",
   "metadata": {},
   "source": [
    "#### 9. Python Counter to find the size of the largest subset of anagram words"
   ]
  },
  {
   "cell_type": "code",
   "execution_count": 72,
   "id": "ef88a653",
   "metadata": {},
   "outputs": [
    {
     "data": {
      "text/plain": [
       "[['tap', 'apt', 'pat']]"
      ]
     },
     "execution_count": 72,
     "metadata": {},
     "output_type": "execute_result"
    }
   ],
   "source": [
    "def large_subset(l):\n",
    "    dict1={}\n",
    "    for i in l:\n",
    "        key=''.join(sorted(i))\n",
    "        list1=[]\n",
    "        for i in l:\n",
    "            if key==''.join(sorted(i)):\n",
    "                list1.append(i)\n",
    "        dict1[key]=[list1]\n",
    "        \n",
    "    tup=tuple(dict1.values())\n",
    "    ana_set={}\n",
    "    for i in tup:\n",
    "        for j in i:\n",
    "            ana_set.update({len(j):i})\n",
    "    anagram_subset=sorted(ana_set.items())[-1][-1]\n",
    "    return anagram_subset\n",
    "    \n",
    "        \n",
    "large_subset(['tap','dog','cat','tac','apt','pat'])            \n",
    "        "
   ]
  },
  {
   "cell_type": "code",
   "execution_count": 73,
   "id": "c23e0956",
   "metadata": {},
   "outputs": [
    {
     "data": {
      "text/plain": [
       "[['space', 'scape', 'paces', 'capes']]"
      ]
     },
     "execution_count": 73,
     "metadata": {},
     "output_type": "execute_result"
    }
   ],
   "source": [
    "words=['space','scape','mat','apt','paces','god','pat','dog','capes','tap']\n",
    "large_subset(words)"
   ]
  },
  {
   "cell_type": "markdown",
   "id": "8c11fa1c",
   "metadata": {},
   "source": [
    "#### 10. Python Dictionary to find mirror characters in a string"
   ]
  },
  {
   "cell_type": "code",
   "execution_count": 76,
   "id": "3a848dc4",
   "metadata": {},
   "outputs": [
    {
     "name": "stdout",
     "output_type": "stream",
     "text": [
      "kbgslm\n",
      "hxrvmxv\n"
     ]
    }
   ],
   "source": [
    "def mirror_char(string):\n",
    "    for i in string:\n",
    "        print(i if not i.isalpha() else chr(219-ord(i.lower())),end='')\n",
    "    print()\n",
    "        \n",
    "mirror_char('python')\n",
    "mirror_char('science')"
   ]
  },
  {
   "cell_type": "markdown",
   "id": "b2492965",
   "metadata": {},
   "source": [
    "#### 11. Counting the frequencies in a list using a dictionary in Python"
   ]
  },
  {
   "cell_type": "code",
   "execution_count": 81,
   "id": "3f996d69",
   "metadata": {},
   "outputs": [
    {
     "data": {
      "text/plain": [
       "{5: 2, 4: 3, 6: 2, 7: 1, 8: 1, 3: 3, 2: 2, 1: 1}"
      ]
     },
     "execution_count": 81,
     "metadata": {},
     "output_type": "execute_result"
    }
   ],
   "source": [
    "def feq_counter(l):\n",
    "    dict1={}\n",
    "    for i in l:\n",
    "        dict1[i]=l.count(i)\n",
    "        \n",
    "    return dict1\n",
    "\n",
    "l=[5,4,6,7,8,6,4,3,2,3,4,5,3,2,1]\n",
    "feq_counter(l)"
   ]
  },
  {
   "cell_type": "markdown",
   "id": "957f8821",
   "metadata": {},
   "source": [
    "#### 12. Python program to convert a list of Tuples into Dictionary"
   ]
  },
  {
   "cell_type": "code",
   "execution_count": 82,
   "id": "ff25525d",
   "metadata": {},
   "outputs": [
    {
     "data": {
      "text/plain": [
       "{'ram': 30, 'sam': 40, 'ken': 20}"
      ]
     },
     "execution_count": 82,
     "metadata": {},
     "output_type": "execute_result"
    }
   ],
   "source": [
    "list1=[('ram',30),('sam',40),('ken',20)]\n",
    "dict(list1)"
   ]
  },
  {
   "cell_type": "code",
   "execution_count": 83,
   "id": "16e900f6",
   "metadata": {},
   "outputs": [
    {
     "name": "stdout",
     "output_type": "stream",
     "text": [
      "{'a': [10, 50, 60, 20], 'b': [20, 30, 40], 'c': [10]}\n"
     ]
    }
   ],
   "source": [
    "list1 = [('a',10),('a',50),('a',60),('a',20),('b',20),('b',30),('b',40),('c',10)]\n",
    "dict1={}\n",
    "\n",
    "for a,b in list1:\n",
    "    dict1.setdefault(a,[]).append(b)\n",
    "print(dict1)"
   ]
  },
  {
   "cell_type": "markdown",
   "id": "e58d17e9",
   "metadata": {},
   "source": [
    "#### 13. Scraping And Finding Ordered Words In A Dictionary using Python"
   ]
  },
  {
   "cell_type": "code",
   "execution_count": 86,
   "id": "4048f816",
   "metadata": {},
   "outputs": [
    {
     "name": "stdout",
     "output_type": "stream",
     "text": [
      "Ordered words from dict:\n"
     ]
    },
    {
     "data": {
      "text/plain": [
       "['abort', 'accept']"
      ]
     },
     "execution_count": 86,
     "metadata": {},
     "output_type": "execute_result"
    }
   ],
   "source": [
    "def ordered_word(dict1):\n",
    "    ordered_words=[]\n",
    "    \n",
    "    for i in dict1.keys():\n",
    "        if list(i)==sorted(list(i)):\n",
    "            ordered_words.append(i)\n",
    "    print('Ordered words from dict:')\n",
    "    return ordered_words\n",
    "\n",
    "d={'apple':2,'abort':3,'cherry':2,'accept':12,'kiwi':1}\n",
    "ordered_word(d)"
   ]
  },
  {
   "cell_type": "markdown",
   "id": "2cea7a18",
   "metadata": {},
   "source": [
    "#### 14. Create a list of tuples from the given list having a number and its cube in each tuple\n"
   ]
  },
  {
   "cell_type": "code",
   "execution_count": 87,
   "id": "29191967",
   "metadata": {},
   "outputs": [
    {
     "data": {
      "text/plain": [
       "[(1, 1), (2, 8), (3, 27), (4, 64), (5, 125), (6, 216)]"
      ]
     },
     "execution_count": 87,
     "metadata": {},
     "output_type": "execute_result"
    }
   ],
   "source": [
    "def cube_list(list1):\n",
    "    dict1={}\n",
    "    for i in list1:\n",
    "        dict1.update({i:i**3})\n",
    "    \n",
    "    cubes=list(dict1.items())\n",
    "    return cubes\n",
    "\n",
    "cube_list([1,2,3,4,5,6])"
   ]
  },
  {
   "cell_type": "markdown",
   "id": "9a2f019b",
   "metadata": {},
   "source": [
    "#### 15. Sort a list of tuples by the second Item"
   ]
  },
  {
   "cell_type": "code",
   "execution_count": 89,
   "id": "a528e309",
   "metadata": {},
   "outputs": [
    {
     "data": {
      "text/plain": [
       "[('d', 1), ('b', 2), ('e', 3), ('c', 4), ('a', 5)]"
      ]
     },
     "execution_count": 89,
     "metadata": {},
     "output_type": "execute_result"
    }
   ],
   "source": [
    "def sort_tuple(l1):\n",
    "    d=dict(l1)\n",
    "    sort_dict={}\n",
    "    \n",
    "    for i in sorted(d.values()):\n",
    "        for key in d.keys():\n",
    "            if d[key]==i:\n",
    "                sort_dict[key]=i\n",
    "    result=list(sort_dict.items())\n",
    "    return result\n",
    "\n",
    "list1=[('a',5),('b',2),('c',4),('d',1),('e',3)]\n",
    "\n",
    "sort_tuple(list1)"
   ]
  },
  {
   "cell_type": "markdown",
   "id": "34f0994c",
   "metadata": {},
   "source": [
    "#### 16. Python Program for Insertion Sort"
   ]
  },
  {
   "cell_type": "code",
   "execution_count": 4,
   "id": "a90eabfa",
   "metadata": {},
   "outputs": [
    {
     "name": "stdout",
     "output_type": "stream",
     "text": [
      "[12, 32, 45, 56, 76, 87]\n"
     ]
    }
   ],
   "source": [
    "def insertion_sort(l):    \n",
    "    for i in range(1,len(l)):\n",
    "        n=l[i]\n",
    "        j=i-1\n",
    "        \n",
    "        while j>=0 and n<l[j]:\n",
    "            l[j+1]=l[j]\n",
    "            j=j-1\n",
    "        l[j+1]=n\n",
    "            \n",
    "                            \n",
    "list1=[45,76,32,12,56,87]\n",
    "insertion_sort(list1)\n",
    "print(list1)"
   ]
  },
  {
   "cell_type": "markdown",
   "id": "83447107",
   "metadata": {},
   "source": [
    "#### 17. Python Program for SelectionSort\n"
   ]
  },
  {
   "cell_type": "code",
   "execution_count": 5,
   "id": "5ddfc124",
   "metadata": {},
   "outputs": [
    {
     "name": "stdout",
     "output_type": "stream",
     "text": [
      "[12, 32, 45, 56, 76, 87]\n"
     ]
    }
   ],
   "source": [
    "def selection_sort(l):\n",
    "    for i in range(len(l)-1):\n",
    "        min_=i\n",
    "        for j in range(i,len(l)):\n",
    "            if l[j]<l[min_]:\n",
    "                min_=j\n",
    "        temp=l[i]\n",
    "        l[i]=l[min_]\n",
    "        l[min_]=temp\n",
    "        \n",
    "list1=[45,76,32,12,56,87]\n",
    "selection_sort(list1)\n",
    "print(list1)"
   ]
  },
  {
   "cell_type": "markdown",
   "id": "101cd485",
   "metadata": {},
   "source": [
    "#### 18. Python Program for Bubble Sort"
   ]
  },
  {
   "cell_type": "code",
   "execution_count": 6,
   "id": "e25f8346",
   "metadata": {},
   "outputs": [
    {
     "name": "stdout",
     "output_type": "stream",
     "text": [
      "[2, 3, 5, 6, 7, 8]\n"
     ]
    }
   ],
   "source": [
    "def sort_bubble(nums):\n",
    "    for i in range(len(nums)-1,0,-1):\n",
    "        for j in range(i):\n",
    "            if nums[j]>nums[j+1]:\n",
    "                temp=nums[j]\n",
    "                nums[j]=nums[j+1]\n",
    "                nums[j+1]=temp\n",
    "                \n",
    "\n",
    "nums=[5,3,8,6,7,2]\n",
    "sort_bubble(nums)\n",
    "print(nums)"
   ]
  },
  {
   "cell_type": "markdown",
   "id": "4713940a",
   "metadata": {},
   "source": [
    "#### 19. Python Program for Merge Sort\n"
   ]
  },
  {
   "cell_type": "code",
   "execution_count": 7,
   "id": "4b6c2aca",
   "metadata": {},
   "outputs": [
    {
     "data": {
      "text/plain": [
       "[17, 23, 25, 45, 54, 54, 67, 89]"
      ]
     },
     "execution_count": 7,
     "metadata": {},
     "output_type": "execute_result"
    }
   ],
   "source": [
    "def merge_sort(arr):\n",
    "    if len(arr)<=1:\n",
    "        return arr\n",
    "    mid=len(arr)//2\n",
    "    left= arr[:mid]\n",
    "    right=arr[mid:]\n",
    "    \n",
    "    left=merge_sort(left)\n",
    "    right=merge_sort(right)\n",
    "    \n",
    "    return merge_sort_list(left,right)\n",
    "\n",
    "def merge_sort_list(a,b):\n",
    "    sorted_list=[]\n",
    "    len_a=len(a)\n",
    "    len_b=len(b)\n",
    "    i=j=0\n",
    "    \n",
    "    while i < len_a and j< len_b:\n",
    "        if a[i]<=b[j]:\n",
    "            sorted_list.append(a[i])\n",
    "            i+=1\n",
    "            \n",
    "        else:\n",
    "            sorted_list.append(b[j])\n",
    "            j+=1\n",
    "    while i <len_a:\n",
    "        sorted_list.append(a[i])\n",
    "        i+=1\n",
    "        \n",
    "    while j <len_b:\n",
    "        sorted_list.append(b[j])\n",
    "        j+=1    \n",
    "        \n",
    "    return sorted_list\n",
    "\n",
    "\n",
    "list1=[23,54,67,54,17,89,45,25]    \n",
    "\n",
    "merge_sort(list1)"
   ]
  },
  {
   "cell_type": "markdown",
   "id": "159f97d2",
   "metadata": {},
   "source": [
    "#### 20. Python Program for QuickSortSort"
   ]
  },
  {
   "cell_type": "code",
   "execution_count": 8,
   "id": "6347b732",
   "metadata": {},
   "outputs": [
    {
     "data": {
      "text/plain": [
       "[23, 32, 43, 54, 56, 65, 90, 98]"
      ]
     },
     "execution_count": 8,
     "metadata": {},
     "output_type": "execute_result"
    }
   ],
   "source": [
    "def quick_sort(list1):\n",
    "    lenght= len(list1)\n",
    "    if lenght <= 1:\n",
    "        return list1\n",
    "    else:\n",
    "        pivot=list1.pop()\n",
    "        \n",
    "    greater=[]\n",
    "    smaller=[]  \n",
    "    \n",
    "    for i in list1:\n",
    "        if i > pivot:\n",
    "            greater.append(i)\n",
    "            \n",
    "        else:\n",
    "            smaller.append(i)\n",
    "            \n",
    "    return quick_sort(smaller) + [pivot] + quick_sort(greater)     \n",
    "            \n",
    "l1=[23,54,65,32,98,56,43,90]\n",
    "\n",
    "quick_sort(l1)"
   ]
  },
  {
   "cell_type": "code",
   "execution_count": null,
   "id": "f1fa67b6",
   "metadata": {},
   "outputs": [],
   "source": [
    "#end"
   ]
  }
 ],
 "metadata": {
  "kernelspec": {
   "display_name": "Python 3 (ipykernel)",
   "language": "python",
   "name": "python3"
  },
  "language_info": {
   "codemirror_mode": {
    "name": "ipython",
    "version": 3
   },
   "file_extension": ".py",
   "mimetype": "text/x-python",
   "name": "python",
   "nbconvert_exporter": "python",
   "pygments_lexer": "ipython3",
   "version": "3.9.7"
  }
 },
 "nbformat": 4,
 "nbformat_minor": 5
}
