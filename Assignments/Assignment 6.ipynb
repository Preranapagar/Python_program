{
 "cells": [
  {
   "cell_type": "markdown",
   "id": "1c5cc943",
   "metadata": {},
   "source": [
    "## Assignment :6"
   ]
  },
  {
   "cell_type": "markdown",
   "id": "5dfe92e5",
   "metadata": {},
   "source": [
    "Topic: Lambda Function, Built in function"
   ]
  },
  {
   "cell_type": "markdown",
   "id": "f2380166",
   "metadata": {},
   "source": [
    "#### 1. Write a Python program to sort a list of tuples using Lambda.\n"
   ]
  },
  {
   "cell_type": "code",
   "execution_count": 6,
   "id": "372e4a29",
   "metadata": {},
   "outputs": [
    {
     "data": {
      "text/plain": [
       "[(1, 3), (1, 4), (4, 5), (2, 7), (3, 8)]"
      ]
     },
     "execution_count": 6,
     "metadata": {},
     "output_type": "execute_result"
    }
   ],
   "source": [
    "list_ =[(1,3),(2,7),(3,8),(4,5),(1,4)]\n",
    "sorted_list = sorted(list_, key = lambda x:x[1])\n",
    "sorted_list"
   ]
  },
  {
   "cell_type": "markdown",
   "id": "79d8df93",
   "metadata": {},
   "source": [
    "#### 2. Write a Python program to sort a list of dictionaries using Lambda"
   ]
  },
  {
   "cell_type": "code",
   "execution_count": 19,
   "id": "82602e07",
   "metadata": {
    "scrolled": true
   },
   "outputs": [
    {
     "data": {
      "text/plain": [
       "[{'d': 1}, {'c': 2}, {'b': 3}, {'a': 5}]"
      ]
     },
     "execution_count": 19,
     "metadata": {},
     "output_type": "execute_result"
    }
   ],
   "source": [
    "list2 =[{'a':5},{'b':3},{'c':2},{'d':1}]\n",
    "sorted_lisy = sorted(list2, key= lambda x : list(x.values())[0])\n",
    "sorted_lisy"
   ]
  },
  {
   "cell_type": "markdown",
   "id": "9cbcb9ad",
   "metadata": {},
   "source": [
    "#### 3. Write a Python program to find square and cube every number in a given list of integers using Lambda"
   ]
  },
  {
   "cell_type": "code",
   "execution_count": 22,
   "id": "26a21d75",
   "metadata": {},
   "outputs": [
    {
     "name": "stdout",
     "output_type": "stream",
     "text": [
      "[1, 4, 9, 16, 25, 36, 49]\n",
      "[1, 8, 27, 64, 125, 216, 343]\n"
     ]
    }
   ],
   "source": [
    "list3=[1,2,3,4,5,6,7]\n",
    "\n",
    "square_list=list(map(lambda x:x**2,list3))\n",
    "print(square_list)\n",
    "\n",
    "cube_list=list(map(lambda x:x**3,list3))\n",
    "print(cube_list)"
   ]
  },
  {
   "cell_type": "markdown",
   "id": "7df91c77",
   "metadata": {},
   "source": [
    "#### 4. Write a Python program to find if a given string starts with a given character using Lambda"
   ]
  },
  {
   "cell_type": "code",
   "execution_count": 23,
   "id": "cfdf1dc7",
   "metadata": {},
   "outputs": [
    {
     "name": "stdout",
     "output_type": "stream",
     "text": [
      "Python\n",
      "y\n"
     ]
    },
    {
     "data": {
      "text/plain": [
       "False"
      ]
     },
     "execution_count": 23,
     "metadata": {},
     "output_type": "execute_result"
    }
   ],
   "source": [
    "string=input()\n",
    "char =input()\n",
    "\n",
    "check = lambda x: True if x.startswith(char) else False\n",
    "check(string)"
   ]
  },
  {
   "cell_type": "markdown",
   "id": "db73d10a",
   "metadata": {},
   "source": [
    "#### 5. Write a Python program to check whether a given string is number or not using Lambda\n"
   ]
  },
  {
   "cell_type": "code",
   "execution_count": 25,
   "id": "d67fbca1",
   "metadata": {},
   "outputs": [
    {
     "name": "stdout",
     "output_type": "stream",
     "text": [
      "py\n"
     ]
    },
    {
     "data": {
      "text/plain": [
       "False"
      ]
     },
     "execution_count": 25,
     "metadata": {},
     "output_type": "execute_result"
    }
   ],
   "source": [
    "string=input()\n",
    "\n",
    "is_digit = lambda x: True if x.isdigit() else False\n",
    "is_digit(string)\n",
    "is_digit(string)"
   ]
  },
  {
   "cell_type": "markdown",
   "id": "c660ea1e",
   "metadata": {},
   "source": [
    "#### 6. Write a Python program to create Fibonacci series using Lambda"
   ]
  },
  {
   "cell_type": "code",
   "execution_count": 30,
   "id": "16c7c29f",
   "metadata": {},
   "outputs": [
    {
     "data": {
      "text/plain": [
       "[0, 1, 1, 2, 3, 5, 8, 13]"
      ]
     },
     "execution_count": 30,
     "metadata": {},
     "output_type": "execute_result"
    }
   ],
   "source": [
    "def fibbo(n):\n",
    "    l1=[0,1]\n",
    "    any(map(lambda x: l1.append(sum(l1[-2:])),range(2,n)))\n",
    "    return l1\n",
    "\n",
    "fibbo(8)"
   ]
  },
  {
   "cell_type": "markdown",
   "id": "972efba5",
   "metadata": {},
   "source": [
    "#### 7. Write a Python program to find the intersection of two given arrays using Lambda"
   ]
  },
  {
   "cell_type": "code",
   "execution_count": 32,
   "id": "b6a810d7",
   "metadata": {},
   "outputs": [
    {
     "name": "stdout",
     "output_type": "stream",
     "text": [
      "[5, 2, 3, 6]\n"
     ]
    }
   ],
   "source": [
    "arr1 =[4,5,6,74,2,3]\n",
    "arr2 =[5,2,1,3,6,43]\n",
    "\n",
    "intersection = list(filter(lambda x: x in arr1,arr2))\n",
    "print(intersection)"
   ]
  },
  {
   "cell_type": "markdown",
   "id": "0275e040",
   "metadata": {},
   "source": [
    "#### 8. Write a Python program to rearrange positive and negative numbers in a given array using Lambda"
   ]
  },
  {
   "cell_type": "code",
   "execution_count": 12,
   "id": "70c05c17",
   "metadata": {},
   "outputs": [
    {
     "data": {
      "text/plain": [
       "[-5, -4, -2, -1, 0, 1, 2, 3, 3, 4, 6, 7]"
      ]
     },
     "execution_count": 12,
     "metadata": {},
     "output_type": "execute_result"
    }
   ],
   "source": [
    "arr1 = [2,4,6,7,0,3,-2,1,-5,3,-4,-1]\n",
    "\n",
    "rearrange = sorted(arr1, key= lambda x:x)\n",
    "rearrange"
   ]
  },
  {
   "cell_type": "markdown",
   "id": "559268c1",
   "metadata": {},
   "source": [
    "#### 9. Write a Python program to count the even, odd numbers in a given array of integers using Lambda\n"
   ]
  },
  {
   "cell_type": "code",
   "execution_count": 15,
   "id": "86a8be71",
   "metadata": {},
   "outputs": [
    {
     "name": "stdout",
     "output_type": "stream",
     "text": [
      "Count of even number in the array is 5\n",
      "Count of odd number in the array is 3\n"
     ]
    }
   ],
   "source": [
    "arr3 = [4,5,6,8,7,5,32,0]\n",
    "\n",
    "count_eve = len(list(filter(lambda x: (x%2==0),arr3)))\n",
    "count_odd = len(list(filter(lambda x:(x%2!=0),arr3)))\n",
    "\n",
    "print(f'Count of even number in the array is {count_eve}')\n",
    "print(f'Count of odd number in the array is {count_odd}')"
   ]
  },
  {
   "cell_type": "markdown",
   "id": "37d96b11",
   "metadata": {},
   "source": [
    "#### 10. Write a Python program to add two given lists using map and lambda\n"
   ]
  },
  {
   "cell_type": "code",
   "execution_count": 16,
   "id": "e7a652e6",
   "metadata": {},
   "outputs": [
    {
     "data": {
      "text/plain": [
       "[4, 6, 8, 10]"
      ]
     },
     "execution_count": 16,
     "metadata": {},
     "output_type": "execute_result"
    }
   ],
   "source": [
    "l1 = [1,2,3,4]\n",
    "l2 = [3,4,5,6]\n",
    "\n",
    "result = list(map(lambda x,y:x+y,l1,l2))\n",
    "result"
   ]
  },
  {
   "cell_type": "markdown",
   "id": "fc7995a0",
   "metadata": {},
   "source": [
    "#### 11. Write a Python program to find numbers divisible by nineteen or thirteen from a list of numbers using Lambda\n"
   ]
  },
  {
   "cell_type": "code",
   "execution_count": 19,
   "id": "070c1849",
   "metadata": {},
   "outputs": [
    {
     "data": {
      "text/plain": [
       "[26, 456, 234]"
      ]
     },
     "execution_count": 19,
     "metadata": {},
     "output_type": "execute_result"
    }
   ],
   "source": [
    "list_num = [564,54,26,456,36,234]\n",
    "divisible_by_13_19 = list(filter(lambda x : (x%13==0) or (x%19==0),list_num))\n",
    "divisible_by_13_19"
   ]
  },
  {
   "cell_type": "markdown",
   "id": "ee3350d6",
   "metadata": {},
   "source": [
    "#### 12. Write a Python program to find palindromes in a given list of strings using Lambda"
   ]
  },
  {
   "cell_type": "code",
   "execution_count": 28,
   "id": "54e64555",
   "metadata": {},
   "outputs": [
    {
     "data": {
      "text/plain": [
       "['mom', 'radar', 'bob']"
      ]
     },
     "execution_count": 28,
     "metadata": {},
     "output_type": "execute_result"
    }
   ],
   "source": [
    "list_of_strings =['banana','mom','rat','radar','king','bob']\n",
    "\n",
    "palindromes = list(filter(lambda x : x==x[::-1],list_of_strings))\n",
    "palindromes"
   ]
  },
  {
   "cell_type": "markdown",
   "id": "15844a38",
   "metadata": {},
   "source": [
    "#### 13. Write a Python program to find all anagrams of a string in a given list of strings using lambda"
   ]
  },
  {
   "cell_type": "code",
   "execution_count": 2,
   "id": "ed8ac78e",
   "metadata": {},
   "outputs": [
    {
     "data": {
      "text/plain": [
       "['net', 'ten']"
      ]
     },
     "execution_count": 2,
     "metadata": {},
     "output_type": "execute_result"
    }
   ],
   "source": [
    "def find_anagram(word, list_of_straing):\n",
    "    \n",
    "    anagram = list(filter(lambda x : (sorted(x)==sorted(word)), list_of_straing))\n",
    "    return anagram\n",
    "\n",
    "los = ['mat','map','pam','rat', 'silent','enlist','google','net','ten']\n",
    "\n",
    "find_anagram('net',los)\n",
    "    "
   ]
  },
  {
   "cell_type": "markdown",
   "id": "93ddeed3",
   "metadata": {},
   "source": [
    "#### 14. Write a Python program that multiplies each number of a given list with a given number using lambda function. Print the result\n"
   ]
  },
  {
   "cell_type": "code",
   "execution_count": 3,
   "id": "accc8f37",
   "metadata": {},
   "outputs": [
    {
     "data": {
      "text/plain": [
       "[0, 5, 10, 15, 20]"
      ]
     },
     "execution_count": 3,
     "metadata": {},
     "output_type": "execute_result"
    }
   ],
   "source": [
    "def multiplier(num, list_of_num):\n",
    "    new_list = list(map(lambda x : x*num, list_of_num))\n",
    "    return new_list\n",
    "\n",
    "list1 = [0,1,2,3,4]\n",
    "num = 5\n",
    "\n",
    "multiplier(num,list1)"
   ]
  },
  {
   "cell_type": "markdown",
   "id": "16a4882e",
   "metadata": {},
   "source": [
    "#### 15. Write a Python program to calculate the sum of the positive and negative numbers of a given list of numbers using lambda function\n"
   ]
  },
  {
   "cell_type": "code",
   "execution_count": 6,
   "id": "ed1bae9a",
   "metadata": {},
   "outputs": [
    {
     "name": "stdout",
     "output_type": "stream",
     "text": [
      "Sum of positive numbers in list: 20\n",
      "Sum of negative numbers in list: -22\n"
     ]
    }
   ],
   "source": [
    "def sum_calculation(list_of_num):\n",
    "    sum_of_positive = sum(list(filter(lambda x : x>=0, list_of_num)))\n",
    "    sum_of_negative = sum(list(filter(lambda x : x<0, list_of_num)))\n",
    "    \n",
    "    print(\"Sum of positive numbers in list:\", sum_of_positive)\n",
    "    print(\"Sum of negative numbers in list:\", sum_of_negative)\n",
    "    \n",
    "list_ = [4,7,-8,4,-2,5,0,-12]\n",
    "\n",
    "sum_calculation(list_)"
   ]
  },
  {
   "cell_type": "markdown",
   "id": "5a2bfdd7",
   "metadata": {},
   "source": [
    "#### 16. Write a Python program to find the list with maximum and minimum length using lambda"
   ]
  },
  {
   "cell_type": "code",
   "execution_count": 10,
   "id": "fe851b7c",
   "metadata": {},
   "outputs": [
    {
     "data": {
      "text/plain": [
       "[3, 4, 5, 6]"
      ]
     },
     "execution_count": 10,
     "metadata": {},
     "output_type": "execute_result"
    }
   ],
   "source": [
    "def max_length(list_):\n",
    "    Result = max(list_, key = lambda x :len(x))\n",
    "    return Result\n",
    "\n",
    "list1 = [[1],[1,2],[3,4,5,6]]\n",
    "max_length(list1)"
   ]
  },
  {
   "cell_type": "code",
   "execution_count": 11,
   "id": "75eaaaa4",
   "metadata": {},
   "outputs": [
    {
     "data": {
      "text/plain": [
       "'python'"
      ]
     },
     "execution_count": 11,
     "metadata": {},
     "output_type": "execute_result"
    }
   ],
   "source": [
    "list2 = ['python','java','c','html']\n",
    "max_length(list2)"
   ]
  },
  {
   "cell_type": "markdown",
   "id": "08ae9272",
   "metadata": {},
   "source": [
    "#### 17. Write a Python program to check whether a specified list is sorted or not using lambda"
   ]
  },
  {
   "cell_type": "code",
   "execution_count": 15,
   "id": "728baa4c",
   "metadata": {},
   "outputs": [
    {
     "name": "stdout",
     "output_type": "stream",
     "text": [
      "List is sorted\n",
      "List is not sorted\n"
     ]
    }
   ],
   "source": [
    "def sorted_(list_):\n",
    "    Result = (lambda x : print(\"List is sorted\") if x == sorted(list_) else print(\"List is not sorted\"))\n",
    "    Result (list_)\n",
    "    \n",
    "sorted_([4,5,6,7,8])\n",
    "sorted_([7,5,6,3])"
   ]
  },
  {
   "cell_type": "markdown",
   "id": "560d1f50",
   "metadata": {},
   "source": [
    "#### 18. Write a Python program to remove all elements from a given list present in another list using lambda.\n"
   ]
  },
  {
   "cell_type": "code",
   "execution_count": 35,
   "id": "e146aa84",
   "metadata": {},
   "outputs": [
    {
     "data": {
      "text/plain": [
       "[3, 4, 5, 6]"
      ]
     },
     "execution_count": 35,
     "metadata": {},
     "output_type": "execute_result"
    }
   ],
   "source": [
    "def list_balancing(l1,l2):\n",
    "    l1 = list(filter(lambda x : x not in l2,l1))\n",
    "    return l1\n",
    "\n",
    "list1 = [1,2,3,4,5,6]\n",
    "list2 = [1,2]\n",
    "\n",
    "list_balancing(list1,list2)"
   ]
  },
  {
   "cell_type": "markdown",
   "id": "0ef5b5b5",
   "metadata": {},
   "source": [
    "#### 19. Write a Python program to convert string element to integer inside a given tuple using lamba function\n"
   ]
  },
  {
   "cell_type": "code",
   "execution_count": 37,
   "id": "321758db",
   "metadata": {},
   "outputs": [
    {
     "data": {
      "text/plain": [
       "(2, 3, 5)"
      ]
     },
     "execution_count": 37,
     "metadata": {},
     "output_type": "execute_result"
    }
   ],
   "source": [
    "def StringToInt(tup):\n",
    "    tup2 = tuple(map(lambda i : int(i), tup))\n",
    "    return tup2\n",
    "\n",
    "tup = ('2','3','5')\n",
    "\n",
    "StringToInt(tup)    "
   ]
  },
  {
   "cell_type": "markdown",
   "id": "3c6e445d",
   "metadata": {},
   "source": [
    "#### 20. Write a Python program to count the occurrences of the items in a given list using lambda"
   ]
  },
  {
   "cell_type": "code",
   "execution_count": 3,
   "id": "700ae633",
   "metadata": {},
   "outputs": [
    {
     "name": "stdout",
     "output_type": "stream",
     "text": [
      "Enter Number to count occurance :9\n",
      "Count of 9 in the list is  0\n"
     ]
    }
   ],
   "source": [
    "def Count_Num(list_):\n",
    "    num = int(input(\"Enter Number to count occurance :\"))\n",
    "    result = len(list(filter(lambda x : x ==num , list_)))\n",
    "    print(f\"Count of {num} in the list is \", result)\n",
    "    \n",
    "list1 = [6,5,4,3,1,2,3,4,5,6,7,8,6,5]\n",
    "\n",
    "Count_Num(list1)"
   ]
  },
  {
   "cell_type": "markdown",
   "id": "c14bddac",
   "metadata": {},
   "source": [
    "#### 21. Write a Python program to add three given lists using Python map and lambda\n"
   ]
  },
  {
   "cell_type": "code",
   "execution_count": 5,
   "id": "7b0e610e",
   "metadata": {},
   "outputs": [
    {
     "data": {
      "text/plain": [
       "[12, 15, 18]"
      ]
     },
     "execution_count": 5,
     "metadata": {},
     "output_type": "execute_result"
    }
   ],
   "source": [
    "def add_list(list1,list2,list3):\n",
    "    new_list=list(map(lambda x,y,z : x+y+z,list1,list2,list3))\n",
    "    return new_list\n",
    "\n",
    "l1 = [1,2,3]\n",
    "l2 = [4,5,6]\n",
    "l3 = [7,8,9]\n",
    "\n",
    "add_list(l1,l2,l3)"
   ]
  },
  {
   "cell_type": "markdown",
   "id": "0e553f92",
   "metadata": {},
   "source": [
    "#### 22. Write a Python program to listify the list of given strings individually using Python map\n"
   ]
  },
  {
   "cell_type": "code",
   "execution_count": 7,
   "id": "225d3b1b",
   "metadata": {},
   "outputs": [
    {
     "data": {
      "text/plain": [
       "[['p', 'y', 't', 'h', 'o', 'n'],\n",
       " ['j', 'a', 'v', 'a'],\n",
       " ['h', 't', 'm', 'l'],\n",
       " ['j', 'a', 'v', 'a', 's', 'c', 'r', 'i', 'p', 't']]"
      ]
     },
     "execution_count": 7,
     "metadata": {},
     "output_type": "execute_result"
    }
   ],
   "source": [
    "def listyfy(L):\n",
    "    Result = list(map(list,L))\n",
    "    return Result\n",
    "\n",
    "language = ['python','java','html','javascript']\n",
    "listyfy(language)"
   ]
  },
  {
   "cell_type": "markdown",
   "id": "c9e9e05d",
   "metadata": {},
   "source": [
    "#### 23. Write a Python program to square the elements of a list using map() function"
   ]
  },
  {
   "cell_type": "code",
   "execution_count": 9,
   "id": "1006f692",
   "metadata": {},
   "outputs": [
    {
     "data": {
      "text/plain": [
       "[16, 36, 25, 36, 49]"
      ]
     },
     "execution_count": 9,
     "metadata": {},
     "output_type": "execute_result"
    }
   ],
   "source": [
    "def SuqareList(L):\n",
    "    result = list(map(lambda x : x**2,L))\n",
    "    return result\n",
    "\n",
    "SuqareList([4,6,5,6,7])"
   ]
  },
  {
   "cell_type": "markdown",
   "id": "093eb76a",
   "metadata": {},
   "source": [
    "#### 24. Write a Python program to add two given lists and find the difference between lists. Use map() function"
   ]
  },
  {
   "cell_type": "code",
   "execution_count": 11,
   "id": "c44e7904",
   "metadata": {},
   "outputs": [
    {
     "name": "stdout",
     "output_type": "stream",
     "text": [
      "Addition of two lists : [88, 123, 101, 97, 79]\n",
      "Difference of two lists : [-20, -11, 55, 11, -33]\n"
     ]
    }
   ],
   "source": [
    "def Add_Diff(L1,L2):\n",
    "    new_list = list(map(lambda a,b : a+ b,L1,L2))\n",
    "    diff_list = list(map(lambda a,b : a-b,L1,L2))\n",
    "    \n",
    "    print(\"Addition of two lists :\", new_list)\n",
    "    print(\"Difference of two lists :\", diff_list)\n",
    "    \n",
    "listA = [34,56,78,54,23]\n",
    "listB = [54,67,23,43,56]\n",
    "\n",
    "Add_Diff(listA,listB)"
   ]
  },
  {
   "cell_type": "markdown",
   "id": "ca5c03ce",
   "metadata": {},
   "source": [
    "#### 25. Write a Python program to convert a given list of integers and a tuple of integers in a list of strings\n"
   ]
  },
  {
   "cell_type": "code",
   "execution_count": 14,
   "id": "d4e56c58",
   "metadata": {},
   "outputs": [
    {
     "data": {
      "text/plain": [
       "['2', '3', '4', '5']"
      ]
     },
     "execution_count": 14,
     "metadata": {},
     "output_type": "execute_result"
    }
   ],
   "source": [
    "def Convert(ints):\n",
    "    result = list(map(lambda x :str(x),ints))\n",
    "    return result\n",
    "\n",
    "Convert([1,2,3,4])\n",
    "Convert((2,3,4,5))"
   ]
  },
  {
   "cell_type": "markdown",
   "id": "0ddaf057",
   "metadata": {},
   "source": [
    "#### 26. Write a Python program to compute the sum of elements of an given array of integers, use map() function\n"
   ]
  },
  {
   "cell_type": "code",
   "execution_count": 37,
   "id": "d2197915",
   "metadata": {},
   "outputs": [
    {
     "data": {
      "text/plain": [
       "215"
      ]
     },
     "execution_count": 37,
     "metadata": {},
     "output_type": "execute_result"
    }
   ],
   "source": [
    "def array_sum(array):\n",
    "    return sum(array)\n",
    "\n",
    "list1 =[34,6,78,97]\n",
    "sumofarray = list(map(array_sum,[list1]))\n",
    "sumofarray[0]"
   ]
  },
  {
   "cell_type": "markdown",
   "id": "fc808c2d",
   "metadata": {},
   "source": [
    "#### 27. Write a Python program to count the same pair in two given lists. use map() function\n"
   ]
  },
  {
   "cell_type": "code",
   "execution_count": 40,
   "id": "eecf7109",
   "metadata": {},
   "outputs": [
    {
     "data": {
      "text/plain": [
       "2"
      ]
     },
     "execution_count": 40,
     "metadata": {},
     "output_type": "execute_result"
    }
   ],
   "source": [
    "def Count_pair(pair):\n",
    "    return pair[0]==pair[1]\n",
    "\n",
    "listA = [3,4,5,6,7,6,9]\n",
    "listB = [1,2,4,6,5,7,9]\n",
    "\n",
    "result =sum(map(Count_pair,zip(listA,listB)))\n",
    "result"
   ]
  },
  {
   "cell_type": "markdown",
   "id": "96d8b5b1",
   "metadata": {},
   "source": [
    "#### 28. Write a Python program to convert a given list of strings into list of lists using map function\n"
   ]
  },
  {
   "cell_type": "code",
   "execution_count": 10,
   "id": "1606f49d",
   "metadata": {},
   "outputs": [
    {
     "data": {
      "text/plain": [
       "[['p', 'y', 't', 'h', 'o', 'n'], ['p', 'r', 'o', 'g', 'r', 'a', 'm']]"
      ]
     },
     "execution_count": 10,
     "metadata": {},
     "output_type": "execute_result"
    }
   ],
   "source": [
    "def StringToList(L):\n",
    "    new_list = list(map(lambda x :list(x),L))\n",
    "    return new_list\n",
    "\n",
    "\n",
    "data =['python', 'program']\n",
    "StringToList(data)"
   ]
  },
  {
   "cell_type": "markdown",
   "id": "fa2b6f2f",
   "metadata": {},
   "source": [
    "#### 29. Write a Python program to convert a given list of tuples to a list of strings using map function\n"
   ]
  },
  {
   "cell_type": "code",
   "execution_count": 11,
   "id": "f71ea784",
   "metadata": {},
   "outputs": [
    {
     "data": {
      "text/plain": [
       "[['a', 'm', 'a', 'z', 'o', 'n'], ['p', 'r', 'i', 'm', 'e']]"
      ]
     },
     "execution_count": 11,
     "metadata": {},
     "output_type": "execute_result"
    }
   ],
   "source": [
    "def TuptoList(T):\n",
    "    new_list = list(map(lambda x : list(x),T))\n",
    "    return new_list\n",
    "\n",
    "tup = ('amazon','prime')\n",
    "TuptoList(tup)"
   ]
  },
  {
   "cell_type": "markdown",
   "id": "c4c3dcc4",
   "metadata": {},
   "source": [
    "#### 30. Python program to find the diff. between two lists using filter() function"
   ]
  },
  {
   "cell_type": "code",
   "execution_count": 17,
   "id": "2f58c895",
   "metadata": {},
   "outputs": [
    {
     "data": {
      "text/plain": [
       "['amazon', 'prime']"
      ]
     },
     "execution_count": 17,
     "metadata": {},
     "output_type": "execute_result"
    }
   ],
   "source": [
    "s = \"amazon prime\"\n",
    "s.split()"
   ]
  },
  {
   "cell_type": "markdown",
   "id": "a29c80ff",
   "metadata": {},
   "source": [
    "#### 31. Python program to remove stop words from string using filter() function"
   ]
  },
  {
   "cell_type": "code",
   "execution_count": 19,
   "id": "83c80a19",
   "metadata": {},
   "outputs": [
    {
     "name": "stdout",
     "output_type": "stream",
     "text": [
      "['the', 'sun', 'was', 'setting']\n"
     ]
    },
    {
     "data": {
      "text/plain": [
       "'sun setting'"
      ]
     },
     "execution_count": 19,
     "metadata": {},
     "output_type": "execute_result"
    }
   ],
   "source": [
    "def Remove_Stopwords(string):\n",
    "    \n",
    "    stopwords =['a','the','is','an','and','are','as','at','was']\n",
    "    l = string.split()\n",
    "    print(l)\n",
    "    new_list = list(filter(lambda x : x not in stopwords,l))\n",
    "    string = ' '.join(new_list)\n",
    "    return string\n",
    "\n",
    "string_1 = \"the sun was setting\"\n",
    "Remove_Stopwords(string_1)"
   ]
  },
  {
   "cell_type": "markdown",
   "id": "b54ca66d",
   "metadata": {},
   "source": [
    "#### 32. Python program to find common items in two arrays using lambda and filter() function\n"
   ]
  },
  {
   "cell_type": "code",
   "execution_count": 21,
   "id": "1b452015",
   "metadata": {},
   "outputs": [
    {
     "data": {
      "text/plain": [
       "[4, 5, 7, 8]"
      ]
     },
     "execution_count": 21,
     "metadata": {},
     "output_type": "execute_result"
    }
   ],
   "source": [
    "def find_common(l1,l2):\n",
    "    common = list(filter(lambda x: x in l1,l2))\n",
    "    return common\n",
    "\n",
    "list1 =[1,5,6,7,8,9,4]\n",
    "list2 =[4,2,5,7,8]\n",
    "\n",
    "find_common(list1,list2)"
   ]
  },
  {
   "cell_type": "markdown",
   "id": "5c7ebeca",
   "metadata": {},
   "source": [
    "#### 33. Python program to filter odd numbers from the list using filter() function"
   ]
  },
  {
   "cell_type": "code",
   "execution_count": 23,
   "id": "1501c37b",
   "metadata": {},
   "outputs": [
    {
     "data": {
      "text/plain": [
       "[23, 23, 87, 45]"
      ]
     },
     "execution_count": 23,
     "metadata": {},
     "output_type": "execute_result"
    }
   ],
   "source": [
    "def FilterOdd(list1):\n",
    "    Odd_number = list(filter(lambda x : x%2!=0, list1))\n",
    "    return Odd_number\n",
    "\n",
    "L = [23,56,76,23,56,87,98,45,12]\n",
    "FilterOdd(L)"
   ]
  },
  {
   "cell_type": "markdown",
   "id": "1e4d16fd",
   "metadata": {},
   "source": [
    "#### 34. Python program to filter even numbers from the list using filter() function\n"
   ]
  },
  {
   "cell_type": "code",
   "execution_count": 24,
   "id": "240b895f",
   "metadata": {},
   "outputs": [
    {
     "data": {
      "text/plain": [
       "[56, 76, 56, 98, 12]"
      ]
     },
     "execution_count": 24,
     "metadata": {},
     "output_type": "execute_result"
    }
   ],
   "source": [
    "def FilterEven(list1):\n",
    "    Even = list(filter(lambda x : x%2==0, list1))\n",
    "    return Even\n",
    "\n",
    "L = [23,56,76,23,56,87,98,45,12]\n",
    "FilterEven(L)"
   ]
  },
  {
   "cell_type": "markdown",
   "id": "2dfeffb1",
   "metadata": {},
   "source": [
    "#### 35. Python program that filters non-vowels from the list using filter() function"
   ]
  },
  {
   "cell_type": "code",
   "execution_count": 30,
   "id": "f1681cd7",
   "metadata": {},
   "outputs": [
    {
     "data": {
      "text/plain": [
       "['o', 'a']"
      ]
     },
     "execution_count": 30,
     "metadata": {},
     "output_type": "execute_result"
    }
   ],
   "source": [
    "def Filter_nv(list_):\n",
    "    result = list(filter(lambda x : x in list('aeiou'),list_))\n",
    "    return result\n",
    "\n",
    "data = ['p','y','t','h','o','n','a']\n",
    "Filter_nv(data)"
   ]
  },
  {
   "cell_type": "code",
   "execution_count": null,
   "id": "7c494b05",
   "metadata": {},
   "outputs": [],
   "source": [
    "#end"
   ]
  }
 ],
 "metadata": {
  "kernelspec": {
   "display_name": "Python 3 (ipykernel)",
   "language": "python",
   "name": "python3"
  },
  "language_info": {
   "codemirror_mode": {
    "name": "ipython",
    "version": 3
   },
   "file_extension": ".py",
   "mimetype": "text/x-python",
   "name": "python",
   "nbconvert_exporter": "python",
   "pygments_lexer": "ipython3",
   "version": "3.9.7"
  }
 },
 "nbformat": 4,
 "nbformat_minor": 5
}
